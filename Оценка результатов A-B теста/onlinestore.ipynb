{
 "cells": [
  {
   "cell_type": "markdown",
   "metadata": {},
   "source": [
    "# Проверка гипотез по увеличению выручки в интернет-магазине"
   ]
  },
  {
   "cell_type": "markdown",
   "metadata": {},
   "source": [
    "**Цель исследования**: Приоритизация гипотез, запуск A/B-теста и анализ результатов для увеличения выручки\n",
    "\n",
    "**Ход исследования**: \n",
    "1. Приоритизация гипотез (ICE, RICE)\n",
    "2. Анализ A/B-теста (построение графиков и решение по итогам теста)\n",
    "\n",
    "**Описание данных**:\n",
    "1. Файл /datasets/hypothesis.csv.\\\n",
    "Hypothesis — краткое описание гипотезы;\\\n",
    "Reach — охват пользователей по 10-балльной шкале;\\\n",
    "Impact — влияние на пользователей по 10-балльной шкале;\\\n",
    "Confidence — уверенность в гипотезе по 10-балльной шкале;\\\n",
    "Efforts — затраты ресурсов на проверку гипотезы по 10-балльной шкале. Чем больше значение Efforts, тем дороже проверка гипотезы.\n",
    "\n",
    "\n",
    "2. Файл /datasets/orders.csv.\\\n",
    "transactionId — идентификатор заказа;\\\n",
    "visitorId — идентификатор пользователя, совершившего заказ;\\\n",
    "date — дата, когда был совершён заказ;\\\n",
    "revenue — выручка заказа;\\\n",
    "group — группа A/B-теста, в которую попал заказ.\n",
    "\n",
    "\n",
    "3. Файл /datasets/visitors.csv.\\\n",
    "date — дата;\\\n",
    "group — группа A/B-теста;\\\n",
    "visitors — количество пользователей в указанную дату в указанной группе A/B-теста"
   ]
  },
  {
   "cell_type": "markdown",
   "metadata": {},
   "source": [
    "## Приоритизация гипотез"
   ]
  },
  {
   "cell_type": "markdown",
   "metadata": {},
   "source": [
    "### Импорт данных, изучение и предобработка"
   ]
  },
  {
   "cell_type": "code",
   "execution_count": 1,
   "metadata": {},
   "outputs": [],
   "source": [
    "#загрузить все библиотеки\n",
    "import pandas as pd\n",
    "import datetime as dt\n",
    "import numpy as np\n",
    "import matplotlib.pyplot as plt\n",
    "import scipy.stats as stats"
   ]
  },
  {
   "cell_type": "code",
   "execution_count": 2,
   "metadata": {},
   "outputs": [
    {
     "data": {
      "text/html": [
       "<div>\n",
       "<style scoped>\n",
       "    .dataframe tbody tr th:only-of-type {\n",
       "        vertical-align: middle;\n",
       "    }\n",
       "\n",
       "    .dataframe tbody tr th {\n",
       "        vertical-align: top;\n",
       "    }\n",
       "\n",
       "    .dataframe thead th {\n",
       "        text-align: right;\n",
       "    }\n",
       "</style>\n",
       "<table border=\"1\" class=\"dataframe\">\n",
       "  <thead>\n",
       "    <tr style=\"text-align: right;\">\n",
       "      <th></th>\n",
       "      <th>Hypothesis</th>\n",
       "      <th>Reach</th>\n",
       "      <th>Impact</th>\n",
       "      <th>Confidence</th>\n",
       "      <th>Efforts</th>\n",
       "    </tr>\n",
       "  </thead>\n",
       "  <tbody>\n",
       "    <tr>\n",
       "      <th>0</th>\n",
       "      <td>Добавить два новых канала привлечения трафика, что позволит привлекать на 30% больше пользователей</td>\n",
       "      <td>3</td>\n",
       "      <td>10</td>\n",
       "      <td>8</td>\n",
       "      <td>6</td>\n",
       "    </tr>\n",
       "    <tr>\n",
       "      <th>1</th>\n",
       "      <td>Запустить собственную службу доставки, что сократит срок доставки заказов</td>\n",
       "      <td>2</td>\n",
       "      <td>5</td>\n",
       "      <td>4</td>\n",
       "      <td>10</td>\n",
       "    </tr>\n",
       "    <tr>\n",
       "      <th>2</th>\n",
       "      <td>Добавить блоки рекомендаций товаров на сайт интернет магазина, чтобы повысить конверсию и средний чек заказа</td>\n",
       "      <td>8</td>\n",
       "      <td>3</td>\n",
       "      <td>7</td>\n",
       "      <td>3</td>\n",
       "    </tr>\n",
       "    <tr>\n",
       "      <th>3</th>\n",
       "      <td>Изменить структура категорий, что увеличит конверсию, т.к. пользователи быстрее найдут нужный товар</td>\n",
       "      <td>8</td>\n",
       "      <td>3</td>\n",
       "      <td>3</td>\n",
       "      <td>8</td>\n",
       "    </tr>\n",
       "    <tr>\n",
       "      <th>4</th>\n",
       "      <td>Изменить цвет фона главной страницы, чтобы увеличить вовлеченность пользователей</td>\n",
       "      <td>3</td>\n",
       "      <td>1</td>\n",
       "      <td>1</td>\n",
       "      <td>1</td>\n",
       "    </tr>\n",
       "    <tr>\n",
       "      <th>5</th>\n",
       "      <td>Добавить страницу отзывов клиентов о магазине, что позволит увеличить количество заказов</td>\n",
       "      <td>3</td>\n",
       "      <td>2</td>\n",
       "      <td>2</td>\n",
       "      <td>3</td>\n",
       "    </tr>\n",
       "    <tr>\n",
       "      <th>6</th>\n",
       "      <td>Показать на главной странице баннеры с актуальными акциями и распродажами, чтобы увеличить конверсию</td>\n",
       "      <td>5</td>\n",
       "      <td>3</td>\n",
       "      <td>8</td>\n",
       "      <td>3</td>\n",
       "    </tr>\n",
       "    <tr>\n",
       "      <th>7</th>\n",
       "      <td>Добавить форму подписки на все основные страницы, чтобы собрать базу клиентов для email-рассылок</td>\n",
       "      <td>10</td>\n",
       "      <td>7</td>\n",
       "      <td>8</td>\n",
       "      <td>5</td>\n",
       "    </tr>\n",
       "    <tr>\n",
       "      <th>8</th>\n",
       "      <td>Запустить акцию, дающую скидку на товар в день рождения</td>\n",
       "      <td>1</td>\n",
       "      <td>9</td>\n",
       "      <td>9</td>\n",
       "      <td>5</td>\n",
       "    </tr>\n",
       "  </tbody>\n",
       "</table>\n",
       "</div>"
      ],
      "text/plain": [
       "                                                                                                     Hypothesis  \\\n",
       "0            Добавить два новых канала привлечения трафика, что позволит привлекать на 30% больше пользователей   \n",
       "1                                     Запустить собственную службу доставки, что сократит срок доставки заказов   \n",
       "2  Добавить блоки рекомендаций товаров на сайт интернет магазина, чтобы повысить конверсию и средний чек заказа   \n",
       "3           Изменить структура категорий, что увеличит конверсию, т.к. пользователи быстрее найдут нужный товар   \n",
       "4                              Изменить цвет фона главной страницы, чтобы увеличить вовлеченность пользователей   \n",
       "5                      Добавить страницу отзывов клиентов о магазине, что позволит увеличить количество заказов   \n",
       "6          Показать на главной странице баннеры с актуальными акциями и распродажами, чтобы увеличить конверсию   \n",
       "7              Добавить форму подписки на все основные страницы, чтобы собрать базу клиентов для email-рассылок   \n",
       "8                                                       Запустить акцию, дающую скидку на товар в день рождения   \n",
       "\n",
       "   Reach  Impact  Confidence  Efforts  \n",
       "0      3      10           8        6  \n",
       "1      2       5           4       10  \n",
       "2      8       3           7        3  \n",
       "3      8       3           3        8  \n",
       "4      3       1           1        1  \n",
       "5      3       2           2        3  \n",
       "6      5       3           8        3  \n",
       "7     10       7           8        5  \n",
       "8      1       9           9        5  "
      ]
     },
     "execution_count": 2,
     "metadata": {},
     "output_type": "execute_result"
    }
   ],
   "source": [
    "pd.set_option('max_colwidth', 150) \n",
    "try:\n",
    "    hypothesis = pd.read_csv('/datasets/hypothesis.csv')\n",
    "except FileNotFoundError:\n",
    "    hypothesis = pd.read_csv('/datasets/hypothesis.csv')  #датасет hypothesis\n",
    "hypothesis"
   ]
  },
  {
   "cell_type": "code",
   "execution_count": 3,
   "metadata": {},
   "outputs": [
    {
     "name": "stdout",
     "output_type": "stream",
     "text": [
      "<class 'pandas.core.frame.DataFrame'>\n",
      "RangeIndex: 9 entries, 0 to 8\n",
      "Data columns (total 5 columns):\n",
      " #   Column      Non-Null Count  Dtype \n",
      "---  ------      --------------  ----- \n",
      " 0   Hypothesis  9 non-null      object\n",
      " 1   Reach       9 non-null      int64 \n",
      " 2   Impact      9 non-null      int64 \n",
      " 3   Confidence  9 non-null      int64 \n",
      " 4   Efforts     9 non-null      int64 \n",
      "dtypes: int64(4), object(1)\n",
      "memory usage: 488.0+ bytes\n"
     ]
    }
   ],
   "source": [
    "hypothesis.info()"
   ]
  },
  {
   "cell_type": "code",
   "execution_count": 4,
   "metadata": {
    "scrolled": false
   },
   "outputs": [
    {
     "data": {
      "text/html": [
       "<div>\n",
       "<style scoped>\n",
       "    .dataframe tbody tr th:only-of-type {\n",
       "        vertical-align: middle;\n",
       "    }\n",
       "\n",
       "    .dataframe tbody tr th {\n",
       "        vertical-align: top;\n",
       "    }\n",
       "\n",
       "    .dataframe thead th {\n",
       "        text-align: right;\n",
       "    }\n",
       "</style>\n",
       "<table border=\"1\" class=\"dataframe\">\n",
       "  <thead>\n",
       "    <tr style=\"text-align: right;\">\n",
       "      <th></th>\n",
       "      <th>Reach</th>\n",
       "      <th>Impact</th>\n",
       "      <th>Confidence</th>\n",
       "      <th>Efforts</th>\n",
       "    </tr>\n",
       "  </thead>\n",
       "  <tbody>\n",
       "    <tr>\n",
       "      <th>count</th>\n",
       "      <td>9.000000</td>\n",
       "      <td>9.000000</td>\n",
       "      <td>9.000000</td>\n",
       "      <td>9.000000</td>\n",
       "    </tr>\n",
       "    <tr>\n",
       "      <th>mean</th>\n",
       "      <td>4.777778</td>\n",
       "      <td>4.777778</td>\n",
       "      <td>5.555556</td>\n",
       "      <td>4.888889</td>\n",
       "    </tr>\n",
       "    <tr>\n",
       "      <th>std</th>\n",
       "      <td>3.153481</td>\n",
       "      <td>3.192874</td>\n",
       "      <td>3.045944</td>\n",
       "      <td>2.803767</td>\n",
       "    </tr>\n",
       "    <tr>\n",
       "      <th>min</th>\n",
       "      <td>1.000000</td>\n",
       "      <td>1.000000</td>\n",
       "      <td>1.000000</td>\n",
       "      <td>1.000000</td>\n",
       "    </tr>\n",
       "    <tr>\n",
       "      <th>25%</th>\n",
       "      <td>3.000000</td>\n",
       "      <td>3.000000</td>\n",
       "      <td>3.000000</td>\n",
       "      <td>3.000000</td>\n",
       "    </tr>\n",
       "    <tr>\n",
       "      <th>50%</th>\n",
       "      <td>3.000000</td>\n",
       "      <td>3.000000</td>\n",
       "      <td>7.000000</td>\n",
       "      <td>5.000000</td>\n",
       "    </tr>\n",
       "    <tr>\n",
       "      <th>75%</th>\n",
       "      <td>8.000000</td>\n",
       "      <td>7.000000</td>\n",
       "      <td>8.000000</td>\n",
       "      <td>6.000000</td>\n",
       "    </tr>\n",
       "    <tr>\n",
       "      <th>max</th>\n",
       "      <td>10.000000</td>\n",
       "      <td>10.000000</td>\n",
       "      <td>9.000000</td>\n",
       "      <td>10.000000</td>\n",
       "    </tr>\n",
       "  </tbody>\n",
       "</table>\n",
       "</div>"
      ],
      "text/plain": [
       "           Reach     Impact  Confidence    Efforts\n",
       "count   9.000000   9.000000    9.000000   9.000000\n",
       "mean    4.777778   4.777778    5.555556   4.888889\n",
       "std     3.153481   3.192874    3.045944   2.803767\n",
       "min     1.000000   1.000000    1.000000   1.000000\n",
       "25%     3.000000   3.000000    3.000000   3.000000\n",
       "50%     3.000000   3.000000    7.000000   5.000000\n",
       "75%     8.000000   7.000000    8.000000   6.000000\n",
       "max    10.000000  10.000000    9.000000  10.000000"
      ]
     },
     "execution_count": 4,
     "metadata": {},
     "output_type": "execute_result"
    }
   ],
   "source": [
    "hypothesis.describe()"
   ]
  },
  {
   "cell_type": "code",
   "execution_count": 5,
   "metadata": {},
   "outputs": [
    {
     "data": {
      "text/plain": [
       "Hypothesis    0\n",
       "Reach         0\n",
       "Impact        0\n",
       "Confidence    0\n",
       "Efforts       0\n",
       "dtype: int64"
      ]
     },
     "execution_count": 5,
     "metadata": {},
     "output_type": "execute_result"
    }
   ],
   "source": [
    "hypothesis.isna().sum()"
   ]
  },
  {
   "cell_type": "code",
   "execution_count": 6,
   "metadata": {},
   "outputs": [
    {
     "data": {
      "text/plain": [
       "0"
      ]
     },
     "execution_count": 6,
     "metadata": {},
     "output_type": "execute_result"
    }
   ],
   "source": [
    "hypothesis.duplicated().sum()"
   ]
  },
  {
   "cell_type": "code",
   "execution_count": 7,
   "metadata": {},
   "outputs": [],
   "source": [
    "orders = pd.read_csv('/datasets/orders.csv') #датасет orders\n",
    "visitors = pd.read_csv('/datasets/visitors.csv')  #датасет visitors"
   ]
  },
  {
   "cell_type": "code",
   "execution_count": 8,
   "metadata": {},
   "outputs": [
    {
     "data": {
      "text/html": [
       "<div>\n",
       "<style scoped>\n",
       "    .dataframe tbody tr th:only-of-type {\n",
       "        vertical-align: middle;\n",
       "    }\n",
       "\n",
       "    .dataframe tbody tr th {\n",
       "        vertical-align: top;\n",
       "    }\n",
       "\n",
       "    .dataframe thead th {\n",
       "        text-align: right;\n",
       "    }\n",
       "</style>\n",
       "<table border=\"1\" class=\"dataframe\">\n",
       "  <thead>\n",
       "    <tr style=\"text-align: right;\">\n",
       "      <th></th>\n",
       "      <th>transactionId</th>\n",
       "      <th>visitorId</th>\n",
       "      <th>date</th>\n",
       "      <th>revenue</th>\n",
       "      <th>group</th>\n",
       "    </tr>\n",
       "  </thead>\n",
       "  <tbody>\n",
       "    <tr>\n",
       "      <th>0</th>\n",
       "      <td>3667963787</td>\n",
       "      <td>3312258926</td>\n",
       "      <td>2019-08-15</td>\n",
       "      <td>1650</td>\n",
       "      <td>B</td>\n",
       "    </tr>\n",
       "    <tr>\n",
       "      <th>1</th>\n",
       "      <td>2804400009</td>\n",
       "      <td>3642806036</td>\n",
       "      <td>2019-08-15</td>\n",
       "      <td>730</td>\n",
       "      <td>B</td>\n",
       "    </tr>\n",
       "    <tr>\n",
       "      <th>2</th>\n",
       "      <td>2961555356</td>\n",
       "      <td>4069496402</td>\n",
       "      <td>2019-08-15</td>\n",
       "      <td>400</td>\n",
       "      <td>A</td>\n",
       "    </tr>\n",
       "    <tr>\n",
       "      <th>3</th>\n",
       "      <td>3797467345</td>\n",
       "      <td>1196621759</td>\n",
       "      <td>2019-08-15</td>\n",
       "      <td>9759</td>\n",
       "      <td>B</td>\n",
       "    </tr>\n",
       "    <tr>\n",
       "      <th>4</th>\n",
       "      <td>2282983706</td>\n",
       "      <td>2322279887</td>\n",
       "      <td>2019-08-15</td>\n",
       "      <td>2308</td>\n",
       "      <td>B</td>\n",
       "    </tr>\n",
       "  </tbody>\n",
       "</table>\n",
       "</div>"
      ],
      "text/plain": [
       "   transactionId   visitorId        date  revenue group\n",
       "0     3667963787  3312258926  2019-08-15     1650     B\n",
       "1     2804400009  3642806036  2019-08-15      730     B\n",
       "2     2961555356  4069496402  2019-08-15      400     A\n",
       "3     3797467345  1196621759  2019-08-15     9759     B\n",
       "4     2282983706  2322279887  2019-08-15     2308     B"
      ]
     },
     "execution_count": 8,
     "metadata": {},
     "output_type": "execute_result"
    }
   ],
   "source": [
    "orders.head()"
   ]
  },
  {
   "cell_type": "code",
   "execution_count": 9,
   "metadata": {},
   "outputs": [
    {
     "name": "stdout",
     "output_type": "stream",
     "text": [
      "<class 'pandas.core.frame.DataFrame'>\n",
      "RangeIndex: 1197 entries, 0 to 1196\n",
      "Data columns (total 5 columns):\n",
      " #   Column         Non-Null Count  Dtype \n",
      "---  ------         --------------  ----- \n",
      " 0   transactionId  1197 non-null   int64 \n",
      " 1   visitorId      1197 non-null   int64 \n",
      " 2   date           1197 non-null   object\n",
      " 3   revenue        1197 non-null   int64 \n",
      " 4   group          1197 non-null   object\n",
      "dtypes: int64(3), object(2)\n",
      "memory usage: 46.9+ KB\n"
     ]
    }
   ],
   "source": [
    "orders.info()"
   ]
  },
  {
   "cell_type": "code",
   "execution_count": 10,
   "metadata": {},
   "outputs": [],
   "source": [
    "orders['date'] = orders['date'].map(lambda x: dt.datetime.strptime(x, '%Y-%m-%d'))"
   ]
  },
  {
   "cell_type": "code",
   "execution_count": 11,
   "metadata": {},
   "outputs": [
    {
     "data": {
      "text/plain": [
       "transactionId    0\n",
       "visitorId        0\n",
       "date             0\n",
       "revenue          0\n",
       "group            0\n",
       "dtype: int64"
      ]
     },
     "execution_count": 11,
     "metadata": {},
     "output_type": "execute_result"
    }
   ],
   "source": [
    "orders.isna().sum()"
   ]
  },
  {
   "cell_type": "code",
   "execution_count": 12,
   "metadata": {},
   "outputs": [
    {
     "data": {
      "text/plain": [
       "0"
      ]
     },
     "execution_count": 12,
     "metadata": {},
     "output_type": "execute_result"
    }
   ],
   "source": [
    "orders.duplicated().sum()"
   ]
  },
  {
   "cell_type": "code",
   "execution_count": 13,
   "metadata": {},
   "outputs": [
    {
     "data": {
      "text/html": [
       "<div>\n",
       "<style scoped>\n",
       "    .dataframe tbody tr th:only-of-type {\n",
       "        vertical-align: middle;\n",
       "    }\n",
       "\n",
       "    .dataframe tbody tr th {\n",
       "        vertical-align: top;\n",
       "    }\n",
       "\n",
       "    .dataframe thead th {\n",
       "        text-align: right;\n",
       "    }\n",
       "</style>\n",
       "<table border=\"1\" class=\"dataframe\">\n",
       "  <thead>\n",
       "    <tr style=\"text-align: right;\">\n",
       "      <th></th>\n",
       "      <th>date</th>\n",
       "      <th>group</th>\n",
       "      <th>visitors</th>\n",
       "    </tr>\n",
       "  </thead>\n",
       "  <tbody>\n",
       "    <tr>\n",
       "      <th>0</th>\n",
       "      <td>2019-08-01</td>\n",
       "      <td>A</td>\n",
       "      <td>719</td>\n",
       "    </tr>\n",
       "    <tr>\n",
       "      <th>1</th>\n",
       "      <td>2019-08-02</td>\n",
       "      <td>A</td>\n",
       "      <td>619</td>\n",
       "    </tr>\n",
       "    <tr>\n",
       "      <th>2</th>\n",
       "      <td>2019-08-03</td>\n",
       "      <td>A</td>\n",
       "      <td>507</td>\n",
       "    </tr>\n",
       "    <tr>\n",
       "      <th>3</th>\n",
       "      <td>2019-08-04</td>\n",
       "      <td>A</td>\n",
       "      <td>717</td>\n",
       "    </tr>\n",
       "    <tr>\n",
       "      <th>4</th>\n",
       "      <td>2019-08-05</td>\n",
       "      <td>A</td>\n",
       "      <td>756</td>\n",
       "    </tr>\n",
       "  </tbody>\n",
       "</table>\n",
       "</div>"
      ],
      "text/plain": [
       "         date group  visitors\n",
       "0  2019-08-01     A       719\n",
       "1  2019-08-02     A       619\n",
       "2  2019-08-03     A       507\n",
       "3  2019-08-04     A       717\n",
       "4  2019-08-05     A       756"
      ]
     },
     "execution_count": 13,
     "metadata": {},
     "output_type": "execute_result"
    }
   ],
   "source": [
    "visitors.head()"
   ]
  },
  {
   "cell_type": "code",
   "execution_count": 14,
   "metadata": {},
   "outputs": [
    {
     "name": "stdout",
     "output_type": "stream",
     "text": [
      "<class 'pandas.core.frame.DataFrame'>\n",
      "RangeIndex: 62 entries, 0 to 61\n",
      "Data columns (total 3 columns):\n",
      " #   Column    Non-Null Count  Dtype \n",
      "---  ------    --------------  ----- \n",
      " 0   date      62 non-null     object\n",
      " 1   group     62 non-null     object\n",
      " 2   visitors  62 non-null     int64 \n",
      "dtypes: int64(1), object(2)\n",
      "memory usage: 1.6+ KB\n"
     ]
    }
   ],
   "source": [
    "visitors.info()"
   ]
  },
  {
   "cell_type": "code",
   "execution_count": 15,
   "metadata": {},
   "outputs": [],
   "source": [
    "visitors['date'] = visitors['date'].map(lambda x: dt.datetime.strptime(x, '%Y-%m-%d'))"
   ]
  },
  {
   "cell_type": "code",
   "execution_count": 16,
   "metadata": {},
   "outputs": [
    {
     "data": {
      "text/plain": [
       "date        0\n",
       "group       0\n",
       "visitors    0\n",
       "dtype: int64"
      ]
     },
     "execution_count": 16,
     "metadata": {},
     "output_type": "execute_result"
    }
   ],
   "source": [
    "visitors.isna().sum()"
   ]
  },
  {
   "cell_type": "code",
   "execution_count": 17,
   "metadata": {
    "scrolled": true
   },
   "outputs": [
    {
     "data": {
      "text/plain": [
       "0"
      ]
     },
     "execution_count": 17,
     "metadata": {},
     "output_type": "execute_result"
    }
   ],
   "source": [
    "visitors.duplicated().sum()"
   ]
  },
  {
   "cell_type": "code",
   "execution_count": 18,
   "metadata": {
    "scrolled": true
   },
   "outputs": [
    {
     "data": {
      "text/plain": [
       "58"
      ]
     },
     "execution_count": 18,
     "metadata": {},
     "output_type": "execute_result"
    }
   ],
   "source": [
    "len(np.intersect1d(orders.query('group==\"A\"')['visitorId'].unique(),orders.query('group==\"B\"')['visitorId'].unique()))"
   ]
  },
  {
   "cell_type": "markdown",
   "metadata": {},
   "source": [
    "58 пользователей попали в обе группы. Однако корректно удалить их не представлется возможным, поскольку данные агрегированы и из orders удалятся, а из visitors нет."
   ]
  },
  {
   "cell_type": "markdown",
   "metadata": {},
   "source": [
    "**Вывод** На данном этапе были загружены необходимые библиотеки, а также сами датасеты.\\\n",
    "В данных отсутствуют пропуски и дубликаты. В orders и visits в столбце date был изменен тип данных на datetime."
   ]
  },
  {
   "cell_type": "markdown",
   "metadata": {},
   "source": [
    "### Применение фреймворков ICE, RICE"
   ]
  },
  {
   "cell_type": "code",
   "execution_count": 19,
   "metadata": {},
   "outputs": [],
   "source": [
    "hypothesis['ICE'] = ((hypothesis['Impact'] * hypothesis['Confidence']) / hypothesis['Efforts']).round(1)\n",
    "hypothesis['RICE'] = (hypothesis['Reach'] * hypothesis['Impact'] * hypothesis['Confidence']) / hypothesis['Efforts']"
   ]
  },
  {
   "cell_type": "code",
   "execution_count": 20,
   "metadata": {},
   "outputs": [
    {
     "data": {
      "text/html": [
       "<style  type=\"text/css\" >\n",
       "#T_ceb1e_row0_col0{\n",
       "            background-color:  yellow;\n",
       "        }</style><table id=\"T_ceb1e_\" ><thead>    <tr>        <th class=\"blank level0\" ></th>        <th class=\"col_heading level0 col0\" >ICE</th>        <th class=\"col_heading level0 col1\" >Hypothesis</th>    </tr></thead><tbody>\n",
       "                <tr>\n",
       "                        <th id=\"T_ceb1e_level0_row0\" class=\"row_heading level0 row0\" >8</th>\n",
       "                        <td id=\"T_ceb1e_row0_col0\" class=\"data row0 col0\" >16.200000</td>\n",
       "                        <td id=\"T_ceb1e_row0_col1\" class=\"data row0 col1\" >Запустить акцию, дающую скидку на товар в день рождения</td>\n",
       "            </tr>\n",
       "            <tr>\n",
       "                        <th id=\"T_ceb1e_level0_row1\" class=\"row_heading level0 row1\" >0</th>\n",
       "                        <td id=\"T_ceb1e_row1_col0\" class=\"data row1 col0\" >13.300000</td>\n",
       "                        <td id=\"T_ceb1e_row1_col1\" class=\"data row1 col1\" >Добавить два новых канала привлечения трафика, что позволит привлекать на 30% больше пользователей</td>\n",
       "            </tr>\n",
       "            <tr>\n",
       "                        <th id=\"T_ceb1e_level0_row2\" class=\"row_heading level0 row2\" >7</th>\n",
       "                        <td id=\"T_ceb1e_row2_col0\" class=\"data row2 col0\" >11.200000</td>\n",
       "                        <td id=\"T_ceb1e_row2_col1\" class=\"data row2 col1\" >Добавить форму подписки на все основные страницы, чтобы собрать базу клиентов для email-рассылок</td>\n",
       "            </tr>\n",
       "            <tr>\n",
       "                        <th id=\"T_ceb1e_level0_row3\" class=\"row_heading level0 row3\" >6</th>\n",
       "                        <td id=\"T_ceb1e_row3_col0\" class=\"data row3 col0\" >8.000000</td>\n",
       "                        <td id=\"T_ceb1e_row3_col1\" class=\"data row3 col1\" >Показать на главной странице баннеры с актуальными акциями и распродажами, чтобы увеличить конверсию</td>\n",
       "            </tr>\n",
       "            <tr>\n",
       "                        <th id=\"T_ceb1e_level0_row4\" class=\"row_heading level0 row4\" >2</th>\n",
       "                        <td id=\"T_ceb1e_row4_col0\" class=\"data row4 col0\" >7.000000</td>\n",
       "                        <td id=\"T_ceb1e_row4_col1\" class=\"data row4 col1\" >Добавить блоки рекомендаций товаров на сайт интернет магазина, чтобы повысить конверсию и средний чек заказа</td>\n",
       "            </tr>\n",
       "            <tr>\n",
       "                        <th id=\"T_ceb1e_level0_row5\" class=\"row_heading level0 row5\" >1</th>\n",
       "                        <td id=\"T_ceb1e_row5_col0\" class=\"data row5 col0\" >2.000000</td>\n",
       "                        <td id=\"T_ceb1e_row5_col1\" class=\"data row5 col1\" >Запустить собственную службу доставки, что сократит срок доставки заказов</td>\n",
       "            </tr>\n",
       "            <tr>\n",
       "                        <th id=\"T_ceb1e_level0_row6\" class=\"row_heading level0 row6\" >5</th>\n",
       "                        <td id=\"T_ceb1e_row6_col0\" class=\"data row6 col0\" >1.300000</td>\n",
       "                        <td id=\"T_ceb1e_row6_col1\" class=\"data row6 col1\" >Добавить страницу отзывов клиентов о магазине, что позволит увеличить количество заказов</td>\n",
       "            </tr>\n",
       "            <tr>\n",
       "                        <th id=\"T_ceb1e_level0_row7\" class=\"row_heading level0 row7\" >3</th>\n",
       "                        <td id=\"T_ceb1e_row7_col0\" class=\"data row7 col0\" >1.100000</td>\n",
       "                        <td id=\"T_ceb1e_row7_col1\" class=\"data row7 col1\" >Изменить структура категорий, что увеличит конверсию, т.к. пользователи быстрее найдут нужный товар</td>\n",
       "            </tr>\n",
       "            <tr>\n",
       "                        <th id=\"T_ceb1e_level0_row8\" class=\"row_heading level0 row8\" >4</th>\n",
       "                        <td id=\"T_ceb1e_row8_col0\" class=\"data row8 col0\" >1.000000</td>\n",
       "                        <td id=\"T_ceb1e_row8_col1\" class=\"data row8 col1\" >Изменить цвет фона главной страницы, чтобы увеличить вовлеченность пользователей</td>\n",
       "            </tr>\n",
       "    </tbody></table>"
      ],
      "text/plain": [
       "<pandas.io.formats.style.Styler at 0x7fd6828139d0>"
      ]
     },
     "execution_count": 20,
     "metadata": {},
     "output_type": "execute_result"
    }
   ],
   "source": [
    "hypothesis[['ICE', 'Hypothesis']].sort_values(by='ICE', ascending=False).style.highlight_max(axis=0)"
   ]
  },
  {
   "cell_type": "code",
   "execution_count": 21,
   "metadata": {},
   "outputs": [
    {
     "data": {
      "text/html": [
       "<style  type=\"text/css\" >\n",
       "#T_f5b9c_row0_col0{\n",
       "            background-color:  yellow;\n",
       "        }</style><table id=\"T_f5b9c_\" ><thead>    <tr>        <th class=\"blank level0\" ></th>        <th class=\"col_heading level0 col0\" >RICE</th>        <th class=\"col_heading level0 col1\" >Hypothesis</th>    </tr></thead><tbody>\n",
       "                <tr>\n",
       "                        <th id=\"T_f5b9c_level0_row0\" class=\"row_heading level0 row0\" >7</th>\n",
       "                        <td id=\"T_f5b9c_row0_col0\" class=\"data row0 col0\" >112.000000</td>\n",
       "                        <td id=\"T_f5b9c_row0_col1\" class=\"data row0 col1\" >Добавить форму подписки на все основные страницы, чтобы собрать базу клиентов для email-рассылок</td>\n",
       "            </tr>\n",
       "            <tr>\n",
       "                        <th id=\"T_f5b9c_level0_row1\" class=\"row_heading level0 row1\" >2</th>\n",
       "                        <td id=\"T_f5b9c_row1_col0\" class=\"data row1 col0\" >56.000000</td>\n",
       "                        <td id=\"T_f5b9c_row1_col1\" class=\"data row1 col1\" >Добавить блоки рекомендаций товаров на сайт интернет магазина, чтобы повысить конверсию и средний чек заказа</td>\n",
       "            </tr>\n",
       "            <tr>\n",
       "                        <th id=\"T_f5b9c_level0_row2\" class=\"row_heading level0 row2\" >0</th>\n",
       "                        <td id=\"T_f5b9c_row2_col0\" class=\"data row2 col0\" >40.000000</td>\n",
       "                        <td id=\"T_f5b9c_row2_col1\" class=\"data row2 col1\" >Добавить два новых канала привлечения трафика, что позволит привлекать на 30% больше пользователей</td>\n",
       "            </tr>\n",
       "            <tr>\n",
       "                        <th id=\"T_f5b9c_level0_row3\" class=\"row_heading level0 row3\" >6</th>\n",
       "                        <td id=\"T_f5b9c_row3_col0\" class=\"data row3 col0\" >40.000000</td>\n",
       "                        <td id=\"T_f5b9c_row3_col1\" class=\"data row3 col1\" >Показать на главной странице баннеры с актуальными акциями и распродажами, чтобы увеличить конверсию</td>\n",
       "            </tr>\n",
       "            <tr>\n",
       "                        <th id=\"T_f5b9c_level0_row4\" class=\"row_heading level0 row4\" >8</th>\n",
       "                        <td id=\"T_f5b9c_row4_col0\" class=\"data row4 col0\" >16.200000</td>\n",
       "                        <td id=\"T_f5b9c_row4_col1\" class=\"data row4 col1\" >Запустить акцию, дающую скидку на товар в день рождения</td>\n",
       "            </tr>\n",
       "            <tr>\n",
       "                        <th id=\"T_f5b9c_level0_row5\" class=\"row_heading level0 row5\" >3</th>\n",
       "                        <td id=\"T_f5b9c_row5_col0\" class=\"data row5 col0\" >9.000000</td>\n",
       "                        <td id=\"T_f5b9c_row5_col1\" class=\"data row5 col1\" >Изменить структура категорий, что увеличит конверсию, т.к. пользователи быстрее найдут нужный товар</td>\n",
       "            </tr>\n",
       "            <tr>\n",
       "                        <th id=\"T_f5b9c_level0_row6\" class=\"row_heading level0 row6\" >1</th>\n",
       "                        <td id=\"T_f5b9c_row6_col0\" class=\"data row6 col0\" >4.000000</td>\n",
       "                        <td id=\"T_f5b9c_row6_col1\" class=\"data row6 col1\" >Запустить собственную службу доставки, что сократит срок доставки заказов</td>\n",
       "            </tr>\n",
       "            <tr>\n",
       "                        <th id=\"T_f5b9c_level0_row7\" class=\"row_heading level0 row7\" >5</th>\n",
       "                        <td id=\"T_f5b9c_row7_col0\" class=\"data row7 col0\" >4.000000</td>\n",
       "                        <td id=\"T_f5b9c_row7_col1\" class=\"data row7 col1\" >Добавить страницу отзывов клиентов о магазине, что позволит увеличить количество заказов</td>\n",
       "            </tr>\n",
       "            <tr>\n",
       "                        <th id=\"T_f5b9c_level0_row8\" class=\"row_heading level0 row8\" >4</th>\n",
       "                        <td id=\"T_f5b9c_row8_col0\" class=\"data row8 col0\" >3.000000</td>\n",
       "                        <td id=\"T_f5b9c_row8_col1\" class=\"data row8 col1\" >Изменить цвет фона главной страницы, чтобы увеличить вовлеченность пользователей</td>\n",
       "            </tr>\n",
       "    </tbody></table>"
      ],
      "text/plain": [
       "<pandas.io.formats.style.Styler at 0x7fd5ffb9b2b0>"
      ]
     },
     "execution_count": 21,
     "metadata": {},
     "output_type": "execute_result"
    }
   ],
   "source": [
    "hypothesis[['RICE', 'Hypothesis']].sort_values(by='RICE', ascending=False).style.highlight_max(axis=0)"
   ]
  },
  {
   "cell_type": "markdown",
   "metadata": {},
   "source": [
    "**Вывод:** \\\n",
    "Гипотезы-лидеры по **ICE**\\\n",
    "-Запустить акцию, дающую скидку на товар в день рождения\\\n",
    "-Добавить два новых канала привлечения трафика, что позволит привлекать на 30% больше пользователей\\\n",
    "-Добавить форму подписки на все основные страницы, чтобы собрать базу клиентов для email-рассылок\\\n",
    "\n",
    "Гипотезы-лидеры по **RICE**\\\n",
    "-Добавить форму подписки на все основные страницы, чтобы собрать базу клиентов для email-рассылок\\\n",
    "-Добавить блоки рекомендаций товаров на сайт интернет магазина, чтобы повысить конверсию и средний чек заказа\\\n",
    "-Добавить два новых канала привлечения трафика, что позволит привлекать на 30% больше пользователей\\\n",
    "-Показать на главной странице баннеры с актуальными акциями и распродажами, чтобы увеличить конверсию\n",
    "\n",
    "Различия в результатах связаны с тем, что в фреймворке RICE учитывается показатель Reach(охват пользователей).\\\n",
    "Гипотезы-лидеры по RICE являются наиболее приоритетными и подходящими для проверки."
   ]
  },
  {
   "cell_type": "markdown",
   "metadata": {},
   "source": [
    "## Анализ A/B-теста"
   ]
  },
  {
   "cell_type": "markdown",
   "metadata": {},
   "source": [
    "### График кумулятивной выручки по группам"
   ]
  },
  {
   "cell_type": "code",
   "execution_count": 22,
   "metadata": {
    "scrolled": true
   },
   "outputs": [
    {
     "data": {
      "text/html": [
       "<div>\n",
       "<style scoped>\n",
       "    .dataframe tbody tr th:only-of-type {\n",
       "        vertical-align: middle;\n",
       "    }\n",
       "\n",
       "    .dataframe tbody tr th {\n",
       "        vertical-align: top;\n",
       "    }\n",
       "\n",
       "    .dataframe thead th {\n",
       "        text-align: right;\n",
       "    }\n",
       "</style>\n",
       "<table border=\"1\" class=\"dataframe\">\n",
       "  <thead>\n",
       "    <tr style=\"text-align: right;\">\n",
       "      <th></th>\n",
       "      <th>date</th>\n",
       "      <th>group</th>\n",
       "      <th>orders</th>\n",
       "      <th>buyers</th>\n",
       "      <th>revenue</th>\n",
       "      <th>visitors</th>\n",
       "    </tr>\n",
       "  </thead>\n",
       "  <tbody>\n",
       "    <tr>\n",
       "      <th>0</th>\n",
       "      <td>2019-08-01</td>\n",
       "      <td>A</td>\n",
       "      <td>24</td>\n",
       "      <td>20</td>\n",
       "      <td>148579</td>\n",
       "      <td>719</td>\n",
       "    </tr>\n",
       "    <tr>\n",
       "      <th>1</th>\n",
       "      <td>2019-08-01</td>\n",
       "      <td>B</td>\n",
       "      <td>21</td>\n",
       "      <td>20</td>\n",
       "      <td>101217</td>\n",
       "      <td>713</td>\n",
       "    </tr>\n",
       "    <tr>\n",
       "      <th>2</th>\n",
       "      <td>2019-08-02</td>\n",
       "      <td>A</td>\n",
       "      <td>44</td>\n",
       "      <td>38</td>\n",
       "      <td>242401</td>\n",
       "      <td>1338</td>\n",
       "    </tr>\n",
       "    <tr>\n",
       "      <th>3</th>\n",
       "      <td>2019-08-02</td>\n",
       "      <td>B</td>\n",
       "      <td>45</td>\n",
       "      <td>43</td>\n",
       "      <td>266748</td>\n",
       "      <td>1294</td>\n",
       "    </tr>\n",
       "    <tr>\n",
       "      <th>4</th>\n",
       "      <td>2019-08-03</td>\n",
       "      <td>A</td>\n",
       "      <td>68</td>\n",
       "      <td>62</td>\n",
       "      <td>354874</td>\n",
       "      <td>1845</td>\n",
       "    </tr>\n",
       "  </tbody>\n",
       "</table>\n",
       "</div>"
      ],
      "text/plain": [
       "        date group  orders  buyers  revenue  visitors\n",
       "0 2019-08-01     A      24      20   148579       719\n",
       "1 2019-08-01     B      21      20   101217       713\n",
       "2 2019-08-02     A      44      38   242401      1338\n",
       "3 2019-08-02     B      45      43   266748      1294\n",
       "4 2019-08-03     A      68      62   354874      1845"
      ]
     },
     "execution_count": 22,
     "metadata": {},
     "output_type": "execute_result"
    }
   ],
   "source": [
    "datesGroups = orders[['date', 'group']].drop_duplicates()\n",
    "\n",
    "ordersAggregated = datesGroups.apply(\n",
    "    lambda x: orders[\n",
    "        np.logical_and(\n",
    "            orders['date'] <= x['date'], orders['group'] == x['group']\n",
    "        )\n",
    "    ].agg(\n",
    "        {\n",
    "            'date': 'max',\n",
    "            'group': 'max',\n",
    "            'transactionId': 'nunique',\n",
    "            'visitorId': 'nunique',\n",
    "            'revenue': 'sum',\n",
    "        }\n",
    "    ),\n",
    "    axis=1,\n",
    ").sort_values(by=['date', 'group'])\n",
    "\n",
    "visitorsAggregated = datesGroups.apply(\n",
    "    lambda x: visitors[\n",
    "        np.logical_and(\n",
    "            visitors['date'] <= x['date'], visitors['group'] == x['group']\n",
    "        )\n",
    "    ].agg(\n",
    "        {'date': 'max', \n",
    "         'group': 'max', \n",
    "         'visitors': 'sum'\n",
    "        }\n",
    "    ),\n",
    "    axis=1,\n",
    ").sort_values(by=['date', 'group'])\n",
    "\n",
    "cumulativeData = ordersAggregated.merge(\n",
    "    visitorsAggregated, left_on=['date', 'group'], right_on=['date', 'group']\n",
    ")\n",
    "cumulativeData.columns = [\n",
    "    'date',\n",
    "    'group',\n",
    "    'orders',\n",
    "    'buyers',\n",
    "    'revenue',\n",
    "    'visitors',\n",
    "]\n",
    "\n",
    "cumulativeData.head()"
   ]
  },
  {
   "cell_type": "code",
   "execution_count": 23,
   "metadata": {
    "scrolled": false
   },
   "outputs": [
    {
     "data": {
      "image/png": "[encoded data removed]",
      "text/plain": [
       "<Figure size 1080x360 with 1 Axes>"
      ]
     },
     "metadata": {
      "needs_background": "light"
     },
     "output_type": "display_data"
    }
   ],
   "source": [
    "cumulativeRevenueA = cumulativeData[cumulativeData['group']=='A'][['date','revenue','orders']]\n",
    "cumulativeRevenueB = cumulativeData[cumulativeData['group']=='B'][['date','revenue','orders']]\n",
    "\n",
    "plt.figure(figsize=(15,5))\n",
    "plt.plot(cumulativeRevenueA['date'],cumulativeRevenueA['revenue'],label='A')\n",
    "plt.plot(cumulativeRevenueB['date'],cumulativeRevenueB['revenue'],label='B')\n",
    "plt.legend()\n",
    "plt.grid()\n",
    "plt.title('График кумулятивной выручки по группам');"
   ]
  },
  {
   "cell_type": "markdown",
   "metadata": {},
   "source": [
    "Практически с самого начала выручка группы B опережает А, а 19 августа вообще показывает сильный скачок роста и продолжает отрываться вперед.\\\n",
    "Видимо, в этот день в группе В был крупный заказ/заказы или резкое увеличение их количества, что и повлияло на результат."
   ]
  },
  {
   "cell_type": "markdown",
   "metadata": {},
   "source": [
    "### График кумулятивного среднего чека по группам"
   ]
  },
  {
   "cell_type": "code",
   "execution_count": 24,
   "metadata": {
    "scrolled": true
   },
   "outputs": [
    {
     "data": {
      "image/png": "[encoded data removed]",
      "text/plain": [
       "<Figure size 1080x360 with 1 Axes>"
      ]
     },
     "metadata": {
      "needs_background": "light"
     },
     "output_type": "display_data"
    }
   ],
   "source": [
    "plt.figure(figsize=(15,5))\n",
    "plt.plot(cumulativeRevenueA['date'],cumulativeRevenueA['revenue']/cumulativeRevenueA['orders'],label='A')\n",
    "plt.plot(cumulativeRevenueB['date'],cumulativeRevenueB['revenue']/cumulativeRevenueB['orders'],label='B')\n",
    "plt.legend()\n",
    "plt.grid()\n",
    "plt.title('График кумулятивного среднего чека по группам');"
   ]
  },
  {
   "cell_type": "markdown",
   "metadata": {},
   "source": [
    "1го и 13го августа средний чек группы А был выше. Однако все остальные дни преимущество было за группой В.\\\n",
    "Также на графике видно, что 19го августа в группе В все-таки было не увеличение кол-ва заказов, а именно дорогой заказ, который и увеличил средний чек с 7 до 10 тыс. руб. \\\n",
    "После 19го августа чек группы В имеет тенденцию к снижению и пока неясно, остановится ли снижение. В то время как чек группы А с середины августа установился и медленно растет."
   ]
  },
  {
   "cell_type": "markdown",
   "metadata": {},
   "source": [
    "### График относительного изменения кумулятивного среднего чека группы B к группе A"
   ]
  },
  {
   "cell_type": "code",
   "execution_count": 25,
   "metadata": {
    "scrolled": false
   },
   "outputs": [
    {
     "data": {
      "image/png": "[encoded data removed]",
      "text/plain": [
       "<Figure size 1080x360 with 1 Axes>"
      ]
     },
     "metadata": {
      "needs_background": "light"
     },
     "output_type": "display_data"
    }
   ],
   "source": [
    "mergedCumulativeRevenue = cumulativeRevenueA.merge(cumulativeRevenueB,left_on='date',right_on='date',how='left',suffixes=['A','B'])\n",
    "\n",
    "plt.figure(figsize=(15,5))\n",
    "plt.plot(mergedCumulativeRevenue['date'],(mergedCumulativeRevenue['revenueB']/mergedCumulativeRevenue['ordersB'])/ \n",
    "        (mergedCumulativeRevenue['revenueA']/mergedCumulativeRevenue['ordersA'])-1)\n",
    "plt.axhline(y=0,color='black',linestyle='--')\n",
    "plt.grid()\n",
    "plt.title('График относительного изменения кумулятивного среднего чека группы B к группе A');"
   ]
  },
  {
   "cell_type": "markdown",
   "metadata": {},
   "source": [
    "На графике относительного изменения видно, как нестабилен чек группы В: рост до 7го августа, \n",
    "затем резкое падение вплоть до 13 августа, снова рост, достижение пика 19го августа за счет дорогого заказа и затем постепенное снижение.\\\n",
    "За счет того заказа в моменте средний чек группы В был на 50% выше группы А."
   ]
  },
  {
   "cell_type": "markdown",
   "metadata": {},
   "source": [
    "### График кумулятивной конверсии"
   ]
  },
  {
   "cell_type": "code",
   "execution_count": 26,
   "metadata": {
    "scrolled": false
   },
   "outputs": [
    {
     "data": {
      "image/png": "[encoded data removed]",
      "text/plain": [
       "<Figure size 1080x360 with 1 Axes>"
      ]
     },
     "metadata": {
      "needs_background": "light"
     },
     "output_type": "display_data"
    }
   ],
   "source": [
    "cumulativeData['conversion'] = cumulativeData['orders']/cumulativeData['visitors']\n",
    "\n",
    "cumulativeDataA = cumulativeData[cumulativeData['group']=='A']\n",
    "cumulativeDataB = cumulativeData[cumulativeData['group']=='B']\n",
    "\n",
    "plt.figure(figsize=(15,5))\n",
    "plt.plot(cumulativeDataA['date'],cumulativeDataA['conversion'],label='A')\n",
    "plt.plot(cumulativeDataB['date'],cumulativeDataB['conversion'],label='B')\n",
    "plt.legend()\n",
    "plt.grid()\n",
    "plt.title('График кумулятивной конверсии');"
   ]
  },
  {
   "cell_type": "markdown",
   "metadata": {},
   "source": [
    "3го августа конверсия группы А была самой высокой среди групп и почти достигла значения 0,037. \\\n",
    "Однако после этого резко падала до 9го августа и последующие дни колебалась от 0,029 до 0,031.\\\n",
    "Можно сказать, что конверсия группы В лучше группы А, поскольку с середины месяца более-менее установилась и была в диапазоне от 0,033 до 0,036."
   ]
  },
  {
   "cell_type": "markdown",
   "metadata": {},
   "source": [
    "### График относительного прироста конверсии группы B относительно группы A"
   ]
  },
  {
   "cell_type": "code",
   "execution_count": 27,
   "metadata": {
    "scrolled": false
   },
   "outputs": [
    {
     "data": {
      "image/png": "[encoded data removed]",
      "text/plain": [
       "<Figure size 1080x360 with 1 Axes>"
      ]
     },
     "metadata": {
      "needs_background": "light"
     },
     "output_type": "display_data"
    }
   ],
   "source": [
    "mergedCumulativeConversions = cumulativeDataA[['date','conversion']].merge(cumulativeDataB[['date','conversion']],left_on='date',right_on='date',how='left',suffixes=['A','B'])\n",
    "\n",
    "plt.figure(figsize=(15,5))\n",
    "plt.plot(mergedCumulativeConversions['date'],mergedCumulativeConversions['conversionB']/mergedCumulativeConversions['conversionA']-1)\n",
    "plt.grid()\n",
    "plt.title('График относительного прироста конверсии группы B относительно группы A')\n",
    "plt.axhline(y=0,color='black',linestyle='--')\n",
    "plt.axhline(y=0.2,color='grey',linestyle='--');"
   ]
  },
  {
   "cell_type": "markdown",
   "metadata": {},
   "source": [
    "С 1 по 5 августа конверсия группы А показывала лучший результат, чем группы В. \\\n",
    "Но все последующее время конверсия группы В превалировала и в середине месяца была на 20% выше, затем снижалась, но все равно была выше значения 0,1."
   ]
  },
  {
   "cell_type": "markdown",
   "metadata": {},
   "source": [
    "### Точечный график количества заказов по пользователям"
   ]
  },
  {
   "cell_type": "code",
   "execution_count": 28,
   "metadata": {
    "scrolled": true
   },
   "outputs": [
    {
     "name": "stdout",
     "output_type": "stream",
     "text": [
      "       visitorId  orders\n",
      "1023  4256040402      11\n",
      "591   2458001652      11\n",
      "569   2378935119       9\n",
      "487   2038680547       8\n",
      "44     199603092       5\n",
      "744   3062433592       5\n",
      "55     237748145       5\n",
      "917   3803269165       5\n",
      "299   1230306981       5\n",
      "897   3717692402       5\n"
     ]
    },
    {
     "data": {
      "image/png": "[encoded data removed]",
      "text/plain": [
       "<Figure size 1080x360 with 1 Axes>"
      ]
     },
     "metadata": {
      "needs_background": "light"
     },
     "output_type": "display_data"
    }
   ],
   "source": [
    "ordersByUsers = (\n",
    "    orders.groupby('visitorId', as_index=False)\n",
    "    .agg({'transactionId': 'nunique'})\n",
    ")\n",
    "ordersByUsers.columns = ['visitorId', 'orders']\n",
    "\n",
    "print(ordersByUsers.sort_values(by='orders', ascending=False).head(10))\n",
    "\n",
    "# серия из чисел от 0 до количества наблюдений в ordersByUsers\n",
    "x_values = pd.Series(range(0, len(ordersByUsers)))\n",
    "\n",
    "plt.figure(figsize=(15,5))\n",
    "plt.scatter(x_values,ordersByUsers['orders'])\n",
    "plt.grid()\n",
    "plt.title('Точечный график количества заказов по пользователям');"
   ]
  },
  {
   "cell_type": "markdown",
   "metadata": {},
   "source": [
    "По графику видно, что большинство пользователей делали 1 заказ, совсем мало делали 2 заказа. Кол-во пользователей, совершающих 3 и более заказа, ничтожно мало."
   ]
  },
  {
   "cell_type": "markdown",
   "metadata": {},
   "source": [
    "### 95-й и 99-й перцентили количества заказов на пользователя"
   ]
  },
  {
   "cell_type": "code",
   "execution_count": 29,
   "metadata": {
    "scrolled": false
   },
   "outputs": [
    {
     "name": "stdout",
     "output_type": "stream",
     "text": [
      "[2. 4.]\n"
     ]
    }
   ],
   "source": [
    "print(np.percentile(ordersByUsers['orders'], [95, 99]))"
   ]
  },
  {
   "cell_type": "markdown",
   "metadata": {},
   "source": [
    "Не более 5% пользователей делают больше 2 заказов и не более 1% делают больше 4 заказов.\\\n",
    "Выберем 2 заказа за нижнюю границу количества заказов. То, что больше считаем аномальным кол-вом."
   ]
  },
  {
   "cell_type": "markdown",
   "metadata": {},
   "source": [
    "### Точечный график стоимостей заказов"
   ]
  },
  {
   "cell_type": "code",
   "execution_count": 30,
   "metadata": {
    "scrolled": false
   },
   "outputs": [
    {
     "data": {
      "image/png": "[encoded data removed]",
      "text/plain": [
       "<Figure size 1080x360 with 1 Axes>"
      ]
     },
     "metadata": {
      "needs_background": "light"
     },
     "output_type": "display_data"
    }
   ],
   "source": [
    "x_values = pd.Series(range(0,len(orders['revenue'])))\n",
    "\n",
    "plt.figure(figsize=(15,5))\n",
    "plt.scatter(x_values, orders['revenue'])\n",
    "plt.grid()\n",
    "plt.title('Точечный график стоимостей заказов');"
   ]
  },
  {
   "cell_type": "markdown",
   "metadata": {},
   "source": [
    "Все заказы, кроме двух (один из которых более чем на 1,2 млн. руб., второй на 200 тыс. руб), не превышали 100 тыс. руб.\\\n",
    "По графику плохо видно детали, ниже посчитаем перцентили и картина будет более ясной."
   ]
  },
  {
   "cell_type": "markdown",
   "metadata": {},
   "source": [
    "### 95-й и 99-й перцентили стоимости заказов"
   ]
  },
  {
   "cell_type": "code",
   "execution_count": 31,
   "metadata": {
    "scrolled": false
   },
   "outputs": [
    {
     "name": "stdout",
     "output_type": "stream",
     "text": [
      "[28000.  58233.2]\n"
     ]
    }
   ],
   "source": [
    "print(np.percentile(orders['revenue'], [95, 99])) "
   ]
  },
  {
   "cell_type": "markdown",
   "metadata": {},
   "source": [
    "Не более 5% пользователей заказывают на 28 тыс. руб. и не более 1% на 58,2 тыс. руб.\\\n",
    "Выберем 28 тыс. руб. за нижнюю границу стоимости заказа. То, что больше считаем аномальной стоимостью."
   ]
  },
  {
   "cell_type": "markdown",
   "metadata": {},
   "source": [
    "###  Статистическая значимость различий в среднем количестве заказов на посетителя между группами по «сырым» данным"
   ]
  },
  {
   "cell_type": "markdown",
   "metadata": {},
   "source": [
    "Гипотезы:\\\n",
    "Нулевая: различий в среднем количестве заказов на посетителя между группами нет.\\\n",
    "Альтернативная: различия в среднем количестве заказов на посетителя между группами есть."
   ]
  },
  {
   "cell_type": "code",
   "execution_count": 32,
   "metadata": {},
   "outputs": [],
   "source": [
    "visitorsADaily = visitors[visitors['group'] == 'A'][['date', 'visitors']]\n",
    "visitorsADaily.columns = ['date', 'visitorsPerDateA']\n",
    "\n",
    "visitorsACummulative = visitorsADaily.apply(\n",
    "    lambda x: visitorsADaily[visitorsADaily['date'] <= x['date']].agg(\n",
    "        {'date': 'max', 'visitorsPerDateA': 'sum'}\n",
    "    ),\n",
    "    axis=1,\n",
    ")\n",
    "visitorsACummulative.columns = ['date', 'visitorsCummulativeA']\n",
    "\n",
    "visitorsBDaily = visitors[visitors['group'] == 'B'][['date', 'visitors']]\n",
    "visitorsBDaily.columns = ['date', 'visitorsPerDateB']\n",
    "\n",
    "visitorsBCummulative = visitorsBDaily.apply(\n",
    "    lambda x: visitorsBDaily[visitorsBDaily['date'] <= x['date']].agg(\n",
    "        {'date': 'max', 'visitorsPerDateB': 'sum'}\n",
    "    ),\n",
    "    axis=1,\n",
    ")\n",
    "visitorsBCummulative.columns = ['date', 'visitorsCummulativeB']\n",
    "\n",
    "ordersADaily = (\n",
    "    orders[orders['group'] == 'A'][['date', 'transactionId', 'visitorId', 'revenue']]\n",
    "    .groupby('date', as_index=False)\n",
    "    .agg({'transactionId': pd.Series.nunique, 'revenue': 'sum'})\n",
    ")\n",
    "ordersADaily.columns = ['date', 'ordersPerDateA', 'revenuePerDateA']\n",
    "\n",
    "ordersACummulative = ordersADaily.apply(\n",
    "    lambda x: ordersADaily[ordersADaily['date'] <= x['date']].agg(\n",
    "        {'date': 'max', 'ordersPerDateA': 'sum', 'revenuePerDateA': 'sum'}\n",
    "    ),\n",
    "    axis=1,\n",
    ").sort_values(by=['date'])\n",
    "ordersACummulative.columns = [\n",
    "    'date',\n",
    "    'ordersCummulativeA',\n",
    "    'revenueCummulativeA',\n",
    "]\n",
    "\n",
    "ordersBDaily = (\n",
    "    orders[orders['group'] == 'B'][['date', 'transactionId', 'visitorId', 'revenue']]\n",
    "    .groupby('date', as_index=False)\n",
    "    .agg({'transactionId': pd.Series.nunique, 'revenue': 'sum'})\n",
    ")\n",
    "ordersBDaily.columns = ['date', 'ordersPerDateB', 'revenuePerDateB']\n",
    "\n",
    "ordersBCummulative = ordersBDaily.apply(\n",
    "    lambda x: ordersBDaily[ordersBDaily['date'] <= x['date']].agg(\n",
    "        {'date': 'max', 'ordersPerDateB': 'sum', 'revenuePerDateB': 'sum'}\n",
    "    ),\n",
    "    axis=1,\n",
    ").sort_values(by=['date'])\n",
    "ordersBCummulative.columns = [\n",
    "    'date',\n",
    "    'ordersCummulativeB',\n",
    "    'revenueCummulativeB',\n",
    "]"
   ]
  },
  {
   "cell_type": "code",
   "execution_count": 33,
   "metadata": {},
   "outputs": [
    {
     "data": {
      "text/html": [
       "<div>\n",
       "<style scoped>\n",
       "    .dataframe tbody tr th:only-of-type {\n",
       "        vertical-align: middle;\n",
       "    }\n",
       "\n",
       "    .dataframe tbody tr th {\n",
       "        vertical-align: top;\n",
       "    }\n",
       "\n",
       "    .dataframe thead th {\n",
       "        text-align: right;\n",
       "    }\n",
       "</style>\n",
       "<table border=\"1\" class=\"dataframe\">\n",
       "  <thead>\n",
       "    <tr style=\"text-align: right;\">\n",
       "      <th></th>\n",
       "      <th>date</th>\n",
       "      <th>ordersPerDateA</th>\n",
       "      <th>revenuePerDateA</th>\n",
       "      <th>ordersPerDateB</th>\n",
       "      <th>revenuePerDateB</th>\n",
       "      <th>ordersCummulativeA</th>\n",
       "      <th>revenueCummulativeA</th>\n",
       "      <th>ordersCummulativeB</th>\n",
       "      <th>revenueCummulativeB</th>\n",
       "      <th>visitorsPerDateA</th>\n",
       "      <th>visitorsPerDateB</th>\n",
       "      <th>visitorsCummulativeA</th>\n",
       "      <th>visitorsCummulativeB</th>\n",
       "    </tr>\n",
       "  </thead>\n",
       "  <tbody>\n",
       "    <tr>\n",
       "      <th>0</th>\n",
       "      <td>2019-08-01</td>\n",
       "      <td>24</td>\n",
       "      <td>148579</td>\n",
       "      <td>21</td>\n",
       "      <td>101217</td>\n",
       "      <td>24</td>\n",
       "      <td>148579</td>\n",
       "      <td>21</td>\n",
       "      <td>101217</td>\n",
       "      <td>719</td>\n",
       "      <td>713</td>\n",
       "      <td>719</td>\n",
       "      <td>713</td>\n",
       "    </tr>\n",
       "    <tr>\n",
       "      <th>1</th>\n",
       "      <td>2019-08-02</td>\n",
       "      <td>20</td>\n",
       "      <td>93822</td>\n",
       "      <td>24</td>\n",
       "      <td>165531</td>\n",
       "      <td>44</td>\n",
       "      <td>242401</td>\n",
       "      <td>45</td>\n",
       "      <td>266748</td>\n",
       "      <td>619</td>\n",
       "      <td>581</td>\n",
       "      <td>1338</td>\n",
       "      <td>1294</td>\n",
       "    </tr>\n",
       "    <tr>\n",
       "      <th>2</th>\n",
       "      <td>2019-08-03</td>\n",
       "      <td>24</td>\n",
       "      <td>112473</td>\n",
       "      <td>16</td>\n",
       "      <td>114248</td>\n",
       "      <td>68</td>\n",
       "      <td>354874</td>\n",
       "      <td>61</td>\n",
       "      <td>380996</td>\n",
       "      <td>507</td>\n",
       "      <td>509</td>\n",
       "      <td>1845</td>\n",
       "      <td>1803</td>\n",
       "    </tr>\n",
       "    <tr>\n",
       "      <th>3</th>\n",
       "      <td>2019-08-04</td>\n",
       "      <td>16</td>\n",
       "      <td>70825</td>\n",
       "      <td>17</td>\n",
       "      <td>108571</td>\n",
       "      <td>84</td>\n",
       "      <td>425699</td>\n",
       "      <td>78</td>\n",
       "      <td>489567</td>\n",
       "      <td>717</td>\n",
       "      <td>770</td>\n",
       "      <td>2562</td>\n",
       "      <td>2573</td>\n",
       "    </tr>\n",
       "    <tr>\n",
       "      <th>4</th>\n",
       "      <td>2019-08-05</td>\n",
       "      <td>25</td>\n",
       "      <td>124218</td>\n",
       "      <td>23</td>\n",
       "      <td>92428</td>\n",
       "      <td>109</td>\n",
       "      <td>549917</td>\n",
       "      <td>101</td>\n",
       "      <td>581995</td>\n",
       "      <td>756</td>\n",
       "      <td>707</td>\n",
       "      <td>3318</td>\n",
       "      <td>3280</td>\n",
       "    </tr>\n",
       "  </tbody>\n",
       "</table>\n",
       "</div>"
      ],
      "text/plain": [
       "        date  ordersPerDateA  revenuePerDateA  ordersPerDateB  \\\n",
       "0 2019-08-01              24           148579              21   \n",
       "1 2019-08-02              20            93822              24   \n",
       "2 2019-08-03              24           112473              16   \n",
       "3 2019-08-04              16            70825              17   \n",
       "4 2019-08-05              25           124218              23   \n",
       "\n",
       "   revenuePerDateB  ordersCummulativeA  revenueCummulativeA  \\\n",
       "0           101217                  24               148579   \n",
       "1           165531                  44               242401   \n",
       "2           114248                  68               354874   \n",
       "3           108571                  84               425699   \n",
       "4            92428                 109               549917   \n",
       "\n",
       "   ordersCummulativeB  revenueCummulativeB  visitorsPerDateA  \\\n",
       "0                  21               101217               719   \n",
       "1                  45               266748               619   \n",
       "2                  61               380996               507   \n",
       "3                  78               489567               717   \n",
       "4                 101               581995               756   \n",
       "\n",
       "   visitorsPerDateB  visitorsCummulativeA  visitorsCummulativeB  \n",
       "0               713                   719                   713  \n",
       "1               581                  1338                  1294  \n",
       "2               509                  1845                  1803  \n",
       "3               770                  2562                  2573  \n",
       "4               707                  3318                  3280  "
      ]
     },
     "metadata": {},
     "output_type": "display_data"
    }
   ],
   "source": [
    "data = (\n",
    "    ordersADaily.merge(\n",
    "        ordersBDaily, left_on='date', right_on='date', how='left'\n",
    "    )\n",
    "    .merge(ordersACummulative, left_on='date', right_on='date', how='left')\n",
    "    .merge(ordersBCummulative, left_on='date', right_on='date', how='left')\n",
    "    .merge(visitorsADaily, left_on='date', right_on='date', how='left')\n",
    "    .merge(visitorsBDaily, left_on='date', right_on='date', how='left')\n",
    "    .merge(visitorsACummulative, left_on='date', right_on='date', how='left')\n",
    "    .merge(visitorsBCummulative, left_on='date', right_on='date', how='left')\n",
    ")\n",
    "\n",
    "display(data.head(5))"
   ]
  },
  {
   "cell_type": "code",
   "execution_count": 34,
   "metadata": {
    "scrolled": false
   },
   "outputs": [
    {
     "name": "stdout",
     "output_type": "stream",
     "text": [
      "0.017\n",
      "0.138\n"
     ]
    }
   ],
   "source": [
    "ordersByUsersA = (\n",
    "    orders[orders['group'] == 'A']\n",
    "    .groupby('visitorId', as_index=False)\n",
    "    .agg({'transactionId': pd.Series.nunique})\n",
    ")\n",
    "ordersByUsersA.columns = ['userId', 'orders']\n",
    "\n",
    "ordersByUsersB = (\n",
    "    orders[orders['group'] == 'B']\n",
    "    .groupby('visitorId', as_index=False)\n",
    "    .agg({'transactionId': pd.Series.nunique})\n",
    ")\n",
    "ordersByUsersB.columns = ['userId', 'orders']\n",
    "\n",
    "sampleA = pd.concat([ordersByUsersA['orders'],pd.Series(0, index=np.arange(data['visitorsPerDateA'].sum() - len(ordersByUsersA['orders'])), name='orders')],axis=0)\n",
    "\n",
    "sampleB = pd.concat([ordersByUsersB['orders'],pd.Series(0, index=np.arange(data['visitorsPerDateB'].sum() - len(ordersByUsersB['orders'])), name='orders')],axis=0)\n",
    "\n",
    "print(\"{0:.3f}\".format(stats.mannwhitneyu(sampleA, sampleB,alternative = 'two-sided')[1]))\n",
    "\n",
    "print(\"{0:.3f}\".format(sampleB.mean() / sampleA.mean() - 1))"
   ]
  },
  {
   "cell_type": "markdown",
   "metadata": {},
   "source": [
    "Первое число — p-value = 0.017 меньше 0.05. Значит, нулевую гипотезу о том, что статистически значимых различий в среднем числе заказов между группами нет, отвергаем. \n",
    "Относительный выигрыш группы B равен 13.8% — второе число в выводе.\\\n",
    "**Вывод: Статистическая значимость различий в среднем количестве заказов на посетителя между группами по «сырым» данным есть.**"
   ]
  },
  {
   "cell_type": "markdown",
   "metadata": {},
   "source": [
    "###  Статистическая значимость различий в среднем чеке заказа между группами по «сырым» данным"
   ]
  },
  {
   "cell_type": "markdown",
   "metadata": {},
   "source": [
    "Гипотезы:\\\n",
    "Нулевая: различий в среднем чеке заказа между группами нет.\\\n",
    "Альтернативная: различий в среднем чеке заказа между группами  есть."
   ]
  },
  {
   "cell_type": "code",
   "execution_count": 35,
   "metadata": {
    "scrolled": false
   },
   "outputs": [
    {
     "name": "stdout",
     "output_type": "stream",
     "text": [
      "0.729\n",
      "0.259\n"
     ]
    }
   ],
   "source": [
    "print('{0:.3f}'.format(stats.mannwhitneyu(orders[orders['group']=='A']['revenue'], orders[orders['group']=='B']['revenue'],alternative = 'two-sided')[1]))\n",
    "print('{0:.3f}'.format(orders[orders['group']=='B']['revenue'].mean()/orders[orders['group']=='A']['revenue'].mean()-1))"
   ]
  },
  {
   "cell_type": "markdown",
   "metadata": {},
   "source": [
    "Первое число — p-value = 0.729 больше 0.05. Значит, альтернативную гипотезу о том, что статистически значимые различия в среднем числе заказов между группами есть, отвергаем. \n",
    "Относительный выигрыш группы B равен 25.9% — второе число в выводе.\\\n",
    "**Вывод: Статистической значимости различий в среднем чеке заказа между группами по «сырым» данным нет.**"
   ]
  },
  {
   "cell_type": "markdown",
   "metadata": {},
   "source": [
    "### Статистическая значимость различий в среднем количестве заказов на посетителя между группами по «очищенным» данным"
   ]
  },
  {
   "cell_type": "markdown",
   "metadata": {},
   "source": [
    "Гипотезы:\\\n",
    "Нулевая: различий в среднем количестве заказов на посетителя между группами нет.\\\n",
    "Альтернативная: различия в среднем количестве заказов на посетителя между группами есть."
   ]
  },
  {
   "cell_type": "code",
   "execution_count": 36,
   "metadata": {
    "scrolled": true
   },
   "outputs": [
    {
     "name": "stdout",
     "output_type": "stream",
     "text": [
      "1099    148427295\n",
      "18      199603092\n",
      "928     204675465\n",
      "23      237748145\n",
      "37      249864742\n",
      "dtype: int64\n"
     ]
    }
   ],
   "source": [
    "usersWithManyOrders = pd.concat(\n",
    "    [\n",
    "        ordersByUsersA[ordersByUsersA['orders'] > 2]['userId'],     #больше 2 заказов и на сумму больше 28 тыс.руб - аномалии\n",
    "        ordersByUsersB[ordersByUsersB['orders'] > 2]['userId'],\n",
    "    ],\n",
    "    axis=0,\n",
    ")\n",
    "usersWithExpensiveOrders = orders[orders['revenue'] > 28000]['visitorId']\n",
    "abnormalUsers = (\n",
    "    pd.concat([usersWithManyOrders, usersWithExpensiveOrders], axis=0)\n",
    "    .drop_duplicates()\n",
    "    .sort_values()\n",
    ")\n",
    "print(abnormalUsers.head(5))"
   ]
  },
  {
   "cell_type": "code",
   "execution_count": 37,
   "metadata": {},
   "outputs": [],
   "source": [
    "sampleAFiltered = pd.concat([ordersByUsersA[np.logical_not(ordersByUsersA['userId'].isin(abnormalUsers))]['orders'], \n",
    "                             pd.Series(0, index=np.arange(data['visitorsPerDateA'].sum() - len(ordersByUsersA['orders'])), \n",
    "                                       name='orders')],axis=0)\n",
    "\n",
    "sampleBFiltered = pd.concat([ordersByUsersB[np.logical_not(ordersByUsersB['userId'].isin(abnormalUsers))]['orders'], \n",
    "                             pd.Series(0, index=np.arange(data['visitorsPerDateB'].sum() - len(ordersByUsersB['orders'])), \n",
    "                                       name='orders')],axis=0) "
   ]
  },
  {
   "cell_type": "code",
   "execution_count": 38,
   "metadata": {
    "scrolled": false
   },
   "outputs": [
    {
     "name": "stdout",
     "output_type": "stream",
     "text": [
      "0.013\n",
      "0.173\n"
     ]
    }
   ],
   "source": [
    "print('{0:.3f}'.format(stats.mannwhitneyu(sampleAFiltered, sampleBFiltered,alternative = 'two-sided')[1]))\n",
    "print('{0:.3f}'.format(sampleBFiltered.mean()/sampleAFiltered.mean()-1))"
   ]
  },
  {
   "cell_type": "markdown",
   "metadata": {},
   "source": [
    "Первое число — p-value = 0.013 меньше 0.05. Значит, нулевую гипотезу о том, что статистически значимых различий в среднем числе заказов между группами нет, отвергаем. \n",
    "Относительный выигрыш группы B равен 17.3% — второе число в выводе. Это выше, чем по сырым данным (13,8%).\\\n",
    "**Вывод: Статистическая значимость различий в среднем количестве заказов на посетителя между группами по «очищенным» данным есть.**"
   ]
  },
  {
   "cell_type": "markdown",
   "metadata": {},
   "source": [
    "### Статистическая значимость различий в среднем чеке заказа между группами по «очищенным» данным."
   ]
  },
  {
   "cell_type": "markdown",
   "metadata": {},
   "source": [
    "Гипотезы:\\\n",
    "Нулевая: различий в среднем чеке заказа между группами нет.\\\n",
    "Альтернативная: различий в среднем чеке заказа между группами  есть."
   ]
  },
  {
   "cell_type": "code",
   "execution_count": 39,
   "metadata": {
    "scrolled": true
   },
   "outputs": [
    {
     "name": "stdout",
     "output_type": "stream",
     "text": [
      "0.738\n",
      "-0.020\n"
     ]
    }
   ],
   "source": [
    "print(\"{0:.3f}\".format(stats.mannwhitneyu(\n",
    "    orders[np.logical_and(\n",
    "        orders['group']=='A',\n",
    "        np.logical_not(orders['visitorId'].isin(abnormalUsers)))]['revenue'],\n",
    "    orders[np.logical_and(\n",
    "        orders['group']=='B',\n",
    "        np.logical_not(orders['visitorId'].isin(abnormalUsers)))]['revenue'],alternative = 'two-sided')[1]))\n",
    "\n",
    "print(\"{0:.3f}\".format(\n",
    "    orders[np.logical_and(orders['group']=='B',np.logical_not(orders['visitorId'].isin(abnormalUsers)))]['revenue'].mean()/\n",
    "    orders[np.logical_and(\n",
    "        orders['group']=='A',\n",
    "        np.logical_not(orders['visitorId'].isin(abnormalUsers)))]['revenue'].mean() - 1)) "
   ]
  },
  {
   "cell_type": "markdown",
   "metadata": {},
   "source": [
    "Первое число — p-value = 0.738 больше 0.05. Значит, альтернативную гипотезу о том, что статистически значимые различия в среднем числе заказов между группами есть, отвергаем. \n",
    "Относительный проигрыш группы B равен 2% — второе число в выводе. Это намного ниже, чем по сырым данным (25,9%).Видимо, тот заказ на 1,2 млн. руб. был в группе В.\\\n",
    "**Вывод: Статистической значимости различий в среднем чеке заказа между группами по «очищенным» данным нет.**"
   ]
  },
  {
   "cell_type": "markdown",
   "metadata": {},
   "source": [
    "### Принятие решения по результатам теста"
   ]
  },
  {
   "cell_type": "markdown",
   "metadata": {},
   "source": [
    "-Статистическая значимость различий в среднем количестве заказов на посетителя между группами и по «очищенным», и по «сырым» данным есть.\\\n",
    "Относительный выигрыш группы В по очищенным данным - 17,3%, по сырым - 13,8%. То есть выигрыш в обоих случаях.\n",
    "\n",
    "-Статистической значимости различий в среднем чеке заказа между группами и по «очищенным», и по «сырым» данным нет.\\\n",
    "Относительный выигрыш группы В по сырым данным 25,9%, а по очищенным стал -2% (из-за аномально высокой стоимости одного заказа на >1,2 млн. руб., который мы убрали).\n",
    "\n",
    "**Вывод: Исходя из результатов, тест следует остановить и зафиксировать победу группы В. \\\n",
    "Группа В показывает лучшие результаты по конверсии, а по среднему чеку отличий практически нет.**"
   ]
  }
 ],
 "metadata": {
  "ExecuteTimeLog": [
   {
    "duration": 44,
    "start_time": "2023-02-03T22:24:37.477Z"
   },
   {
    "duration": 383,
    "start_time": "2023-02-03T22:24:42.937Z"
   },
   {
    "duration": 75,
    "start_time": "2023-02-03T22:24:43.322Z"
   },
   {
    "duration": 11,
    "start_time": "2023-02-03T22:26:05.828Z"
   },
   {
    "duration": 24,
    "start_time": "2023-02-03T22:27:59.358Z"
   },
   {
    "duration": 9,
    "start_time": "2023-02-03T22:28:16.100Z"
   },
   {
    "duration": 7,
    "start_time": "2023-02-03T22:28:16.832Z"
   },
   {
    "duration": 7,
    "start_time": "2023-02-03T22:28:21.280Z"
   },
   {
    "duration": 20,
    "start_time": "2023-02-03T22:28:33.800Z"
   },
   {
    "duration": 8,
    "start_time": "2023-02-03T22:29:48.037Z"
   },
   {
    "duration": 6,
    "start_time": "2023-02-03T22:29:53.016Z"
   },
   {
    "duration": 365,
    "start_time": "2023-02-06T20:21:20.598Z"
   },
   {
    "duration": 109,
    "start_time": "2023-02-06T20:21:21.137Z"
   },
   {
    "duration": 11,
    "start_time": "2023-02-06T20:21:22.020Z"
   },
   {
    "duration": 20,
    "start_time": "2023-02-06T20:21:22.607Z"
   },
   {
    "duration": 5,
    "start_time": "2023-02-06T20:21:23.190Z"
   },
   {
    "duration": 70,
    "start_time": "2023-02-06T20:21:44.115Z"
   },
   {
    "duration": 8,
    "start_time": "2023-02-06T20:21:51.585Z"
   },
   {
    "duration": 6,
    "start_time": "2023-02-06T20:21:56.215Z"
   },
   {
    "duration": 6,
    "start_time": "2023-02-06T20:22:03.448Z"
   },
   {
    "duration": 5,
    "start_time": "2023-02-06T20:22:12.020Z"
   },
   {
    "duration": 5,
    "start_time": "2023-02-06T20:22:17.357Z"
   },
   {
    "duration": 158,
    "start_time": "2023-02-06T20:26:33.120Z"
   },
   {
    "duration": 13,
    "start_time": "2023-02-06T20:26:37.367Z"
   },
   {
    "duration": 57,
    "start_time": "2023-02-06T20:27:15.866Z"
   },
   {
    "duration": 16,
    "start_time": "2023-02-06T20:27:33.936Z"
   },
   {
    "duration": 10,
    "start_time": "2023-02-06T20:28:01.252Z"
   },
   {
    "duration": 18,
    "start_time": "2023-02-06T20:28:40.525Z"
   },
   {
    "duration": 337,
    "start_time": "2023-02-06T20:29:22.095Z"
   },
   {
    "duration": 3,
    "start_time": "2023-02-06T20:29:51.624Z"
   },
   {
    "duration": 32,
    "start_time": "2023-02-06T20:29:52.830Z"
   },
   {
    "duration": 13,
    "start_time": "2023-02-06T20:29:53.296Z"
   },
   {
    "duration": 26,
    "start_time": "2023-02-06T20:29:53.700Z"
   },
   {
    "duration": 8,
    "start_time": "2023-02-06T20:29:53.874Z"
   },
   {
    "duration": 4,
    "start_time": "2023-02-06T20:29:54.060Z"
   },
   {
    "duration": 60,
    "start_time": "2023-02-06T20:29:54.285Z"
   },
   {
    "duration": 12,
    "start_time": "2023-02-06T20:29:54.423Z"
   },
   {
    "duration": 12,
    "start_time": "2023-02-06T20:29:54.591Z"
   },
   {
    "duration": 16,
    "start_time": "2023-02-06T20:29:55.212Z"
   },
   {
    "duration": 13,
    "start_time": "2023-02-06T20:30:01.129Z"
   },
   {
    "duration": 10,
    "start_time": "2023-02-06T20:30:11.037Z"
   },
   {
    "duration": 8,
    "start_time": "2023-02-06T20:30:17.878Z"
   },
   {
    "duration": 6,
    "start_time": "2023-02-06T20:31:03.608Z"
   },
   {
    "duration": 15,
    "start_time": "2023-02-06T20:31:14.465Z"
   },
   {
    "duration": 7,
    "start_time": "2023-02-06T20:31:27.057Z"
   },
   {
    "duration": 6,
    "start_time": "2023-02-06T20:31:44.845Z"
   },
   {
    "duration": 12,
    "start_time": "2023-02-06T20:32:04.952Z"
   },
   {
    "duration": 8,
    "start_time": "2023-02-06T20:32:23.828Z"
   },
   {
    "duration": 9,
    "start_time": "2023-02-06T20:32:45.037Z"
   },
   {
    "duration": 6,
    "start_time": "2023-02-06T20:32:59.295Z"
   },
   {
    "duration": 9,
    "start_time": "2023-02-06T20:32:59.956Z"
   },
   {
    "duration": 12,
    "start_time": "2023-02-06T20:33:11.257Z"
   },
   {
    "duration": 360,
    "start_time": "2023-02-06T20:33:41.705Z"
   },
   {
    "duration": 4,
    "start_time": "2023-02-06T20:33:49.652Z"
   },
   {
    "duration": 7,
    "start_time": "2023-02-06T20:34:07.346Z"
   },
   {
    "duration": 10,
    "start_time": "2023-02-06T20:34:21.565Z"
   },
   {
    "duration": 7,
    "start_time": "2023-02-06T20:34:25.289Z"
   },
   {
    "duration": 7,
    "start_time": "2023-02-06T20:39:14.647Z"
   },
   {
    "duration": 9,
    "start_time": "2023-02-06T20:39:50.551Z"
   },
   {
    "duration": 7,
    "start_time": "2023-02-06T20:40:04.276Z"
   },
   {
    "duration": 10,
    "start_time": "2023-02-06T20:40:04.645Z"
   },
   {
    "duration": 5,
    "start_time": "2023-02-06T20:40:09.210Z"
   },
   {
    "duration": 10,
    "start_time": "2023-02-06T20:40:09.576Z"
   },
   {
    "duration": 10,
    "start_time": "2023-02-06T20:41:23.777Z"
   },
   {
    "duration": 9,
    "start_time": "2023-02-06T20:41:29.449Z"
   },
   {
    "duration": 11,
    "start_time": "2023-02-06T20:41:46.427Z"
   },
   {
    "duration": 5,
    "start_time": "2023-02-06T20:43:43.530Z"
   },
   {
    "duration": 4,
    "start_time": "2023-02-06T20:43:50.046Z"
   },
   {
    "duration": 12,
    "start_time": "2023-02-06T20:43:56.564Z"
   },
   {
    "duration": 5,
    "start_time": "2023-02-06T20:44:01.847Z"
   },
   {
    "duration": 10,
    "start_time": "2023-02-06T20:44:10.035Z"
   },
   {
    "duration": 29,
    "start_time": "2023-02-06T20:44:20.108Z"
   },
   {
    "duration": 33,
    "start_time": "2023-02-06T20:44:32.344Z"
   },
   {
    "duration": 10,
    "start_time": "2023-02-06T20:44:33.297Z"
   },
   {
    "duration": 24,
    "start_time": "2023-02-06T20:44:33.776Z"
   },
   {
    "duration": 5,
    "start_time": "2023-02-06T20:44:34.136Z"
   },
   {
    "duration": 5,
    "start_time": "2023-02-06T20:44:34.322Z"
   },
   {
    "duration": 61,
    "start_time": "2023-02-06T20:44:34.504Z"
   },
   {
    "duration": 10,
    "start_time": "2023-02-06T20:44:34.704Z"
   },
   {
    "duration": 11,
    "start_time": "2023-02-06T20:44:35.037Z"
   },
   {
    "duration": 13,
    "start_time": "2023-02-06T20:44:35.259Z"
   },
   {
    "duration": 6,
    "start_time": "2023-02-06T20:44:35.416Z"
   },
   {
    "duration": 6,
    "start_time": "2023-02-06T20:44:35.647Z"
   },
   {
    "duration": 7,
    "start_time": "2023-02-06T20:44:35.797Z"
   },
   {
    "duration": 10,
    "start_time": "2023-02-06T20:44:35.956Z"
   },
   {
    "duration": 4,
    "start_time": "2023-02-06T20:44:36.231Z"
   },
   {
    "duration": 6,
    "start_time": "2023-02-06T20:44:36.636Z"
   },
   {
    "duration": 5,
    "start_time": "2023-02-06T20:44:37.128Z"
   },
   {
    "duration": 7,
    "start_time": "2023-02-06T20:44:38.380Z"
   },
   {
    "duration": 9,
    "start_time": "2023-02-06T20:44:45.428Z"
   },
   {
    "duration": 10,
    "start_time": "2023-02-06T20:44:46.201Z"
   },
   {
    "duration": 8,
    "start_time": "2023-02-06T20:44:54.497Z"
   },
   {
    "duration": 10,
    "start_time": "2023-02-06T20:45:25.111Z"
   },
   {
    "duration": 21,
    "start_time": "2023-02-06T21:03:29.367Z"
   },
   {
    "duration": 2,
    "start_time": "2023-02-06T21:03:44.945Z"
   },
   {
    "duration": 2,
    "start_time": "2023-02-06T21:03:57.124Z"
   },
   {
    "duration": 24,
    "start_time": "2023-02-06T21:04:02.809Z"
   },
   {
    "duration": 269,
    "start_time": "2023-02-06T21:06:38.015Z"
   },
   {
    "duration": 345,
    "start_time": "2023-02-06T21:06:58.737Z"
   },
   {
    "duration": 289,
    "start_time": "2023-02-06T21:07:38.659Z"
   },
   {
    "duration": 11,
    "start_time": "2023-02-06T21:09:06.919Z"
   },
   {
    "duration": 348,
    "start_time": "2023-02-06T21:09:23.643Z"
   },
   {
    "duration": 146,
    "start_time": "2023-02-06T21:21:04.321Z"
   },
   {
    "duration": 2,
    "start_time": "2023-02-06T21:21:15.416Z"
   },
   {
    "duration": 31,
    "start_time": "2023-02-06T21:21:15.923Z"
   },
   {
    "duration": 10,
    "start_time": "2023-02-06T21:21:16.570Z"
   },
   {
    "duration": 19,
    "start_time": "2023-02-06T21:21:17.067Z"
   },
   {
    "duration": 6,
    "start_time": "2023-02-06T21:21:17.660Z"
   },
   {
    "duration": 5,
    "start_time": "2023-02-06T21:21:18.069Z"
   },
   {
    "duration": 61,
    "start_time": "2023-02-06T21:21:18.501Z"
   },
   {
    "duration": 7,
    "start_time": "2023-02-06T21:21:18.909Z"
   },
   {
    "duration": 9,
    "start_time": "2023-02-06T21:21:19.261Z"
   },
   {
    "duration": 10,
    "start_time": "2023-02-06T21:21:19.524Z"
   },
   {
    "duration": 6,
    "start_time": "2023-02-06T21:21:19.764Z"
   },
   {
    "duration": 6,
    "start_time": "2023-02-06T21:21:19.962Z"
   },
   {
    "duration": 6,
    "start_time": "2023-02-06T21:21:20.144Z"
   },
   {
    "duration": 10,
    "start_time": "2023-02-06T21:21:20.311Z"
   },
   {
    "duration": 4,
    "start_time": "2023-02-06T21:21:20.466Z"
   },
   {
    "duration": 5,
    "start_time": "2023-02-06T21:21:20.649Z"
   },
   {
    "duration": 6,
    "start_time": "2023-02-06T21:21:20.777Z"
   },
   {
    "duration": 5,
    "start_time": "2023-02-06T21:21:21.465Z"
   },
   {
    "duration": 9,
    "start_time": "2023-02-06T21:21:21.691Z"
   },
   {
    "duration": 8,
    "start_time": "2023-02-06T21:21:21.821Z"
   },
   {
    "duration": 261,
    "start_time": "2023-02-06T21:21:22.329Z"
   },
   {
    "duration": 173,
    "start_time": "2023-02-06T21:21:22.996Z"
   },
   {
    "duration": 158,
    "start_time": "2023-02-06T21:22:29.204Z"
   },
   {
    "duration": 193,
    "start_time": "2023-02-06T21:22:39.505Z"
   },
   {
    "duration": 244,
    "start_time": "2023-02-06T21:22:50.823Z"
   },
   {
    "duration": 191,
    "start_time": "2023-02-06T21:23:22.712Z"
   },
   {
    "duration": 209,
    "start_time": "2023-02-06T21:25:30.512Z"
   },
   {
    "duration": 281,
    "start_time": "2023-02-06T21:29:01.301Z"
   },
   {
    "duration": 241,
    "start_time": "2023-02-06T21:29:26.513Z"
   },
   {
    "duration": 273,
    "start_time": "2023-02-06T21:29:54.337Z"
   },
   {
    "duration": 302,
    "start_time": "2023-02-06T21:30:26.064Z"
   },
   {
    "duration": 281,
    "start_time": "2023-02-06T21:30:56.717Z"
   },
   {
    "duration": 3,
    "start_time": "2023-02-06T21:41:33.952Z"
   },
   {
    "duration": 30,
    "start_time": "2023-02-06T21:41:34.106Z"
   },
   {
    "duration": 9,
    "start_time": "2023-02-06T21:41:34.282Z"
   },
   {
    "duration": 18,
    "start_time": "2023-02-06T21:41:34.399Z"
   },
   {
    "duration": 6,
    "start_time": "2023-02-06T21:41:34.541Z"
   },
   {
    "duration": 5,
    "start_time": "2023-02-06T21:41:34.669Z"
   },
   {
    "duration": 49,
    "start_time": "2023-02-06T21:41:34.811Z"
   },
   {
    "duration": 7,
    "start_time": "2023-02-06T21:41:34.976Z"
   },
   {
    "duration": 11,
    "start_time": "2023-02-06T21:41:35.083Z"
   },
   {
    "duration": 10,
    "start_time": "2023-02-06T21:41:35.252Z"
   },
   {
    "duration": 6,
    "start_time": "2023-02-06T21:41:35.362Z"
   },
   {
    "duration": 7,
    "start_time": "2023-02-06T21:41:35.488Z"
   },
   {
    "duration": 8,
    "start_time": "2023-02-06T21:41:35.646Z"
   },
   {
    "duration": 9,
    "start_time": "2023-02-06T21:41:35.799Z"
   },
   {
    "duration": 3,
    "start_time": "2023-02-06T21:41:35.968Z"
   },
   {
    "duration": 7,
    "start_time": "2023-02-06T21:41:36.153Z"
   },
   {
    "duration": 5,
    "start_time": "2023-02-06T21:41:36.265Z"
   },
   {
    "duration": 5,
    "start_time": "2023-02-06T21:41:36.688Z"
   },
   {
    "duration": 10,
    "start_time": "2023-02-06T21:41:36.845Z"
   },
   {
    "duration": 11,
    "start_time": "2023-02-06T21:41:36.999Z"
   },
   {
    "duration": 245,
    "start_time": "2023-02-06T21:41:37.505Z"
   },
   {
    "duration": 195,
    "start_time": "2023-02-06T21:41:37.752Z"
   },
   {
    "duration": 196,
    "start_time": "2023-02-06T21:41:37.949Z"
   },
   {
    "duration": 372,
    "start_time": "2023-02-06T21:41:38.148Z"
   },
   {
    "duration": 184,
    "start_time": "2023-02-06T21:49:07.533Z"
   },
   {
    "duration": 213,
    "start_time": "2023-02-06T21:49:38.832Z"
   },
   {
    "duration": 227,
    "start_time": "2023-02-06T21:53:35.515Z"
   },
   {
    "duration": 343,
    "start_time": "2023-02-06T21:56:35.453Z"
   },
   {
    "duration": 203,
    "start_time": "2023-02-06T21:57:09.708Z"
   },
   {
    "duration": 266,
    "start_time": "2023-02-06T21:57:20.512Z"
   },
   {
    "duration": 360,
    "start_time": "2023-02-06T21:58:43.040Z"
   },
   {
    "duration": 337,
    "start_time": "2023-02-06T21:58:53.353Z"
   },
   {
    "duration": 298,
    "start_time": "2023-02-06T21:59:00.923Z"
   },
   {
    "duration": 308,
    "start_time": "2023-02-06T21:59:26.031Z"
   },
   {
    "duration": 427,
    "start_time": "2023-02-06T21:59:38.662Z"
   },
   {
    "duration": 8,
    "start_time": "2023-02-06T22:02:45.987Z"
   },
   {
    "duration": 11,
    "start_time": "2023-02-06T22:03:01.810Z"
   },
   {
    "duration": 112,
    "start_time": "2023-02-06T22:03:13.795Z"
   },
   {
    "duration": 129,
    "start_time": "2023-02-06T22:03:31.032Z"
   },
   {
    "duration": 127,
    "start_time": "2023-02-06T22:03:48.243Z"
   },
   {
    "duration": 155,
    "start_time": "2023-02-06T22:04:22.012Z"
   },
   {
    "duration": 5,
    "start_time": "2023-02-06T22:08:27.952Z"
   },
   {
    "duration": 4,
    "start_time": "2023-02-06T22:08:37.945Z"
   },
   {
    "duration": 5,
    "start_time": "2023-02-06T22:08:43.213Z"
   },
   {
    "duration": 4,
    "start_time": "2023-02-06T22:08:49.218Z"
   },
   {
    "duration": 178,
    "start_time": "2023-02-06T22:10:45.182Z"
   },
   {
    "duration": 4,
    "start_time": "2023-02-06T22:12:35.940Z"
   },
   {
    "duration": 107,
    "start_time": "2023-02-06T22:16:11.715Z"
   },
   {
    "duration": 223,
    "start_time": "2023-02-06T22:17:41.459Z"
   },
   {
    "duration": 203,
    "start_time": "2023-02-06T22:18:06.811Z"
   },
   {
    "duration": 26,
    "start_time": "2023-02-06T22:18:09.742Z"
   },
   {
    "duration": 28,
    "start_time": "2023-02-06T22:19:00.132Z"
   },
   {
    "duration": 12,
    "start_time": "2023-02-06T22:19:59.098Z"
   },
   {
    "duration": 170,
    "start_time": "2023-02-06T22:20:40.859Z"
   },
   {
    "duration": 473,
    "start_time": "2023-02-06T22:21:00.509Z"
   },
   {
    "duration": 197,
    "start_time": "2023-02-06T22:21:04.615Z"
   },
   {
    "duration": 11,
    "start_time": "2023-02-06T22:26:53.765Z"
   },
   {
    "duration": 1128,
    "start_time": "2023-02-06T22:30:45.001Z"
   },
   {
    "duration": 1180,
    "start_time": "2023-02-06T22:31:06.511Z"
   },
   {
    "duration": 1109,
    "start_time": "2023-02-06T22:31:46.159Z"
   },
   {
    "duration": 11,
    "start_time": "2023-02-06T22:32:12.324Z"
   },
   {
    "duration": 1115,
    "start_time": "2023-02-06T22:32:13.442Z"
   },
   {
    "duration": 152,
    "start_time": "2023-02-06T22:33:53.166Z"
   },
   {
    "duration": 9,
    "start_time": "2023-02-06T22:33:55.123Z"
   },
   {
    "duration": 1134,
    "start_time": "2023-02-06T22:34:00.687Z"
   },
   {
    "duration": 8,
    "start_time": "2023-02-06T22:35:22.336Z"
   },
   {
    "duration": 9,
    "start_time": "2023-02-06T22:35:28.153Z"
   },
   {
    "duration": 7,
    "start_time": "2023-02-06T22:37:02.473Z"
   },
   {
    "duration": 25,
    "start_time": "2023-02-06T22:37:13.723Z"
   },
   {
    "duration": 12,
    "start_time": "2023-02-06T22:39:21.906Z"
   },
   {
    "duration": 68,
    "start_time": "2023-02-06T22:40:29.309Z"
   },
   {
    "duration": 71,
    "start_time": "2023-02-06T22:40:48.395Z"
   },
   {
    "duration": 73,
    "start_time": "2023-02-06T22:41:11.047Z"
   },
   {
    "duration": 87,
    "start_time": "2023-02-06T22:41:24.990Z"
   },
   {
    "duration": 13,
    "start_time": "2023-02-06T22:41:56.436Z"
   },
   {
    "duration": 30,
    "start_time": "2023-02-06T23:54:38.241Z"
   },
   {
    "duration": 140,
    "start_time": "2023-02-07T00:14:16.884Z"
   },
   {
    "duration": 76,
    "start_time": "2023-02-07T00:33:14.671Z"
   },
   {
    "duration": 76,
    "start_time": "2023-02-07T00:34:55.705Z"
   },
   {
    "duration": 75,
    "start_time": "2023-02-07T00:36:57.714Z"
   },
   {
    "duration": 78,
    "start_time": "2023-02-07T14:49:56.799Z"
   },
   {
    "duration": 1580,
    "start_time": "2023-02-07T14:50:02.423Z"
   },
   {
    "duration": 112,
    "start_time": "2023-02-07T14:50:04.006Z"
   },
   {
    "duration": 13,
    "start_time": "2023-02-07T14:50:04.120Z"
   },
   {
    "duration": 49,
    "start_time": "2023-02-07T14:50:04.135Z"
   },
   {
    "duration": 6,
    "start_time": "2023-02-07T14:50:04.186Z"
   },
   {
    "duration": 38,
    "start_time": "2023-02-07T14:50:04.194Z"
   },
   {
    "duration": 175,
    "start_time": "2023-02-07T14:50:04.234Z"
   },
   {
    "duration": 12,
    "start_time": "2023-02-07T14:50:04.412Z"
   },
   {
    "duration": 35,
    "start_time": "2023-02-07T14:50:04.426Z"
   },
   {
    "duration": 20,
    "start_time": "2023-02-07T14:50:04.463Z"
   },
   {
    "duration": 17,
    "start_time": "2023-02-07T14:50:04.485Z"
   },
   {
    "duration": 8,
    "start_time": "2023-02-07T14:50:04.918Z"
   },
   {
    "duration": 8,
    "start_time": "2023-02-07T14:50:05.083Z"
   },
   {
    "duration": 11,
    "start_time": "2023-02-07T14:50:05.207Z"
   },
   {
    "duration": 5,
    "start_time": "2023-02-07T14:50:05.395Z"
   },
   {
    "duration": 6,
    "start_time": "2023-02-07T14:50:05.587Z"
   },
   {
    "duration": 16,
    "start_time": "2023-02-07T14:50:05.734Z"
   },
   {
    "duration": 17,
    "start_time": "2023-02-07T14:50:06.234Z"
   },
   {
    "duration": 11,
    "start_time": "2023-02-07T14:50:06.417Z"
   },
   {
    "duration": 10,
    "start_time": "2023-02-07T14:50:06.595Z"
   },
   {
    "duration": 355,
    "start_time": "2023-02-07T14:50:07.319Z"
   },
   {
    "duration": 350,
    "start_time": "2023-02-07T14:50:07.676Z"
   },
   {
    "duration": 287,
    "start_time": "2023-02-07T14:50:08.038Z"
   },
   {
    "duration": 345,
    "start_time": "2023-02-07T14:50:08.387Z"
   },
   {
    "duration": 251,
    "start_time": "2023-02-07T14:50:09.031Z"
   },
   {
    "duration": 361,
    "start_time": "2023-02-07T14:50:09.403Z"
   },
   {
    "duration": 180,
    "start_time": "2023-02-07T14:50:09.766Z"
   },
   {
    "duration": 5,
    "start_time": "2023-02-07T14:50:10.127Z"
   },
   {
    "duration": 190,
    "start_time": "2023-02-07T14:50:10.534Z"
   },
   {
    "duration": 5,
    "start_time": "2023-02-07T14:50:10.899Z"
   },
   {
    "duration": 311,
    "start_time": "2023-02-07T14:50:11.637Z"
   },
   {
    "duration": 32,
    "start_time": "2023-02-07T14:50:11.953Z"
   },
   {
    "duration": 186,
    "start_time": "2023-02-07T14:50:12.006Z"
   },
   {
    "duration": 15,
    "start_time": "2023-02-07T14:50:12.572Z"
   },
   {
    "duration": 10,
    "start_time": "2023-02-07T14:50:12.951Z"
   },
   {
    "duration": 9,
    "start_time": "2023-02-07T14:50:13.124Z"
   },
   {
    "duration": 26,
    "start_time": "2023-02-07T14:50:13.351Z"
   },
   {
    "duration": 14,
    "start_time": "2023-02-07T14:50:13.799Z"
   },
   {
    "duration": 102,
    "start_time": "2023-02-07T15:28:48.669Z"
   },
   {
    "duration": 169,
    "start_time": "2023-02-07T15:49:27.270Z"
   },
   {
    "duration": 22,
    "start_time": "2023-02-07T15:58:55.844Z"
   },
   {
    "duration": 10,
    "start_time": "2023-02-07T15:59:51.269Z"
   },
   {
    "duration": 12,
    "start_time": "2023-02-07T16:18:51.245Z"
   },
   {
    "duration": 1190,
    "start_time": "2023-02-07T19:02:48.582Z"
   },
   {
    "duration": 34,
    "start_time": "2023-02-07T19:02:49.774Z"
   },
   {
    "duration": 12,
    "start_time": "2023-02-07T19:02:49.810Z"
   },
   {
    "duration": 24,
    "start_time": "2023-02-07T19:02:49.825Z"
   },
   {
    "duration": 11,
    "start_time": "2023-02-07T19:02:49.851Z"
   },
   {
    "duration": 13,
    "start_time": "2023-02-07T19:02:49.868Z"
   },
   {
    "duration": 44,
    "start_time": "2023-02-07T19:02:49.883Z"
   },
   {
    "duration": 8,
    "start_time": "2023-02-07T19:02:49.929Z"
   },
   {
    "duration": 14,
    "start_time": "2023-02-07T19:02:49.938Z"
   },
   {
    "duration": 22,
    "start_time": "2023-02-07T19:02:49.958Z"
   },
   {
    "duration": 8,
    "start_time": "2023-02-07T19:02:49.982Z"
   },
   {
    "duration": 7,
    "start_time": "2023-02-07T19:02:49.992Z"
   },
   {
    "duration": 6,
    "start_time": "2023-02-07T19:02:50.001Z"
   },
   {
    "duration": 16,
    "start_time": "2023-02-07T19:02:50.009Z"
   },
   {
    "duration": 13,
    "start_time": "2023-02-07T19:02:50.027Z"
   },
   {
    "duration": 71,
    "start_time": "2023-02-07T19:02:50.041Z"
   },
   {
    "duration": 9,
    "start_time": "2023-02-07T19:02:50.113Z"
   },
   {
    "duration": 11,
    "start_time": "2023-02-07T19:02:50.123Z"
   },
   {
    "duration": 10,
    "start_time": "2023-02-07T19:02:50.136Z"
   },
   {
    "duration": 21,
    "start_time": "2023-02-07T19:02:50.147Z"
   },
   {
    "duration": 301,
    "start_time": "2023-02-07T19:02:50.172Z"
   },
   {
    "duration": 298,
    "start_time": "2023-02-07T19:02:50.474Z"
   },
   {
    "duration": 208,
    "start_time": "2023-02-07T19:02:50.774Z"
   },
   {
    "duration": 321,
    "start_time": "2023-02-07T19:02:50.983Z"
   },
   {
    "duration": 273,
    "start_time": "2023-02-07T19:02:51.306Z"
   },
   {
    "duration": 323,
    "start_time": "2023-02-07T19:02:51.581Z"
   },
   {
    "duration": 168,
    "start_time": "2023-02-07T19:02:51.905Z"
   },
   {
    "duration": 5,
    "start_time": "2023-02-07T19:02:52.078Z"
   },
   {
    "duration": 184,
    "start_time": "2023-02-07T19:02:52.085Z"
   },
   {
    "duration": 5,
    "start_time": "2023-02-07T19:02:52.271Z"
   },
   {
    "duration": 226,
    "start_time": "2023-02-07T19:02:52.278Z"
   },
   {
    "duration": 31,
    "start_time": "2023-02-07T19:02:52.506Z"
   },
   {
    "duration": 229,
    "start_time": "2023-02-07T19:02:52.554Z"
   },
   {
    "duration": 10,
    "start_time": "2023-02-07T19:02:52.784Z"
   },
   {
    "duration": 9,
    "start_time": "2023-02-07T19:02:52.796Z"
   },
   {
    "duration": 14,
    "start_time": "2023-02-07T19:02:52.807Z"
   },
   {
    "duration": 55,
    "start_time": "2023-02-07T19:02:52.823Z"
   },
   {
    "duration": 13,
    "start_time": "2023-02-07T19:02:52.880Z"
   },
   {
    "duration": 1264,
    "start_time": "2023-02-07T19:23:44.685Z"
   },
   {
    "duration": 65,
    "start_time": "2023-02-07T19:23:47.301Z"
   },
   {
    "duration": 45,
    "start_time": "2023-02-07T19:24:10.074Z"
   },
   {
    "duration": 46,
    "start_time": "2023-02-07T19:24:18.367Z"
   },
   {
    "duration": 49,
    "start_time": "2023-02-07T19:24:33.529Z"
   },
   {
    "duration": 53,
    "start_time": "2023-02-07T19:24:40.850Z"
   },
   {
    "duration": 25,
    "start_time": "2023-02-07T19:25:12.067Z"
   },
   {
    "duration": 100,
    "start_time": "2023-02-07T19:25:31.618Z"
   },
   {
    "duration": 3,
    "start_time": "2023-02-07T19:25:36.235Z"
   },
   {
    "duration": 27,
    "start_time": "2023-02-07T19:25:36.401Z"
   },
   {
    "duration": 13,
    "start_time": "2023-02-07T19:25:36.738Z"
   },
   {
    "duration": 19,
    "start_time": "2023-02-07T19:25:36.909Z"
   },
   {
    "duration": 5,
    "start_time": "2023-02-07T19:25:37.102Z"
   },
   {
    "duration": 5,
    "start_time": "2023-02-07T19:25:37.289Z"
   },
   {
    "duration": 124,
    "start_time": "2023-02-07T19:25:37.425Z"
   },
   {
    "duration": 7,
    "start_time": "2023-02-07T19:25:37.717Z"
   },
   {
    "duration": 10,
    "start_time": "2023-02-07T19:25:37.878Z"
   },
   {
    "duration": 11,
    "start_time": "2023-02-07T19:25:38.054Z"
   },
   {
    "duration": 6,
    "start_time": "2023-02-07T19:25:38.278Z"
   },
   {
    "duration": 6,
    "start_time": "2023-02-07T19:25:44.721Z"
   },
   {
    "duration": 7,
    "start_time": "2023-02-07T19:25:46.550Z"
   },
   {
    "duration": 11,
    "start_time": "2023-02-07T19:25:46.712Z"
   },
   {
    "duration": 4,
    "start_time": "2023-02-07T19:25:46.906Z"
   },
   {
    "duration": 9,
    "start_time": "2023-02-07T19:25:47.429Z"
   },
   {
    "duration": 6,
    "start_time": "2023-02-07T19:25:47.833Z"
   },
   {
    "duration": 10,
    "start_time": "2023-02-07T19:27:53.367Z"
   },
   {
    "duration": 9,
    "start_time": "2023-02-07T19:27:55.700Z"
   },
   {
    "duration": 29,
    "start_time": "2023-02-07T19:35:08.169Z"
   },
   {
    "duration": 28,
    "start_time": "2023-02-07T19:35:16.403Z"
   },
   {
    "duration": 3,
    "start_time": "2023-02-07T19:35:20.319Z"
   },
   {
    "duration": 27,
    "start_time": "2023-02-07T19:35:20.765Z"
   },
   {
    "duration": 43,
    "start_time": "2023-02-07T19:36:05.025Z"
   },
   {
    "duration": 7,
    "start_time": "2023-02-07T19:37:49.704Z"
   },
   {
    "duration": 10,
    "start_time": "2023-02-07T19:37:50.307Z"
   },
   {
    "duration": 47,
    "start_time": "2023-02-07T19:37:54.698Z"
   },
   {
    "duration": 205,
    "start_time": "2023-02-07T19:39:30.432Z"
   },
   {
    "duration": 41,
    "start_time": "2023-02-07T19:39:48.276Z"
   },
   {
    "duration": 10,
    "start_time": "2023-02-07T19:39:58.291Z"
   },
   {
    "duration": 14,
    "start_time": "2023-02-07T19:40:56.774Z"
   },
   {
    "duration": 10,
    "start_time": "2023-02-07T19:41:09.681Z"
   },
   {
    "duration": 9,
    "start_time": "2023-02-07T19:41:37.768Z"
   },
   {
    "duration": 11,
    "start_time": "2023-02-07T19:42:00.067Z"
   },
   {
    "duration": 10,
    "start_time": "2023-02-07T19:42:05.722Z"
   },
   {
    "duration": 10,
    "start_time": "2023-02-07T19:42:10.119Z"
   },
   {
    "duration": 44,
    "start_time": "2023-02-07T19:44:37.561Z"
   },
   {
    "duration": 9,
    "start_time": "2023-02-07T19:45:55.729Z"
   },
   {
    "duration": 3,
    "start_time": "2023-02-07T19:46:07.794Z"
   },
   {
    "duration": 27,
    "start_time": "2023-02-07T19:46:07.890Z"
   },
   {
    "duration": 10,
    "start_time": "2023-02-07T19:46:08.334Z"
   },
   {
    "duration": 16,
    "start_time": "2023-02-07T19:46:08.482Z"
   },
   {
    "duration": 7,
    "start_time": "2023-02-07T19:46:08.635Z"
   },
   {
    "duration": 6,
    "start_time": "2023-02-07T19:46:08.812Z"
   },
   {
    "duration": 48,
    "start_time": "2023-02-07T19:46:08.960Z"
   },
   {
    "duration": 8,
    "start_time": "2023-02-07T19:46:09.125Z"
   },
   {
    "duration": 10,
    "start_time": "2023-02-07T19:46:09.421Z"
   },
   {
    "duration": 12,
    "start_time": "2023-02-07T19:46:09.580Z"
   },
   {
    "duration": 6,
    "start_time": "2023-02-07T19:46:09.758Z"
   },
   {
    "duration": 7,
    "start_time": "2023-02-07T19:46:09.919Z"
   },
   {
    "duration": 6,
    "start_time": "2023-02-07T19:46:10.092Z"
   },
   {
    "duration": 9,
    "start_time": "2023-02-07T19:46:10.245Z"
   },
   {
    "duration": 4,
    "start_time": "2023-02-07T19:46:10.425Z"
   },
   {
    "duration": 6,
    "start_time": "2023-02-07T19:46:10.581Z"
   },
   {
    "duration": 6,
    "start_time": "2023-02-07T19:46:10.773Z"
   },
   {
    "duration": 9,
    "start_time": "2023-02-07T19:46:10.971Z"
   },
   {
    "duration": 7,
    "start_time": "2023-02-07T19:46:12.041Z"
   },
   {
    "duration": 11,
    "start_time": "2023-02-07T19:46:12.240Z"
   },
   {
    "duration": 12,
    "start_time": "2023-02-07T19:46:12.442Z"
   },
   {
    "duration": 275,
    "start_time": "2023-02-07T19:46:13.552Z"
   },
   {
    "duration": 291,
    "start_time": "2023-02-07T19:46:13.829Z"
   },
   {
    "duration": 196,
    "start_time": "2023-02-07T19:46:14.321Z"
   },
   {
    "duration": 425,
    "start_time": "2023-02-07T19:46:14.900Z"
   },
   {
    "duration": 208,
    "start_time": "2023-02-07T19:46:15.445Z"
   },
   {
    "duration": 332,
    "start_time": "2023-02-07T19:46:16.004Z"
   },
   {
    "duration": 139,
    "start_time": "2023-02-07T19:46:16.958Z"
   },
   {
    "duration": 3,
    "start_time": "2023-02-07T19:46:17.746Z"
   },
   {
    "duration": 161,
    "start_time": "2023-02-07T19:46:18.294Z"
   },
   {
    "duration": 4,
    "start_time": "2023-02-07T19:46:18.930Z"
   },
   {
    "duration": 250,
    "start_time": "2023-02-07T19:46:20.488Z"
   },
   {
    "duration": 28,
    "start_time": "2023-02-07T19:46:20.903Z"
   },
   {
    "duration": 154,
    "start_time": "2023-02-07T19:46:21.090Z"
   },
   {
    "duration": 11,
    "start_time": "2023-02-07T19:46:22.129Z"
   },
   {
    "duration": 9,
    "start_time": "2023-02-07T19:46:23.253Z"
   },
   {
    "duration": 9,
    "start_time": "2023-02-07T19:46:23.453Z"
   },
   {
    "duration": 21,
    "start_time": "2023-02-07T19:46:23.620Z"
   },
   {
    "duration": 13,
    "start_time": "2023-02-07T19:46:24.383Z"
   },
   {
    "duration": 26,
    "start_time": "2023-02-07T19:46:51.712Z"
   },
   {
    "duration": 20,
    "start_time": "2023-02-07T19:46:58.766Z"
   },
   {
    "duration": 24,
    "start_time": "2023-02-07T19:47:57.798Z"
   },
   {
    "duration": 13,
    "start_time": "2023-02-07T19:48:16.731Z"
   },
   {
    "duration": 156,
    "start_time": "2023-02-07T19:48:25.421Z"
   },
   {
    "duration": 13,
    "start_time": "2023-02-07T19:48:50.720Z"
   },
   {
    "duration": 1376,
    "start_time": "2023-02-08T06:33:36.251Z"
   },
   {
    "duration": 93,
    "start_time": "2023-02-08T06:33:37.630Z"
   },
   {
    "duration": 11,
    "start_time": "2023-02-08T06:33:37.724Z"
   },
   {
    "duration": 25,
    "start_time": "2023-02-08T06:33:37.737Z"
   },
   {
    "duration": 12,
    "start_time": "2023-02-08T06:33:37.764Z"
   },
   {
    "duration": 10,
    "start_time": "2023-02-08T06:33:37.778Z"
   },
   {
    "duration": 173,
    "start_time": "2023-02-08T06:33:37.789Z"
   },
   {
    "duration": 9,
    "start_time": "2023-02-08T06:33:37.964Z"
   },
   {
    "duration": 19,
    "start_time": "2023-02-08T06:33:37.975Z"
   },
   {
    "duration": 18,
    "start_time": "2023-02-08T06:33:37.997Z"
   },
   {
    "duration": 10,
    "start_time": "2023-02-08T06:33:38.017Z"
   },
   {
    "duration": 21,
    "start_time": "2023-02-08T06:33:38.029Z"
   },
   {
    "duration": 16,
    "start_time": "2023-02-08T06:33:38.051Z"
   },
   {
    "duration": 34,
    "start_time": "2023-02-08T06:33:38.069Z"
   },
   {
    "duration": 19,
    "start_time": "2023-02-08T06:33:38.105Z"
   },
   {
    "duration": 24,
    "start_time": "2023-02-08T06:33:38.126Z"
   },
   {
    "duration": 18,
    "start_time": "2023-02-08T06:33:38.152Z"
   },
   {
    "duration": 16,
    "start_time": "2023-02-08T06:33:38.172Z"
   },
   {
    "duration": 8,
    "start_time": "2023-02-08T06:33:38.190Z"
   },
   {
    "duration": 66,
    "start_time": "2023-02-08T06:33:38.200Z"
   },
   {
    "duration": 12,
    "start_time": "2023-02-08T06:33:38.268Z"
   },
   {
    "duration": 309,
    "start_time": "2023-02-08T06:33:38.282Z"
   },
   {
    "duration": 306,
    "start_time": "2023-02-08T06:33:38.593Z"
   },
   {
    "duration": 224,
    "start_time": "2023-02-08T06:33:38.901Z"
   },
   {
    "duration": 385,
    "start_time": "2023-02-08T06:33:39.127Z"
   },
   {
    "duration": 241,
    "start_time": "2023-02-08T06:33:39.513Z"
   },
   {
    "duration": 309,
    "start_time": "2023-02-08T06:33:39.756Z"
   },
   {
    "duration": 171,
    "start_time": "2023-02-08T06:33:40.069Z"
   },
   {
    "duration": 5,
    "start_time": "2023-02-08T06:33:40.241Z"
   },
   {
    "duration": 180,
    "start_time": "2023-02-08T06:33:40.248Z"
   },
   {
    "duration": 10,
    "start_time": "2023-02-08T06:33:40.430Z"
   },
   {
    "duration": 295,
    "start_time": "2023-02-08T06:33:40.442Z"
   },
   {
    "duration": 32,
    "start_time": "2023-02-08T06:33:40.740Z"
   },
   {
    "duration": 200,
    "start_time": "2023-02-08T06:33:40.774Z"
   },
   {
    "duration": 11,
    "start_time": "2023-02-08T06:33:40.977Z"
   },
   {
    "duration": 11,
    "start_time": "2023-02-08T06:33:40.990Z"
   },
   {
    "duration": 14,
    "start_time": "2023-02-08T06:33:41.003Z"
   },
   {
    "duration": 25,
    "start_time": "2023-02-08T06:33:41.037Z"
   },
   {
    "duration": 14,
    "start_time": "2023-02-08T06:33:41.063Z"
   }
  ],
  "kernelspec": {
   "display_name": "Python 3 (ipykernel)",
   "language": "python",
   "name": "python3"
  },
  "language_info": {
   "codemirror_mode": {
    "name": "ipython",
    "version": 3
   },
   "file_extension": ".py",
   "mimetype": "text/x-python",
   "name": "python",
   "nbconvert_exporter": "python",
   "pygments_lexer": "ipython3",
   "version": "3.9.5"
  },
  "toc": {
   "base_numbering": 1,
   "nav_menu": {
    "height": "90px",
    "width": "224px"
   },
   "number_sections": true,
   "sideBar": true,
   "skip_h1_title": true,
   "title_cell": "Table of Contents",
   "title_sidebar": "Contents",
   "toc_cell": false,
   "toc_position": {},
   "toc_section_display": true,
   "toc_window_display": false
  }
 },
 "nbformat": 4,
 "nbformat_minor": 2
}
