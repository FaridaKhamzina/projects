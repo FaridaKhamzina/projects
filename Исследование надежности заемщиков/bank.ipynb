{
 "cells": [
  {
   "cell_type": "markdown",
   "id": "a0f988fd",
   "metadata": {
    "deletable": false,
    "editable": false,
    "id": "c81daeeb"
   },
   "source": [
    "# Исследование надежности заемщиков\n"
   ]
  },
  {
   "cell_type": "markdown",
   "id": "739d9bc0",
   "metadata": {
    "deletable": false,
    "editable": false,
    "id": "827c20bf"
   },
   "source": [
    "Во второй части проекта вы выполните шаги 3 и 4. Их вручную проверит ревьюер.\n",
    "Чтобы вам не пришлось писать код заново для шагов 1 и 2, мы добавили авторские решения в ячейки с кодом. \n",
    "\n"
   ]
  },
  {
   "cell_type": "markdown",
   "id": "53493edd",
   "metadata": {
    "deletable": false,
    "editable": false,
    "id": "744d7639"
   },
   "source": [
    "## Откройте таблицу и изучите общую информацию о данных"
   ]
  },
  {
   "cell_type": "markdown",
   "id": "ae9c8555",
   "metadata": {
    "deletable": false,
    "editable": false,
    "id": "e7a14c31"
   },
   "source": [
    "**Задание 1. Импортируйте библиотеку pandas. Считайте данные из csv-файла в датафрейм и сохраните в переменную `data`. Путь к файлу:**\n",
    "\n",
    "`/datasets/data.csv`"
   ]
  },
  {
   "cell_type": "code",
   "execution_count": 1,
   "id": "4b3912af",
   "metadata": {
    "deletable": false,
    "id": "7bcf75c9"
   },
   "outputs": [],
   "source": [
    "import pandas as pd"
   ]
  },
  {
   "cell_type": "code",
   "execution_count": 2,
   "id": "703fd23c",
   "metadata": {},
   "outputs": [],
   "source": [
    "try:\n",
    "    data = pd.read_csv('/datasets/data.csv')\n",
    "except:\n",
    "    data = pd.read_csv('https://code.s3.yandex.net/datasets/data.csv')"
   ]
  },
  {
   "cell_type": "markdown",
   "id": "a0e71c4a",
   "metadata": {
    "deletable": false,
    "editable": false,
    "id": "b8038fe3"
   },
   "source": [
    "**Задание 2. Выведите первые 20 строчек датафрейма `data` на экран.**"
   ]
  },
  {
   "cell_type": "code",
   "execution_count": 3,
   "id": "0cc15e6a",
   "metadata": {
    "deletable": false,
    "id": "2a7cab99",
    "outputId": "1a8f3ef2-d323-4ec2-ddf7-89670b5944c4"
   },
   "outputs": [
    {
     "data": {
      "text/html": [
       "<div>\n",
       "<style scoped>\n",
       "    .dataframe tbody tr th:only-of-type {\n",
       "        vertical-align: middle;\n",
       "    }\n",
       "\n",
       "    .dataframe tbody tr th {\n",
       "        vertical-align: top;\n",
       "    }\n",
       "\n",
       "    .dataframe thead th {\n",
       "        text-align: right;\n",
       "    }\n",
       "</style>\n",
       "<table border=\"1\" class=\"dataframe\">\n",
       "  <thead>\n",
       "    <tr style=\"text-align: right;\">\n",
       "      <th></th>\n",
       "      <th>children</th>\n",
       "      <th>days_employed</th>\n",
       "      <th>dob_years</th>\n",
       "      <th>education</th>\n",
       "      <th>education_id</th>\n",
       "      <th>family_status</th>\n",
       "      <th>family_status_id</th>\n",
       "      <th>gender</th>\n",
       "      <th>income_type</th>\n",
       "      <th>debt</th>\n",
       "      <th>total_income</th>\n",
       "      <th>purpose</th>\n",
       "    </tr>\n",
       "  </thead>\n",
       "  <tbody>\n",
       "    <tr>\n",
       "      <th>0</th>\n",
       "      <td>1</td>\n",
       "      <td>-8437.673028</td>\n",
       "      <td>42</td>\n",
       "      <td>высшее</td>\n",
       "      <td>0</td>\n",
       "      <td>женат / замужем</td>\n",
       "      <td>0</td>\n",
       "      <td>F</td>\n",
       "      <td>сотрудник</td>\n",
       "      <td>0</td>\n",
       "      <td>253875.639453</td>\n",
       "      <td>покупка жилья</td>\n",
       "    </tr>\n",
       "    <tr>\n",
       "      <th>1</th>\n",
       "      <td>1</td>\n",
       "      <td>-4024.803754</td>\n",
       "      <td>36</td>\n",
       "      <td>среднее</td>\n",
       "      <td>1</td>\n",
       "      <td>женат / замужем</td>\n",
       "      <td>0</td>\n",
       "      <td>F</td>\n",
       "      <td>сотрудник</td>\n",
       "      <td>0</td>\n",
       "      <td>112080.014102</td>\n",
       "      <td>приобретение автомобиля</td>\n",
       "    </tr>\n",
       "    <tr>\n",
       "      <th>2</th>\n",
       "      <td>0</td>\n",
       "      <td>-5623.422610</td>\n",
       "      <td>33</td>\n",
       "      <td>Среднее</td>\n",
       "      <td>1</td>\n",
       "      <td>женат / замужем</td>\n",
       "      <td>0</td>\n",
       "      <td>M</td>\n",
       "      <td>сотрудник</td>\n",
       "      <td>0</td>\n",
       "      <td>145885.952297</td>\n",
       "      <td>покупка жилья</td>\n",
       "    </tr>\n",
       "    <tr>\n",
       "      <th>3</th>\n",
       "      <td>3</td>\n",
       "      <td>-4124.747207</td>\n",
       "      <td>32</td>\n",
       "      <td>среднее</td>\n",
       "      <td>1</td>\n",
       "      <td>женат / замужем</td>\n",
       "      <td>0</td>\n",
       "      <td>M</td>\n",
       "      <td>сотрудник</td>\n",
       "      <td>0</td>\n",
       "      <td>267628.550329</td>\n",
       "      <td>дополнительное образование</td>\n",
       "    </tr>\n",
       "    <tr>\n",
       "      <th>4</th>\n",
       "      <td>0</td>\n",
       "      <td>340266.072047</td>\n",
       "      <td>53</td>\n",
       "      <td>среднее</td>\n",
       "      <td>1</td>\n",
       "      <td>гражданский брак</td>\n",
       "      <td>1</td>\n",
       "      <td>F</td>\n",
       "      <td>пенсионер</td>\n",
       "      <td>0</td>\n",
       "      <td>158616.077870</td>\n",
       "      <td>сыграть свадьбу</td>\n",
       "    </tr>\n",
       "    <tr>\n",
       "      <th>5</th>\n",
       "      <td>0</td>\n",
       "      <td>-926.185831</td>\n",
       "      <td>27</td>\n",
       "      <td>высшее</td>\n",
       "      <td>0</td>\n",
       "      <td>гражданский брак</td>\n",
       "      <td>1</td>\n",
       "      <td>M</td>\n",
       "      <td>компаньон</td>\n",
       "      <td>0</td>\n",
       "      <td>255763.565419</td>\n",
       "      <td>покупка жилья</td>\n",
       "    </tr>\n",
       "    <tr>\n",
       "      <th>6</th>\n",
       "      <td>0</td>\n",
       "      <td>-2879.202052</td>\n",
       "      <td>43</td>\n",
       "      <td>высшее</td>\n",
       "      <td>0</td>\n",
       "      <td>женат / замужем</td>\n",
       "      <td>0</td>\n",
       "      <td>F</td>\n",
       "      <td>компаньон</td>\n",
       "      <td>0</td>\n",
       "      <td>240525.971920</td>\n",
       "      <td>операции с жильем</td>\n",
       "    </tr>\n",
       "    <tr>\n",
       "      <th>7</th>\n",
       "      <td>0</td>\n",
       "      <td>-152.779569</td>\n",
       "      <td>50</td>\n",
       "      <td>СРЕДНЕЕ</td>\n",
       "      <td>1</td>\n",
       "      <td>женат / замужем</td>\n",
       "      <td>0</td>\n",
       "      <td>M</td>\n",
       "      <td>сотрудник</td>\n",
       "      <td>0</td>\n",
       "      <td>135823.934197</td>\n",
       "      <td>образование</td>\n",
       "    </tr>\n",
       "    <tr>\n",
       "      <th>8</th>\n",
       "      <td>2</td>\n",
       "      <td>-6929.865299</td>\n",
       "      <td>35</td>\n",
       "      <td>ВЫСШЕЕ</td>\n",
       "      <td>0</td>\n",
       "      <td>гражданский брак</td>\n",
       "      <td>1</td>\n",
       "      <td>F</td>\n",
       "      <td>сотрудник</td>\n",
       "      <td>0</td>\n",
       "      <td>95856.832424</td>\n",
       "      <td>на проведение свадьбы</td>\n",
       "    </tr>\n",
       "    <tr>\n",
       "      <th>9</th>\n",
       "      <td>0</td>\n",
       "      <td>-2188.756445</td>\n",
       "      <td>41</td>\n",
       "      <td>среднее</td>\n",
       "      <td>1</td>\n",
       "      <td>женат / замужем</td>\n",
       "      <td>0</td>\n",
       "      <td>M</td>\n",
       "      <td>сотрудник</td>\n",
       "      <td>0</td>\n",
       "      <td>144425.938277</td>\n",
       "      <td>покупка жилья для семьи</td>\n",
       "    </tr>\n",
       "    <tr>\n",
       "      <th>10</th>\n",
       "      <td>2</td>\n",
       "      <td>-4171.483647</td>\n",
       "      <td>36</td>\n",
       "      <td>высшее</td>\n",
       "      <td>0</td>\n",
       "      <td>женат / замужем</td>\n",
       "      <td>0</td>\n",
       "      <td>M</td>\n",
       "      <td>компаньон</td>\n",
       "      <td>0</td>\n",
       "      <td>113943.491460</td>\n",
       "      <td>покупка недвижимости</td>\n",
       "    </tr>\n",
       "    <tr>\n",
       "      <th>11</th>\n",
       "      <td>0</td>\n",
       "      <td>-792.701887</td>\n",
       "      <td>40</td>\n",
       "      <td>среднее</td>\n",
       "      <td>1</td>\n",
       "      <td>женат / замужем</td>\n",
       "      <td>0</td>\n",
       "      <td>F</td>\n",
       "      <td>сотрудник</td>\n",
       "      <td>0</td>\n",
       "      <td>77069.234271</td>\n",
       "      <td>покупка коммерческой недвижимости</td>\n",
       "    </tr>\n",
       "    <tr>\n",
       "      <th>12</th>\n",
       "      <td>0</td>\n",
       "      <td>NaN</td>\n",
       "      <td>65</td>\n",
       "      <td>среднее</td>\n",
       "      <td>1</td>\n",
       "      <td>гражданский брак</td>\n",
       "      <td>1</td>\n",
       "      <td>M</td>\n",
       "      <td>пенсионер</td>\n",
       "      <td>0</td>\n",
       "      <td>NaN</td>\n",
       "      <td>сыграть свадьбу</td>\n",
       "    </tr>\n",
       "    <tr>\n",
       "      <th>13</th>\n",
       "      <td>0</td>\n",
       "      <td>-1846.641941</td>\n",
       "      <td>54</td>\n",
       "      <td>неоконченное высшее</td>\n",
       "      <td>2</td>\n",
       "      <td>женат / замужем</td>\n",
       "      <td>0</td>\n",
       "      <td>F</td>\n",
       "      <td>сотрудник</td>\n",
       "      <td>0</td>\n",
       "      <td>130458.228857</td>\n",
       "      <td>приобретение автомобиля</td>\n",
       "    </tr>\n",
       "    <tr>\n",
       "      <th>14</th>\n",
       "      <td>0</td>\n",
       "      <td>-1844.956182</td>\n",
       "      <td>56</td>\n",
       "      <td>высшее</td>\n",
       "      <td>0</td>\n",
       "      <td>гражданский брак</td>\n",
       "      <td>1</td>\n",
       "      <td>F</td>\n",
       "      <td>компаньон</td>\n",
       "      <td>1</td>\n",
       "      <td>165127.911772</td>\n",
       "      <td>покупка жилой недвижимости</td>\n",
       "    </tr>\n",
       "    <tr>\n",
       "      <th>15</th>\n",
       "      <td>1</td>\n",
       "      <td>-972.364419</td>\n",
       "      <td>26</td>\n",
       "      <td>среднее</td>\n",
       "      <td>1</td>\n",
       "      <td>женат / замужем</td>\n",
       "      <td>0</td>\n",
       "      <td>F</td>\n",
       "      <td>сотрудник</td>\n",
       "      <td>0</td>\n",
       "      <td>116820.904450</td>\n",
       "      <td>строительство собственной недвижимости</td>\n",
       "    </tr>\n",
       "    <tr>\n",
       "      <th>16</th>\n",
       "      <td>0</td>\n",
       "      <td>-1719.934226</td>\n",
       "      <td>35</td>\n",
       "      <td>среднее</td>\n",
       "      <td>1</td>\n",
       "      <td>женат / замужем</td>\n",
       "      <td>0</td>\n",
       "      <td>F</td>\n",
       "      <td>сотрудник</td>\n",
       "      <td>0</td>\n",
       "      <td>289202.704229</td>\n",
       "      <td>недвижимость</td>\n",
       "    </tr>\n",
       "    <tr>\n",
       "      <th>17</th>\n",
       "      <td>0</td>\n",
       "      <td>-2369.999720</td>\n",
       "      <td>33</td>\n",
       "      <td>высшее</td>\n",
       "      <td>0</td>\n",
       "      <td>гражданский брак</td>\n",
       "      <td>1</td>\n",
       "      <td>M</td>\n",
       "      <td>сотрудник</td>\n",
       "      <td>0</td>\n",
       "      <td>90410.586745</td>\n",
       "      <td>строительство недвижимости</td>\n",
       "    </tr>\n",
       "    <tr>\n",
       "      <th>18</th>\n",
       "      <td>0</td>\n",
       "      <td>400281.136913</td>\n",
       "      <td>53</td>\n",
       "      <td>среднее</td>\n",
       "      <td>1</td>\n",
       "      <td>вдовец / вдова</td>\n",
       "      <td>2</td>\n",
       "      <td>F</td>\n",
       "      <td>пенсионер</td>\n",
       "      <td>0</td>\n",
       "      <td>56823.777243</td>\n",
       "      <td>на покупку подержанного автомобиля</td>\n",
       "    </tr>\n",
       "    <tr>\n",
       "      <th>19</th>\n",
       "      <td>0</td>\n",
       "      <td>-10038.818549</td>\n",
       "      <td>48</td>\n",
       "      <td>СРЕДНЕЕ</td>\n",
       "      <td>1</td>\n",
       "      <td>в разводе</td>\n",
       "      <td>3</td>\n",
       "      <td>F</td>\n",
       "      <td>сотрудник</td>\n",
       "      <td>0</td>\n",
       "      <td>242831.107982</td>\n",
       "      <td>на покупку своего автомобиля</td>\n",
       "    </tr>\n",
       "  </tbody>\n",
       "</table>\n",
       "</div>"
      ],
      "text/plain": [
       "    children  days_employed  dob_years            education  education_id  \\\n",
       "0          1   -8437.673028         42               высшее             0   \n",
       "1          1   -4024.803754         36              среднее             1   \n",
       "2          0   -5623.422610         33              Среднее             1   \n",
       "3          3   -4124.747207         32              среднее             1   \n",
       "4          0  340266.072047         53              среднее             1   \n",
       "5          0    -926.185831         27               высшее             0   \n",
       "6          0   -2879.202052         43               высшее             0   \n",
       "7          0    -152.779569         50              СРЕДНЕЕ             1   \n",
       "8          2   -6929.865299         35               ВЫСШЕЕ             0   \n",
       "9          0   -2188.756445         41              среднее             1   \n",
       "10         2   -4171.483647         36               высшее             0   \n",
       "11         0    -792.701887         40              среднее             1   \n",
       "12         0            NaN         65              среднее             1   \n",
       "13         0   -1846.641941         54  неоконченное высшее             2   \n",
       "14         0   -1844.956182         56               высшее             0   \n",
       "15         1    -972.364419         26              среднее             1   \n",
       "16         0   -1719.934226         35              среднее             1   \n",
       "17         0   -2369.999720         33               высшее             0   \n",
       "18         0  400281.136913         53              среднее             1   \n",
       "19         0  -10038.818549         48              СРЕДНЕЕ             1   \n",
       "\n",
       "       family_status  family_status_id gender income_type  debt  \\\n",
       "0    женат / замужем                 0      F   сотрудник     0   \n",
       "1    женат / замужем                 0      F   сотрудник     0   \n",
       "2    женат / замужем                 0      M   сотрудник     0   \n",
       "3    женат / замужем                 0      M   сотрудник     0   \n",
       "4   гражданский брак                 1      F   пенсионер     0   \n",
       "5   гражданский брак                 1      M   компаньон     0   \n",
       "6    женат / замужем                 0      F   компаньон     0   \n",
       "7    женат / замужем                 0      M   сотрудник     0   \n",
       "8   гражданский брак                 1      F   сотрудник     0   \n",
       "9    женат / замужем                 0      M   сотрудник     0   \n",
       "10   женат / замужем                 0      M   компаньон     0   \n",
       "11   женат / замужем                 0      F   сотрудник     0   \n",
       "12  гражданский брак                 1      M   пенсионер     0   \n",
       "13   женат / замужем                 0      F   сотрудник     0   \n",
       "14  гражданский брак                 1      F   компаньон     1   \n",
       "15   женат / замужем                 0      F   сотрудник     0   \n",
       "16   женат / замужем                 0      F   сотрудник     0   \n",
       "17  гражданский брак                 1      M   сотрудник     0   \n",
       "18    вдовец / вдова                 2      F   пенсионер     0   \n",
       "19         в разводе                 3      F   сотрудник     0   \n",
       "\n",
       "     total_income                                 purpose  \n",
       "0   253875.639453                           покупка жилья  \n",
       "1   112080.014102                 приобретение автомобиля  \n",
       "2   145885.952297                           покупка жилья  \n",
       "3   267628.550329              дополнительное образование  \n",
       "4   158616.077870                         сыграть свадьбу  \n",
       "5   255763.565419                           покупка жилья  \n",
       "6   240525.971920                       операции с жильем  \n",
       "7   135823.934197                             образование  \n",
       "8    95856.832424                   на проведение свадьбы  \n",
       "9   144425.938277                 покупка жилья для семьи  \n",
       "10  113943.491460                    покупка недвижимости  \n",
       "11   77069.234271       покупка коммерческой недвижимости  \n",
       "12            NaN                         сыграть свадьбу  \n",
       "13  130458.228857                 приобретение автомобиля  \n",
       "14  165127.911772              покупка жилой недвижимости  \n",
       "15  116820.904450  строительство собственной недвижимости  \n",
       "16  289202.704229                            недвижимость  \n",
       "17   90410.586745              строительство недвижимости  \n",
       "18   56823.777243      на покупку подержанного автомобиля  \n",
       "19  242831.107982            на покупку своего автомобиля  "
      ]
     },
     "execution_count": 3,
     "metadata": {},
     "output_type": "execute_result"
    }
   ],
   "source": [
    "data.head(20)"
   ]
  },
  {
   "cell_type": "markdown",
   "id": "90ec0368",
   "metadata": {
    "deletable": false,
    "editable": false,
    "id": "1c12e233"
   },
   "source": [
    "**Задание 3. Выведите основную информацию о датафрейме с помощью метода `info()`.**"
   ]
  },
  {
   "cell_type": "code",
   "execution_count": 4,
   "id": "b5f12cce",
   "metadata": {
    "deletable": false,
    "id": "2b757bca",
    "outputId": "15376089-8dad-46c9-b520-c05248d43158",
    "scrolled": true
   },
   "outputs": [
    {
     "name": "stdout",
     "output_type": "stream",
     "text": [
      "<class 'pandas.core.frame.DataFrame'>\n",
      "RangeIndex: 21525 entries, 0 to 21524\n",
      "Data columns (total 12 columns):\n",
      " #   Column            Non-Null Count  Dtype  \n",
      "---  ------            --------------  -----  \n",
      " 0   children          21525 non-null  int64  \n",
      " 1   days_employed     19351 non-null  float64\n",
      " 2   dob_years         21525 non-null  int64  \n",
      " 3   education         21525 non-null  object \n",
      " 4   education_id      21525 non-null  int64  \n",
      " 5   family_status     21525 non-null  object \n",
      " 6   family_status_id  21525 non-null  int64  \n",
      " 7   gender            21525 non-null  object \n",
      " 8   income_type       21525 non-null  object \n",
      " 9   debt              21525 non-null  int64  \n",
      " 10  total_income      19351 non-null  float64\n",
      " 11  purpose           21525 non-null  object \n",
      "dtypes: float64(2), int64(5), object(5)\n",
      "memory usage: 2.0+ MB\n"
     ]
    }
   ],
   "source": [
    "data.info()"
   ]
  },
  {
   "cell_type": "markdown",
   "id": "28a78df4",
   "metadata": {},
   "source": [
    "Видим, что в датафрейме всего 12 столбцов, в двух из которых есть пропущенные значения: в days_employed и total_income.\n",
    "Датафрейм состоит из объектов,целых чисел и вещественных."
   ]
  },
  {
   "cell_type": "markdown",
   "id": "83f98c61",
   "metadata": {
    "deletable": false,
    "editable": false,
    "id": "333ec665"
   },
   "source": [
    "## Предобработка данных"
   ]
  },
  {
   "cell_type": "markdown",
   "id": "408253c6",
   "metadata": {
    "deletable": false,
    "editable": false,
    "id": "02d92d53"
   },
   "source": [
    "### Удаление пропусков"
   ]
  },
  {
   "cell_type": "markdown",
   "id": "d8cb9c62",
   "metadata": {
    "deletable": false,
    "editable": false,
    "id": "cd84967c"
   },
   "source": [
    "**Задание 4. Выведите количество пропущенных значений для каждого столбца. Используйте комбинацию двух методов.**"
   ]
  },
  {
   "cell_type": "code",
   "execution_count": 5,
   "id": "2173b602",
   "metadata": {
    "deletable": false,
    "id": "7f9b2309",
    "outputId": "81f4d817-781c-465c-ed15-91ce4446810d",
    "scrolled": true
   },
   "outputs": [
    {
     "data": {
      "text/plain": [
       "children               0\n",
       "days_employed       2174\n",
       "dob_years              0\n",
       "education              0\n",
       "education_id           0\n",
       "family_status          0\n",
       "family_status_id       0\n",
       "gender                 0\n",
       "income_type            0\n",
       "debt                   0\n",
       "total_income        2174\n",
       "purpose                0\n",
       "dtype: int64"
      ]
     },
     "execution_count": 5,
     "metadata": {},
     "output_type": "execute_result"
    }
   ],
   "source": [
    "data.isna().sum()"
   ]
  },
  {
   "cell_type": "markdown",
   "id": "21f9e8ff",
   "metadata": {},
   "source": [
    "*С помощью данных методов мы нашли где и сколько пропущенных значений: по 2174 в двух столбцах*"
   ]
  },
  {
   "cell_type": "markdown",
   "id": "ff495b72",
   "metadata": {
    "deletable": false,
    "editable": false,
    "id": "db86e27b"
   },
   "source": [
    "**Задание 5. В двух столбцах есть пропущенные значения. Один из них — `days_employed`. Пропуски в этом столбце вы обработаете на следующем этапе. Другой столбец с пропущенными значениями — `total_income` — хранит данные о доходах. На сумму дохода сильнее всего влияет тип занятости, поэтому заполнить пропуски в этом столбце нужно медианным значением по каждому типу из столбца `income_type`. Например, у человека с типом занятости `сотрудник` пропуск в столбце `total_income` должен быть заполнен медианным доходом среди всех записей с тем же типом.**"
   ]
  },
  {
   "cell_type": "code",
   "execution_count": 6,
   "id": "1a5e3c0b",
   "metadata": {
    "deletable": false,
    "id": "42006a93"
   },
   "outputs": [],
   "source": [
    "for t in data['income_type'].unique():\n",
    "    data.loc[(data['income_type'] == t) & (data['total_income'].isna()), 'total_income'] = \\\n",
    "    data.loc[(data['income_type'] == t), 'total_income'].median()"
   ]
  },
  {
   "cell_type": "markdown",
   "id": "502746a1",
   "metadata": {
    "deletable": false,
    "editable": false,
    "id": "89da5ece"
   },
   "source": [
    "### Обработка аномальных значений"
   ]
  },
  {
   "cell_type": "markdown",
   "id": "5f0fa29f",
   "metadata": {
    "deletable": false,
    "editable": false,
    "id": "57964554"
   },
   "source": [
    "**Задание 6. В данных могут встречаться артефакты (аномалии) — значения, которые не отражают действительность и появились по какой-то ошибке. таким артефактом будет отрицательное количество дней трудового стажа в столбце `days_employed`. Для реальных данных это нормально. Обработайте значения в этом столбце: замените все отрицательные значения положительными с помощью метода `abs()`.**"
   ]
  },
  {
   "cell_type": "code",
   "execution_count": 7,
   "id": "5aadc9a4",
   "metadata": {
    "deletable": false,
    "id": "f6f055bf"
   },
   "outputs": [],
   "source": [
    "data['days_employed'] = data['days_employed'].abs()"
   ]
  },
  {
   "cell_type": "markdown",
   "id": "fb62c7dc",
   "metadata": {},
   "source": [
    "*С помощью метода abs() мы заменили отрицательные значения положительными в столбце days_employed*"
   ]
  },
  {
   "cell_type": "markdown",
   "id": "f00d8557",
   "metadata": {
    "deletable": false,
    "editable": false,
    "id": "6107dd2f"
   },
   "source": [
    "**Задание 7. Для каждого типа занятости выведите медианное значение трудового стажа `days_employed` в днях.**"
   ]
  },
  {
   "cell_type": "code",
   "execution_count": 8,
   "id": "1157a809",
   "metadata": {
    "deletable": false,
    "id": "85a5faf6",
    "outputId": "801ef80e-522b-4668-f34e-565af7432bcf",
    "scrolled": true
   },
   "outputs": [
    {
     "data": {
      "text/plain": [
       "income_type\n",
       "безработный        366413.652744\n",
       "в декрете            3296.759962\n",
       "госслужащий          2689.368353\n",
       "компаньон            1547.382223\n",
       "пенсионер          365213.306266\n",
       "предприниматель       520.848083\n",
       "сотрудник            1574.202821\n",
       "студент               578.751554\n",
       "Name: days_employed, dtype: float64"
      ]
     },
     "execution_count": 8,
     "metadata": {},
     "output_type": "execute_result"
    }
   ],
   "source": [
    "data.groupby('income_type')['days_employed'].agg('median')"
   ]
  },
  {
   "cell_type": "markdown",
   "id": "e0781fd4",
   "metadata": {},
   "source": [
    "*Вывели значения трудового стажа(в днях) для каждого типа занятости*"
   ]
  },
  {
   "cell_type": "markdown",
   "id": "d7bf7da4",
   "metadata": {
    "deletable": false,
    "editable": false,
    "id": "38d1a030"
   },
   "source": [
    "У двух типов (безработные и пенсионеры) получатся аномально большие значения. Исправить такие значения сложно, поэтому оставьте их как есть. Тем более этот столбец не понадобится вам для исследования."
   ]
  },
  {
   "cell_type": "markdown",
   "id": "6740edd9",
   "metadata": {
    "deletable": false,
    "editable": false,
    "id": "d8a9f147"
   },
   "source": [
    "**Задание 8. Выведите перечень уникальных значений столбца `children`.**"
   ]
  },
  {
   "cell_type": "code",
   "execution_count": 9,
   "id": "c589674f",
   "metadata": {
    "deletable": false,
    "id": "ef5056eb",
    "outputId": "6975b15c-7f95-4697-d16d-a0c79b657b03",
    "scrolled": true
   },
   "outputs": [
    {
     "data": {
      "text/plain": [
       "array([ 1,  0,  3,  2, -1,  4, 20,  5])"
      ]
     },
     "execution_count": 9,
     "metadata": {},
     "output_type": "execute_result"
    }
   ],
   "source": [
    "data['children'].unique()"
   ]
  },
  {
   "cell_type": "markdown",
   "id": "49d74065",
   "metadata": {},
   "source": [
    "*Вывели уникальные значения столбца children и видим, что среди них есть некорректные*"
   ]
  },
  {
   "cell_type": "markdown",
   "id": "48570d29",
   "metadata": {
    "deletable": false,
    "editable": false,
    "id": "40b9ebf2"
   },
   "source": [
    "**Задание 9. В столбце `children` есть два аномальных значения. Удалите строки, в которых встречаются такие аномальные значения из датафрейма `data`.**"
   ]
  },
  {
   "cell_type": "code",
   "execution_count": 10,
   "id": "1b3bbb3b",
   "metadata": {
    "deletable": false,
    "id": "3ff9801d"
   },
   "outputs": [],
   "source": [
    "data = data[(data['children'] != -1) & (data['children'] != 20)]"
   ]
  },
  {
   "cell_type": "markdown",
   "id": "80f3c9f8",
   "metadata": {},
   "source": [
    "*Удалим строки, в которых кол-во детей -1 или 20*"
   ]
  },
  {
   "cell_type": "markdown",
   "id": "48b9fd96",
   "metadata": {
    "deletable": false,
    "editable": false,
    "id": "bbc4d0ce"
   },
   "source": [
    "**Задание 10. Ещё раз выведите перечень уникальных значений столбца `children`, чтобы убедиться, что артефакты удалены.**"
   ]
  },
  {
   "cell_type": "code",
   "execution_count": 11,
   "id": "969c8200",
   "metadata": {
    "deletable": false,
    "id": "ad4fa8b7",
    "outputId": "b2097101-d49d-44d9-901b-32a65c9463d1"
   },
   "outputs": [
    {
     "data": {
      "text/plain": [
       "array([1, 0, 3, 2, 4, 5])"
      ]
     },
     "execution_count": 11,
     "metadata": {},
     "output_type": "execute_result"
    }
   ],
   "source": [
    "data['children'].unique()"
   ]
  },
  {
   "cell_type": "markdown",
   "id": "ab389363",
   "metadata": {},
   "source": [
    "*Проверим данные в столбце после удаления: теперь все верно*"
   ]
  },
  {
   "cell_type": "markdown",
   "id": "2caa24dd",
   "metadata": {
    "deletable": false,
    "editable": false,
    "id": "75440b63"
   },
   "source": [
    "### Удаление пропусков (продолжение)"
   ]
  },
  {
   "cell_type": "markdown",
   "id": "c79b6df1",
   "metadata": {
    "deletable": false,
    "editable": false,
    "id": "f4ea573f"
   },
   "source": [
    "**Задание 11. Заполните пропуски в столбце `days_employed` медианными значениями по каждого типа занятости `income_type`.**"
   ]
  },
  {
   "cell_type": "code",
   "execution_count": 12,
   "id": "5827ffd9",
   "metadata": {
    "deletable": false,
    "id": "af6b1a7e"
   },
   "outputs": [],
   "source": [
    "for t in data['income_type'].unique():\n",
    "    data.loc[(data['income_type'] == t) & (data['days_employed'].isna()), 'days_employed'] = \\\n",
    "    data.loc[(data['income_type'] == t), 'days_employed'].median()"
   ]
  },
  {
   "cell_type": "markdown",
   "id": "b20e1b42",
   "metadata": {},
   "source": [
    "*Заполним пропуски с помощью цикла и логической индексации*"
   ]
  },
  {
   "cell_type": "markdown",
   "id": "df5cc6b3",
   "metadata": {
    "deletable": false,
    "editable": false,
    "id": "2753f40d"
   },
   "source": [
    "**Задание 12. Убедитесь, что все пропуски заполнены. Проверьте себя и ещё раз выведите количество пропущенных значений для каждого столбца с помощью двух методов.**"
   ]
  },
  {
   "cell_type": "code",
   "execution_count": 13,
   "id": "b14bde5b",
   "metadata": {
    "deletable": false,
    "id": "55f78bc2",
    "outputId": "8da1e4e1-358e-4e87-98c9-f261bce0a7b2",
    "scrolled": true
   },
   "outputs": [
    {
     "data": {
      "text/plain": [
       "children            0\n",
       "days_employed       0\n",
       "dob_years           0\n",
       "education           0\n",
       "education_id        0\n",
       "family_status       0\n",
       "family_status_id    0\n",
       "gender              0\n",
       "income_type         0\n",
       "debt                0\n",
       "total_income        0\n",
       "purpose             0\n",
       "dtype: int64"
      ]
     },
     "execution_count": 13,
     "metadata": {},
     "output_type": "execute_result"
    }
   ],
   "source": [
    "data.isna().sum()"
   ]
  },
  {
   "cell_type": "markdown",
   "id": "b672ea1e",
   "metadata": {},
   "source": [
    "*Проверим успешность заполнения пропусков*"
   ]
  },
  {
   "cell_type": "markdown",
   "id": "76a8b60d",
   "metadata": {
    "deletable": false,
    "editable": false,
    "id": "ddc81e43"
   },
   "source": [
    "### Изменение типов данных"
   ]
  },
  {
   "cell_type": "markdown",
   "id": "3b150fef",
   "metadata": {
    "deletable": false,
    "editable": false,
    "id": "42d19d24"
   },
   "source": [
    "**Задание 13. Замените вещественный тип данных в столбце `total_income` на целочисленный с помощью метода `astype()`.**"
   ]
  },
  {
   "cell_type": "code",
   "execution_count": 14,
   "id": "4c55557c",
   "metadata": {
    "deletable": false,
    "id": "920b65ad"
   },
   "outputs": [],
   "source": [
    "data['total_income'] = data['total_income'].astype(int)"
   ]
  },
  {
   "cell_type": "markdown",
   "id": "2f943b60",
   "metadata": {},
   "source": [
    "*Заменим значения типа float на int с помощью метода astype()*"
   ]
  },
  {
   "cell_type": "markdown",
   "id": "8acb52b8",
   "metadata": {
    "deletable": false,
    "editable": false,
    "id": "80c420ba"
   },
   "source": [
    "### Обработка дубликатов"
   ]
  },
  {
   "cell_type": "markdown",
   "id": "7a98b951",
   "metadata": {
    "deletable": false,
    "editable": false
   },
   "source": [
    "**Задание 14. Обработайте неявные дубликаты в столбце `education`. В этом столбце есть одни и те же значения, но записанные по-разному: с использованием заглавных и строчных букв. Приведите их к нижнему регистру. Проверьте остальные столбцы.**"
   ]
  },
  {
   "cell_type": "code",
   "execution_count": 15,
   "id": "e46a4fb1",
   "metadata": {
    "deletable": false
   },
   "outputs": [],
   "source": [
    "data['education'] = data['education'].str.lower()"
   ]
  },
  {
   "cell_type": "markdown",
   "id": "7aee69a0",
   "metadata": {},
   "source": [
    "*Для исправления неявных дубликатов, приведем столбец education к нижнему регистру*"
   ]
  },
  {
   "cell_type": "markdown",
   "id": "ae9fdaa3",
   "metadata": {
    "deletable": false,
    "editable": false,
    "id": "dc587695"
   },
   "source": [
    "**Задание 15. Выведите на экран количество строк-дубликатов в данных. Если такие строки присутствуют, удалите их.**"
   ]
  },
  {
   "cell_type": "code",
   "execution_count": 16,
   "id": "c67b6862",
   "metadata": {
    "deletable": false,
    "id": "3ee445e4",
    "outputId": "9684deba-1934-42d1-99e1-cda61740f822",
    "scrolled": true
   },
   "outputs": [
    {
     "data": {
      "text/plain": [
       "71"
      ]
     },
     "execution_count": 16,
     "metadata": {},
     "output_type": "execute_result"
    }
   ],
   "source": [
    "data.duplicated().sum()"
   ]
  },
  {
   "cell_type": "code",
   "execution_count": 17,
   "id": "2dc9fbe0",
   "metadata": {
    "deletable": false,
    "id": "8575fe05"
   },
   "outputs": [],
   "source": [
    "data = data.drop_duplicates()"
   ]
  },
  {
   "cell_type": "markdown",
   "id": "24a9c387",
   "metadata": {},
   "source": [
    "*Выведем кол-во дубликатов и удалим их*"
   ]
  },
  {
   "cell_type": "markdown",
   "id": "dc19ca63",
   "metadata": {
    "deletable": false,
    "editable": false,
    "id": "9904cf55"
   },
   "source": [
    "### Категоризация данных"
   ]
  },
  {
   "cell_type": "markdown",
   "id": "1967d2f0",
   "metadata": {
    "deletable": false,
    "editable": false,
    "id": "72fcc8a2"
   },
   "source": [
    "**Задание 16. На основании диапазонов, указанных ниже, создайте в датафрейме `data` столбец `total_income_category` с категориями:**\n",
    "\n",
    "- 0–30000 — `'E'`;\n",
    "- 30001–50000 — `'D'`;\n",
    "- 50001–200000 — `'C'`;\n",
    "- 200001–1000000 — `'B'`;\n",
    "- 1000001 и выше — `'A'`.\n",
    "\n",
    "\n",
    "**Например, кредитополучателю с доходом 25000 нужно назначить категорию `'E'`, а клиенту, получающему 235000, — `'B'`. Используйте собственную функцию с именем `categorize_income()` и метод `apply()`.**"
   ]
  },
  {
   "cell_type": "code",
   "execution_count": 18,
   "id": "11a904a6",
   "metadata": {
    "deletable": false,
    "id": "e1771346"
   },
   "outputs": [],
   "source": [
    "def categorize_income(income):\n",
    "    try:\n",
    "        if 0 <= income <= 30000:\n",
    "            return 'E'\n",
    "        elif 30001 <= income <= 50000:\n",
    "            return 'D'\n",
    "        elif 50001 <= income <= 200000:\n",
    "            return 'C'\n",
    "        elif 200001 <= income <= 1000000:\n",
    "            return 'B'\n",
    "        elif income >= 1000001:\n",
    "            return 'A'\n",
    "    except:\n",
    "        pass"
   ]
  },
  {
   "cell_type": "markdown",
   "id": "1ffcb370",
   "metadata": {},
   "source": [
    "*Создадим функцию для разделения доходов на категории*"
   ]
  },
  {
   "cell_type": "code",
   "execution_count": 19,
   "id": "88df413d",
   "metadata": {
    "deletable": false,
    "id": "d5f3586d"
   },
   "outputs": [],
   "source": [
    "data['total_income_category'] = data['total_income'].apply(categorize_income)"
   ]
  },
  {
   "cell_type": "markdown",
   "id": "cdfaf526",
   "metadata": {},
   "source": [
    "*Применим ее к новому столбцу*"
   ]
  },
  {
   "cell_type": "markdown",
   "id": "39e8bfc6",
   "metadata": {
    "deletable": false,
    "editable": false,
    "id": "dde49b5c"
   },
   "source": [
    "**Задание 17. Выведите на экран перечень уникальных целей взятия кредита из столбца `purpose`.**"
   ]
  },
  {
   "cell_type": "code",
   "execution_count": 20,
   "id": "f92a5e61",
   "metadata": {
    "deletable": false,
    "id": "f67ce9b3",
    "outputId": "673c12d9-7d7e-4ae0-9812-c622c89dd244",
    "scrolled": true
   },
   "outputs": [
    {
     "data": {
      "text/plain": [
       "array(['покупка жилья', 'приобретение автомобиля',\n",
       "       'дополнительное образование', 'сыграть свадьбу',\n",
       "       'операции с жильем', 'образование', 'на проведение свадьбы',\n",
       "       'покупка жилья для семьи', 'покупка недвижимости',\n",
       "       'покупка коммерческой недвижимости', 'покупка жилой недвижимости',\n",
       "       'строительство собственной недвижимости', 'недвижимость',\n",
       "       'строительство недвижимости', 'на покупку подержанного автомобиля',\n",
       "       'на покупку своего автомобиля',\n",
       "       'операции с коммерческой недвижимостью',\n",
       "       'строительство жилой недвижимости', 'жилье',\n",
       "       'операции со своей недвижимостью', 'автомобили',\n",
       "       'заняться образованием', 'сделка с подержанным автомобилем',\n",
       "       'получение образования', 'автомобиль', 'свадьба',\n",
       "       'получение дополнительного образования', 'покупка своего жилья',\n",
       "       'операции с недвижимостью', 'получение высшего образования',\n",
       "       'свой автомобиль', 'сделка с автомобилем',\n",
       "       'профильное образование', 'высшее образование',\n",
       "       'покупка жилья для сдачи', 'на покупку автомобиля', 'ремонт жилью',\n",
       "       'заняться высшим образованием'], dtype=object)"
      ]
     },
     "execution_count": 20,
     "metadata": {},
     "output_type": "execute_result"
    }
   ],
   "source": [
    "data['purpose'].unique()"
   ]
  },
  {
   "cell_type": "markdown",
   "id": "fae5e3e4",
   "metadata": {},
   "source": [
    "*Выведем уникальные значения столбца purpose методом unique(). \\\n",
    "Видим, что значений много, поскольку они повторяются. Их можно сократить*"
   ]
  },
  {
   "cell_type": "markdown",
   "id": "a2ca45ce",
   "metadata": {
    "deletable": false,
    "editable": false,
    "id": "85d0aef0"
   },
   "source": [
    "**Задание 18. Создайте функцию, которая на основании данных из столбца `purpose` сформирует новый столбец `purpose_category`, в который войдут следующие категории:**\n",
    "\n",
    "- `'операции с автомобилем'`,\n",
    "- `'операции с недвижимостью'`,\n",
    "- `'проведение свадьбы'`,\n",
    "- `'получение образования'`.\n",
    "\n",
    "**Например, если в столбце `purpose` находится подстрока `'на покупку автомобиля'`, то в столбце `purpose_category` должна появиться строка `'операции с автомобилем'`.**\n",
    "\n",
    "**Используйте собственную функцию с именем `categorize_purpose()` и метод `apply()`. Изучите данные в столбце `purpose` и определите, какие подстроки помогут вам правильно определить категорию.**"
   ]
  },
  {
   "cell_type": "code",
   "execution_count": 21,
   "id": "691f8344",
   "metadata": {
    "deletable": false,
    "id": "e149fab4"
   },
   "outputs": [],
   "source": [
    "def categorize_purpose(row):\n",
    "    try:\n",
    "        if 'автом' in row:\n",
    "            return 'операции с автомобилем'\n",
    "        elif 'жил' in row or 'недвиж' in row:\n",
    "            return 'операции с недвижимостью'\n",
    "        elif 'свад' in row:\n",
    "            return 'проведение свадьбы'\n",
    "        elif 'образов' in row:\n",
    "            return 'получение образования'\n",
    "    except:\n",
    "        return 'нет категории'"
   ]
  },
  {
   "cell_type": "code",
   "execution_count": 22,
   "id": "72d67e0d",
   "metadata": {
    "deletable": false,
    "id": "bf36e69b"
   },
   "outputs": [],
   "source": [
    "data['purpose_category'] = data['purpose'].apply(categorize_purpose)"
   ]
  },
  {
   "cell_type": "markdown",
   "id": "3e538c62",
   "metadata": {},
   "source": [
    "*Создали функцию, применили ее к новому столбцу. Теперь в столбце purpose есть только 4 значения, так лучше с ними работать*"
   ]
  },
  {
   "cell_type": "markdown",
   "id": "00e41e7c",
   "metadata": {
    "deletable": false,
    "editable": false,
    "id": "09b242bf"
   },
   "source": [
    "### Шаг 3. Исследуйте данные и ответьте на вопросы"
   ]
  },
  {
   "cell_type": "markdown",
   "id": "bcc41fb2",
   "metadata": {
    "deletable": false,
    "editable": false,
    "id": "c5d66278"
   },
   "source": [
    "#### 3.1 Есть ли зависимость между количеством детей и возвратом кредита в срок?"
   ]
  },
  {
   "cell_type": "markdown",
   "id": "05d2be38",
   "metadata": {},
   "source": [
    "Посмотрим на кол-во строк имевших задолженность по возврату по кол-ву детей. "
   ]
  },
  {
   "cell_type": "code",
   "execution_count": 23,
   "id": "3c3c5bcf",
   "metadata": {
    "deletable": false,
    "id": "2cacfc4a"
   },
   "outputs": [
    {
     "data": {
      "text/plain": [
       "children\n",
       "0    14091\n",
       "1     4808\n",
       "2     2052\n",
       "3      330\n",
       "4       41\n",
       "5        9\n",
       "Name: debt, dtype: int64"
      ]
     },
     "execution_count": 23,
     "metadata": {},
     "output_type": "execute_result"
    }
   ],
   "source": [
    "children_debt = data.groupby('children')['debt'].count()\n",
    "children_debt# Ваш код будет здесь. Вы можете создавать новые ячейки."
   ]
  },
  {
   "cell_type": "markdown",
   "id": "1259bdc3",
   "metadata": {},
   "source": [
    "Если я правильно поняла изначальные данные, то бездетные чаще берут кредиты, поскольку у них >14000 строк(среди которых люди, которые и имели задолженность и не имели)"
   ]
  },
  {
   "cell_type": "code",
   "execution_count": 24,
   "id": "ab4859be",
   "metadata": {},
   "outputs": [
    {
     "data": {
      "text/html": [
       "<div>\n",
       "<style scoped>\n",
       "    .dataframe tbody tr th:only-of-type {\n",
       "        vertical-align: middle;\n",
       "    }\n",
       "\n",
       "    .dataframe tbody tr th {\n",
       "        vertical-align: top;\n",
       "    }\n",
       "\n",
       "    .dataframe thead th {\n",
       "        text-align: right;\n",
       "    }\n",
       "</style>\n",
       "<table border=\"1\" class=\"dataframe\">\n",
       "  <thead>\n",
       "    <tr style=\"text-align: right;\">\n",
       "      <th>debt</th>\n",
       "      <th>0</th>\n",
       "      <th>1</th>\n",
       "      <th>Общее кол-во заемщиков</th>\n",
       "      <th>Средний % просрочки</th>\n",
       "    </tr>\n",
       "    <tr>\n",
       "      <th>children</th>\n",
       "      <th></th>\n",
       "      <th></th>\n",
       "      <th></th>\n",
       "      <th></th>\n",
       "    </tr>\n",
       "  </thead>\n",
       "  <tbody>\n",
       "    <tr>\n",
       "      <th>0</th>\n",
       "      <td>13028.0</td>\n",
       "      <td>1063.0</td>\n",
       "      <td>14091</td>\n",
       "      <td>8.159349</td>\n",
       "    </tr>\n",
       "    <tr>\n",
       "      <th>1</th>\n",
       "      <td>4364.0</td>\n",
       "      <td>444.0</td>\n",
       "      <td>4808</td>\n",
       "      <td>10.174152</td>\n",
       "    </tr>\n",
       "    <tr>\n",
       "      <th>2</th>\n",
       "      <td>1858.0</td>\n",
       "      <td>194.0</td>\n",
       "      <td>2052</td>\n",
       "      <td>10.441335</td>\n",
       "    </tr>\n",
       "    <tr>\n",
       "      <th>3</th>\n",
       "      <td>303.0</td>\n",
       "      <td>27.0</td>\n",
       "      <td>330</td>\n",
       "      <td>8.910891</td>\n",
       "    </tr>\n",
       "    <tr>\n",
       "      <th>4</th>\n",
       "      <td>37.0</td>\n",
       "      <td>4.0</td>\n",
       "      <td>41</td>\n",
       "      <td>10.810811</td>\n",
       "    </tr>\n",
       "    <tr>\n",
       "      <th>5</th>\n",
       "      <td>9.0</td>\n",
       "      <td>NaN</td>\n",
       "      <td>9</td>\n",
       "      <td>NaN</td>\n",
       "    </tr>\n",
       "  </tbody>\n",
       "</table>\n",
       "</div>"
      ],
      "text/plain": [
       "debt            0       1  Общее кол-во заемщиков  Средний % просрочки\n",
       "children                                                              \n",
       "0         13028.0  1063.0                   14091             8.159349\n",
       "1          4364.0   444.0                    4808            10.174152\n",
       "2          1858.0   194.0                    2052            10.441335\n",
       "3           303.0    27.0                     330             8.910891\n",
       "4            37.0     4.0                      41            10.810811\n",
       "5             9.0     NaN                       9                  NaN"
      ]
     },
     "execution_count": 24,
     "metadata": {},
     "output_type": "execute_result"
    }
   ],
   "source": [
    "children_have_debt = data.pivot_table(index = ['children'], \\\n",
    "                                columns = ['debt'], \\\n",
    "                                values = 'total_income', aggfunc='count')\n",
    "children_have_debt['Общее кол-во заемщиков'] = data.groupby('children')['debt'].count()\n",
    "children_have_debt['Средний % просрочки'] = children_have_debt[1]/ children_have_debt[0] *100\n",
    "children_have_debt"
   ]
  },
  {
   "cell_type": "markdown",
   "id": "4be42f84",
   "metadata": {
    "deletable": false,
    "id": "3a6b99ec"
   },
   "source": [
    "**Вывод: Зависимость незначительна** \\\n",
    "Среди бездетных больше людей, имевших задолженность, но в соотношении у них процент должников ниже остальных. В целом, разница между количество детей и возвратом кредита в срок незначительна. \\\n",
    "В семьях с 5 детьми вообще нет должников. По ним мало данных для достоверной оценки и для корректности сравним три самые многочисленные выборки - семьи с количеством детей 0,1 или 2: \\\n",
    "Среди них кол-во должников растет с увеличением кол-ва детей. У бездетных процент должников ниже всех, между семьями с 1 и 2 ребенком разница небольшая, но она есть. Семьи с 1 ребенком чаще возвращают кредит в срок, чем семьи с 2 детьми."
   ]
  },
  {
   "cell_type": "markdown",
   "id": "9d5f31c8",
   "metadata": {
    "deletable": false,
    "editable": false,
    "id": "97be82ca"
   },
   "source": [
    "#### 3.2 Есть ли зависимость между семейным положением и возвратом кредита в срок?"
   ]
  },
  {
   "cell_type": "code",
   "execution_count": 25,
   "id": "61e4d040",
   "metadata": {
    "deletable": false,
    "id": "dc3f7ee8"
   },
   "outputs": [
    {
     "data": {
      "text/plain": [
       "family_status\n",
       "Не женат / не замужем     2796\n",
       "в разводе                 1189\n",
       "вдовец / вдова             951\n",
       "гражданский брак          4134\n",
       "женат / замужем          12261\n",
       "Name: debt, dtype: int64"
      ]
     },
     "execution_count": 25,
     "metadata": {},
     "output_type": "execute_result"
    }
   ],
   "source": [
    "family_status_debt = data.groupby('family_status')['debt'].count()\n",
    "family_status_debt# Ваш код будет здесь. Вы можете создавать новые ячейки."
   ]
  },
  {
   "cell_type": "code",
   "execution_count": 26,
   "id": "98a5eac6",
   "metadata": {},
   "outputs": [
    {
     "data": {
      "text/html": [
       "<div>\n",
       "<style scoped>\n",
       "    .dataframe tbody tr th:only-of-type {\n",
       "        vertical-align: middle;\n",
       "    }\n",
       "\n",
       "    .dataframe tbody tr th {\n",
       "        vertical-align: top;\n",
       "    }\n",
       "\n",
       "    .dataframe thead th {\n",
       "        text-align: right;\n",
       "    }\n",
       "</style>\n",
       "<table border=\"1\" class=\"dataframe\">\n",
       "  <thead>\n",
       "    <tr style=\"text-align: right;\">\n",
       "      <th>debt</th>\n",
       "      <th>0</th>\n",
       "      <th>1</th>\n",
       "      <th>Общее кол-во заемщиков</th>\n",
       "      <th>Средний % просрочки</th>\n",
       "    </tr>\n",
       "    <tr>\n",
       "      <th>family_status</th>\n",
       "      <th></th>\n",
       "      <th></th>\n",
       "      <th></th>\n",
       "      <th></th>\n",
       "    </tr>\n",
       "  </thead>\n",
       "  <tbody>\n",
       "    <tr>\n",
       "      <th>Не женат / не замужем</th>\n",
       "      <td>2523</td>\n",
       "      <td>273</td>\n",
       "      <td>2796</td>\n",
       "      <td>10.820452</td>\n",
       "    </tr>\n",
       "    <tr>\n",
       "      <th>в разводе</th>\n",
       "      <td>1105</td>\n",
       "      <td>84</td>\n",
       "      <td>1189</td>\n",
       "      <td>7.601810</td>\n",
       "    </tr>\n",
       "    <tr>\n",
       "      <th>вдовец / вдова</th>\n",
       "      <td>888</td>\n",
       "      <td>63</td>\n",
       "      <td>951</td>\n",
       "      <td>7.094595</td>\n",
       "    </tr>\n",
       "    <tr>\n",
       "      <th>гражданский брак</th>\n",
       "      <td>3749</td>\n",
       "      <td>385</td>\n",
       "      <td>4134</td>\n",
       "      <td>10.269405</td>\n",
       "    </tr>\n",
       "    <tr>\n",
       "      <th>женат / замужем</th>\n",
       "      <td>11334</td>\n",
       "      <td>927</td>\n",
       "      <td>12261</td>\n",
       "      <td>8.178931</td>\n",
       "    </tr>\n",
       "  </tbody>\n",
       "</table>\n",
       "</div>"
      ],
      "text/plain": [
       "debt                       0    1  Общее кол-во заемщиков  Средний % просрочки\n",
       "family_status                                                                 \n",
       "Не женат / не замужем   2523  273                    2796            10.820452\n",
       "в разводе               1105   84                    1189             7.601810\n",
       "вдовец / вдова           888   63                     951             7.094595\n",
       "гражданский брак        3749  385                    4134            10.269405\n",
       "женат / замужем        11334  927                   12261             8.178931"
      ]
     },
     "execution_count": 26,
     "metadata": {},
     "output_type": "execute_result"
    }
   ],
   "source": [
    "family_status_have_debt = data.pivot_table(index = ['family_status'], \\\n",
    "                                columns = ['debt'], \\\n",
    "                                values = 'total_income', aggfunc='count')\n",
    "family_status_have_debt['Общее кол-во заемщиков'] = data.groupby('family_status')['debt'].count()\n",
    "family_status_have_debt['Средний % просрочки'] = family_status_have_debt[1]/ family_status_have_debt[0] *100\n",
    "family_status_have_debt"
   ]
  },
  {
   "cell_type": "markdown",
   "id": "3c27cbf1",
   "metadata": {
    "deletable": false,
    "id": "1cef7837"
   },
   "source": [
    "**Вывод: Зависимость есть** \\\n",
    "В процентах самые низкие показатели у разведенных и вдов, т.е. вероятность возврата кредита у них выше. \n",
    "Незамужние и проживающие в гражданском браке хуже всех возвращают кредиты."
   ]
  },
  {
   "cell_type": "markdown",
   "id": "982be42b",
   "metadata": {
    "deletable": false,
    "editable": false,
    "id": "1e8b2fca"
   },
   "source": [
    "#### 3.3 Есть ли зависимость между уровнем дохода и возвратом кредита в срок?"
   ]
  },
  {
   "cell_type": "markdown",
   "id": "2f6f74a9",
   "metadata": {},
   "source": [
    "Посмотрим на минимальные,максимальные и медианные значения дохода"
   ]
  },
  {
   "cell_type": "code",
   "execution_count": 27,
   "id": "9042cb73",
   "metadata": {
    "deletable": false,
    "id": "cd7e3720"
   },
   "outputs": [
    {
     "data": {
      "text/plain": [
       "20667"
      ]
     },
     "execution_count": 27,
     "metadata": {},
     "output_type": "execute_result"
    }
   ],
   "source": [
    "data['total_income'].min()# Ваш код будет здесь. Вы можете создавать новые ячейки."
   ]
  },
  {
   "cell_type": "code",
   "execution_count": 28,
   "id": "d130e6b9",
   "metadata": {},
   "outputs": [
    {
     "data": {
      "text/plain": [
       "2265604"
      ]
     },
     "execution_count": 28,
     "metadata": {},
     "output_type": "execute_result"
    }
   ],
   "source": [
    "data['total_income'].max()"
   ]
  },
  {
   "cell_type": "code",
   "execution_count": 29,
   "id": "aeceeec4",
   "metadata": {},
   "outputs": [
    {
     "data": {
      "text/plain": [
       "142594.0"
      ]
     },
     "execution_count": 29,
     "metadata": {},
     "output_type": "execute_result"
    }
   ],
   "source": [
    "data['total_income'].median()"
   ]
  },
  {
   "cell_type": "markdown",
   "id": "dc6bdff7",
   "metadata": {},
   "source": [
    "Поделим их на 4 категории"
   ]
  },
  {
   "cell_type": "code",
   "execution_count": 30,
   "id": "3abbc2fb",
   "metadata": {},
   "outputs": [],
   "source": [
    "def income(total_income):\n",
    "    if total_income <= 90000:\n",
    "        return 'Низкий уровень дохода'\n",
    "    if total_income <= 150000:\n",
    "        return 'Средний уровень дохода'\n",
    "    if total_income <= 200000:\n",
    "        return 'Высокий уровень дохода'\n",
    "    return 'Очень высокий уровень дохода'"
   ]
  },
  {
   "cell_type": "code",
   "execution_count": 31,
   "id": "bd49b172",
   "metadata": {},
   "outputs": [],
   "source": [
    "data['income_status'] = data['total_income'].apply(income)"
   ]
  },
  {
   "cell_type": "code",
   "execution_count": 32,
   "id": "8cab9852",
   "metadata": {
    "scrolled": true
   },
   "outputs": [
    {
     "data": {
      "text/html": [
       "<div>\n",
       "<style scoped>\n",
       "    .dataframe tbody tr th:only-of-type {\n",
       "        vertical-align: middle;\n",
       "    }\n",
       "\n",
       "    .dataframe tbody tr th {\n",
       "        vertical-align: top;\n",
       "    }\n",
       "\n",
       "    .dataframe thead th {\n",
       "        text-align: right;\n",
       "    }\n",
       "</style>\n",
       "<table border=\"1\" class=\"dataframe\">\n",
       "  <thead>\n",
       "    <tr style=\"text-align: right;\">\n",
       "      <th></th>\n",
       "      <th>children</th>\n",
       "      <th>days_employed</th>\n",
       "      <th>dob_years</th>\n",
       "      <th>education</th>\n",
       "      <th>education_id</th>\n",
       "      <th>family_status</th>\n",
       "      <th>family_status_id</th>\n",
       "      <th>gender</th>\n",
       "      <th>income_type</th>\n",
       "      <th>debt</th>\n",
       "      <th>total_income</th>\n",
       "      <th>purpose</th>\n",
       "      <th>total_income_category</th>\n",
       "      <th>purpose_category</th>\n",
       "      <th>income_status</th>\n",
       "    </tr>\n",
       "  </thead>\n",
       "  <tbody>\n",
       "    <tr>\n",
       "      <th>0</th>\n",
       "      <td>1</td>\n",
       "      <td>8437.673028</td>\n",
       "      <td>42</td>\n",
       "      <td>высшее</td>\n",
       "      <td>0</td>\n",
       "      <td>женат / замужем</td>\n",
       "      <td>0</td>\n",
       "      <td>F</td>\n",
       "      <td>сотрудник</td>\n",
       "      <td>0</td>\n",
       "      <td>253875</td>\n",
       "      <td>покупка жилья</td>\n",
       "      <td>B</td>\n",
       "      <td>операции с недвижимостью</td>\n",
       "      <td>Очень высокий уровень дохода</td>\n",
       "    </tr>\n",
       "    <tr>\n",
       "      <th>1</th>\n",
       "      <td>1</td>\n",
       "      <td>4024.803754</td>\n",
       "      <td>36</td>\n",
       "      <td>среднее</td>\n",
       "      <td>1</td>\n",
       "      <td>женат / замужем</td>\n",
       "      <td>0</td>\n",
       "      <td>F</td>\n",
       "      <td>сотрудник</td>\n",
       "      <td>0</td>\n",
       "      <td>112080</td>\n",
       "      <td>приобретение автомобиля</td>\n",
       "      <td>C</td>\n",
       "      <td>операции с автомобилем</td>\n",
       "      <td>Средний уровень дохода</td>\n",
       "    </tr>\n",
       "    <tr>\n",
       "      <th>2</th>\n",
       "      <td>0</td>\n",
       "      <td>5623.422610</td>\n",
       "      <td>33</td>\n",
       "      <td>среднее</td>\n",
       "      <td>1</td>\n",
       "      <td>женат / замужем</td>\n",
       "      <td>0</td>\n",
       "      <td>M</td>\n",
       "      <td>сотрудник</td>\n",
       "      <td>0</td>\n",
       "      <td>145885</td>\n",
       "      <td>покупка жилья</td>\n",
       "      <td>C</td>\n",
       "      <td>операции с недвижимостью</td>\n",
       "      <td>Средний уровень дохода</td>\n",
       "    </tr>\n",
       "    <tr>\n",
       "      <th>3</th>\n",
       "      <td>3</td>\n",
       "      <td>4124.747207</td>\n",
       "      <td>32</td>\n",
       "      <td>среднее</td>\n",
       "      <td>1</td>\n",
       "      <td>женат / замужем</td>\n",
       "      <td>0</td>\n",
       "      <td>M</td>\n",
       "      <td>сотрудник</td>\n",
       "      <td>0</td>\n",
       "      <td>267628</td>\n",
       "      <td>дополнительное образование</td>\n",
       "      <td>B</td>\n",
       "      <td>получение образования</td>\n",
       "      <td>Очень высокий уровень дохода</td>\n",
       "    </tr>\n",
       "    <tr>\n",
       "      <th>4</th>\n",
       "      <td>0</td>\n",
       "      <td>340266.072047</td>\n",
       "      <td>53</td>\n",
       "      <td>среднее</td>\n",
       "      <td>1</td>\n",
       "      <td>гражданский брак</td>\n",
       "      <td>1</td>\n",
       "      <td>F</td>\n",
       "      <td>пенсионер</td>\n",
       "      <td>0</td>\n",
       "      <td>158616</td>\n",
       "      <td>сыграть свадьбу</td>\n",
       "      <td>C</td>\n",
       "      <td>проведение свадьбы</td>\n",
       "      <td>Высокий уровень дохода</td>\n",
       "    </tr>\n",
       "  </tbody>\n",
       "</table>\n",
       "</div>"
      ],
      "text/plain": [
       "   children  days_employed  dob_years education  education_id  \\\n",
       "0         1    8437.673028         42    высшее             0   \n",
       "1         1    4024.803754         36   среднее             1   \n",
       "2         0    5623.422610         33   среднее             1   \n",
       "3         3    4124.747207         32   среднее             1   \n",
       "4         0  340266.072047         53   среднее             1   \n",
       "\n",
       "      family_status  family_status_id gender income_type  debt  total_income  \\\n",
       "0   женат / замужем                 0      F   сотрудник     0        253875   \n",
       "1   женат / замужем                 0      F   сотрудник     0        112080   \n",
       "2   женат / замужем                 0      M   сотрудник     0        145885   \n",
       "3   женат / замужем                 0      M   сотрудник     0        267628   \n",
       "4  гражданский брак                 1      F   пенсионер     0        158616   \n",
       "\n",
       "                      purpose total_income_category          purpose_category  \\\n",
       "0               покупка жилья                     B  операции с недвижимостью   \n",
       "1     приобретение автомобиля                     C    операции с автомобилем   \n",
       "2               покупка жилья                     C  операции с недвижимостью   \n",
       "3  дополнительное образование                     B     получение образования   \n",
       "4             сыграть свадьбу                     C        проведение свадьбы   \n",
       "\n",
       "                  income_status  \n",
       "0  Очень высокий уровень дохода  \n",
       "1        Средний уровень дохода  \n",
       "2        Средний уровень дохода  \n",
       "3  Очень высокий уровень дохода  \n",
       "4        Высокий уровень дохода  "
      ]
     },
     "execution_count": 32,
     "metadata": {},
     "output_type": "execute_result"
    }
   ],
   "source": [
    "data.head()"
   ]
  },
  {
   "cell_type": "code",
   "execution_count": 33,
   "id": "73b8a2fe",
   "metadata": {
    "scrolled": true
   },
   "outputs": [
    {
     "data": {
      "text/plain": [
       "Средний уровень дохода          8221\n",
       "Очень высокий уровень дохода    5039\n",
       "Высокий уровень дохода          4738\n",
       "Низкий уровень дохода           3333\n",
       "Name: income_status, dtype: int64"
      ]
     },
     "execution_count": 33,
     "metadata": {},
     "output_type": "execute_result"
    }
   ],
   "source": [
    "data['income_status'].value_counts()"
   ]
  },
  {
   "cell_type": "markdown",
   "id": "2f348746",
   "metadata": {},
   "source": [
    "Большую часть составляют семьи со средним доходом, наименьшую - с низким."
   ]
  },
  {
   "cell_type": "code",
   "execution_count": 34,
   "id": "8165d298",
   "metadata": {},
   "outputs": [
    {
     "data": {
      "text/html": [
       "<div>\n",
       "<style scoped>\n",
       "    .dataframe tbody tr th:only-of-type {\n",
       "        vertical-align: middle;\n",
       "    }\n",
       "\n",
       "    .dataframe tbody tr th {\n",
       "        vertical-align: top;\n",
       "    }\n",
       "\n",
       "    .dataframe thead th {\n",
       "        text-align: right;\n",
       "    }\n",
       "</style>\n",
       "<table border=\"1\" class=\"dataframe\">\n",
       "  <thead>\n",
       "    <tr style=\"text-align: right;\">\n",
       "      <th>debt</th>\n",
       "      <th>0</th>\n",
       "      <th>1</th>\n",
       "      <th>Общее кол-во заемщиков</th>\n",
       "      <th>Средний % должников</th>\n",
       "    </tr>\n",
       "    <tr>\n",
       "      <th>income_status</th>\n",
       "      <th></th>\n",
       "      <th></th>\n",
       "      <th></th>\n",
       "      <th></th>\n",
       "    </tr>\n",
       "  </thead>\n",
       "  <tbody>\n",
       "    <tr>\n",
       "      <th>Высокий уровень дохода</th>\n",
       "      <td>4335</td>\n",
       "      <td>403</td>\n",
       "      <td>4738</td>\n",
       "      <td>9.296424</td>\n",
       "    </tr>\n",
       "    <tr>\n",
       "      <th>Низкий уровень дохода</th>\n",
       "      <td>3071</td>\n",
       "      <td>262</td>\n",
       "      <td>3333</td>\n",
       "      <td>8.531423</td>\n",
       "    </tr>\n",
       "    <tr>\n",
       "      <th>Очень высокий уровень дохода</th>\n",
       "      <td>4683</td>\n",
       "      <td>356</td>\n",
       "      <td>5039</td>\n",
       "      <td>7.601965</td>\n",
       "    </tr>\n",
       "    <tr>\n",
       "      <th>Средний уровень дохода</th>\n",
       "      <td>7510</td>\n",
       "      <td>711</td>\n",
       "      <td>8221</td>\n",
       "      <td>9.467377</td>\n",
       "    </tr>\n",
       "  </tbody>\n",
       "</table>\n",
       "</div>"
      ],
      "text/plain": [
       "debt                             0    1  Общее кол-во заемщиков  \\\n",
       "income_status                                                     \n",
       "Высокий уровень дохода        4335  403                    4738   \n",
       "Низкий уровень дохода         3071  262                    3333   \n",
       "Очень высокий уровень дохода  4683  356                    5039   \n",
       "Средний уровень дохода        7510  711                    8221   \n",
       "\n",
       "debt                          Средний % должников  \n",
       "income_status                                      \n",
       "Высокий уровень дохода                   9.296424  \n",
       "Низкий уровень дохода                    8.531423  \n",
       "Очень высокий уровень дохода             7.601965  \n",
       "Средний уровень дохода                   9.467377  "
      ]
     },
     "execution_count": 34,
     "metadata": {},
     "output_type": "execute_result"
    }
   ],
   "source": [
    "income_have_debt = data.pivot_table(index = ['income_status'], \\\n",
    "                                columns = ['debt'], \\\n",
    "                                values = 'total_income', aggfunc='count')\n",
    "income_have_debt['Общее кол-во заемщиков'] = data.groupby('income_status')['debt'].count()\n",
    "income_have_debt['Средний % должников'] = income_have_debt[1]/ income_have_debt[0] *100\n",
    "income_have_debt"
   ]
  },
  {
   "cell_type": "markdown",
   "id": "c38a98d6",
   "metadata": {
    "deletable": false,
    "id": "e8593def"
   },
   "source": [
    "**Вывод: Зависимость в возврате кредита в срок от дохода незначительна** \\\n",
    "Сравним из полученных данных две самые многочисленные выборки: семьи с средним уровнем дохода и очень высоким уровнем дохода. \\\n",
    "Среди семей с очень высоким уровнем дохода процент должников ниже и составляет 7,6 %, с средним уровнем дохода - он выше и составляет 9,5%. "
   ]
  },
  {
   "cell_type": "markdown",
   "id": "19e83bdd",
   "metadata": {
    "deletable": false,
    "editable": false,
    "id": "99ecbd1f"
   },
   "source": [
    "#### 3.4 Как разные цели кредита влияют на его возврат в срок?"
   ]
  },
  {
   "cell_type": "code",
   "execution_count": 35,
   "id": "7c63c95d",
   "metadata": {
    "deletable": false,
    "id": "2b687290"
   },
   "outputs": [
    {
     "data": {
      "text/html": [
       "<div>\n",
       "<style scoped>\n",
       "    .dataframe tbody tr th:only-of-type {\n",
       "        vertical-align: middle;\n",
       "    }\n",
       "\n",
       "    .dataframe tbody tr th {\n",
       "        vertical-align: top;\n",
       "    }\n",
       "\n",
       "    .dataframe thead th {\n",
       "        text-align: right;\n",
       "    }\n",
       "</style>\n",
       "<table border=\"1\" class=\"dataframe\">\n",
       "  <thead>\n",
       "    <tr style=\"text-align: right;\">\n",
       "      <th>debt</th>\n",
       "      <th>0</th>\n",
       "      <th>1</th>\n",
       "      <th>Общее кол-во заемщиков</th>\n",
       "      <th>Средний % должников</th>\n",
       "    </tr>\n",
       "    <tr>\n",
       "      <th>purpose_category</th>\n",
       "      <th></th>\n",
       "      <th></th>\n",
       "      <th></th>\n",
       "      <th></th>\n",
       "    </tr>\n",
       "  </thead>\n",
       "  <tbody>\n",
       "    <tr>\n",
       "      <th>операции с автомобилем</th>\n",
       "      <td>3879</td>\n",
       "      <td>400</td>\n",
       "      <td>4279</td>\n",
       "      <td>10.311936</td>\n",
       "    </tr>\n",
       "    <tr>\n",
       "      <th>операции с недвижимостью</th>\n",
       "      <td>9971</td>\n",
       "      <td>780</td>\n",
       "      <td>10751</td>\n",
       "      <td>7.822686</td>\n",
       "    </tr>\n",
       "    <tr>\n",
       "      <th>получение образования</th>\n",
       "      <td>3619</td>\n",
       "      <td>369</td>\n",
       "      <td>3988</td>\n",
       "      <td>10.196187</td>\n",
       "    </tr>\n",
       "    <tr>\n",
       "      <th>проведение свадьбы</th>\n",
       "      <td>2130</td>\n",
       "      <td>183</td>\n",
       "      <td>2313</td>\n",
       "      <td>8.591549</td>\n",
       "    </tr>\n",
       "  </tbody>\n",
       "</table>\n",
       "</div>"
      ],
      "text/plain": [
       "debt                         0    1  Общее кол-во заемщиков  \\\n",
       "purpose_category                                              \n",
       "операции с автомобилем    3879  400                    4279   \n",
       "операции с недвижимостью  9971  780                   10751   \n",
       "получение образования     3619  369                    3988   \n",
       "проведение свадьбы        2130  183                    2313   \n",
       "\n",
       "debt                      Средний % должников  \n",
       "purpose_category                               \n",
       "операции с автомобилем              10.311936  \n",
       "операции с недвижимостью             7.822686  \n",
       "получение образования               10.196187  \n",
       "проведение свадьбы                   8.591549  "
      ]
     },
     "execution_count": 35,
     "metadata": {},
     "output_type": "execute_result"
    }
   ],
   "source": [
    "purpose_have_debt = data.pivot_table(index = ['purpose_category'], \\\n",
    "                                columns = ['debt'], \\\n",
    "                                values = 'total_income', aggfunc='count')\n",
    "purpose_have_debt['Общее кол-во заемщиков'] = data.groupby('purpose_category')['debt'].count()\n",
    "purpose_have_debt['Средний % должников'] = purpose_have_debt[1]/purpose_have_debt[0] * 100\n",
    "purpose_have_debt# Ваш код будет здесь. Вы можете создавать новые ячейки."
   ]
  },
  {
   "cell_type": "markdown",
   "id": "4f06192b",
   "metadata": {
    "deletable": false,
    "id": "b4bb2ce6"
   },
   "source": [
    "**Вывод: Зависимость между целью кредита и возврата его в срок есть** \\\n",
    "Лучше возвращают кредит на операции с недвижимостью, думаю, это связано с тем, что к данной цели люди подходят более осознанно и если, например, это ипотека, то люди не могут не платить за нее, т.к. многие платят ипотеку и в этой квартире и живут, т.е. своевременная невыплата может грозить более серьезными последствиями и ежемесячный платеж по ипотеке - регулярное обязательство."
   ]
  },
  {
   "cell_type": "markdown",
   "id": "960be755",
   "metadata": {
    "deletable": false,
    "editable": false,
    "id": "09c3ac4c"
   },
   "source": [
    "#### 3.5 Приведите возможные причины появления пропусков в исходных данных."
   ]
  },
  {
   "cell_type": "markdown",
   "id": "b1d03137",
   "metadata": {
    "deletable": false,
    "id": "9da2ceda"
   },
   "source": [
    "*Ответ:* Это может быть сбой в системе (как при внесении, так и при передаче данных), человеческий фактор (например, вместо \"15\" человек может написать \"150\")"
   ]
  },
  {
   "cell_type": "markdown",
   "id": "1ab3610b",
   "metadata": {
    "deletable": false,
    "editable": false,
    "id": "7b0487d6"
   },
   "source": [
    "#### 3.6 Объясните, почему заполнить пропуски медианным значением — лучшее решение для количественных переменных."
   ]
  },
  {
   "cell_type": "markdown",
   "id": "1005121a",
   "metadata": {
    "deletable": false,
    "id": "7ecf2b8e"
   },
   "source": [
    "*Ответ:* В случае если в данных есть некорректные или большие/маленькие значения, медиана сможет \"не реагировать\" на них и выдать реальное значение, в отличии от средней, на которую эти значения могут сильно повляить"
   ]
  },
  {
   "cell_type": "markdown",
   "id": "48ed7755",
   "metadata": {
    "deletable": false,
    "editable": false,
    "id": "6db5255a"
   },
   "source": [
    "### Шаг 4: общий вывод."
   ]
  },
  {
   "cell_type": "markdown",
   "id": "8d34d64e",
   "metadata": {
    "deletable": false,
    "id": "bad65432"
   },
   "source": [
    "Работа была проведена с информацией о кредитозаемщиках, с помощью которой были выявлены зависимости о возврате кредита в срок между количеством детей, семейным положением, уровнем дохода и целями кредита. \\\n",
    "На этапе предобработки данных выявили пропущенные значения в столбцах и заменили их медианными, заменили/удалили аномальные значения, заменили в необходимых столбцах вещественные типы данных на целочисленные, выявили и обработали дубликаты, а также поделили некоторые столбцы на категории.  \n",
    "\n",
    "В целом, зависимость наблюдается. \\\n",
    "Между кол-вом детей: надежнее всего бездетные семьи, среди них наименьший процент должников - 8,2 %.\\\n",
    "Между семейным положением: самый низкий процент должников среди разведенных(7,6%) и вдов(7,1 %).\\\n",
    "Между уровнем дохода: семьи с очень высоким уровнем дохода(200000 тыс. руб +) и средним уровнем дохода(150000 тыс. руб +) лучше возвращают кредиты в срок.\\\n",
    "Между целями кредита: самыми возвращаемыми в срок являются кредиты на недвижимость, хуже всего возвращают автокредиты и кредиты на образование.\n",
    "\n",
    "Рекомендации для банка: \n",
    "- Для подсчета трудового стажа использовать годы, а не дни.\n",
    "- Установить диапазон вводимых значений, например, на кол-во детей во избежание аномальных значений.\n",
    "- При заполнении анкеты указать рекомендации для клиентов,например, использование целых значений в столбце \"ежемесячный доход\" и использование единого регистра.\n",
    "- В столбце \"цель кредита\" сделать список с несколькими категориями, чтобы люди выбирали подходящий под них, а не вводили сами."
   ]
  }
 ],
 "metadata": {
  "ExecuteTimeLog": [
   {
    "duration": 48,
    "start_time": "2022-10-28T22:49:40.315Z"
   },
   {
    "duration": 47,
    "start_time": "2022-10-28T22:49:55.776Z"
   },
   {
    "duration": 39,
    "start_time": "2022-10-28T22:50:11.271Z"
   },
   {
    "duration": 3,
    "start_time": "2022-10-28T22:50:17.422Z"
   },
   {
    "duration": 434,
    "start_time": "2022-10-28T22:50:29.138Z"
   },
   {
    "duration": 19,
    "start_time": "2022-10-28T22:50:33.765Z"
   },
   {
    "duration": 14,
    "start_time": "2022-10-28T22:50:40.151Z"
   },
   {
    "duration": 9,
    "start_time": "2022-10-28T22:50:44.423Z"
   },
   {
    "duration": 29,
    "start_time": "2022-10-28T22:50:48.389Z"
   },
   {
    "duration": 4,
    "start_time": "2022-10-28T22:50:50.627Z"
   },
   {
    "duration": 7,
    "start_time": "2022-10-28T22:50:55.296Z"
   },
   {
    "duration": 5,
    "start_time": "2022-10-28T22:50:59.927Z"
   },
   {
    "duration": 6,
    "start_time": "2022-10-28T22:51:01.591Z"
   },
   {
    "duration": 4,
    "start_time": "2022-10-28T22:51:04.128Z"
   },
   {
    "duration": 36,
    "start_time": "2022-10-28T22:51:08.958Z"
   },
   {
    "duration": 9,
    "start_time": "2022-10-28T22:51:10.621Z"
   },
   {
    "duration": 4,
    "start_time": "2022-10-28T22:51:14.520Z"
   },
   {
    "duration": 10,
    "start_time": "2022-10-28T22:51:16.467Z"
   },
   {
    "duration": 20,
    "start_time": "2022-10-28T22:51:20.500Z"
   },
   {
    "duration": 17,
    "start_time": "2022-10-28T22:51:22.340Z"
   },
   {
    "duration": 3,
    "start_time": "2022-10-28T22:51:25.790Z"
   },
   {
    "duration": 9,
    "start_time": "2022-10-28T22:51:27.304Z"
   },
   {
    "duration": 5,
    "start_time": "2022-10-28T22:51:31.564Z"
   },
   {
    "duration": 4,
    "start_time": "2022-10-28T22:51:36.907Z"
   },
   {
    "duration": 8,
    "start_time": "2022-10-28T22:51:38.995Z"
   },
   {
    "duration": 16,
    "start_time": "2022-10-28T22:51:43.692Z"
   },
   {
    "duration": 33,
    "start_time": "2022-10-28T22:51:53.346Z"
   },
   {
    "duration": 11,
    "start_time": "2022-10-28T22:52:01.715Z"
   },
   {
    "duration": 6,
    "start_time": "2022-10-28T23:09:35.222Z"
   },
   {
    "duration": 7,
    "start_time": "2022-10-28T23:12:11.052Z"
   },
   {
    "duration": 7,
    "start_time": "2022-10-28T23:31:25.832Z"
   },
   {
    "duration": 19,
    "start_time": "2022-10-28T23:33:43.698Z"
   },
   {
    "duration": 657,
    "start_time": "2022-10-28T23:34:23.662Z"
   },
   {
    "duration": 705,
    "start_time": "2022-10-28T23:34:26.674Z"
   },
   {
    "duration": 666,
    "start_time": "2022-10-28T23:35:04.826Z"
   },
   {
    "duration": 699,
    "start_time": "2022-10-28T23:35:17.716Z"
   },
   {
    "duration": 17,
    "start_time": "2022-10-28T23:35:26.639Z"
   },
   {
    "duration": 17,
    "start_time": "2022-10-28T23:38:09.024Z"
   },
   {
    "duration": 42,
    "start_time": "2022-10-28T23:39:14.230Z"
   },
   {
    "duration": 13,
    "start_time": "2022-10-28T23:39:23.658Z"
   },
   {
    "duration": 17,
    "start_time": "2022-10-28T23:39:28.133Z"
   },
   {
    "duration": 7,
    "start_time": "2022-10-28T23:39:36.922Z"
   },
   {
    "duration": 17,
    "start_time": "2022-10-28T23:39:42.315Z"
   },
   {
    "duration": 23,
    "start_time": "2022-10-28T23:40:42.622Z"
   },
   {
    "duration": 55,
    "start_time": "2022-10-28T23:42:21.049Z"
   },
   {
    "duration": 43,
    "start_time": "2022-10-28T23:42:26.257Z"
   },
   {
    "duration": 54,
    "start_time": "2022-10-28T23:42:31.024Z"
   },
   {
    "duration": 42,
    "start_time": "2022-10-28T23:42:45.067Z"
   },
   {
    "duration": 7,
    "start_time": "2022-10-28T23:43:27.281Z"
   },
   {
    "duration": 12,
    "start_time": "2022-10-28T23:43:30.805Z"
   },
   {
    "duration": 16,
    "start_time": "2022-10-28T23:44:18.460Z"
   },
   {
    "duration": 7,
    "start_time": "2022-10-28T23:44:47.381Z"
   },
   {
    "duration": 8,
    "start_time": "2022-10-28T23:44:55.180Z"
   },
   {
    "duration": 16,
    "start_time": "2022-10-28T23:45:06.804Z"
   },
   {
    "duration": 14,
    "start_time": "2022-10-28T23:45:20.478Z"
   },
   {
    "duration": 16,
    "start_time": "2022-10-28T23:45:46.677Z"
   },
   {
    "duration": 15,
    "start_time": "2022-10-28T23:45:53.405Z"
   },
   {
    "duration": 15,
    "start_time": "2022-10-28T23:46:21.952Z"
   },
   {
    "duration": 16,
    "start_time": "2022-10-28T23:55:53.156Z"
   },
   {
    "duration": 9,
    "start_time": "2022-10-28T23:56:50.666Z"
   },
   {
    "duration": 15,
    "start_time": "2022-10-28T23:57:02.940Z"
   },
   {
    "duration": 19,
    "start_time": "2022-10-29T00:02:28.785Z"
   },
   {
    "duration": 17,
    "start_time": "2022-10-29T00:06:24.780Z"
   },
   {
    "duration": 17,
    "start_time": "2022-10-29T00:08:29.396Z"
   },
   {
    "duration": 8,
    "start_time": "2022-10-29T00:12:36.121Z"
   },
   {
    "duration": 7,
    "start_time": "2022-10-29T00:12:59.316Z"
   },
   {
    "duration": 43,
    "start_time": "2022-10-29T00:13:06.984Z"
   },
   {
    "duration": 17,
    "start_time": "2022-10-29T00:15:03.341Z"
   },
   {
    "duration": 10,
    "start_time": "2022-10-29T00:24:28.240Z"
   },
   {
    "duration": 8,
    "start_time": "2022-10-29T00:25:14.376Z"
   },
   {
    "duration": 8,
    "start_time": "2022-10-29T00:25:19.245Z"
   },
   {
    "duration": 4,
    "start_time": "2022-10-29T00:26:28.743Z"
   },
   {
    "duration": 4,
    "start_time": "2022-10-29T00:26:33.308Z"
   },
   {
    "duration": 4,
    "start_time": "2022-10-29T00:27:38.605Z"
   },
   {
    "duration": 3,
    "start_time": "2022-10-29T00:28:55.538Z"
   },
   {
    "duration": 5,
    "start_time": "2022-10-29T00:29:07.124Z"
   },
   {
    "duration": 3,
    "start_time": "2022-10-29T00:34:59.075Z"
   },
   {
    "duration": 9,
    "start_time": "2022-10-29T00:35:01.044Z"
   },
   {
    "duration": 13,
    "start_time": "2022-10-29T00:35:20.627Z"
   },
   {
    "duration": 12,
    "start_time": "2022-10-29T00:37:12.301Z"
   },
   {
    "duration": 8,
    "start_time": "2022-10-29T00:37:25.318Z"
   },
   {
    "duration": 57,
    "start_time": "2022-10-29T18:19:41.726Z"
   },
   {
    "duration": 1023,
    "start_time": "2022-10-29T18:19:55.089Z"
   },
   {
    "duration": 22,
    "start_time": "2022-10-29T18:19:57.207Z"
   },
   {
    "duration": 14,
    "start_time": "2022-10-29T18:19:58.393Z"
   },
   {
    "duration": 9,
    "start_time": "2022-10-29T18:20:00.129Z"
   },
   {
    "duration": 33,
    "start_time": "2022-10-29T18:20:00.598Z"
   },
   {
    "duration": 4,
    "start_time": "2022-10-29T18:20:01.093Z"
   },
   {
    "duration": 8,
    "start_time": "2022-10-29T18:20:01.609Z"
   },
   {
    "duration": 5,
    "start_time": "2022-10-29T18:20:02.157Z"
   },
   {
    "duration": 9,
    "start_time": "2022-10-29T18:20:02.531Z"
   },
   {
    "duration": 5,
    "start_time": "2022-10-29T18:20:03.034Z"
   },
   {
    "duration": 52,
    "start_time": "2022-10-29T18:20:03.570Z"
   },
   {
    "duration": 15,
    "start_time": "2022-10-29T18:20:03.960Z"
   },
   {
    "duration": 4,
    "start_time": "2022-10-29T18:20:04.527Z"
   },
   {
    "duration": 13,
    "start_time": "2022-10-29T18:20:05.104Z"
   },
   {
    "duration": 20,
    "start_time": "2022-10-29T18:20:05.543Z"
   },
   {
    "duration": 20,
    "start_time": "2022-10-29T18:20:05.739Z"
   },
   {
    "duration": 3,
    "start_time": "2022-10-29T18:20:06.307Z"
   },
   {
    "duration": 9,
    "start_time": "2022-10-29T18:20:06.689Z"
   },
   {
    "duration": 6,
    "start_time": "2022-10-29T18:20:07.202Z"
   },
   {
    "duration": 4,
    "start_time": "2022-10-29T18:20:07.618Z"
   },
   {
    "duration": 14,
    "start_time": "2022-10-29T18:20:07.805Z"
   },
   {
    "duration": 6,
    "start_time": "2022-10-29T18:20:08.637Z"
   },
   {
    "duration": 23,
    "start_time": "2022-10-29T18:20:09.037Z"
   },
   {
    "duration": 8,
    "start_time": "2022-10-29T18:20:09.645Z"
   },
   {
    "duration": 19,
    "start_time": "2022-10-29T18:20:09.842Z"
   },
   {
    "duration": 4,
    "start_time": "2022-10-29T18:20:10.671Z"
   },
   {
    "duration": 4,
    "start_time": "2022-10-29T18:20:10.881Z"
   },
   {
    "duration": 6,
    "start_time": "2022-10-29T18:20:11.105Z"
   },
   {
    "duration": 3,
    "start_time": "2022-10-29T18:20:11.517Z"
   },
   {
    "duration": 8,
    "start_time": "2022-10-29T18:20:11.706Z"
   },
   {
    "duration": 14,
    "start_time": "2022-10-29T18:20:11.896Z"
   },
   {
    "duration": 7,
    "start_time": "2022-10-29T18:21:24.575Z"
   },
   {
    "duration": 68,
    "start_time": "2022-10-29T18:25:32.843Z"
   },
   {
    "duration": 21,
    "start_time": "2022-10-29T18:26:03.502Z"
   },
   {
    "duration": 43,
    "start_time": "2022-10-29T18:38:05.754Z"
   },
   {
    "duration": 42,
    "start_time": "2022-10-29T18:38:16.094Z"
   },
   {
    "duration": 52,
    "start_time": "2022-10-29T18:38:29.698Z"
   },
   {
    "duration": 18,
    "start_time": "2022-10-29T18:39:29.125Z"
   },
   {
    "duration": 21,
    "start_time": "2022-10-29T18:39:38.333Z"
   },
   {
    "duration": 17,
    "start_time": "2022-10-29T18:39:45.726Z"
   },
   {
    "duration": 17,
    "start_time": "2022-10-29T18:40:47.664Z"
   },
   {
    "duration": 18,
    "start_time": "2022-10-29T18:41:22.718Z"
   },
   {
    "duration": 15,
    "start_time": "2022-10-29T18:41:26.758Z"
   },
   {
    "duration": 18,
    "start_time": "2022-10-29T18:41:43.366Z"
   },
   {
    "duration": 544,
    "start_time": "2022-10-30T04:23:20.025Z"
   },
   {
    "duration": 23,
    "start_time": "2022-10-30T04:23:20.571Z"
   },
   {
    "duration": 23,
    "start_time": "2022-10-30T04:23:20.595Z"
   },
   {
    "duration": 22,
    "start_time": "2022-10-30T04:23:20.621Z"
   },
   {
    "duration": 52,
    "start_time": "2022-10-30T04:23:20.645Z"
   },
   {
    "duration": 4,
    "start_time": "2022-10-30T04:23:20.699Z"
   },
   {
    "duration": 34,
    "start_time": "2022-10-30T04:23:20.705Z"
   },
   {
    "duration": 5,
    "start_time": "2022-10-30T04:23:20.741Z"
   },
   {
    "duration": 10,
    "start_time": "2022-10-30T04:23:20.748Z"
   },
   {
    "duration": 4,
    "start_time": "2022-10-30T04:23:20.761Z"
   },
   {
    "duration": 44,
    "start_time": "2022-10-30T04:23:20.766Z"
   },
   {
    "duration": 28,
    "start_time": "2022-10-30T04:23:20.811Z"
   },
   {
    "duration": 4,
    "start_time": "2022-10-30T04:23:20.841Z"
   },
   {
    "duration": 15,
    "start_time": "2022-10-30T04:23:20.846Z"
   },
   {
    "duration": 32,
    "start_time": "2022-10-30T04:23:20.863Z"
   },
   {
    "duration": 17,
    "start_time": "2022-10-30T04:23:20.896Z"
   },
   {
    "duration": 4,
    "start_time": "2022-10-30T04:23:20.915Z"
   },
   {
    "duration": 23,
    "start_time": "2022-10-30T04:23:20.920Z"
   },
   {
    "duration": 9,
    "start_time": "2022-10-30T04:23:20.945Z"
   },
   {
    "duration": 4,
    "start_time": "2022-10-30T04:23:20.955Z"
   },
   {
    "duration": 15,
    "start_time": "2022-10-30T04:23:20.960Z"
   },
   {
    "duration": 14,
    "start_time": "2022-10-30T04:23:20.976Z"
   },
   {
    "duration": 25,
    "start_time": "2022-10-30T04:23:20.992Z"
   },
   {
    "duration": 24,
    "start_time": "2022-10-30T04:23:21.019Z"
   },
   {
    "duration": 17,
    "start_time": "2022-10-30T04:23:21.044Z"
   },
   {
    "duration": 3,
    "start_time": "2022-10-30T04:23:21.063Z"
   },
   {
    "duration": 6,
    "start_time": "2022-10-30T04:23:21.067Z"
   },
   {
    "duration": 5,
    "start_time": "2022-10-30T04:23:21.076Z"
   },
   {
    "duration": 3,
    "start_time": "2022-10-30T04:23:21.082Z"
   },
   {
    "duration": 11,
    "start_time": "2022-10-30T04:23:21.087Z"
   },
   {
    "duration": 49,
    "start_time": "2022-10-30T04:23:21.099Z"
   },
   {
    "duration": 7,
    "start_time": "2022-10-30T04:23:21.149Z"
   },
   {
    "duration": 25,
    "start_time": "2022-10-30T04:23:21.157Z"
   },
   {
    "duration": 19,
    "start_time": "2022-10-30T04:23:21.184Z"
   },
   {
    "duration": 49,
    "start_time": "2022-10-30T04:25:29.348Z"
   },
   {
    "duration": 53,
    "start_time": "2022-10-30T04:33:11.161Z"
   },
   {
    "duration": 352,
    "start_time": "2022-10-31T17:43:03.162Z"
   },
   {
    "duration": 263,
    "start_time": "2022-10-31T17:43:03.791Z"
   },
   {
    "duration": 124,
    "start_time": "2022-10-31T17:46:06.206Z"
   },
   {
    "duration": 51,
    "start_time": "2022-10-31T17:48:55.770Z"
   },
   {
    "duration": 56,
    "start_time": "2022-10-31T18:03:21.922Z"
   },
   {
    "duration": 51,
    "start_time": "2022-10-31T18:08:36.750Z"
   },
   {
    "duration": 29,
    "start_time": "2022-10-31T18:18:22.534Z"
   },
   {
    "duration": 21,
    "start_time": "2022-10-31T18:19:24.180Z"
   },
   {
    "duration": 2,
    "start_time": "2022-10-31T18:19:38.771Z"
   },
   {
    "duration": 69,
    "start_time": "2022-10-31T18:19:39.335Z"
   },
   {
    "duration": 16,
    "start_time": "2022-10-31T18:19:40.703Z"
   },
   {
    "duration": 16,
    "start_time": "2022-10-31T18:19:41.024Z"
   },
   {
    "duration": 9,
    "start_time": "2022-10-31T18:19:42.526Z"
   },
   {
    "duration": 33,
    "start_time": "2022-10-31T18:19:43.232Z"
   },
   {
    "duration": 3,
    "start_time": "2022-10-31T18:19:43.808Z"
   },
   {
    "duration": 8,
    "start_time": "2022-10-31T18:19:44.381Z"
   },
   {
    "duration": 5,
    "start_time": "2022-10-31T18:19:45.166Z"
   },
   {
    "duration": 5,
    "start_time": "2022-10-31T18:19:45.753Z"
   },
   {
    "duration": 4,
    "start_time": "2022-10-31T18:19:46.665Z"
   },
   {
    "duration": 35,
    "start_time": "2022-10-31T18:19:47.200Z"
   },
   {
    "duration": 9,
    "start_time": "2022-10-31T18:19:47.797Z"
   },
   {
    "duration": 4,
    "start_time": "2022-10-31T18:19:48.765Z"
   },
   {
    "duration": 11,
    "start_time": "2022-10-31T18:19:49.611Z"
   },
   {
    "duration": 20,
    "start_time": "2022-10-31T18:19:50.231Z"
   },
   {
    "duration": 18,
    "start_time": "2022-10-31T18:19:50.454Z"
   },
   {
    "duration": 3,
    "start_time": "2022-10-31T18:19:51.260Z"
   },
   {
    "duration": 10,
    "start_time": "2022-10-31T18:19:51.676Z"
   },
   {
    "duration": 7,
    "start_time": "2022-10-31T18:19:52.288Z"
   },
   {
    "duration": 3,
    "start_time": "2022-10-31T18:19:52.909Z"
   },
   {
    "duration": 8,
    "start_time": "2022-10-31T18:19:53.126Z"
   },
   {
    "duration": 6,
    "start_time": "2022-10-31T18:19:54.107Z"
   },
   {
    "duration": 22,
    "start_time": "2022-10-31T18:20:45.689Z"
   },
   {
    "duration": 46,
    "start_time": "2022-10-31T18:23:12.447Z"
   },
   {
    "duration": 47,
    "start_time": "2022-10-31T18:23:19.042Z"
   },
   {
    "duration": 46,
    "start_time": "2022-10-31T18:23:26.038Z"
   },
   {
    "duration": 64,
    "start_time": "2022-10-31T18:23:31.571Z"
   },
   {
    "duration": 42,
    "start_time": "2022-10-31T18:24:34.561Z"
   },
   {
    "duration": 22,
    "start_time": "2022-10-31T18:35:34.698Z"
   },
   {
    "duration": 21,
    "start_time": "2022-10-31T18:35:51.747Z"
   },
   {
    "duration": 19,
    "start_time": "2022-10-31T18:36:16.563Z"
   },
   {
    "duration": 21,
    "start_time": "2022-10-31T18:36:32.019Z"
   },
   {
    "duration": 41,
    "start_time": "2022-10-31T18:37:18.698Z"
   },
   {
    "duration": 15,
    "start_time": "2022-10-31T18:39:45.099Z"
   },
   {
    "duration": 18,
    "start_time": "2022-10-31T18:40:09.826Z"
   },
   {
    "duration": 12,
    "start_time": "2022-10-31T18:40:16.058Z"
   },
   {
    "duration": 786,
    "start_time": "2022-10-31T18:40:25.751Z"
   },
   {
    "duration": 26,
    "start_time": "2022-10-31T18:40:38.962Z"
   },
   {
    "duration": 8,
    "start_time": "2022-10-31T18:40:43.115Z"
   },
   {
    "duration": 22,
    "start_time": "2022-10-31T18:40:43.612Z"
   },
   {
    "duration": 5,
    "start_time": "2022-10-31T18:40:47.124Z"
   },
   {
    "duration": 4,
    "start_time": "2022-10-31T18:41:05.772Z"
   },
   {
    "duration": 5,
    "start_time": "2022-10-31T18:41:06.343Z"
   },
   {
    "duration": 3,
    "start_time": "2022-10-31T18:41:08.315Z"
   },
   {
    "duration": 9,
    "start_time": "2022-10-31T18:41:08.908Z"
   },
   {
    "duration": 14,
    "start_time": "2022-10-31T18:41:09.184Z"
   },
   {
    "duration": 6,
    "start_time": "2022-10-31T18:41:11.067Z"
   },
   {
    "duration": 20,
    "start_time": "2022-10-31T18:41:13.924Z"
   },
   {
    "duration": 22,
    "start_time": "2022-10-31T18:41:53.219Z"
   },
   {
    "duration": 24,
    "start_time": "2022-10-31T18:42:04.135Z"
   },
   {
    "duration": 21,
    "start_time": "2022-10-31T18:47:35.722Z"
   },
   {
    "duration": 414,
    "start_time": "2022-11-01T06:07:52.592Z"
   },
   {
    "duration": 328,
    "start_time": "2022-11-01T06:07:53.007Z"
   },
   {
    "duration": 22,
    "start_time": "2022-11-01T06:07:53.337Z"
   },
   {
    "duration": 20,
    "start_time": "2022-11-01T06:07:53.362Z"
   },
   {
    "duration": 9,
    "start_time": "2022-11-01T06:07:53.384Z"
   },
   {
    "duration": 43,
    "start_time": "2022-11-01T06:07:53.395Z"
   },
   {
    "duration": 3,
    "start_time": "2022-11-01T06:07:53.440Z"
   },
   {
    "duration": 16,
    "start_time": "2022-11-01T06:07:53.445Z"
   },
   {
    "duration": 9,
    "start_time": "2022-11-01T06:07:53.462Z"
   },
   {
    "duration": 10,
    "start_time": "2022-11-01T06:07:53.473Z"
   },
   {
    "duration": 18,
    "start_time": "2022-11-01T06:07:53.484Z"
   },
   {
    "duration": 46,
    "start_time": "2022-11-01T06:07:53.503Z"
   },
   {
    "duration": 9,
    "start_time": "2022-11-01T06:07:53.550Z"
   },
   {
    "duration": 4,
    "start_time": "2022-11-01T06:07:53.561Z"
   },
   {
    "duration": 16,
    "start_time": "2022-11-01T06:07:53.566Z"
   },
   {
    "duration": 19,
    "start_time": "2022-11-01T06:07:53.583Z"
   },
   {
    "duration": 31,
    "start_time": "2022-11-01T06:07:53.604Z"
   },
   {
    "duration": 3,
    "start_time": "2022-11-01T06:07:53.637Z"
   },
   {
    "duration": 12,
    "start_time": "2022-11-01T06:07:53.641Z"
   },
   {
    "duration": 6,
    "start_time": "2022-11-01T06:07:53.654Z"
   },
   {
    "duration": 3,
    "start_time": "2022-11-01T06:07:53.661Z"
   },
   {
    "duration": 12,
    "start_time": "2022-11-01T06:07:53.666Z"
   },
   {
    "duration": 5,
    "start_time": "2022-11-01T06:07:53.679Z"
   },
   {
    "duration": 32,
    "start_time": "2022-11-01T06:07:53.722Z"
   },
   {
    "duration": 9,
    "start_time": "2022-11-01T06:07:53.756Z"
   },
   {
    "duration": 56,
    "start_time": "2022-11-01T06:07:53.767Z"
   },
   {
    "duration": 5,
    "start_time": "2022-11-01T06:07:53.825Z"
   },
   {
    "duration": 5,
    "start_time": "2022-11-01T06:07:53.833Z"
   },
   {
    "duration": 18,
    "start_time": "2022-11-01T06:07:53.840Z"
   },
   {
    "duration": 8,
    "start_time": "2022-11-01T06:07:53.860Z"
   },
   {
    "duration": 13,
    "start_time": "2022-11-01T06:07:53.870Z"
   },
   {
    "duration": 39,
    "start_time": "2022-11-01T06:07:53.885Z"
   },
   {
    "duration": 10,
    "start_time": "2022-11-01T06:07:53.926Z"
   },
   {
    "duration": 28,
    "start_time": "2022-11-01T06:07:53.938Z"
   },
   {
    "duration": 55,
    "start_time": "2022-11-01T06:07:53.968Z"
   }
  ],
  "colab": {
   "name": "dpp_template_part2.ipynb",
   "provenance": []
  },
  "kernelspec": {
   "display_name": "Python 3 (ipykernel)",
   "language": "python",
   "name": "python3"
  },
  "language_info": {
   "codemirror_mode": {
    "name": "ipython",
    "version": 3
   },
   "file_extension": ".py",
   "mimetype": "text/x-python",
   "name": "python",
   "nbconvert_exporter": "python",
   "pygments_lexer": "ipython3",
   "version": "3.9.5"
  },
  "toc": {
   "base_numbering": 1,
   "nav_menu": {},
   "number_sections": true,
   "sideBar": true,
   "skip_h1_title": true,
   "title_cell": "Table of Contents",
   "title_sidebar": "Contents",
   "toc_cell": false,
   "toc_position": {},
   "toc_section_display": true,
   "toc_window_display": false
  }
 },
 "nbformat": 4,
 "nbformat_minor": 5
}
