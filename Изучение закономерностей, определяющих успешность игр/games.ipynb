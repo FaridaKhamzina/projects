{
 "cells": [
  {
   "cell_type": "markdown",
   "metadata": {},
   "source": [
    "# Исследование о продажах компьютерных игр"
   ]
  },
  {
   "cell_type": "markdown",
   "metadata": {},
   "source": [
    "**Описание проекта**"
   ]
  },
  {
   "cell_type": "markdown",
   "metadata": {},
   "source": [
    "Из открытых источников доступны исторические данные о продажах игр, оценки пользователей и экспертов, жанры и платформы (например, Xbox или PlayStation). В ходе проекта необходимо выявить определяющие успешность игры закономерности. Это позволит сделать ставку на потенциально популярный продукт и спланировать рекламные кампании.\n"
   ]
  },
  {
   "cell_type": "markdown",
   "metadata": {},
   "source": [
    "**Цель исследования** — выполнить предобработку данных и изучить их, чтобы найти интересные особенности и зависимости, которые существуют на рынке компьютерных игр.\n",
    "\n",
    "Архив данных о продажах игр мы получили из файла /datasets/games.csv. О качестве данных ничего не известно. Поэтому перед изучением понадобится обзор данных.\n",
    "\n",
    "**Ход исследования**\n",
    "\n",
    "На этапе предобработки мы исправим ошибки в данных для дальнейшей корректной работы с ними.\n",
    "После этого исследуем взаимосвязи и отобразим их на графиках.\n",
    "\n",
    "Таким образом, исследование пройдёт в шесть этапов:\n",
    "\n",
    "Обзор данных. \\\n",
    "Предобработка данных. \\\n",
    "Исследовательский анализ данных. \\\n",
    "Составление портрета пользователя для каждого региона. \\\n",
    "Проверка гипотез. \\\n",
    "Общий вывод."
   ]
  },
  {
   "cell_type": "markdown",
   "metadata": {},
   "source": [
    "**Описание данных** \\\n",
    "Name — название игры \\\n",
    "Platform — платформа \\\n",
    "Year_of_Release — год выпуска\\\n",
    "Genre — жанр игры\\\n",
    "NA_sales — продажи в Северной Америке (миллионы проданных копий)\\\n",
    "EU_sales — продажи в Европе (миллионы проданных копий)\\\n",
    "JP_sales — продажи в Японии (миллионы проданных копий)\\\n",
    "Other_sales — продажи в других странах (миллионы проданных копий)\\\n",
    "Critic_Score — оценка критиков (максимум 100)\\\n",
    "User_Score — оценка пользователей (максимум 10)\\\n",
    "Rating — рейтинг от организации ESRB (англ. Entertainment Software Rating Board). Эта ассоциация определяет рейтинг компьютерных игр и присваивает им подходящую возрастную категорию."
   ]
  },
  {
   "cell_type": "markdown",
   "metadata": {},
   "source": [
    "### ШАГ . Откроем файл с данными и изучим общую информацию"
   ]
  },
  {
   "cell_type": "markdown",
   "metadata": {},
   "source": [
    "-Импортируем небходимые библиотеки и посмотрим на сами данные"
   ]
  },
  {
   "cell_type": "code",
   "execution_count": 29,
   "metadata": {},
   "outputs": [],
   "source": [
    "import pandas as pd\n",
    "import matplotlib.pyplot as plt\n",
    "from scipy import stats as st"
   ]
  },
  {
   "cell_type": "code",
   "execution_count": 30,
   "metadata": {},
   "outputs": [],
   "source": [
    "try:\n",
    "    data = pd.read_csv('C:/Users/User/Downloads')\n",
    "except:\n",
    "    data = pd.read_csv('/datasets/games.csv')"
   ]
  },
  {
   "cell_type": "code",
   "execution_count": 31,
   "metadata": {
    "scrolled": true
   },
   "outputs": [
    {
     "data": {
      "text/html": [
       "<div>\n",
       "<style scoped>\n",
       "    .dataframe tbody tr th:only-of-type {\n",
       "        vertical-align: middle;\n",
       "    }\n",
       "\n",
       "    .dataframe tbody tr th {\n",
       "        vertical-align: top;\n",
       "    }\n",
       "\n",
       "    .dataframe thead th {\n",
       "        text-align: right;\n",
       "    }\n",
       "</style>\n",
       "<table border=\"1\" class=\"dataframe\">\n",
       "  <thead>\n",
       "    <tr style=\"text-align: right;\">\n",
       "      <th></th>\n",
       "      <th>Name</th>\n",
       "      <th>Platform</th>\n",
       "      <th>Year_of_Release</th>\n",
       "      <th>Genre</th>\n",
       "      <th>NA_sales</th>\n",
       "      <th>EU_sales</th>\n",
       "      <th>JP_sales</th>\n",
       "      <th>Other_sales</th>\n",
       "      <th>Critic_Score</th>\n",
       "      <th>User_Score</th>\n",
       "      <th>Rating</th>\n",
       "    </tr>\n",
       "  </thead>\n",
       "  <tbody>\n",
       "    <tr>\n",
       "      <th>0</th>\n",
       "      <td>Wii Sports</td>\n",
       "      <td>Wii</td>\n",
       "      <td>2006.0</td>\n",
       "      <td>Sports</td>\n",
       "      <td>41.36</td>\n",
       "      <td>28.96</td>\n",
       "      <td>3.77</td>\n",
       "      <td>8.45</td>\n",
       "      <td>76.0</td>\n",
       "      <td>8</td>\n",
       "      <td>E</td>\n",
       "    </tr>\n",
       "    <tr>\n",
       "      <th>1</th>\n",
       "      <td>Super Mario Bros.</td>\n",
       "      <td>NES</td>\n",
       "      <td>1985.0</td>\n",
       "      <td>Platform</td>\n",
       "      <td>29.08</td>\n",
       "      <td>3.58</td>\n",
       "      <td>6.81</td>\n",
       "      <td>0.77</td>\n",
       "      <td>NaN</td>\n",
       "      <td>NaN</td>\n",
       "      <td>NaN</td>\n",
       "    </tr>\n",
       "    <tr>\n",
       "      <th>2</th>\n",
       "      <td>Mario Kart Wii</td>\n",
       "      <td>Wii</td>\n",
       "      <td>2008.0</td>\n",
       "      <td>Racing</td>\n",
       "      <td>15.68</td>\n",
       "      <td>12.76</td>\n",
       "      <td>3.79</td>\n",
       "      <td>3.29</td>\n",
       "      <td>82.0</td>\n",
       "      <td>8.3</td>\n",
       "      <td>E</td>\n",
       "    </tr>\n",
       "    <tr>\n",
       "      <th>3</th>\n",
       "      <td>Wii Sports Resort</td>\n",
       "      <td>Wii</td>\n",
       "      <td>2009.0</td>\n",
       "      <td>Sports</td>\n",
       "      <td>15.61</td>\n",
       "      <td>10.93</td>\n",
       "      <td>3.28</td>\n",
       "      <td>2.95</td>\n",
       "      <td>80.0</td>\n",
       "      <td>8</td>\n",
       "      <td>E</td>\n",
       "    </tr>\n",
       "    <tr>\n",
       "      <th>4</th>\n",
       "      <td>Pokemon Red/Pokemon Blue</td>\n",
       "      <td>GB</td>\n",
       "      <td>1996.0</td>\n",
       "      <td>Role-Playing</td>\n",
       "      <td>11.27</td>\n",
       "      <td>8.89</td>\n",
       "      <td>10.22</td>\n",
       "      <td>1.00</td>\n",
       "      <td>NaN</td>\n",
       "      <td>NaN</td>\n",
       "      <td>NaN</td>\n",
       "    </tr>\n",
       "  </tbody>\n",
       "</table>\n",
       "</div>"
      ],
      "text/plain": [
       "                       Name Platform  Year_of_Release         Genre  NA_sales  \\\n",
       "0                Wii Sports      Wii           2006.0        Sports     41.36   \n",
       "1         Super Mario Bros.      NES           1985.0      Platform     29.08   \n",
       "2            Mario Kart Wii      Wii           2008.0        Racing     15.68   \n",
       "3         Wii Sports Resort      Wii           2009.0        Sports     15.61   \n",
       "4  Pokemon Red/Pokemon Blue       GB           1996.0  Role-Playing     11.27   \n",
       "\n",
       "   EU_sales  JP_sales  Other_sales  Critic_Score User_Score Rating  \n",
       "0     28.96      3.77         8.45          76.0          8      E  \n",
       "1      3.58      6.81         0.77           NaN        NaN    NaN  \n",
       "2     12.76      3.79         3.29          82.0        8.3      E  \n",
       "3     10.93      3.28         2.95          80.0          8      E  \n",
       "4      8.89     10.22         1.00           NaN        NaN    NaN  "
      ]
     },
     "execution_count": 31,
     "metadata": {},
     "output_type": "execute_result"
    }
   ],
   "source": [
    "data.head()"
   ]
  },
  {
   "cell_type": "code",
   "execution_count": 32,
   "metadata": {
    "scrolled": true
   },
   "outputs": [
    {
     "data": {
      "text/html": [
       "<div>\n",
       "<style scoped>\n",
       "    .dataframe tbody tr th:only-of-type {\n",
       "        vertical-align: middle;\n",
       "    }\n",
       "\n",
       "    .dataframe tbody tr th {\n",
       "        vertical-align: top;\n",
       "    }\n",
       "\n",
       "    .dataframe thead th {\n",
       "        text-align: right;\n",
       "    }\n",
       "</style>\n",
       "<table border=\"1\" class=\"dataframe\">\n",
       "  <thead>\n",
       "    <tr style=\"text-align: right;\">\n",
       "      <th></th>\n",
       "      <th>Name</th>\n",
       "      <th>Platform</th>\n",
       "      <th>Year_of_Release</th>\n",
       "      <th>Genre</th>\n",
       "      <th>NA_sales</th>\n",
       "      <th>EU_sales</th>\n",
       "      <th>JP_sales</th>\n",
       "      <th>Other_sales</th>\n",
       "      <th>Critic_Score</th>\n",
       "      <th>User_Score</th>\n",
       "      <th>Rating</th>\n",
       "    </tr>\n",
       "  </thead>\n",
       "  <tbody>\n",
       "    <tr>\n",
       "      <th>16710</th>\n",
       "      <td>Samurai Warriors: Sanada Maru</td>\n",
       "      <td>PS3</td>\n",
       "      <td>2016.0</td>\n",
       "      <td>Action</td>\n",
       "      <td>0.00</td>\n",
       "      <td>0.00</td>\n",
       "      <td>0.01</td>\n",
       "      <td>0.0</td>\n",
       "      <td>NaN</td>\n",
       "      <td>NaN</td>\n",
       "      <td>NaN</td>\n",
       "    </tr>\n",
       "    <tr>\n",
       "      <th>16711</th>\n",
       "      <td>LMA Manager 2007</td>\n",
       "      <td>X360</td>\n",
       "      <td>2006.0</td>\n",
       "      <td>Sports</td>\n",
       "      <td>0.00</td>\n",
       "      <td>0.01</td>\n",
       "      <td>0.00</td>\n",
       "      <td>0.0</td>\n",
       "      <td>NaN</td>\n",
       "      <td>NaN</td>\n",
       "      <td>NaN</td>\n",
       "    </tr>\n",
       "    <tr>\n",
       "      <th>16712</th>\n",
       "      <td>Haitaka no Psychedelica</td>\n",
       "      <td>PSV</td>\n",
       "      <td>2016.0</td>\n",
       "      <td>Adventure</td>\n",
       "      <td>0.00</td>\n",
       "      <td>0.00</td>\n",
       "      <td>0.01</td>\n",
       "      <td>0.0</td>\n",
       "      <td>NaN</td>\n",
       "      <td>NaN</td>\n",
       "      <td>NaN</td>\n",
       "    </tr>\n",
       "    <tr>\n",
       "      <th>16713</th>\n",
       "      <td>Spirits &amp; Spells</td>\n",
       "      <td>GBA</td>\n",
       "      <td>2003.0</td>\n",
       "      <td>Platform</td>\n",
       "      <td>0.01</td>\n",
       "      <td>0.00</td>\n",
       "      <td>0.00</td>\n",
       "      <td>0.0</td>\n",
       "      <td>NaN</td>\n",
       "      <td>NaN</td>\n",
       "      <td>NaN</td>\n",
       "    </tr>\n",
       "    <tr>\n",
       "      <th>16714</th>\n",
       "      <td>Winning Post 8 2016</td>\n",
       "      <td>PSV</td>\n",
       "      <td>2016.0</td>\n",
       "      <td>Simulation</td>\n",
       "      <td>0.00</td>\n",
       "      <td>0.00</td>\n",
       "      <td>0.01</td>\n",
       "      <td>0.0</td>\n",
       "      <td>NaN</td>\n",
       "      <td>NaN</td>\n",
       "      <td>NaN</td>\n",
       "    </tr>\n",
       "  </tbody>\n",
       "</table>\n",
       "</div>"
      ],
      "text/plain": [
       "                                Name Platform  Year_of_Release       Genre  \\\n",
       "16710  Samurai Warriors: Sanada Maru      PS3           2016.0      Action   \n",
       "16711               LMA Manager 2007     X360           2006.0      Sports   \n",
       "16712        Haitaka no Psychedelica      PSV           2016.0   Adventure   \n",
       "16713               Spirits & Spells      GBA           2003.0    Platform   \n",
       "16714            Winning Post 8 2016      PSV           2016.0  Simulation   \n",
       "\n",
       "       NA_sales  EU_sales  JP_sales  Other_sales  Critic_Score User_Score  \\\n",
       "16710      0.00      0.00      0.01          0.0           NaN        NaN   \n",
       "16711      0.00      0.01      0.00          0.0           NaN        NaN   \n",
       "16712      0.00      0.00      0.01          0.0           NaN        NaN   \n",
       "16713      0.01      0.00      0.00          0.0           NaN        NaN   \n",
       "16714      0.00      0.00      0.01          0.0           NaN        NaN   \n",
       "\n",
       "      Rating  \n",
       "16710    NaN  \n",
       "16711    NaN  \n",
       "16712    NaN  \n",
       "16713    NaN  \n",
       "16714    NaN  "
      ]
     },
     "execution_count": 32,
     "metadata": {},
     "output_type": "execute_result"
    }
   ],
   "source": [
    "data.tail()"
   ]
  },
  {
   "cell_type": "code",
   "execution_count": 33,
   "metadata": {},
   "outputs": [
    {
     "name": "stdout",
     "output_type": "stream",
     "text": [
      "<class 'pandas.core.frame.DataFrame'>\n",
      "RangeIndex: 16715 entries, 0 to 16714\n",
      "Data columns (total 11 columns):\n",
      " #   Column           Non-Null Count  Dtype  \n",
      "---  ------           --------------  -----  \n",
      " 0   Name             16713 non-null  object \n",
      " 1   Platform         16715 non-null  object \n",
      " 2   Year_of_Release  16446 non-null  float64\n",
      " 3   Genre            16713 non-null  object \n",
      " 4   NA_sales         16715 non-null  float64\n",
      " 5   EU_sales         16715 non-null  float64\n",
      " 6   JP_sales         16715 non-null  float64\n",
      " 7   Other_sales      16715 non-null  float64\n",
      " 8   Critic_Score     8137 non-null   float64\n",
      " 9   User_Score       10014 non-null  object \n",
      " 10  Rating           9949 non-null   object \n",
      "dtypes: float64(6), object(5)\n",
      "memory usage: 1.4+ MB\n"
     ]
    }
   ],
   "source": [
    "data.info()"
   ]
  },
  {
   "cell_type": "code",
   "execution_count": 34,
   "metadata": {
    "scrolled": true
   },
   "outputs": [
    {
     "data": {
      "text/html": [
       "<div>\n",
       "<style scoped>\n",
       "    .dataframe tbody tr th:only-of-type {\n",
       "        vertical-align: middle;\n",
       "    }\n",
       "\n",
       "    .dataframe tbody tr th {\n",
       "        vertical-align: top;\n",
       "    }\n",
       "\n",
       "    .dataframe thead th {\n",
       "        text-align: right;\n",
       "    }\n",
       "</style>\n",
       "<table border=\"1\" class=\"dataframe\">\n",
       "  <thead>\n",
       "    <tr style=\"text-align: right;\">\n",
       "      <th></th>\n",
       "      <th>Year_of_Release</th>\n",
       "      <th>NA_sales</th>\n",
       "      <th>EU_sales</th>\n",
       "      <th>JP_sales</th>\n",
       "      <th>Other_sales</th>\n",
       "      <th>Critic_Score</th>\n",
       "    </tr>\n",
       "  </thead>\n",
       "  <tbody>\n",
       "    <tr>\n",
       "      <th>count</th>\n",
       "      <td>16446.000000</td>\n",
       "      <td>16715.000000</td>\n",
       "      <td>16715.000000</td>\n",
       "      <td>16715.000000</td>\n",
       "      <td>16715.000000</td>\n",
       "      <td>8137.000000</td>\n",
       "    </tr>\n",
       "    <tr>\n",
       "      <th>mean</th>\n",
       "      <td>2006.484616</td>\n",
       "      <td>0.263377</td>\n",
       "      <td>0.145060</td>\n",
       "      <td>0.077617</td>\n",
       "      <td>0.047342</td>\n",
       "      <td>68.967679</td>\n",
       "    </tr>\n",
       "    <tr>\n",
       "      <th>std</th>\n",
       "      <td>5.877050</td>\n",
       "      <td>0.813604</td>\n",
       "      <td>0.503339</td>\n",
       "      <td>0.308853</td>\n",
       "      <td>0.186731</td>\n",
       "      <td>13.938165</td>\n",
       "    </tr>\n",
       "    <tr>\n",
       "      <th>min</th>\n",
       "      <td>1980.000000</td>\n",
       "      <td>0.000000</td>\n",
       "      <td>0.000000</td>\n",
       "      <td>0.000000</td>\n",
       "      <td>0.000000</td>\n",
       "      <td>13.000000</td>\n",
       "    </tr>\n",
       "    <tr>\n",
       "      <th>25%</th>\n",
       "      <td>2003.000000</td>\n",
       "      <td>0.000000</td>\n",
       "      <td>0.000000</td>\n",
       "      <td>0.000000</td>\n",
       "      <td>0.000000</td>\n",
       "      <td>60.000000</td>\n",
       "    </tr>\n",
       "    <tr>\n",
       "      <th>50%</th>\n",
       "      <td>2007.000000</td>\n",
       "      <td>0.080000</td>\n",
       "      <td>0.020000</td>\n",
       "      <td>0.000000</td>\n",
       "      <td>0.010000</td>\n",
       "      <td>71.000000</td>\n",
       "    </tr>\n",
       "    <tr>\n",
       "      <th>75%</th>\n",
       "      <td>2010.000000</td>\n",
       "      <td>0.240000</td>\n",
       "      <td>0.110000</td>\n",
       "      <td>0.040000</td>\n",
       "      <td>0.030000</td>\n",
       "      <td>79.000000</td>\n",
       "    </tr>\n",
       "    <tr>\n",
       "      <th>max</th>\n",
       "      <td>2016.000000</td>\n",
       "      <td>41.360000</td>\n",
       "      <td>28.960000</td>\n",
       "      <td>10.220000</td>\n",
       "      <td>10.570000</td>\n",
       "      <td>98.000000</td>\n",
       "    </tr>\n",
       "  </tbody>\n",
       "</table>\n",
       "</div>"
      ],
      "text/plain": [
       "       Year_of_Release      NA_sales      EU_sales      JP_sales  \\\n",
       "count     16446.000000  16715.000000  16715.000000  16715.000000   \n",
       "mean       2006.484616      0.263377      0.145060      0.077617   \n",
       "std           5.877050      0.813604      0.503339      0.308853   \n",
       "min        1980.000000      0.000000      0.000000      0.000000   \n",
       "25%        2003.000000      0.000000      0.000000      0.000000   \n",
       "50%        2007.000000      0.080000      0.020000      0.000000   \n",
       "75%        2010.000000      0.240000      0.110000      0.040000   \n",
       "max        2016.000000     41.360000     28.960000     10.220000   \n",
       "\n",
       "        Other_sales  Critic_Score  \n",
       "count  16715.000000   8137.000000  \n",
       "mean       0.047342     68.967679  \n",
       "std        0.186731     13.938165  \n",
       "min        0.000000     13.000000  \n",
       "25%        0.000000     60.000000  \n",
       "50%        0.010000     71.000000  \n",
       "75%        0.030000     79.000000  \n",
       "max       10.570000     98.000000  "
      ]
     },
     "execution_count": 34,
     "metadata": {},
     "output_type": "execute_result"
    }
   ],
   "source": [
    "data.describe()"
   ]
  },
  {
   "cell_type": "code",
   "execution_count": 35,
   "metadata": {},
   "outputs": [
    {
     "data": {
      "text/plain": [
       "0"
      ]
     },
     "execution_count": 35,
     "metadata": {},
     "output_type": "execute_result"
    }
   ],
   "source": [
    "data.duplicated().sum()"
   ]
  },
  {
   "cell_type": "markdown",
   "metadata": {},
   "source": [
    "**Вывод:** В файле 16715 строк и 11 столбцов. \\\n",
    "Дубликаты отсутствуют."
   ]
  },
  {
   "cell_type": "markdown",
   "metadata": {},
   "source": [
    "### ШАГ. Подготовим данные"
   ]
  },
  {
   "cell_type": "markdown",
   "metadata": {},
   "source": [
    "-Приведем названия столбцов к нижнему регистру\\\n",
    "-Преобразуйте данные в нужные типы\\\n",
    "-Обработаем пропуски и опишем причины, которые могли привести к пропускам\\\n",
    "-Посчитаем суммарные продажи во всех регионах и запишем их в отдельный столбец"
   ]
  },
  {
   "cell_type": "code",
   "execution_count": 36,
   "metadata": {},
   "outputs": [],
   "source": [
    "data.columns = data.columns.str.lower()"
   ]
  },
  {
   "cell_type": "code",
   "execution_count": 37,
   "metadata": {
    "scrolled": true
   },
   "outputs": [
    {
     "data": {
      "text/html": [
       "<div>\n",
       "<style scoped>\n",
       "    .dataframe tbody tr th:only-of-type {\n",
       "        vertical-align: middle;\n",
       "    }\n",
       "\n",
       "    .dataframe tbody tr th {\n",
       "        vertical-align: top;\n",
       "    }\n",
       "\n",
       "    .dataframe thead th {\n",
       "        text-align: right;\n",
       "    }\n",
       "</style>\n",
       "<table border=\"1\" class=\"dataframe\">\n",
       "  <thead>\n",
       "    <tr style=\"text-align: right;\">\n",
       "      <th></th>\n",
       "      <th>name</th>\n",
       "      <th>platform</th>\n",
       "      <th>year_of_release</th>\n",
       "      <th>genre</th>\n",
       "      <th>na_sales</th>\n",
       "      <th>eu_sales</th>\n",
       "      <th>jp_sales</th>\n",
       "      <th>other_sales</th>\n",
       "      <th>critic_score</th>\n",
       "      <th>user_score</th>\n",
       "      <th>rating</th>\n",
       "    </tr>\n",
       "  </thead>\n",
       "  <tbody>\n",
       "    <tr>\n",
       "      <th>0</th>\n",
       "      <td>Wii Sports</td>\n",
       "      <td>Wii</td>\n",
       "      <td>2006.0</td>\n",
       "      <td>Sports</td>\n",
       "      <td>41.36</td>\n",
       "      <td>28.96</td>\n",
       "      <td>3.77</td>\n",
       "      <td>8.45</td>\n",
       "      <td>76.0</td>\n",
       "      <td>8</td>\n",
       "      <td>E</td>\n",
       "    </tr>\n",
       "    <tr>\n",
       "      <th>1</th>\n",
       "      <td>Super Mario Bros.</td>\n",
       "      <td>NES</td>\n",
       "      <td>1985.0</td>\n",
       "      <td>Platform</td>\n",
       "      <td>29.08</td>\n",
       "      <td>3.58</td>\n",
       "      <td>6.81</td>\n",
       "      <td>0.77</td>\n",
       "      <td>NaN</td>\n",
       "      <td>NaN</td>\n",
       "      <td>NaN</td>\n",
       "    </tr>\n",
       "    <tr>\n",
       "      <th>2</th>\n",
       "      <td>Mario Kart Wii</td>\n",
       "      <td>Wii</td>\n",
       "      <td>2008.0</td>\n",
       "      <td>Racing</td>\n",
       "      <td>15.68</td>\n",
       "      <td>12.76</td>\n",
       "      <td>3.79</td>\n",
       "      <td>3.29</td>\n",
       "      <td>82.0</td>\n",
       "      <td>8.3</td>\n",
       "      <td>E</td>\n",
       "    </tr>\n",
       "    <tr>\n",
       "      <th>3</th>\n",
       "      <td>Wii Sports Resort</td>\n",
       "      <td>Wii</td>\n",
       "      <td>2009.0</td>\n",
       "      <td>Sports</td>\n",
       "      <td>15.61</td>\n",
       "      <td>10.93</td>\n",
       "      <td>3.28</td>\n",
       "      <td>2.95</td>\n",
       "      <td>80.0</td>\n",
       "      <td>8</td>\n",
       "      <td>E</td>\n",
       "    </tr>\n",
       "    <tr>\n",
       "      <th>4</th>\n",
       "      <td>Pokemon Red/Pokemon Blue</td>\n",
       "      <td>GB</td>\n",
       "      <td>1996.0</td>\n",
       "      <td>Role-Playing</td>\n",
       "      <td>11.27</td>\n",
       "      <td>8.89</td>\n",
       "      <td>10.22</td>\n",
       "      <td>1.00</td>\n",
       "      <td>NaN</td>\n",
       "      <td>NaN</td>\n",
       "      <td>NaN</td>\n",
       "    </tr>\n",
       "  </tbody>\n",
       "</table>\n",
       "</div>"
      ],
      "text/plain": [
       "                       name platform  year_of_release         genre  na_sales  \\\n",
       "0                Wii Sports      Wii           2006.0        Sports     41.36   \n",
       "1         Super Mario Bros.      NES           1985.0      Platform     29.08   \n",
       "2            Mario Kart Wii      Wii           2008.0        Racing     15.68   \n",
       "3         Wii Sports Resort      Wii           2009.0        Sports     15.61   \n",
       "4  Pokemon Red/Pokemon Blue       GB           1996.0  Role-Playing     11.27   \n",
       "\n",
       "   eu_sales  jp_sales  other_sales  critic_score user_score rating  \n",
       "0     28.96      3.77         8.45          76.0          8      E  \n",
       "1      3.58      6.81         0.77           NaN        NaN    NaN  \n",
       "2     12.76      3.79         3.29          82.0        8.3      E  \n",
       "3     10.93      3.28         2.95          80.0          8      E  \n",
       "4      8.89     10.22         1.00           NaN        NaN    NaN  "
      ]
     },
     "execution_count": 37,
     "metadata": {},
     "output_type": "execute_result"
    }
   ],
   "source": [
    "data.head()"
   ]
  },
  {
   "cell_type": "markdown",
   "metadata": {},
   "source": [
    "Теперь названия столбцов соответствуют правилам"
   ]
  },
  {
   "cell_type": "code",
   "execution_count": 38,
   "metadata": {},
   "outputs": [],
   "source": [
    "data['year_of_release'] = data['year_of_release'].astype('Int64')"
   ]
  },
  {
   "cell_type": "code",
   "execution_count": 39,
   "metadata": {},
   "outputs": [],
   "source": [
    "data['user_score'] = data['user_score'].str.replace('tbd','nan')\n",
    "data['user_score'] = data['user_score'].astype(float)"
   ]
  },
  {
   "cell_type": "code",
   "execution_count": 40,
   "metadata": {
    "scrolled": true
   },
   "outputs": [
    {
     "name": "stdout",
     "output_type": "stream",
     "text": [
      "<class 'pandas.core.frame.DataFrame'>\n",
      "RangeIndex: 16715 entries, 0 to 16714\n",
      "Data columns (total 11 columns):\n",
      " #   Column           Non-Null Count  Dtype  \n",
      "---  ------           --------------  -----  \n",
      " 0   name             16713 non-null  object \n",
      " 1   platform         16715 non-null  object \n",
      " 2   year_of_release  16446 non-null  Int64  \n",
      " 3   genre            16713 non-null  object \n",
      " 4   na_sales         16715 non-null  float64\n",
      " 5   eu_sales         16715 non-null  float64\n",
      " 6   jp_sales         16715 non-null  float64\n",
      " 7   other_sales      16715 non-null  float64\n",
      " 8   critic_score     8137 non-null   float64\n",
      " 9   user_score       7590 non-null   float64\n",
      " 10  rating           9949 non-null   object \n",
      "dtypes: Int64(1), float64(6), object(4)\n",
      "memory usage: 1.4+ MB\n"
     ]
    }
   ],
   "source": [
    "data.info()"
   ]
  },
  {
   "cell_type": "code",
   "execution_count": 41,
   "metadata": {
    "scrolled": true
   },
   "outputs": [
    {
     "data": {
      "text/plain": [
       "name                  2\n",
       "platform              0\n",
       "year_of_release     269\n",
       "genre                 2\n",
       "na_sales              0\n",
       "eu_sales              0\n",
       "jp_sales              0\n",
       "other_sales           0\n",
       "critic_score       8578\n",
       "user_score         9125\n",
       "rating             6766\n",
       "dtype: int64"
      ]
     },
     "execution_count": 41,
     "metadata": {},
     "output_type": "execute_result"
    }
   ],
   "source": [
    "data.isna().sum()"
   ]
  },
  {
   "cell_type": "code",
   "execution_count": 42,
   "metadata": {},
   "outputs": [
    {
     "data": {
      "text/html": [
       "<style  type=\"text/css\" >\n",
       "#T_4d6c8_row0_col0,#T_4d6c8_row1_col0,#T_4d6c8_row3_col0,#T_4d6c8_row4_col0,#T_4d6c8_row5_col0,#T_4d6c8_row6_col0,#T_4d6c8_row7_col0{\n",
       "            background-color:  #3b4cc0;\n",
       "            color:  #f1f1f1;\n",
       "        }#T_4d6c8_row2_col0{\n",
       "            background-color:  #4358cb;\n",
       "            color:  #f1f1f1;\n",
       "        }#T_4d6c8_row8_col0{\n",
       "            background-color:  #ca3b37;\n",
       "            color:  #f1f1f1;\n",
       "        }#T_4d6c8_row9_col0{\n",
       "            background-color:  #b40426;\n",
       "            color:  #f1f1f1;\n",
       "        }#T_4d6c8_row10_col0{\n",
       "            background-color:  #f59d7e;\n",
       "            color:  #000000;\n",
       "        }</style><table id=\"T_4d6c8_\" ><thead>    <tr>        <th class=\"blank level0\" ></th>        <th class=\"col_heading level0 col0\" >0</th>    </tr></thead><tbody>\n",
       "                <tr>\n",
       "                        <th id=\"T_4d6c8_level0_row0\" class=\"row_heading level0 row0\" >name</th>\n",
       "                        <td id=\"T_4d6c8_row0_col0\" class=\"data row0 col0\" >0.000000</td>\n",
       "            </tr>\n",
       "            <tr>\n",
       "                        <th id=\"T_4d6c8_level0_row1\" class=\"row_heading level0 row1\" >platform</th>\n",
       "                        <td id=\"T_4d6c8_row1_col0\" class=\"data row1 col0\" >0.000000</td>\n",
       "            </tr>\n",
       "            <tr>\n",
       "                        <th id=\"T_4d6c8_level0_row2\" class=\"row_heading level0 row2\" >year_of_release</th>\n",
       "                        <td id=\"T_4d6c8_row2_col0\" class=\"data row2 col0\" >1.600000</td>\n",
       "            </tr>\n",
       "            <tr>\n",
       "                        <th id=\"T_4d6c8_level0_row3\" class=\"row_heading level0 row3\" >genre</th>\n",
       "                        <td id=\"T_4d6c8_row3_col0\" class=\"data row3 col0\" >0.000000</td>\n",
       "            </tr>\n",
       "            <tr>\n",
       "                        <th id=\"T_4d6c8_level0_row4\" class=\"row_heading level0 row4\" >na_sales</th>\n",
       "                        <td id=\"T_4d6c8_row4_col0\" class=\"data row4 col0\" >0.000000</td>\n",
       "            </tr>\n",
       "            <tr>\n",
       "                        <th id=\"T_4d6c8_level0_row5\" class=\"row_heading level0 row5\" >eu_sales</th>\n",
       "                        <td id=\"T_4d6c8_row5_col0\" class=\"data row5 col0\" >0.000000</td>\n",
       "            </tr>\n",
       "            <tr>\n",
       "                        <th id=\"T_4d6c8_level0_row6\" class=\"row_heading level0 row6\" >jp_sales</th>\n",
       "                        <td id=\"T_4d6c8_row6_col0\" class=\"data row6 col0\" >0.000000</td>\n",
       "            </tr>\n",
       "            <tr>\n",
       "                        <th id=\"T_4d6c8_level0_row7\" class=\"row_heading level0 row7\" >other_sales</th>\n",
       "                        <td id=\"T_4d6c8_row7_col0\" class=\"data row7 col0\" >0.000000</td>\n",
       "            </tr>\n",
       "            <tr>\n",
       "                        <th id=\"T_4d6c8_level0_row8\" class=\"row_heading level0 row8\" >critic_score</th>\n",
       "                        <td id=\"T_4d6c8_row8_col0\" class=\"data row8 col0\" >51.300000</td>\n",
       "            </tr>\n",
       "            <tr>\n",
       "                        <th id=\"T_4d6c8_level0_row9\" class=\"row_heading level0 row9\" >user_score</th>\n",
       "                        <td id=\"T_4d6c8_row9_col0\" class=\"data row9 col0\" >54.600000</td>\n",
       "            </tr>\n",
       "            <tr>\n",
       "                        <th id=\"T_4d6c8_level0_row10\" class=\"row_heading level0 row10\" >rating</th>\n",
       "                        <td id=\"T_4d6c8_row10_col0\" class=\"data row10 col0\" >40.500000</td>\n",
       "            </tr>\n",
       "    </tbody></table>"
      ],
      "text/plain": [
       "<pandas.io.formats.style.Styler at 0x7f9a22e5be20>"
      ]
     },
     "execution_count": 42,
     "metadata": {},
     "output_type": "execute_result"
    }
   ],
   "source": [
    "pd.DataFrame(round(data.isna().mean()*100,1)).style.background_gradient('coolwarm')"
   ]
  },
  {
   "cell_type": "markdown",
   "metadata": {},
   "source": [
    "В названии игры и жанре по 2 пропуска, в годе релиза 269, в оценке критиков,пользователей и рейтинге >6 тыс."
   ]
  },
  {
   "cell_type": "code",
   "execution_count": 43,
   "metadata": {},
   "outputs": [],
   "source": [
    "data = data.dropna(subset=['name']).reset_index(drop=True)\n",
    "data = data.dropna(subset=['year_of_release']).reset_index(drop=True)"
   ]
  },
  {
   "cell_type": "code",
   "execution_count": 44,
   "metadata": {},
   "outputs": [
    {
     "data": {
      "text/plain": [
       "array(['E', nan, 'M', 'T', 'E10+', 'K-A', 'AO', 'EC', 'RP'], dtype=object)"
      ]
     },
     "execution_count": 44,
     "metadata": {},
     "output_type": "execute_result"
    }
   ],
   "source": [
    "data['rating'].unique()"
   ]
  },
  {
   "cell_type": "code",
   "execution_count": 45,
   "metadata": {},
   "outputs": [],
   "source": [
    "data['rating'] = data['rating'].replace('K-A','E')\n",
    "data['rating'] = data['rating'].fillna('RP')"
   ]
  },
  {
   "cell_type": "markdown",
   "metadata": {},
   "source": [
    "Категория 'RP'('Rating Pending') означает, что играм с данной категорией еще не присвоен окончательный рейтинг ESRB. Поэтому пропуски в рейтинге мы заменим на RP.\n"
   ]
  },
  {
   "cell_type": "code",
   "execution_count": 46,
   "metadata": {
    "scrolled": true
   },
   "outputs": [
    {
     "data": {
      "text/plain": [
       "array(['E', 'RP', 'M', 'T', 'E10+', 'AO', 'EC'], dtype=object)"
      ]
     },
     "execution_count": 46,
     "metadata": {},
     "output_type": "execute_result"
    }
   ],
   "source": [
    "data['rating'].unique()"
   ]
  },
  {
   "cell_type": "code",
   "execution_count": 47,
   "metadata": {},
   "outputs": [],
   "source": [
    "data['total_sales'] = data['na_sales'] + data['eu_sales'] + data['jp_sales'] + data['other_sales']"
   ]
  },
  {
   "cell_type": "code",
   "execution_count": 48,
   "metadata": {
    "scrolled": true
   },
   "outputs": [
    {
     "data": {
      "text/html": [
       "<div>\n",
       "<style scoped>\n",
       "    .dataframe tbody tr th:only-of-type {\n",
       "        vertical-align: middle;\n",
       "    }\n",
       "\n",
       "    .dataframe tbody tr th {\n",
       "        vertical-align: top;\n",
       "    }\n",
       "\n",
       "    .dataframe thead th {\n",
       "        text-align: right;\n",
       "    }\n",
       "</style>\n",
       "<table border=\"1\" class=\"dataframe\">\n",
       "  <thead>\n",
       "    <tr style=\"text-align: right;\">\n",
       "      <th></th>\n",
       "      <th>name</th>\n",
       "      <th>platform</th>\n",
       "      <th>year_of_release</th>\n",
       "      <th>genre</th>\n",
       "      <th>na_sales</th>\n",
       "      <th>eu_sales</th>\n",
       "      <th>jp_sales</th>\n",
       "      <th>other_sales</th>\n",
       "      <th>critic_score</th>\n",
       "      <th>user_score</th>\n",
       "      <th>rating</th>\n",
       "      <th>total_sales</th>\n",
       "    </tr>\n",
       "  </thead>\n",
       "  <tbody>\n",
       "    <tr>\n",
       "      <th>0</th>\n",
       "      <td>Wii Sports</td>\n",
       "      <td>Wii</td>\n",
       "      <td>2006</td>\n",
       "      <td>Sports</td>\n",
       "      <td>41.36</td>\n",
       "      <td>28.96</td>\n",
       "      <td>3.77</td>\n",
       "      <td>8.45</td>\n",
       "      <td>76.0</td>\n",
       "      <td>8.0</td>\n",
       "      <td>E</td>\n",
       "      <td>82.54</td>\n",
       "    </tr>\n",
       "    <tr>\n",
       "      <th>1</th>\n",
       "      <td>Super Mario Bros.</td>\n",
       "      <td>NES</td>\n",
       "      <td>1985</td>\n",
       "      <td>Platform</td>\n",
       "      <td>29.08</td>\n",
       "      <td>3.58</td>\n",
       "      <td>6.81</td>\n",
       "      <td>0.77</td>\n",
       "      <td>NaN</td>\n",
       "      <td>NaN</td>\n",
       "      <td>RP</td>\n",
       "      <td>40.24</td>\n",
       "    </tr>\n",
       "    <tr>\n",
       "      <th>2</th>\n",
       "      <td>Mario Kart Wii</td>\n",
       "      <td>Wii</td>\n",
       "      <td>2008</td>\n",
       "      <td>Racing</td>\n",
       "      <td>15.68</td>\n",
       "      <td>12.76</td>\n",
       "      <td>3.79</td>\n",
       "      <td>3.29</td>\n",
       "      <td>82.0</td>\n",
       "      <td>8.3</td>\n",
       "      <td>E</td>\n",
       "      <td>35.52</td>\n",
       "    </tr>\n",
       "    <tr>\n",
       "      <th>3</th>\n",
       "      <td>Wii Sports Resort</td>\n",
       "      <td>Wii</td>\n",
       "      <td>2009</td>\n",
       "      <td>Sports</td>\n",
       "      <td>15.61</td>\n",
       "      <td>10.93</td>\n",
       "      <td>3.28</td>\n",
       "      <td>2.95</td>\n",
       "      <td>80.0</td>\n",
       "      <td>8.0</td>\n",
       "      <td>E</td>\n",
       "      <td>32.77</td>\n",
       "    </tr>\n",
       "    <tr>\n",
       "      <th>4</th>\n",
       "      <td>Pokemon Red/Pokemon Blue</td>\n",
       "      <td>GB</td>\n",
       "      <td>1996</td>\n",
       "      <td>Role-Playing</td>\n",
       "      <td>11.27</td>\n",
       "      <td>8.89</td>\n",
       "      <td>10.22</td>\n",
       "      <td>1.00</td>\n",
       "      <td>NaN</td>\n",
       "      <td>NaN</td>\n",
       "      <td>RP</td>\n",
       "      <td>31.38</td>\n",
       "    </tr>\n",
       "  </tbody>\n",
       "</table>\n",
       "</div>"
      ],
      "text/plain": [
       "                       name platform  year_of_release         genre  na_sales  \\\n",
       "0                Wii Sports      Wii             2006        Sports     41.36   \n",
       "1         Super Mario Bros.      NES             1985      Platform     29.08   \n",
       "2            Mario Kart Wii      Wii             2008        Racing     15.68   \n",
       "3         Wii Sports Resort      Wii             2009        Sports     15.61   \n",
       "4  Pokemon Red/Pokemon Blue       GB             1996  Role-Playing     11.27   \n",
       "\n",
       "   eu_sales  jp_sales  other_sales  critic_score  user_score rating  \\\n",
       "0     28.96      3.77         8.45          76.0         8.0      E   \n",
       "1      3.58      6.81         0.77           NaN         NaN     RP   \n",
       "2     12.76      3.79         3.29          82.0         8.3      E   \n",
       "3     10.93      3.28         2.95          80.0         8.0      E   \n",
       "4      8.89     10.22         1.00           NaN         NaN     RP   \n",
       "\n",
       "   total_sales  \n",
       "0        82.54  \n",
       "1        40.24  \n",
       "2        35.52  \n",
       "3        32.77  \n",
       "4        31.38  "
      ]
     },
     "execution_count": 48,
     "metadata": {},
     "output_type": "execute_result"
    }
   ],
   "source": [
    "data.head()"
   ]
  },
  {
   "cell_type": "markdown",
   "metadata": {},
   "source": [
    "**Вывод:** В ходе предообработки данных: \\\n",
    "Названия столбцов были приведены к нижнему регистру \\\n",
    "Год релиза привели к целочисленному типу, т.к. изначально он идет с точкой.\n",
    "\n",
    "В столбце \"оценка пользователей\" есть аббревиатура \"tbd\", что означает \"to be decided\" (будет решено). То есть рейтинг еще не определен. Заменять ее на какие-либо значения будет некорректно и может повлиять на данные, поэтому заменили на nan.\n",
    "После этого привели данный столбец к вещественным числам.\n",
    "\n",
    "Строки, в которых отсутствует название игры и год релиза, удалили, поскольку мы их не сможем использовать. \\\n",
    "В рейтинге заменили 'K-A' на 'Е', поскольку 'K-A' это устаревшая аббревиатура нынешней 'Е'. \\\n",
    "Пропущенные значения в рейтинге заполнили аббревиатурой 'WR', поскольку заполнение другими существующими исказит данные. \\\n",
    "Пропуски в оценке пользователей и критиков заполнять не стали также во избежании искажения данных. \\\n",
    "Возможными причинами возникновения пропусков могут быть отсутствие рейтингов у малоизвестных игр, а также сбой в системе при загрузке данных.\n",
    "\n",
    "Также добавили новый столбец 'total_sales' с суммарными продажами игр во всех регионах."
   ]
  },
  {
   "cell_type": "markdown",
   "metadata": {},
   "source": [
    "### ШАГ. Проведем исследовательский анализ данных"
   ]
  },
  {
   "cell_type": "markdown",
   "metadata": {},
   "source": [
    "-Динамика количества выпущенных игр за все время\\\n",
    "-Динамика продаж игр по платформам, а также выбор топ платформ\\\n",
    "-Определение актуального периода для построения прогноза на 2017 г.\\\n",
    "-Анализ платформ-лидеров по продажам\\\n",
    "-Анализ влияния на продажи внутри одной популярной платформы отзывов пользователей и критиков\\\n",
    "-Общее распределение игр по жанрам, выявление самых прибыльных жанров"
   ]
  },
  {
   "cell_type": "markdown",
   "metadata": {},
   "source": [
    "**Динамика количества выпущенных игр за все время**"
   ]
  },
  {
   "cell_type": "code",
   "execution_count": 49,
   "metadata": {
    "scrolled": true
   },
   "outputs": [
    {
     "data": {
      "text/html": [
       "<div>\n",
       "<style scoped>\n",
       "    .dataframe tbody tr th:only-of-type {\n",
       "        vertical-align: middle;\n",
       "    }\n",
       "\n",
       "    .dataframe tbody tr th {\n",
       "        vertical-align: top;\n",
       "    }\n",
       "\n",
       "    .dataframe thead th {\n",
       "        text-align: right;\n",
       "    }\n",
       "</style>\n",
       "<table border=\"1\" class=\"dataframe\">\n",
       "  <thead>\n",
       "    <tr style=\"text-align: right;\">\n",
       "      <th></th>\n",
       "      <th>name</th>\n",
       "    </tr>\n",
       "    <tr>\n",
       "      <th>year_of_release</th>\n",
       "      <th></th>\n",
       "    </tr>\n",
       "  </thead>\n",
       "  <tbody>\n",
       "    <tr>\n",
       "      <th>1980</th>\n",
       "      <td>9</td>\n",
       "    </tr>\n",
       "    <tr>\n",
       "      <th>1981</th>\n",
       "      <td>46</td>\n",
       "    </tr>\n",
       "    <tr>\n",
       "      <th>1982</th>\n",
       "      <td>36</td>\n",
       "    </tr>\n",
       "    <tr>\n",
       "      <th>1983</th>\n",
       "      <td>17</td>\n",
       "    </tr>\n",
       "    <tr>\n",
       "      <th>1984</th>\n",
       "      <td>14</td>\n",
       "    </tr>\n",
       "    <tr>\n",
       "      <th>1985</th>\n",
       "      <td>14</td>\n",
       "    </tr>\n",
       "    <tr>\n",
       "      <th>1986</th>\n",
       "      <td>21</td>\n",
       "    </tr>\n",
       "    <tr>\n",
       "      <th>1987</th>\n",
       "      <td>16</td>\n",
       "    </tr>\n",
       "    <tr>\n",
       "      <th>1988</th>\n",
       "      <td>15</td>\n",
       "    </tr>\n",
       "    <tr>\n",
       "      <th>1989</th>\n",
       "      <td>17</td>\n",
       "    </tr>\n",
       "    <tr>\n",
       "      <th>1990</th>\n",
       "      <td>16</td>\n",
       "    </tr>\n",
       "    <tr>\n",
       "      <th>1991</th>\n",
       "      <td>41</td>\n",
       "    </tr>\n",
       "    <tr>\n",
       "      <th>1992</th>\n",
       "      <td>43</td>\n",
       "    </tr>\n",
       "    <tr>\n",
       "      <th>1993</th>\n",
       "      <td>60</td>\n",
       "    </tr>\n",
       "    <tr>\n",
       "      <th>1994</th>\n",
       "      <td>121</td>\n",
       "    </tr>\n",
       "    <tr>\n",
       "      <th>1995</th>\n",
       "      <td>219</td>\n",
       "    </tr>\n",
       "    <tr>\n",
       "      <th>1996</th>\n",
       "      <td>263</td>\n",
       "    </tr>\n",
       "    <tr>\n",
       "      <th>1997</th>\n",
       "      <td>289</td>\n",
       "    </tr>\n",
       "    <tr>\n",
       "      <th>1998</th>\n",
       "      <td>379</td>\n",
       "    </tr>\n",
       "    <tr>\n",
       "      <th>1999</th>\n",
       "      <td>338</td>\n",
       "    </tr>\n",
       "    <tr>\n",
       "      <th>2000</th>\n",
       "      <td>350</td>\n",
       "    </tr>\n",
       "    <tr>\n",
       "      <th>2001</th>\n",
       "      <td>482</td>\n",
       "    </tr>\n",
       "    <tr>\n",
       "      <th>2002</th>\n",
       "      <td>829</td>\n",
       "    </tr>\n",
       "    <tr>\n",
       "      <th>2003</th>\n",
       "      <td>775</td>\n",
       "    </tr>\n",
       "    <tr>\n",
       "      <th>2004</th>\n",
       "      <td>762</td>\n",
       "    </tr>\n",
       "    <tr>\n",
       "      <th>2005</th>\n",
       "      <td>939</td>\n",
       "    </tr>\n",
       "    <tr>\n",
       "      <th>2006</th>\n",
       "      <td>1006</td>\n",
       "    </tr>\n",
       "    <tr>\n",
       "      <th>2007</th>\n",
       "      <td>1197</td>\n",
       "    </tr>\n",
       "    <tr>\n",
       "      <th>2008</th>\n",
       "      <td>1427</td>\n",
       "    </tr>\n",
       "    <tr>\n",
       "      <th>2009</th>\n",
       "      <td>1426</td>\n",
       "    </tr>\n",
       "    <tr>\n",
       "      <th>2010</th>\n",
       "      <td>1255</td>\n",
       "    </tr>\n",
       "    <tr>\n",
       "      <th>2011</th>\n",
       "      <td>1136</td>\n",
       "    </tr>\n",
       "    <tr>\n",
       "      <th>2012</th>\n",
       "      <td>653</td>\n",
       "    </tr>\n",
       "    <tr>\n",
       "      <th>2013</th>\n",
       "      <td>544</td>\n",
       "    </tr>\n",
       "    <tr>\n",
       "      <th>2014</th>\n",
       "      <td>581</td>\n",
       "    </tr>\n",
       "    <tr>\n",
       "      <th>2015</th>\n",
       "      <td>606</td>\n",
       "    </tr>\n",
       "    <tr>\n",
       "      <th>2016</th>\n",
       "      <td>502</td>\n",
       "    </tr>\n",
       "  </tbody>\n",
       "</table>\n",
       "</div>"
      ],
      "text/plain": [
       "                 name\n",
       "year_of_release      \n",
       "1980                9\n",
       "1981               46\n",
       "1982               36\n",
       "1983               17\n",
       "1984               14\n",
       "1985               14\n",
       "1986               21\n",
       "1987               16\n",
       "1988               15\n",
       "1989               17\n",
       "1990               16\n",
       "1991               41\n",
       "1992               43\n",
       "1993               60\n",
       "1994              121\n",
       "1995              219\n",
       "1996              263\n",
       "1997              289\n",
       "1998              379\n",
       "1999              338\n",
       "2000              350\n",
       "2001              482\n",
       "2002              829\n",
       "2003              775\n",
       "2004              762\n",
       "2005              939\n",
       "2006             1006\n",
       "2007             1197\n",
       "2008             1427\n",
       "2009             1426\n",
       "2010             1255\n",
       "2011             1136\n",
       "2012              653\n",
       "2013              544\n",
       "2014              581\n",
       "2015              606\n",
       "2016              502"
      ]
     },
     "execution_count": 49,
     "metadata": {},
     "output_type": "execute_result"
    }
   ],
   "source": [
    "release_games = data.pivot_table(index='year_of_release',values='name',aggfunc='count')\n",
    "release_games"
   ]
  },
  {
   "cell_type": "markdown",
   "metadata": {},
   "source": [
    "Построим сводную таблицу по годам и количеству выпущенных игр"
   ]
  },
  {
   "cell_type": "code",
   "execution_count": 50,
   "metadata": {
    "scrolled": true
   },
   "outputs": [
    {
     "data": {
      "image/png": "[encoded data removed]",
      "text/plain": [
       "<Figure size 720x360 with 1 Axes>"
      ]
     },
     "metadata": {
      "needs_background": "light"
     },
     "output_type": "display_data"
    }
   ],
   "source": [
    "release_games.plot.bar(figsize=(10,5),title='Количество выпущенных игр по годам',xlabel='Год выпуска',ylabel='Количество игр');"
   ]
  },
  {
   "cell_type": "markdown",
   "metadata": {},
   "source": [
    "Начало выпуска игр приходится на 1980 г. \\\n",
    "Видим, что пик приходится на 2008-2009 годы.\n",
    "В 2008 и 2009 гг. было выпущено более 1400 игр, а 10 лет назад - более 300 игр. Разница в 4,5 раза, неплохой рост.\\\n",
    "После 2009 года количество идет на спад, возможно, это связано с тем, что началось развитие мобильных устройств и мобильных игр и часть компьютерной аудитории постепенно начала переходить в мобильные игры."
   ]
  },
  {
   "cell_type": "code",
   "execution_count": 51,
   "metadata": {},
   "outputs": [],
   "source": [
    "data = data.query('year_of_release > 1993')"
   ]
  },
  {
   "cell_type": "markdown",
   "metadata": {},
   "source": [
    "Данные о выпущенных играх до 1993 года можно отсечь, поскольку в период с 1980 по 1993 г. выпуск был несущественный (до 100 игр в год) и их можно не учитывать."
   ]
  },
  {
   "cell_type": "code",
   "execution_count": 52,
   "metadata": {
    "scrolled": true
   },
   "outputs": [
    {
     "data": {
      "text/plain": [
       "<IntegerArray>\n",
       "[2016, 2015, 2014, 2013, 2012, 2011, 2010, 2009, 2008, 2007, 2006, 2005, 2004,\n",
       " 2003, 2002, 2001, 2000, 1999, 1998, 1997, 1996, 1995, 1994]\n",
       "Length: 23, dtype: Int64"
      ]
     },
     "execution_count": 52,
     "metadata": {},
     "output_type": "execute_result"
    }
   ],
   "source": [
    "data['year_of_release'].sort_values(ascending=False).unique()"
   ]
  },
  {
   "cell_type": "markdown",
   "metadata": {},
   "source": [
    "**Динамика продаж игр по платформам, а также выбор топ платформ**"
   ]
  },
  {
   "cell_type": "code",
   "execution_count": 53,
   "metadata": {
    "scrolled": true
   },
   "outputs": [
    {
     "data": {
      "text/html": [
       "<div>\n",
       "<style scoped>\n",
       "    .dataframe tbody tr th:only-of-type {\n",
       "        vertical-align: middle;\n",
       "    }\n",
       "\n",
       "    .dataframe tbody tr th {\n",
       "        vertical-align: top;\n",
       "    }\n",
       "\n",
       "    .dataframe thead th {\n",
       "        text-align: right;\n",
       "    }\n",
       "</style>\n",
       "<table border=\"1\" class=\"dataframe\">\n",
       "  <thead>\n",
       "    <tr style=\"text-align: right;\">\n",
       "      <th></th>\n",
       "      <th>platform</th>\n",
       "      <th>total_sales</th>\n",
       "    </tr>\n",
       "  </thead>\n",
       "  <tbody>\n",
       "    <tr>\n",
       "      <th>0</th>\n",
       "      <td>PS2</td>\n",
       "      <td>1233.56</td>\n",
       "    </tr>\n",
       "    <tr>\n",
       "      <th>1</th>\n",
       "      <td>X360</td>\n",
       "      <td>961.24</td>\n",
       "    </tr>\n",
       "    <tr>\n",
       "      <th>2</th>\n",
       "      <td>PS3</td>\n",
       "      <td>931.34</td>\n",
       "    </tr>\n",
       "    <tr>\n",
       "      <th>3</th>\n",
       "      <td>Wii</td>\n",
       "      <td>891.18</td>\n",
       "    </tr>\n",
       "    <tr>\n",
       "      <th>4</th>\n",
       "      <td>DS</td>\n",
       "      <td>802.76</td>\n",
       "    </tr>\n",
       "    <tr>\n",
       "      <th>5</th>\n",
       "      <td>PS</td>\n",
       "      <td>727.58</td>\n",
       "    </tr>\n",
       "    <tr>\n",
       "      <th>6</th>\n",
       "      <td>PS4</td>\n",
       "      <td>314.14</td>\n",
       "    </tr>\n",
       "    <tr>\n",
       "      <th>7</th>\n",
       "      <td>GBA</td>\n",
       "      <td>312.88</td>\n",
       "    </tr>\n",
       "    <tr>\n",
       "      <th>8</th>\n",
       "      <td>PSP</td>\n",
       "      <td>289.53</td>\n",
       "    </tr>\n",
       "    <tr>\n",
       "      <th>9</th>\n",
       "      <td>3DS</td>\n",
       "      <td>257.81</td>\n",
       "    </tr>\n",
       "    <tr>\n",
       "      <th>10</th>\n",
       "      <td>PC</td>\n",
       "      <td>252.66</td>\n",
       "    </tr>\n",
       "    <tr>\n",
       "      <th>11</th>\n",
       "      <td>XB</td>\n",
       "      <td>251.57</td>\n",
       "    </tr>\n",
       "    <tr>\n",
       "      <th>12</th>\n",
       "      <td>N64</td>\n",
       "      <td>218.01</td>\n",
       "    </tr>\n",
       "    <tr>\n",
       "      <th>13</th>\n",
       "      <td>GC</td>\n",
       "      <td>196.73</td>\n",
       "    </tr>\n",
       "    <tr>\n",
       "      <th>14</th>\n",
       "      <td>XOne</td>\n",
       "      <td>159.32</td>\n",
       "    </tr>\n",
       "    <tr>\n",
       "      <th>15</th>\n",
       "      <td>GB</td>\n",
       "      <td>152.08</td>\n",
       "    </tr>\n",
       "    <tr>\n",
       "      <th>16</th>\n",
       "      <td>SNES</td>\n",
       "      <td>84.67</td>\n",
       "    </tr>\n",
       "    <tr>\n",
       "      <th>17</th>\n",
       "      <td>WiiU</td>\n",
       "      <td>82.19</td>\n",
       "    </tr>\n",
       "    <tr>\n",
       "      <th>18</th>\n",
       "      <td>PSV</td>\n",
       "      <td>53.81</td>\n",
       "    </tr>\n",
       "    <tr>\n",
       "      <th>19</th>\n",
       "      <td>SAT</td>\n",
       "      <td>33.59</td>\n",
       "    </tr>\n",
       "    <tr>\n",
       "      <th>20</th>\n",
       "      <td>DC</td>\n",
       "      <td>15.95</td>\n",
       "    </tr>\n",
       "    <tr>\n",
       "      <th>21</th>\n",
       "      <td>GEN</td>\n",
       "      <td>8.13</td>\n",
       "    </tr>\n",
       "    <tr>\n",
       "      <th>22</th>\n",
       "      <td>WS</td>\n",
       "      <td>1.42</td>\n",
       "    </tr>\n",
       "    <tr>\n",
       "      <th>23</th>\n",
       "      <td>NG</td>\n",
       "      <td>1.23</td>\n",
       "    </tr>\n",
       "    <tr>\n",
       "      <th>24</th>\n",
       "      <td>SCD</td>\n",
       "      <td>0.36</td>\n",
       "    </tr>\n",
       "    <tr>\n",
       "      <th>25</th>\n",
       "      <td>TG16</td>\n",
       "      <td>0.16</td>\n",
       "    </tr>\n",
       "    <tr>\n",
       "      <th>26</th>\n",
       "      <td>NES</td>\n",
       "      <td>0.11</td>\n",
       "    </tr>\n",
       "    <tr>\n",
       "      <th>27</th>\n",
       "      <td>3DO</td>\n",
       "      <td>0.10</td>\n",
       "    </tr>\n",
       "    <tr>\n",
       "      <th>28</th>\n",
       "      <td>PCFX</td>\n",
       "      <td>0.03</td>\n",
       "    </tr>\n",
       "  </tbody>\n",
       "</table>\n",
       "</div>"
      ],
      "text/plain": [
       "   platform  total_sales\n",
       "0       PS2      1233.56\n",
       "1      X360       961.24\n",
       "2       PS3       931.34\n",
       "3       Wii       891.18\n",
       "4        DS       802.76\n",
       "5        PS       727.58\n",
       "6       PS4       314.14\n",
       "7       GBA       312.88\n",
       "8       PSP       289.53\n",
       "9       3DS       257.81\n",
       "10       PC       252.66\n",
       "11       XB       251.57\n",
       "12      N64       218.01\n",
       "13       GC       196.73\n",
       "14     XOne       159.32\n",
       "15       GB       152.08\n",
       "16     SNES        84.67\n",
       "17     WiiU        82.19\n",
       "18      PSV        53.81\n",
       "19      SAT        33.59\n",
       "20       DC        15.95\n",
       "21      GEN         8.13\n",
       "22       WS         1.42\n",
       "23       NG         1.23\n",
       "24      SCD         0.36\n",
       "25     TG16         0.16\n",
       "26      NES         0.11\n",
       "27      3DO         0.10\n",
       "28     PCFX         0.03"
      ]
     },
     "execution_count": 53,
     "metadata": {},
     "output_type": "execute_result"
    }
   ],
   "source": [
    "best_platforms = data.pivot_table(index='platform',values='total_sales',aggfunc='sum').sort_values('total_sales',ascending=False).reset_index()\n",
    "best_platforms"
   ]
  },
  {
   "cell_type": "markdown",
   "metadata": {},
   "source": [
    "Построим сводную таблицу по платформам и суммарным продажам игр, затем выберем из них 6 платформ, лидирующих по продажам"
   ]
  },
  {
   "cell_type": "code",
   "execution_count": 54,
   "metadata": {},
   "outputs": [
    {
     "data": {
      "text/plain": [
       "0     PS2\n",
       "1    X360\n",
       "2     PS3\n",
       "3     Wii\n",
       "4      DS\n",
       "5      PS\n",
       "Name: platform, dtype: object"
      ]
     },
     "execution_count": 54,
     "metadata": {},
     "output_type": "execute_result"
    }
   ],
   "source": [
    "six_platforms = best_platforms.head(6)['platform']\n",
    "six_platforms"
   ]
  },
  {
   "cell_type": "code",
   "execution_count": 55,
   "metadata": {
    "scrolled": true
   },
   "outputs": [
    {
     "data": {
      "text/html": [
       "<div>\n",
       "<style scoped>\n",
       "    .dataframe tbody tr th:only-of-type {\n",
       "        vertical-align: middle;\n",
       "    }\n",
       "\n",
       "    .dataframe tbody tr th {\n",
       "        vertical-align: top;\n",
       "    }\n",
       "\n",
       "    .dataframe thead th {\n",
       "        text-align: right;\n",
       "    }\n",
       "</style>\n",
       "<table border=\"1\" class=\"dataframe\">\n",
       "  <thead>\n",
       "    <tr style=\"text-align: right;\">\n",
       "      <th>platform</th>\n",
       "      <th>DS</th>\n",
       "      <th>PS</th>\n",
       "      <th>PS2</th>\n",
       "      <th>PS3</th>\n",
       "      <th>Wii</th>\n",
       "      <th>X360</th>\n",
       "    </tr>\n",
       "    <tr>\n",
       "      <th>year_of_release</th>\n",
       "      <th></th>\n",
       "      <th></th>\n",
       "      <th></th>\n",
       "      <th></th>\n",
       "      <th></th>\n",
       "      <th></th>\n",
       "    </tr>\n",
       "  </thead>\n",
       "  <tbody>\n",
       "    <tr>\n",
       "      <th>1994</th>\n",
       "      <td>NaN</td>\n",
       "      <td>6.03</td>\n",
       "      <td>NaN</td>\n",
       "      <td>NaN</td>\n",
       "      <td>NaN</td>\n",
       "      <td>NaN</td>\n",
       "    </tr>\n",
       "    <tr>\n",
       "      <th>1995</th>\n",
       "      <td>NaN</td>\n",
       "      <td>35.96</td>\n",
       "      <td>NaN</td>\n",
       "      <td>NaN</td>\n",
       "      <td>NaN</td>\n",
       "      <td>NaN</td>\n",
       "    </tr>\n",
       "    <tr>\n",
       "      <th>1996</th>\n",
       "      <td>NaN</td>\n",
       "      <td>94.70</td>\n",
       "      <td>NaN</td>\n",
       "      <td>NaN</td>\n",
       "      <td>NaN</td>\n",
       "      <td>NaN</td>\n",
       "    </tr>\n",
       "    <tr>\n",
       "      <th>1997</th>\n",
       "      <td>NaN</td>\n",
       "      <td>136.17</td>\n",
       "      <td>NaN</td>\n",
       "      <td>NaN</td>\n",
       "      <td>NaN</td>\n",
       "      <td>NaN</td>\n",
       "    </tr>\n",
       "    <tr>\n",
       "      <th>1998</th>\n",
       "      <td>NaN</td>\n",
       "      <td>169.49</td>\n",
       "      <td>NaN</td>\n",
       "      <td>NaN</td>\n",
       "      <td>NaN</td>\n",
       "      <td>NaN</td>\n",
       "    </tr>\n",
       "    <tr>\n",
       "      <th>1999</th>\n",
       "      <td>NaN</td>\n",
       "      <td>144.53</td>\n",
       "      <td>NaN</td>\n",
       "      <td>NaN</td>\n",
       "      <td>NaN</td>\n",
       "      <td>NaN</td>\n",
       "    </tr>\n",
       "    <tr>\n",
       "      <th>2000</th>\n",
       "      <td>NaN</td>\n",
       "      <td>96.37</td>\n",
       "      <td>39.17</td>\n",
       "      <td>NaN</td>\n",
       "      <td>NaN</td>\n",
       "      <td>NaN</td>\n",
       "    </tr>\n",
       "    <tr>\n",
       "      <th>2001</th>\n",
       "      <td>NaN</td>\n",
       "      <td>35.59</td>\n",
       "      <td>166.43</td>\n",
       "      <td>NaN</td>\n",
       "      <td>NaN</td>\n",
       "      <td>NaN</td>\n",
       "    </tr>\n",
       "    <tr>\n",
       "      <th>2002</th>\n",
       "      <td>NaN</td>\n",
       "      <td>6.67</td>\n",
       "      <td>205.38</td>\n",
       "      <td>NaN</td>\n",
       "      <td>NaN</td>\n",
       "      <td>NaN</td>\n",
       "    </tr>\n",
       "    <tr>\n",
       "      <th>2003</th>\n",
       "      <td>NaN</td>\n",
       "      <td>2.07</td>\n",
       "      <td>184.31</td>\n",
       "      <td>NaN</td>\n",
       "      <td>NaN</td>\n",
       "      <td>NaN</td>\n",
       "    </tr>\n",
       "    <tr>\n",
       "      <th>2004</th>\n",
       "      <td>17.27</td>\n",
       "      <td>NaN</td>\n",
       "      <td>211.81</td>\n",
       "      <td>NaN</td>\n",
       "      <td>NaN</td>\n",
       "      <td>NaN</td>\n",
       "    </tr>\n",
       "    <tr>\n",
       "      <th>2005</th>\n",
       "      <td>130.14</td>\n",
       "      <td>NaN</td>\n",
       "      <td>160.66</td>\n",
       "      <td>NaN</td>\n",
       "      <td>NaN</td>\n",
       "      <td>8.25</td>\n",
       "    </tr>\n",
       "    <tr>\n",
       "      <th>2006</th>\n",
       "      <td>119.81</td>\n",
       "      <td>NaN</td>\n",
       "      <td>103.42</td>\n",
       "      <td>20.96</td>\n",
       "      <td>137.15</td>\n",
       "      <td>51.62</td>\n",
       "    </tr>\n",
       "    <tr>\n",
       "      <th>2007</th>\n",
       "      <td>146.94</td>\n",
       "      <td>NaN</td>\n",
       "      <td>75.99</td>\n",
       "      <td>73.19</td>\n",
       "      <td>152.77</td>\n",
       "      <td>95.41</td>\n",
       "    </tr>\n",
       "    <tr>\n",
       "      <th>2008</th>\n",
       "      <td>145.31</td>\n",
       "      <td>NaN</td>\n",
       "      <td>53.90</td>\n",
       "      <td>118.52</td>\n",
       "      <td>171.32</td>\n",
       "      <td>135.26</td>\n",
       "    </tr>\n",
       "    <tr>\n",
       "      <th>2009</th>\n",
       "      <td>119.54</td>\n",
       "      <td>NaN</td>\n",
       "      <td>26.40</td>\n",
       "      <td>130.93</td>\n",
       "      <td>206.97</td>\n",
       "      <td>120.29</td>\n",
       "    </tr>\n",
       "    <tr>\n",
       "      <th>2010</th>\n",
       "      <td>85.02</td>\n",
       "      <td>NaN</td>\n",
       "      <td>5.64</td>\n",
       "      <td>142.17</td>\n",
       "      <td>127.95</td>\n",
       "      <td>170.03</td>\n",
       "    </tr>\n",
       "    <tr>\n",
       "      <th>2011</th>\n",
       "      <td>26.18</td>\n",
       "      <td>NaN</td>\n",
       "      <td>0.45</td>\n",
       "      <td>156.78</td>\n",
       "      <td>59.65</td>\n",
       "      <td>143.84</td>\n",
       "    </tr>\n",
       "    <tr>\n",
       "      <th>2012</th>\n",
       "      <td>11.01</td>\n",
       "      <td>NaN</td>\n",
       "      <td>NaN</td>\n",
       "      <td>107.36</td>\n",
       "      <td>21.71</td>\n",
       "      <td>99.74</td>\n",
       "    </tr>\n",
       "    <tr>\n",
       "      <th>2013</th>\n",
       "      <td>1.54</td>\n",
       "      <td>NaN</td>\n",
       "      <td>NaN</td>\n",
       "      <td>113.25</td>\n",
       "      <td>8.59</td>\n",
       "      <td>88.58</td>\n",
       "    </tr>\n",
       "    <tr>\n",
       "      <th>2014</th>\n",
       "      <td>NaN</td>\n",
       "      <td>NaN</td>\n",
       "      <td>NaN</td>\n",
       "      <td>47.76</td>\n",
       "      <td>3.75</td>\n",
       "      <td>34.74</td>\n",
       "    </tr>\n",
       "    <tr>\n",
       "      <th>2015</th>\n",
       "      <td>NaN</td>\n",
       "      <td>NaN</td>\n",
       "      <td>NaN</td>\n",
       "      <td>16.82</td>\n",
       "      <td>1.14</td>\n",
       "      <td>11.96</td>\n",
       "    </tr>\n",
       "    <tr>\n",
       "      <th>2016</th>\n",
       "      <td>NaN</td>\n",
       "      <td>NaN</td>\n",
       "      <td>NaN</td>\n",
       "      <td>3.60</td>\n",
       "      <td>0.18</td>\n",
       "      <td>1.52</td>\n",
       "    </tr>\n",
       "  </tbody>\n",
       "</table>\n",
       "</div>"
      ],
      "text/plain": [
       "platform             DS      PS     PS2     PS3     Wii    X360\n",
       "year_of_release                                                \n",
       "1994                NaN    6.03     NaN     NaN     NaN     NaN\n",
       "1995                NaN   35.96     NaN     NaN     NaN     NaN\n",
       "1996                NaN   94.70     NaN     NaN     NaN     NaN\n",
       "1997                NaN  136.17     NaN     NaN     NaN     NaN\n",
       "1998                NaN  169.49     NaN     NaN     NaN     NaN\n",
       "1999                NaN  144.53     NaN     NaN     NaN     NaN\n",
       "2000                NaN   96.37   39.17     NaN     NaN     NaN\n",
       "2001                NaN   35.59  166.43     NaN     NaN     NaN\n",
       "2002                NaN    6.67  205.38     NaN     NaN     NaN\n",
       "2003                NaN    2.07  184.31     NaN     NaN     NaN\n",
       "2004              17.27     NaN  211.81     NaN     NaN     NaN\n",
       "2005             130.14     NaN  160.66     NaN     NaN    8.25\n",
       "2006             119.81     NaN  103.42   20.96  137.15   51.62\n",
       "2007             146.94     NaN   75.99   73.19  152.77   95.41\n",
       "2008             145.31     NaN   53.90  118.52  171.32  135.26\n",
       "2009             119.54     NaN   26.40  130.93  206.97  120.29\n",
       "2010              85.02     NaN    5.64  142.17  127.95  170.03\n",
       "2011              26.18     NaN    0.45  156.78   59.65  143.84\n",
       "2012              11.01     NaN     NaN  107.36   21.71   99.74\n",
       "2013               1.54     NaN     NaN  113.25    8.59   88.58\n",
       "2014                NaN     NaN     NaN   47.76    3.75   34.74\n",
       "2015                NaN     NaN     NaN   16.82    1.14   11.96\n",
       "2016                NaN     NaN     NaN    3.60    0.18    1.52"
      ]
     },
     "execution_count": 55,
     "metadata": {},
     "output_type": "execute_result"
    }
   ],
   "source": [
    "platf_year = data.query('platform in @six_platforms').pivot_table(\n",
    "                       index='year_of_release', columns = 'platform', \n",
    "                       values = 'total_sales', aggfunc = 'sum')\n",
    "platf_year"
   ]
  },
  {
   "cell_type": "code",
   "execution_count": 56,
   "metadata": {
    "scrolled": true
   },
   "outputs": [
    {
     "data": {
      "image/png": "[encoded data removed]",
      "text/plain": [
       "<Figure size 936x360 with 1 Axes>"
      ]
     },
     "metadata": {
      "needs_background": "light"
     },
     "output_type": "display_data"
    }
   ],
   "source": [
    "platf_year.plot(figsize=(13,5),grid=True,title='Распределение топ 6 по продажам платформ по годам',xlabel='Год выпуска',ylabel='Суммарные продажи(млн. копий)');\n",
    "plt.xlim(1991,2016);"
   ]
  },
  {
   "cell_type": "markdown",
   "metadata": {},
   "source": [
    "По графику можно наблюдать, что срок существования популярных платформ составляет около 8 лет."
   ]
  },
  {
   "cell_type": "code",
   "execution_count": 57,
   "metadata": {
    "scrolled": true
   },
   "outputs": [
    {
     "data": {
      "image/png": "[encoded data removed]",
      "text/plain": [
       "<Figure size 936x360 with 1 Axes>"
      ]
     },
     "metadata": {
      "needs_background": "light"
     },
     "output_type": "display_data"
    }
   ],
   "source": [
    "platf_year['DS'].plot.bar(figsize=(13,5),grid=True,title='Продажи на платформе DS',xlabel='Год выпуска',ylabel='Суммарные продажи(млн. копий)');"
   ]
  },
  {
   "cell_type": "markdown",
   "metadata": {},
   "source": [
    "Пик продаж на платформе DS пришелся на 2007 год, затем начался спад. В 2011 году по сравнению с 2012 продажи были совсем низкими и затем только падали."
   ]
  },
  {
   "cell_type": "code",
   "execution_count": 58,
   "metadata": {},
   "outputs": [
    {
     "data": {
      "image/png": "[encoded data removed]",
      "text/plain": [
       "<Figure size 936x360 with 1 Axes>"
      ]
     },
     "metadata": {
      "needs_background": "light"
     },
     "output_type": "display_data"
    }
   ],
   "source": [
    "platf_year['PS'].plot.bar(figsize=(13,5),grid=True,title='Продажи на платформе PS',xlabel='Год выпуска',ylabel='Суммарные продажи(млн. копий)');"
   ]
  },
  {
   "cell_type": "markdown",
   "metadata": {},
   "source": [
    "На платформе PS продажи росли постепенно, начиная с 1994 г. и достигли пика в 1998 г., затем снижались."
   ]
  },
  {
   "cell_type": "code",
   "execution_count": 59,
   "metadata": {
    "scrolled": true
   },
   "outputs": [
    {
     "data": {
      "image/png": "[encoded data removed]",
      "text/plain": [
       "<Figure size 936x360 with 1 Axes>"
      ]
     },
     "metadata": {
      "needs_background": "light"
     },
     "output_type": "display_data"
    }
   ],
   "source": [
    "platf_year['PS2'].plot.bar(figsize=(13,5),grid=True,title='Продажи на платформе PS2',xlabel='Год выпуска',ylabel='Суммарные продажи(млн. копий)');"
   ]
  },
  {
   "cell_type": "markdown",
   "metadata": {},
   "source": [
    "PS2 - абсолютный лидер продаж за все время. Пик пришелся на 2002-2005 г., затем постепенное снижение."
   ]
  },
  {
   "cell_type": "code",
   "execution_count": 60,
   "metadata": {
    "scrolled": true
   },
   "outputs": [
    {
     "data": {
      "image/png": "[encoded data removed]",
      "text/plain": [
       "<Figure size 936x360 with 1 Axes>"
      ]
     },
     "metadata": {
      "needs_background": "light"
     },
     "output_type": "display_data"
    }
   ],
   "source": [
    "platf_year['PS3'].plot.bar(figsize=(13,5),grid=True,title='Продажи на платформе PS3',xlabel='Год выпуска',ylabel='Суммарные продажи(млн. копий)');"
   ]
  },
  {
   "cell_type": "markdown",
   "metadata": {},
   "source": [
    "PS3 - одна из двух платформ из топ-6, у которой в 2016 г. были продажи игр. Пик пришелся на 2011 г., затем снижение. "
   ]
  },
  {
   "cell_type": "code",
   "execution_count": 61,
   "metadata": {
    "scrolled": true
   },
   "outputs": [
    {
     "data": {
      "image/png": "[encoded data removed]",
      "text/plain": [
       "<Figure size 936x360 with 1 Axes>"
      ]
     },
     "metadata": {
      "needs_background": "light"
     },
     "output_type": "display_data"
    }
   ],
   "source": [
    "platf_year['Wii'].plot.bar(figsize=(13,5),grid=True,title='Продажи на платформе Wii',xlabel='Год выпуска',ylabel='Суммарные продажи(млн. копий)');"
   ]
  },
  {
   "cell_type": "markdown",
   "metadata": {},
   "source": [
    "Платформа Wii начала свое существование в 2006 г. и сразу показала хорошие продажи, пик - в 2010 г."
   ]
  },
  {
   "cell_type": "code",
   "execution_count": 62,
   "metadata": {
    "scrolled": false
   },
   "outputs": [
    {
     "data": {
      "image/png": "[encoded data removed]",
      "text/plain": [
       "<Figure size 936x360 with 1 Axes>"
      ]
     },
     "metadata": {
      "needs_background": "light"
     },
     "output_type": "display_data"
    }
   ],
   "source": [
    "platf_year['X360'].plot.bar(figsize=(13,5),grid=True,title='Продажи на платформе X360',xlabel='Год выпуска',ylabel='Суммарные продажи(млн. копий)');"
   ]
  },
  {
   "cell_type": "markdown",
   "metadata": {},
   "source": [
    "X360 просуществовала больше 10 лет, показывая неплохие продажи в 2008-2011 г."
   ]
  },
  {
   "cell_type": "code",
   "execution_count": 63,
   "metadata": {
    "scrolled": false
   },
   "outputs": [
    {
     "data": {
      "image/png": "[encoded data removed]",
      "text/plain": [
       "<Figure size 1080x720 with 1 Axes>"
      ]
     },
     "metadata": {
      "needs_background": "light"
     },
     "output_type": "display_data"
    }
   ],
   "source": [
    "pla = data.pivot_table(\n",
    "                       index='year_of_release', columns = 'platform', \n",
    "                       values = 'total_sales', aggfunc = 'sum')\n",
    "pla.plot(figsize=(15,10),grid=True,title='Распределение продаж платформ по годам',xlabel='Год выпуска',ylabel='Суммарные продажи(млн. копий)');\n",
    "plt.xlim(1991,2016);"
   ]
  },
  {
   "cell_type": "markdown",
   "metadata": {},
   "source": [
    "Вывод: На графике показаны суммарные продажи всех платформ по годам релиза. \\\n",
    "Видно, что лидерами продаж были платформы PS2 и Wii, которые в свои лучшие времена преодолели планку в 200 млн. копий проданных игр (PS2 в 2002 и 2004, Wii в 2009).\\\n",
    "За все время у нескольких платформ пики продаж пришлись на период с 2006 по 2010 г., что также отображено на графике.\\\n",
    "Периодом с самыми низкими продажами являются года до 2000го и только платформа PS в этот период показала высокие продажи (больше 160 млн.)."
   ]
  },
  {
   "cell_type": "markdown",
   "metadata": {},
   "source": [
    "**Определение актуального периода для построения прогноза на 2017 г.**"
   ]
  },
  {
   "cell_type": "markdown",
   "metadata": {},
   "source": [
    "Для достоверности данных и построения прогноза, актуальным периодом будем считать с 2012 по 2016 гг."
   ]
  },
  {
   "cell_type": "code",
   "execution_count": 64,
   "metadata": {
    "scrolled": true
   },
   "outputs": [
    {
     "data": {
      "text/html": [
       "<div>\n",
       "<style scoped>\n",
       "    .dataframe tbody tr th:only-of-type {\n",
       "        vertical-align: middle;\n",
       "    }\n",
       "\n",
       "    .dataframe tbody tr th {\n",
       "        vertical-align: top;\n",
       "    }\n",
       "\n",
       "    .dataframe thead th {\n",
       "        text-align: right;\n",
       "    }\n",
       "</style>\n",
       "<table border=\"1\" class=\"dataframe\">\n",
       "  <thead>\n",
       "    <tr style=\"text-align: right;\">\n",
       "      <th></th>\n",
       "      <th>name</th>\n",
       "      <th>platform</th>\n",
       "      <th>year_of_release</th>\n",
       "      <th>genre</th>\n",
       "      <th>na_sales</th>\n",
       "      <th>eu_sales</th>\n",
       "      <th>jp_sales</th>\n",
       "      <th>other_sales</th>\n",
       "      <th>critic_score</th>\n",
       "      <th>user_score</th>\n",
       "      <th>rating</th>\n",
       "      <th>total_sales</th>\n",
       "    </tr>\n",
       "  </thead>\n",
       "  <tbody>\n",
       "    <tr>\n",
       "      <th>16</th>\n",
       "      <td>Grand Theft Auto V</td>\n",
       "      <td>PS3</td>\n",
       "      <td>2013</td>\n",
       "      <td>Action</td>\n",
       "      <td>7.02</td>\n",
       "      <td>9.09</td>\n",
       "      <td>0.98</td>\n",
       "      <td>3.96</td>\n",
       "      <td>97.0</td>\n",
       "      <td>8.2</td>\n",
       "      <td>M</td>\n",
       "      <td>21.05</td>\n",
       "    </tr>\n",
       "    <tr>\n",
       "      <th>23</th>\n",
       "      <td>Grand Theft Auto V</td>\n",
       "      <td>X360</td>\n",
       "      <td>2013</td>\n",
       "      <td>Action</td>\n",
       "      <td>9.66</td>\n",
       "      <td>5.14</td>\n",
       "      <td>0.06</td>\n",
       "      <td>1.41</td>\n",
       "      <td>97.0</td>\n",
       "      <td>8.1</td>\n",
       "      <td>M</td>\n",
       "      <td>16.27</td>\n",
       "    </tr>\n",
       "    <tr>\n",
       "      <th>31</th>\n",
       "      <td>Call of Duty: Black Ops 3</td>\n",
       "      <td>PS4</td>\n",
       "      <td>2015</td>\n",
       "      <td>Shooter</td>\n",
       "      <td>6.03</td>\n",
       "      <td>5.86</td>\n",
       "      <td>0.36</td>\n",
       "      <td>2.38</td>\n",
       "      <td>NaN</td>\n",
       "      <td>NaN</td>\n",
       "      <td>RP</td>\n",
       "      <td>14.63</td>\n",
       "    </tr>\n",
       "    <tr>\n",
       "      <th>33</th>\n",
       "      <td>Pokemon X/Pokemon Y</td>\n",
       "      <td>3DS</td>\n",
       "      <td>2013</td>\n",
       "      <td>Role-Playing</td>\n",
       "      <td>5.28</td>\n",
       "      <td>4.19</td>\n",
       "      <td>4.35</td>\n",
       "      <td>0.78</td>\n",
       "      <td>NaN</td>\n",
       "      <td>NaN</td>\n",
       "      <td>RP</td>\n",
       "      <td>14.60</td>\n",
       "    </tr>\n",
       "    <tr>\n",
       "      <th>34</th>\n",
       "      <td>Call of Duty: Black Ops II</td>\n",
       "      <td>PS3</td>\n",
       "      <td>2012</td>\n",
       "      <td>Shooter</td>\n",
       "      <td>4.99</td>\n",
       "      <td>5.73</td>\n",
       "      <td>0.65</td>\n",
       "      <td>2.42</td>\n",
       "      <td>83.0</td>\n",
       "      <td>5.3</td>\n",
       "      <td>M</td>\n",
       "      <td>13.79</td>\n",
       "    </tr>\n",
       "  </tbody>\n",
       "</table>\n",
       "</div>"
      ],
      "text/plain": [
       "                          name platform  year_of_release         genre  \\\n",
       "16          Grand Theft Auto V      PS3             2013        Action   \n",
       "23          Grand Theft Auto V     X360             2013        Action   \n",
       "31   Call of Duty: Black Ops 3      PS4             2015       Shooter   \n",
       "33         Pokemon X/Pokemon Y      3DS             2013  Role-Playing   \n",
       "34  Call of Duty: Black Ops II      PS3             2012       Shooter   \n",
       "\n",
       "    na_sales  eu_sales  jp_sales  other_sales  critic_score  user_score  \\\n",
       "16      7.02      9.09      0.98         3.96          97.0         8.2   \n",
       "23      9.66      5.14      0.06         1.41          97.0         8.1   \n",
       "31      6.03      5.86      0.36         2.38           NaN         NaN   \n",
       "33      5.28      4.19      4.35         0.78           NaN         NaN   \n",
       "34      4.99      5.73      0.65         2.42          83.0         5.3   \n",
       "\n",
       "   rating  total_sales  \n",
       "16      M        21.05  \n",
       "23      M        16.27  \n",
       "31     RP        14.63  \n",
       "33     RP        14.60  \n",
       "34      M        13.79  "
      ]
     },
     "execution_count": 64,
     "metadata": {},
     "output_type": "execute_result"
    }
   ],
   "source": [
    "act_data = data.query('year_of_release >= 2012')\n",
    "act_data.head()"
   ]
  },
  {
   "cell_type": "markdown",
   "metadata": {},
   "source": [
    "**Анализ платформ-лидеров по продажам**"
   ]
  },
  {
   "cell_type": "code",
   "execution_count": 66,
   "metadata": {
    "scrolled": false
   },
   "outputs": [
    {
     "data": {
      "image/png": "[encoded data removed]",
      "text/plain": [
       "<Figure size 936x1440 with 1 Axes>"
      ]
     },
     "metadata": {
      "needs_background": "light"
     },
     "output_type": "display_data"
    }
   ],
   "source": [
    "actplatf = ['PS2','X360','PS3','Wii','DS','PS','PS4','XOne']\n",
    "act_data.query('platform in @actplatf').boxplot(\n",
    "                column='total_sales', by='platform', figsize=(13, 20))\n",
    "plt.title('Продажи топ платформ за 2012-2016 г.')\n",
    "plt.xlabel('Платформа')\n",
    "plt.ylabel('Продажи, млн.копий')\n",
    "plt.show()"
   ]
  },
  {
   "cell_type": "code",
   "execution_count": 70,
   "metadata": {},
   "outputs": [
    {
     "data": {
      "image/png": "[encoded data removed]",
      "text/plain": [
       "<Figure size 936x1440 with 1 Axes>"
      ]
     },
     "metadata": {
      "needs_background": "light"
     },
     "output_type": "display_data"
    }
   ],
   "source": [
    "actplatf = ['PS2','X360','PS3','Wii','DS','PS','PS4','XOne']\n",
    "act_data.query('platform in @actplatf').boxplot(\n",
    "                column='total_sales', by='platform', figsize=(13, 20))\n",
    "plt.title('Продажи топ платформ за 2012-2016 г.')\n",
    "plt.xlabel('Платформа')\n",
    "plt.ylabel('Продажи, млн.копий')\n",
    "plt.ylim(0,5)\n",
    "plt.show()"
   ]
  },
  {
   "cell_type": "markdown",
   "metadata": {},
   "source": [
    "Построили график «ящик с усами» по глобальным продажам игр в разбивке по платформам. \\\n",
    "Самая большая медиана у платформы X360, PS3 и PS4.\n",
    "\n",
    "При этом платформы XOne, PS3 и PS4 менее стабильны в продажах и имеют наибольшее количество выбросов, т.е. показывают высокие продажи в большинстве своем за счет небольшого количества очень удачных игр.\\\n",
    "Платформы DS и Wii более стабильны в этом плане и содержат мало выбросов."
   ]
  },
  {
   "cell_type": "code",
   "execution_count": 71,
   "metadata": {
    "scrolled": true
   },
   "outputs": [
    {
     "data": {
      "text/html": [
       "<div>\n",
       "<style scoped>\n",
       "    .dataframe tbody tr th:only-of-type {\n",
       "        vertical-align: middle;\n",
       "    }\n",
       "\n",
       "    .dataframe tbody tr th {\n",
       "        vertical-align: top;\n",
       "    }\n",
       "\n",
       "    .dataframe thead th {\n",
       "        text-align: right;\n",
       "    }\n",
       "</style>\n",
       "<table border=\"1\" class=\"dataframe\">\n",
       "  <thead>\n",
       "    <tr style=\"text-align: right;\">\n",
       "      <th>platform</th>\n",
       "      <th>DS</th>\n",
       "      <th>PS3</th>\n",
       "      <th>Wii</th>\n",
       "      <th>X360</th>\n",
       "    </tr>\n",
       "    <tr>\n",
       "      <th>year_of_release</th>\n",
       "      <th></th>\n",
       "      <th></th>\n",
       "      <th></th>\n",
       "      <th></th>\n",
       "    </tr>\n",
       "  </thead>\n",
       "  <tbody>\n",
       "    <tr>\n",
       "      <th>2012</th>\n",
       "      <td>11.01</td>\n",
       "      <td>107.36</td>\n",
       "      <td>21.71</td>\n",
       "      <td>99.74</td>\n",
       "    </tr>\n",
       "    <tr>\n",
       "      <th>2013</th>\n",
       "      <td>1.54</td>\n",
       "      <td>113.25</td>\n",
       "      <td>8.59</td>\n",
       "      <td>88.58</td>\n",
       "    </tr>\n",
       "    <tr>\n",
       "      <th>2014</th>\n",
       "      <td>NaN</td>\n",
       "      <td>47.76</td>\n",
       "      <td>3.75</td>\n",
       "      <td>34.74</td>\n",
       "    </tr>\n",
       "    <tr>\n",
       "      <th>2015</th>\n",
       "      <td>NaN</td>\n",
       "      <td>16.82</td>\n",
       "      <td>1.14</td>\n",
       "      <td>11.96</td>\n",
       "    </tr>\n",
       "    <tr>\n",
       "      <th>2016</th>\n",
       "      <td>NaN</td>\n",
       "      <td>3.60</td>\n",
       "      <td>0.18</td>\n",
       "      <td>1.52</td>\n",
       "    </tr>\n",
       "  </tbody>\n",
       "</table>\n",
       "</div>"
      ],
      "text/plain": [
       "platform            DS     PS3    Wii   X360\n",
       "year_of_release                             \n",
       "2012             11.01  107.36  21.71  99.74\n",
       "2013              1.54  113.25   8.59  88.58\n",
       "2014               NaN   47.76   3.75  34.74\n",
       "2015               NaN   16.82   1.14  11.96\n",
       "2016               NaN    3.60   0.18   1.52"
      ]
     },
     "metadata": {},
     "output_type": "display_data"
    },
    {
     "data": {
      "text/html": [
       "<div>\n",
       "<style scoped>\n",
       "    .dataframe tbody tr th:only-of-type {\n",
       "        vertical-align: middle;\n",
       "    }\n",
       "\n",
       "    .dataframe tbody tr th {\n",
       "        vertical-align: top;\n",
       "    }\n",
       "\n",
       "    .dataframe thead th {\n",
       "        text-align: right;\n",
       "    }\n",
       "</style>\n",
       "<table border=\"1\" class=\"dataframe\">\n",
       "  <thead>\n",
       "    <tr style=\"text-align: right;\">\n",
       "      <th>platform</th>\n",
       "      <th>DS</th>\n",
       "      <th>PS3</th>\n",
       "      <th>Wii</th>\n",
       "      <th>X360</th>\n",
       "    </tr>\n",
       "  </thead>\n",
       "  <tbody>\n",
       "    <tr>\n",
       "      <th>count</th>\n",
       "      <td>2.000000</td>\n",
       "      <td>5.000000</td>\n",
       "      <td>5.000000</td>\n",
       "      <td>5.000000</td>\n",
       "    </tr>\n",
       "    <tr>\n",
       "      <th>mean</th>\n",
       "      <td>6.275000</td>\n",
       "      <td>57.758000</td>\n",
       "      <td>7.074000</td>\n",
       "      <td>47.308000</td>\n",
       "    </tr>\n",
       "    <tr>\n",
       "      <th>std</th>\n",
       "      <td>6.696301</td>\n",
       "      <td>50.617905</td>\n",
       "      <td>8.807657</td>\n",
       "      <td>44.599522</td>\n",
       "    </tr>\n",
       "    <tr>\n",
       "      <th>min</th>\n",
       "      <td>1.540000</td>\n",
       "      <td>3.600000</td>\n",
       "      <td>0.180000</td>\n",
       "      <td>1.520000</td>\n",
       "    </tr>\n",
       "    <tr>\n",
       "      <th>25%</th>\n",
       "      <td>3.907500</td>\n",
       "      <td>16.820000</td>\n",
       "      <td>1.140000</td>\n",
       "      <td>11.960000</td>\n",
       "    </tr>\n",
       "    <tr>\n",
       "      <th>50%</th>\n",
       "      <td>6.275000</td>\n",
       "      <td>47.760000</td>\n",
       "      <td>3.750000</td>\n",
       "      <td>34.740000</td>\n",
       "    </tr>\n",
       "    <tr>\n",
       "      <th>75%</th>\n",
       "      <td>8.642500</td>\n",
       "      <td>107.360000</td>\n",
       "      <td>8.590000</td>\n",
       "      <td>88.580000</td>\n",
       "    </tr>\n",
       "    <tr>\n",
       "      <th>max</th>\n",
       "      <td>11.010000</td>\n",
       "      <td>113.250000</td>\n",
       "      <td>21.710000</td>\n",
       "      <td>99.740000</td>\n",
       "    </tr>\n",
       "  </tbody>\n",
       "</table>\n",
       "</div>"
      ],
      "text/plain": [
       "platform         DS         PS3        Wii       X360\n",
       "count      2.000000    5.000000   5.000000   5.000000\n",
       "mean       6.275000   57.758000   7.074000  47.308000\n",
       "std        6.696301   50.617905   8.807657  44.599522\n",
       "min        1.540000    3.600000   0.180000   1.520000\n",
       "25%        3.907500   16.820000   1.140000  11.960000\n",
       "50%        6.275000   47.760000   3.750000  34.740000\n",
       "75%        8.642500  107.360000   8.590000  88.580000\n",
       "max       11.010000  113.250000  21.710000  99.740000"
      ]
     },
     "execution_count": 71,
     "metadata": {},
     "output_type": "execute_result"
    }
   ],
   "source": [
    "platfgg = act_data.query('platform in @six_platforms').pivot_table(\n",
    "                       index='year_of_release', columns = 'platform', \n",
    "                       values = 'total_sales', aggfunc = 'sum')\n",
    "display(platfgg)\n",
    "platfgg.describe()"
   ]
  },
  {
   "cell_type": "markdown",
   "metadata": {},
   "source": [
    "**Анализ влияния на продажи внутри одной популярной платформы отзывов пользователей и критиков**"
   ]
  },
  {
   "cell_type": "code",
   "execution_count": 72,
   "metadata": {
    "scrolled": true
   },
   "outputs": [
    {
     "data": {
      "image/png": "[encoded data removed]",
      "text/plain": [
       "<Figure size 1080x360 with 1 Axes>"
      ]
     },
     "metadata": {
      "needs_background": "light"
     },
     "output_type": "display_data"
    }
   ],
   "source": [
    "act_data.query('platform == \"PS3\"').plot.scatter(x='critic_score', y='total_sales', figsize=(15, 5), alpha=0.5)\n",
    "plt.title('Влияние отзывов критиков на продажи PS3')\n",
    "plt.xlabel('Оценка критиков')\n",
    "plt.ylabel('Продажи')\n",
    "plt.show()"
   ]
  },
  {
   "cell_type": "markdown",
   "metadata": {},
   "source": [
    "На диаграмме рассеяния видно, что плотность продаж выше в областях графика с высокой оценкой критиков"
   ]
  },
  {
   "cell_type": "code",
   "execution_count": 77,
   "metadata": {
    "scrolled": true
   },
   "outputs": [
    {
     "data": {
      "image/png": "[encoded data removed]",
      "text/plain": [
       "<Figure size 1080x360 with 1 Axes>"
      ]
     },
     "metadata": {
      "needs_background": "light"
     },
     "output_type": "display_data"
    }
   ],
   "source": [
    "act_data.query('platform == \"PS3\"').plot.scatter(x='user_score', y='total_sales', figsize=(15, 5), alpha=0.5)\n",
    "plt.title('Влияние отзывов пользователей на продажи PS3')\n",
    "plt.xlabel('Оценка пользователей')\n",
    "plt.ylabel('Продажи')\n",
    "plt.show()"
   ]
  },
  {
   "cell_type": "markdown",
   "metadata": {},
   "source": [
    "Также как и с оценками критиков, на диаграмме видно, что чем выше оценка пользователей, тем больше продажи"
   ]
  },
  {
   "cell_type": "code",
   "execution_count": 74,
   "metadata": {
    "scrolled": true
   },
   "outputs": [
    {
     "data": {
      "text/html": [
       "<div>\n",
       "<style scoped>\n",
       "    .dataframe tbody tr th:only-of-type {\n",
       "        vertical-align: middle;\n",
       "    }\n",
       "\n",
       "    .dataframe tbody tr th {\n",
       "        vertical-align: top;\n",
       "    }\n",
       "\n",
       "    .dataframe thead th {\n",
       "        text-align: right;\n",
       "    }\n",
       "</style>\n",
       "<table border=\"1\" class=\"dataframe\">\n",
       "  <thead>\n",
       "    <tr style=\"text-align: right;\">\n",
       "      <th></th>\n",
       "      <th>total_sales</th>\n",
       "      <th>critic_score</th>\n",
       "      <th>user_score</th>\n",
       "    </tr>\n",
       "  </thead>\n",
       "  <tbody>\n",
       "    <tr>\n",
       "      <th>total_sales</th>\n",
       "      <td>1.000000</td>\n",
       "      <td>0.331497</td>\n",
       "      <td>-0.005144</td>\n",
       "    </tr>\n",
       "    <tr>\n",
       "      <th>critic_score</th>\n",
       "      <td>0.331497</td>\n",
       "      <td>1.000000</td>\n",
       "      <td>0.539456</td>\n",
       "    </tr>\n",
       "    <tr>\n",
       "      <th>user_score</th>\n",
       "      <td>-0.005144</td>\n",
       "      <td>0.539456</td>\n",
       "      <td>1.000000</td>\n",
       "    </tr>\n",
       "  </tbody>\n",
       "</table>\n",
       "</div>"
      ],
      "text/plain": [
       "              total_sales  critic_score  user_score\n",
       "total_sales      1.000000      0.331497   -0.005144\n",
       "critic_score     0.331497      1.000000    0.539456\n",
       "user_score      -0.005144      0.539456    1.000000"
      ]
     },
     "execution_count": 74,
     "metadata": {},
     "output_type": "execute_result"
    }
   ],
   "source": [
    "act_data.query('platform == \"PS3\"')[['total_sales','critic_score','user_score']].corr()"
   ]
  },
  {
   "cell_type": "markdown",
   "metadata": {},
   "source": [
    "Посчитаем корреляцию между отзывами критиков, пользователей, продажами и самой популярной платформой - PS3.\\\n",
    "Корреляция между отзывами критиков и продажами составляет 0,4 ,что говорит о средней зависимости. То есть оценка критиков влияет на продажи платформы. \\\n",
    "Между отзывами пользователей и продажами корреляция отсутствует, соответственно связи нет: отзывы пользователей не влияют на продажи"
   ]
  },
  {
   "cell_type": "markdown",
   "metadata": {},
   "source": [
    "**Также построим диаграмму рассеяния для других популярных платформ и посчитаем корреляцию**"
   ]
  },
  {
   "cell_type": "code",
   "execution_count": 78,
   "metadata": {
    "scrolled": true
   },
   "outputs": [
    {
     "data": {
      "image/png": "[encoded data removed]",
      "text/plain": [
       "<Figure size 1080x360 with 1 Axes>"
      ]
     },
     "metadata": {
      "needs_background": "light"
     },
     "output_type": "display_data"
    }
   ],
   "source": [
    "act_data.query('platform in @actplatf').plot.scatter(x='critic_score', y='total_sales', figsize=(15, 5), alpha=0.5)\n",
    "plt.title('Влияние отзывов критиков на продажи топ платформ')\n",
    "plt.xlabel('Оценка критиков')\n",
    "plt.ylabel('Продажи')\n",
    "plt.show()"
   ]
  },
  {
   "cell_type": "code",
   "execution_count": 79,
   "metadata": {
    "scrolled": true
   },
   "outputs": [
    {
     "data": {
      "image/png": "[encoded data removed]",
      "text/plain": [
       "<Figure size 1080x360 with 1 Axes>"
      ]
     },
     "metadata": {
      "needs_background": "light"
     },
     "output_type": "display_data"
    }
   ],
   "source": [
    "act_data.query('platform in @actplatf').plot.scatter(x='user_score', y='total_sales', figsize=(15, 5), alpha=0.5)\n",
    "plt.title('Влияние отзывов пользователей на продажи топ платформ')\n",
    "plt.xlabel('Оценка пользователей')\n",
    "plt.ylabel('Продажи')\n",
    "plt.show()"
   ]
  },
  {
   "cell_type": "code",
   "execution_count": 80,
   "metadata": {
    "scrolled": true
   },
   "outputs": [
    {
     "data": {
      "text/html": [
       "<div>\n",
       "<style scoped>\n",
       "    .dataframe tbody tr th:only-of-type {\n",
       "        vertical-align: middle;\n",
       "    }\n",
       "\n",
       "    .dataframe tbody tr th {\n",
       "        vertical-align: top;\n",
       "    }\n",
       "\n",
       "    .dataframe thead th {\n",
       "        text-align: right;\n",
       "    }\n",
       "</style>\n",
       "<table border=\"1\" class=\"dataframe\">\n",
       "  <thead>\n",
       "    <tr style=\"text-align: right;\">\n",
       "      <th></th>\n",
       "      <th>total_sales</th>\n",
       "      <th>critic_score</th>\n",
       "      <th>user_score</th>\n",
       "    </tr>\n",
       "  </thead>\n",
       "  <tbody>\n",
       "    <tr>\n",
       "      <th>total_sales</th>\n",
       "      <td>1.000000</td>\n",
       "      <td>0.356917</td>\n",
       "      <td>-0.009477</td>\n",
       "    </tr>\n",
       "    <tr>\n",
       "      <th>critic_score</th>\n",
       "      <td>0.356917</td>\n",
       "      <td>1.000000</td>\n",
       "      <td>0.533915</td>\n",
       "    </tr>\n",
       "    <tr>\n",
       "      <th>user_score</th>\n",
       "      <td>-0.009477</td>\n",
       "      <td>0.533915</td>\n",
       "      <td>1.000000</td>\n",
       "    </tr>\n",
       "  </tbody>\n",
       "</table>\n",
       "</div>"
      ],
      "text/plain": [
       "              total_sales  critic_score  user_score\n",
       "total_sales      1.000000      0.356917   -0.009477\n",
       "critic_score     0.356917      1.000000    0.533915\n",
       "user_score      -0.009477      0.533915    1.000000"
      ]
     },
     "execution_count": 80,
     "metadata": {},
     "output_type": "execute_result"
    }
   ],
   "source": [
    "act_data.query('platform in @actplatf')[['total_sales','critic_score','user_score']].corr()"
   ]
  },
  {
   "cell_type": "markdown",
   "metadata": {},
   "source": [
    "Вывод: Выше показана корреляция между оценками критиков, пользователей и суммарными продажами в популярных платформах.\\\n",
    "Видим, что корреляция практически не изменилась по сравнению с платформой PS3. Зависимость между продажами и оценками критиков выросла лишь на 0,02 , что не оказывает влияния. Зависимости между продажами и оценками пользователей по-прежнему нет. \n",
    "\n",
    "Среди популярных платформ на диаграмме рассеяния та же ситуация, что и по платформе PS3: чем выше оценка пользователей/критиков, тем выше продажи."
   ]
  },
  {
   "cell_type": "markdown",
   "metadata": {},
   "source": [
    "**Общее распределение игр по жанрам, выявление самых прибыльных жанров**"
   ]
  },
  {
   "cell_type": "code",
   "execution_count": 83,
   "metadata": {},
   "outputs": [
    {
     "data": {
      "text/html": [
       "<div>\n",
       "<style scoped>\n",
       "    .dataframe tbody tr th:only-of-type {\n",
       "        vertical-align: middle;\n",
       "    }\n",
       "\n",
       "    .dataframe tbody tr th {\n",
       "        vertical-align: top;\n",
       "    }\n",
       "\n",
       "    .dataframe thead th {\n",
       "        text-align: right;\n",
       "    }\n",
       "</style>\n",
       "<table border=\"1\" class=\"dataframe\">\n",
       "  <thead>\n",
       "    <tr style=\"text-align: right;\">\n",
       "      <th></th>\n",
       "      <th>total_sales</th>\n",
       "    </tr>\n",
       "    <tr>\n",
       "      <th>genre</th>\n",
       "      <th></th>\n",
       "    </tr>\n",
       "  </thead>\n",
       "  <tbody>\n",
       "    <tr>\n",
       "      <th>Action</th>\n",
       "      <td>441.12</td>\n",
       "    </tr>\n",
       "    <tr>\n",
       "      <th>Shooter</th>\n",
       "      <td>304.73</td>\n",
       "    </tr>\n",
       "    <tr>\n",
       "      <th>Role-Playing</th>\n",
       "      <td>192.80</td>\n",
       "    </tr>\n",
       "    <tr>\n",
       "      <th>Sports</th>\n",
       "      <td>181.07</td>\n",
       "    </tr>\n",
       "    <tr>\n",
       "      <th>Misc</th>\n",
       "      <td>85.04</td>\n",
       "    </tr>\n",
       "    <tr>\n",
       "      <th>Platform</th>\n",
       "      <td>61.00</td>\n",
       "    </tr>\n",
       "    <tr>\n",
       "      <th>Racing</th>\n",
       "      <td>53.50</td>\n",
       "    </tr>\n",
       "    <tr>\n",
       "      <th>Fighting</th>\n",
       "      <td>44.49</td>\n",
       "    </tr>\n",
       "    <tr>\n",
       "      <th>Simulation</th>\n",
       "      <td>35.12</td>\n",
       "    </tr>\n",
       "    <tr>\n",
       "      <th>Adventure</th>\n",
       "      <td>29.43</td>\n",
       "    </tr>\n",
       "    <tr>\n",
       "      <th>Strategy</th>\n",
       "      <td>13.34</td>\n",
       "    </tr>\n",
       "    <tr>\n",
       "      <th>Puzzle</th>\n",
       "      <td>4.89</td>\n",
       "    </tr>\n",
       "  </tbody>\n",
       "</table>\n",
       "</div>"
      ],
      "text/plain": [
       "              total_sales\n",
       "genre                    \n",
       "Action             441.12\n",
       "Shooter            304.73\n",
       "Role-Playing       192.80\n",
       "Sports             181.07\n",
       "Misc                85.04\n",
       "Platform            61.00\n",
       "Racing              53.50\n",
       "Fighting            44.49\n",
       "Simulation          35.12\n",
       "Adventure           29.43\n",
       "Strategy            13.34\n",
       "Puzzle               4.89"
      ]
     },
     "execution_count": 83,
     "metadata": {},
     "output_type": "execute_result"
    }
   ],
   "source": [
    "genres = act_data.pivot_table(index='genre',values = 'total_sales',aggfunc = 'sum').sort_values('total_sales',ascending=False)\n",
    "genres"
   ]
  },
  {
   "cell_type": "markdown",
   "metadata": {},
   "source": [
    "Построим сводную таблицу по жанрам и суммарным продажам. \\\n",
    "Лучше всего продаются игры жанра экшен, шутер и спорт."
   ]
  },
  {
   "cell_type": "code",
   "execution_count": 84,
   "metadata": {
    "scrolled": true
   },
   "outputs": [
    {
     "data": {
      "image/png": "[encoded data removed]",
      "text/plain": [
       "<Figure size 720x360 with 1 Axes>"
      ]
     },
     "metadata": {
      "needs_background": "light"
     },
     "output_type": "display_data"
    }
   ],
   "source": [
    "genres.plot.bar(figsize=(10,5),grid=True,title ='Распределение продаж игр по жанрам',xlabel = \"Жанр\",ylabel = \"Суммарные продажи, млн.копий\" );"
   ]
  },
  {
   "cell_type": "markdown",
   "metadata": {},
   "source": [
    "Самый непопулярные жанры игры - приключения, стратегия и пазл. Их суммарные продажи в 6 раз меньше экшена.\\\n",
    "Однако для прибыльности нам нужны стабильные жанры, которые приносят доход не зависимо от платформы, значит на этот жанр есть устойчивый спрос. Поэтому построим диаграмму размаха, чтобы определить именно такие жанры и исключить нестабильные с большим количеством выбросов."
   ]
  },
  {
   "cell_type": "code",
   "execution_count": 90,
   "metadata": {
    "scrolled": false
   },
   "outputs": [
    {
     "data": {
      "image/png": "[encoded data removed]",
      "text/plain": [
       "<Figure size 936x1440 with 1 Axes>"
      ]
     },
     "metadata": {
      "needs_background": "light"
     },
     "output_type": "display_data"
    }
   ],
   "source": [
    "act_data.boxplot(\n",
    "                column='total_sales', by='genre', figsize=(13, 20))\n",
    "plt.title('Продажи жанров за 2012-2016 г.')\n",
    "plt.xlabel('Платформа')\n",
    "plt.ylabel('Продажи, млн.копий')\n",
    "plt.ylim(0,5)\n",
    "plt.show()"
   ]
  },
  {
   "cell_type": "markdown",
   "metadata": {},
   "source": [
    "Самые продаваемые жанры Action и Role-Playing оказались совсем нестабильными с большим количеством выбросов. Туда же жанр Adventure. Их высокие показатели продаж держатся за счет некоторых успешных игр.\\\n",
    "Наиболее перспективными для составления прогноза являются игровые жанры Shooter (который также имеет самую высокую медиану), Sports и Platform, которые показывают более стабильные продажи."
   ]
  },
  {
   "cell_type": "markdown",
   "metadata": {},
   "source": [
    "**Вывод:** Анализ данных показал, что лидерами по продажам являются платформы PS2, X360, PS3, Wii, DS и PS. \\\n",
    "У платформы PS2 продажи игр за все время составили больше 1200 млн. проданных копий. \\\n",
    "Было решено использовать для дальнейшего анализа только данные с годами релиза 2012-2016. \\\n",
    "Рынок компьютерных игр начал свое развитие в 1980г. и достиг пика в 2008-2009 годах, затем пошел на спад. Помимо выше описанной причины в виде перехода на мобильные устройства, это может быть связано с перенасыщением рынка компьютерных игр. \\\n",
    "Наблюдается следующая зависимость: чем выше отзывы критиков/пользователей, тем выше продажи. Отзывы критиков оказывают бОльшее влияние на продажи. \\\n",
    "По продажам лидируют жанры Action, Shooter, Sports, а жанры Adventure, Strategy и Puzzle занимают последние места и мало продаются. Однако лидирующие жанры оказались нестабильными и не подходят для составления прогноза, так как содержат большое кол-во выбросов.\n",
    "Лучше выбрать более стабильные по продажам жанры - Shooter, Sports и Platform."
   ]
  },
  {
   "cell_type": "markdown",
   "metadata": {},
   "source": [
    "### ШАГ.  Составление портрета пользователя каждого региона"
   ]
  },
  {
   "cell_type": "markdown",
   "metadata": {},
   "source": [
    "-Самые популярные платформы (топ-5)\\\n",
    "-Самые популярные жанры (топ-5)\\\n",
    "-Влияние рейтинга ESRB на продажи"
   ]
  },
  {
   "cell_type": "markdown",
   "metadata": {},
   "source": [
    "**Самые популярные платформы (топ-5)**"
   ]
  },
  {
   "cell_type": "code",
   "execution_count": 91,
   "metadata": {
    "scrolled": true
   },
   "outputs": [
    {
     "data": {
      "image/png": "[encoded data removed]",
      "text/plain": [
       "<Figure size 432x288 with 1 Axes>"
      ]
     },
     "metadata": {
      "needs_background": "light"
     },
     "output_type": "display_data"
    },
    {
     "data": {
      "image/png": "[encoded data removed]",
      "text/plain": [
       "<Figure size 432x288 with 1 Axes>"
      ]
     },
     "metadata": {
      "needs_background": "light"
     },
     "output_type": "display_data"
    },
    {
     "data": {
      "image/png": "[encoded data removed]",
      "text/plain": [
       "<Figure size 432x288 with 1 Axes>"
      ]
     },
     "metadata": {
      "needs_background": "light"
     },
     "output_type": "display_data"
    }
   ],
   "source": [
    "na_platf = act_data.pivot_table(index='platform', values = 'na_sales', aggfunc = 'sum').sort_values(by='na_sales', ascending=False).head(5).plot(grid=True,kind='bar')\n",
    "eu_platf = act_data.pivot_table(index='platform', values = 'eu_sales', aggfunc = 'sum').sort_values(by='eu_sales', ascending=False).head(5).plot(grid=True,kind='bar')\n",
    "jp_platf = act_data.pivot_table(index='platform', values = 'jp_sales', aggfunc = 'sum').sort_values(by='jp_sales', ascending=False).head(5).plot(grid=True,kind='bar')"
   ]
  },
  {
   "cell_type": "markdown",
   "metadata": {},
   "source": [
    "В Северной Америке лидирует X360 (больше 300 млн. проданных копий), в Европе - PS3(больше 200 млн.), в Японии 3DS(больше 100 млн.) \\\n",
    "В целом наблюдается преобладание продаж на американском рынке. "
   ]
  },
  {
   "cell_type": "code",
   "execution_count": 92,
   "metadata": {
    "scrolled": true
   },
   "outputs": [
    {
     "data": {
      "image/png": "[encoded data removed]",
      "text/plain": [
       "<Figure size 720x360 with 1 Axes>"
      ]
     },
     "metadata": {
      "needs_background": "light"
     },
     "output_type": "display_data"
    }
   ],
   "source": [
    "comm_platf = act_data.pivot_table(index='platform', values =['na_sales','eu_sales','jp_sales'], aggfunc = 'sum').sort_values(by='na_sales', ascending=False).head(5).plot(figsize=(10,5),grid=True,kind='bar')"
   ]
  },
  {
   "cell_type": "markdown",
   "metadata": {},
   "source": [
    "**Самые популярные жанры (топ-5)**"
   ]
  },
  {
   "cell_type": "code",
   "execution_count": 93,
   "metadata": {
    "scrolled": true
   },
   "outputs": [
    {
     "data": {
      "image/png": "[encoded data removed]",
      "text/plain": [
       "<Figure size 432x288 with 1 Axes>"
      ]
     },
     "metadata": {
      "needs_background": "light"
     },
     "output_type": "display_data"
    },
    {
     "data": {
      "image/png": "[encoded data removed]",
      "text/plain": [
       "<Figure size 432x288 with 1 Axes>"
      ]
     },
     "metadata": {
      "needs_background": "light"
     },
     "output_type": "display_data"
    },
    {
     "data": {
      "image/png": "[encoded data removed]",
      "text/plain": [
       "<Figure size 432x288 with 1 Axes>"
      ]
     },
     "metadata": {
      "needs_background": "light"
     },
     "output_type": "display_data"
    }
   ],
   "source": [
    "na_genre = act_data.pivot_table(index='genre', values = 'na_sales', aggfunc = 'sum').sort_values(by='na_sales', ascending=False).head(5).plot(grid=True,kind='bar')\n",
    "eu_genre = act_data.pivot_table(index='genre', values = 'eu_sales', aggfunc = 'sum').sort_values(by='eu_sales', ascending=False).head(5).plot(grid=True,kind='bar')\n",
    "jp_genre = act_data.pivot_table(index='genre', values = 'jp_sales', aggfunc = 'sum').sort_values(by='jp_sales', ascending=False).head(5).plot(grid=True,kind='bar')"
   ]
  },
  {
   "cell_type": "markdown",
   "metadata": {},
   "source": [
    "Лидирующие жанры в Северной Америке и Европе практически идентичны: это Action, Shooter, Sports, Misc, Role-Playing (в порядке уменьшения продаж)\\\n",
    "В Японии же ситуация наоборот, первое место по продажам занимает жанр Role-Playing. Затем идут Action, Misc, Platform (этого жанра вообще нет в топе СА и Европы), Adventure."
   ]
  },
  {
   "cell_type": "code",
   "execution_count": 94,
   "metadata": {},
   "outputs": [
    {
     "data": {
      "image/png": "[encoded data removed]",
      "text/plain": [
       "<Figure size 720x360 with 1 Axes>"
      ]
     },
     "metadata": {
      "needs_background": "light"
     },
     "output_type": "display_data"
    }
   ],
   "source": [
    "comm_genre = act_data.pivot_table(index='genre', values =['na_sales','eu_sales','jp_sales'], aggfunc = 'sum').sort_values(by='na_sales', ascending=False).head(5).plot(figsize=(10,5),grid=True,kind='bar')"
   ]
  },
  {
   "cell_type": "markdown",
   "metadata": {},
   "source": [
    "**Влияние рейтинга ESRB на продажи**"
   ]
  },
  {
   "cell_type": "code",
   "execution_count": 95,
   "metadata": {
    "scrolled": true
   },
   "outputs": [
    {
     "data": {
      "image/png": "[encoded data removed]",
      "text/plain": [
       "<Figure size 720x360 with 1 Axes>"
      ]
     },
     "metadata": {
      "needs_background": "light"
     },
     "output_type": "display_data"
    }
   ],
   "source": [
    "comm_rating = act_data.pivot_table(index='rating', values =['na_sales','eu_sales','jp_sales'], aggfunc = 'sum').sort_values(by='na_sales', ascending=False).head(5).plot(figsize=(10,5),grid=True,kind='bar')"
   ]
  },
  {
   "cell_type": "markdown",
   "metadata": {},
   "source": [
    "Обозначение категорий: \\\n",
    "    M - для лиц старше 17 лет\\\n",
    "    E - для всех возрастов\\\n",
    "    RP - рейтинг ожидается\\\n",
    "    E10+ - для лиц старше 10 лет\\\n",
    "    T - для лиц старше 13 лет\n",
    "    \n",
    "Во всех регионах, кроме Японии, лучше всего продаются игры с рейтингом M, затем идут E, E10+ и T. Получается, что в Европе и СА наибольшим спросом пользуются игры со сценами насилия, похожим на реальную  жизнь, с использованием ненормативной лексики, употреблением табака/алкоголя. \\\n",
    "Однако в Европе немалую долю занимают игры с категорией RP.\\\n",
    "В Японии распределение другое. На первом месте находится категория RP, то есть игры без рейтинга. \\\n",
    "В этом и кроется главное различие в регионах, поскольку рейтинг ESRB предназначен для маркировки игр для США и Канады."
   ]
  },
  {
   "cell_type": "markdown",
   "metadata": {},
   "source": [
    "**Вывод:** \\\n",
    "Предпочтения Северной Америки и Европы похожи между собой. Японский рынок в свою очередь отличается.\\\n",
    "Топ-5 платформ в порядке уменьшения продаж:\\\n",
    "Северной Америки - X360, PS3, Wii, PS4, XOne\\\n",
    "Европы - PS3, X360, PS4, PC, Wii.\n",
    "Японии - 3DS, PS3, PSP, DS, PSV. У них отдается предпочтение японским разработкам.\n",
    "\n",
    "Топ-5 жанров в порядке уменьшения продаж:\\\n",
    "Северной Америки - Action, Shooter, Sports, Misc, Role-Playing\\\n",
    "Европы - Action, Shooter, Sports, Role-Playing, Misc. Различие с американским рынком только в последних двух местах. \\\n",
    "Японии- Role-Playing, Action, Misc, Platform, Adventure. Наибольшие продажи японскому рынку приносит жанр Role-Playing (который в СА и Европе занимает последние места).\n",
    "\n",
    "Наиболее продаваемыми в Северной Америке и Европе являются игры с рейтингом M (для лиц старше 17 лет). Также Европе есть часть игр с категорией RP.\\\n",
    "В Японии же это - игры с категорией RP, то есть без рейтинга. \\\n",
    "Таким образом, японский рынок по всем пунктам отличается от американского и европейского. В Японии свой мир игр."
   ]
  },
  {
   "cell_type": "markdown",
   "metadata": {},
   "source": [
    "### ШАГ. Проверка гипотез"
   ]
  },
  {
   "cell_type": "markdown",
   "metadata": {},
   "source": [
    "-Средние пользовательские рейтинги платформ Xbox One и PC одинаковые \\\n",
    "-Средние пользовательские рейтинги жанров Action и Sports разные"
   ]
  },
  {
   "cell_type": "markdown",
   "metadata": {},
   "source": [
    "Поскольку выборки независимы, для проверки будем использовать t-критерий Стьюдента.\\\n",
    "Зададим уровень значимости alpha = 0.05"
   ]
  },
  {
   "cell_type": "markdown",
   "metadata": {},
   "source": [
    "**Средние пользовательские рейтинги платформ Xbox One и PC одинаковые**"
   ]
  },
  {
   "cell_type": "markdown",
   "metadata": {},
   "source": [
    "**Гипотезы**: \\\n",
    "    **Н0:** средние пользовательские рейтинги платформ Xbox One и PC равны\\\n",
    "**Н1:** средние пользовательские рейтинги платформ Xbox One и PC не равны"
   ]
  },
  {
   "cell_type": "code",
   "execution_count": 48,
   "metadata": {},
   "outputs": [],
   "source": [
    "xone = act_data.query('platform == \"XOne\" and user_score > 0')['user_score']\n",
    "pc = act_data.query('platform == \"PC\" and user_score > 0')['user_score']"
   ]
  },
  {
   "cell_type": "code",
   "execution_count": 49,
   "metadata": {
    "scrolled": false
   },
   "outputs": [
    {
     "name": "stdout",
     "output_type": "stream",
     "text": [
      "p-значение: 0.5535080500643661\n",
      "Не получилось отвергнуть нулевую гипотезу\n"
     ]
    }
   ],
   "source": [
    "alpha = 0.05\n",
    "results = st.ttest_ind(xone,pc)\n",
    "\n",
    "print('p-значение:', results.pvalue)\n",
    "\n",
    "if (results.pvalue < alpha):\n",
    "    print(\"Отвергаем нулевую гипотезу\")\n",
    "else:\n",
    "    print(\"Не получилось отвергнуть нулевую гипотезу\")"
   ]
  },
  {
   "cell_type": "markdown",
   "metadata": {},
   "source": [
    "Различий между средними пользовательскими рейтингами платформ Xbox One и PC практически нет. Нулевая гипотеза не опровергнута."
   ]
  },
  {
   "cell_type": "markdown",
   "metadata": {},
   "source": [
    "**Средние пользовательские рейтинги жанров Action и Sports разные**"
   ]
  },
  {
   "cell_type": "markdown",
   "metadata": {},
   "source": [
    "**Гипотезы**: \\\n",
    "    **Н0:** средние пользовательские рейтинги жанров Action и Sport равны\\\n",
    "**Н1:** средние пользовательские рейтинги жанров Action и Sport не равны"
   ]
  },
  {
   "cell_type": "code",
   "execution_count": 50,
   "metadata": {},
   "outputs": [],
   "source": [
    "action = act_data.query('genre == \"Action\" and user_score > 0')['user_score']\n",
    "sports = act_data.query('genre == \"Sports\" and user_score > 0')['user_score']"
   ]
  },
  {
   "cell_type": "code",
   "execution_count": 51,
   "metadata": {},
   "outputs": [
    {
     "name": "stdout",
     "output_type": "stream",
     "text": [
      "p-значение: 3.7163089460934874e-26\n",
      "Отвергаем нулевую гипотезу\n"
     ]
    }
   ],
   "source": [
    "alpha = 0.05\n",
    "results = st.ttest_ind(action,sports)\n",
    "\n",
    "print('p-значение:', results.pvalue)\n",
    "\n",
    "if (results.pvalue < alpha):\n",
    "    print(\"Отвергаем нулевую гипотезу\")\n",
    "else:\n",
    "    print(\"Не получилось отвергнуть нулевую гипотезу\")"
   ]
  },
  {
   "cell_type": "markdown",
   "metadata": {},
   "source": [
    "Есть большие различия между выборками, что означает - средние пользовательские рейтинги отличаются. Нулевая гипотеза отвергнута.\n"
   ]
  },
  {
   "cell_type": "markdown",
   "metadata": {},
   "source": [
    "**Вывод:** \\\n",
    "Средние пользовательские рейтинги платформ Xbox One и PC одинаковы.\n",
    "\n",
    "Средние пользовательские рейтинги жанров Action и Sports различны."
   ]
  },
  {
   "cell_type": "markdown",
   "metadata": {},
   "source": [
    "### ШАГ. Общий вывод"
   ]
  },
  {
   "cell_type": "markdown",
   "metadata": {},
   "source": [
    "Данные содержат информацию о продажах компьютерных игр за 1980-2016 годы.\n",
    "В файле 16715 строк и 11 столбцов.\n",
    "\n",
    "**В ходе предобработки данных:**\n",
    "\n",
    "-наименования стоблцов приведены к нижнему регистру\\\n",
    "-преобразованы типы данных\\\n",
    "-удалены строки с пропусками данных в столбцах name, year_of_release\\\n",
    "-значения user_score, равные 'tbd' (To Be Decided) изменено на значение nan\\\n",
    "-пропуски в столбце rating заменены на категорию RP (рейтинг ожидается)\\\n",
    "-Пропуски значений столбца user_score и critic_score не были заполнены во избежании искажения данных\\\n",
    "-добавлен столбец total_sales с суммарными продажами игр во всех регионах.\\\n",
    "\n",
    "**В ходе исследовательского анализа данных было выявлено:**\n",
    "\n",
    "-Лидерами по продажам являются платформы PS2, X360, PS3, Wii, DS и PS.\\\n",
    "-У платформы PS2 продажи игр за все время составили больше 1200 млн. проданных копий.\\\n",
    "-Было решено использовать для дальнейшего анализа только данные с годами релиза 2012-2016.\\\n",
    "-Рынок компьютерных игр начал свое развитие в 1980г. и достиг пика в 2008-2009 годах, затем пошел на спад. Помимо выше описанной причины в виде перехода на мобильные устройства, это может быть связано с перенасыщением рынка компьютерных игр.\n",
    "-Наблюдается следующая зависимость: чем выше отзывы критиков/пользователей, тем выше продажи. Отзывы критиков оказывают бОльшее влияние на продажи.\\\n",
    "-По продажам лидируют жанры Action, Shooter, Sports, а жанры Adventure, Strategy и Puzzle занимают последние места и мало продаются. Однако лидирующие жанры оказались нестабильными и не подходят для составления прогноза, так как содержат большое кол-во выбросов. Лучше выбрать более стабильные по продажам жанры - Shooter, Sports и Platform.\n",
    "\n",
    "**Предпочтения Северной Америки и Европы очень схожи. Японский рынок в свою очередь отличается.** \\\n",
    "Топ-5 платформ:\\\n",
    "Северной Америки и Европы - X360, PS3, Wii, PS4, XOne\\\n",
    "Японии - 3DS, PS3, PSP, DS, PSV. У них отдается предпочтение японским разработкам.\n",
    "\n",
    "Топ-5 жанров:\\\n",
    "Северной Америки и Европы - Action, Shooter, Sports, Misc, Role-Playing\\\n",
    "Японии - Role-Playing, Action, Misc, Platform, Adventure. Наибольшие продажи японскому рынку приносит жанр Role-Playing (который в СА и Европе занимает последние места).\n",
    "\n",
    "Наиболее продаваемыми в Северной Америке и Европе являются игры с рейтингом M (для лиц старше 17 лет). Также Европе есть часть игр с категорией RP. \\\n",
    "В Японии же это - игры с категорией RP, то есть без рейтинга.\\\n",
    "Дело в том, что рейтинг ESRB предназачен для маркировки игр для США и Канады, поэтому у Японии другие показатели.\n",
    "\n",
    "**При прогнозе стоит обратить внимание на следующие зависимости:**\n",
    "\n",
    "Продажи зависят от оценок пользователей и оценок критиков: чем выше оценки, тем выше продажи. Особенно это прослеживается с оценками критиков.\\\n",
    "Наиболее популярными являются жанры Action, Shooter, Sports и Role-Playing(для Японии), которые показывают самые высокие продажи за весь исследуемый период.\n",
    "\n",
    "Были проведены статистические t-тесты для проверки гипотез по сравнению пользовательских рейтингов платформ Xbox One и PC и  жанров Action и Sports. \\\n",
    "Таким образом,\n",
    "\n",
    "**Средние пользовательские рейтинги платформ Xbox One и PC почти одинаковы.\\\n",
    "Средние пользовательские рейтинги жанров Action и Sports отличаются.**"
   ]
  }
 ],
 "metadata": {
  "ExecuteTimeLog": [
   {
    "duration": 788,
    "start_time": "2022-11-28T18:34:52.585Z"
   },
   {
    "duration": 207,
    "start_time": "2022-11-28T18:35:31.574Z"
   },
   {
    "duration": 13,
    "start_time": "2022-11-28T18:35:39.494Z"
   },
   {
    "duration": 12,
    "start_time": "2022-11-28T18:35:51.023Z"
   },
   {
    "duration": 106,
    "start_time": "2022-11-28T18:36:36.007Z"
   },
   {
    "duration": 14,
    "start_time": "2022-11-28T18:36:36.566Z"
   },
   {
    "duration": 14,
    "start_time": "2022-11-28T18:36:59.974Z"
   },
   {
    "duration": 13,
    "start_time": "2022-11-28T18:37:13.700Z"
   },
   {
    "duration": 66,
    "start_time": "2022-11-28T18:39:13.216Z"
   },
   {
    "duration": 30,
    "start_time": "2022-11-28T18:39:29.104Z"
   },
   {
    "duration": 15,
    "start_time": "2022-11-28T18:41:20.837Z"
   },
   {
    "duration": 441,
    "start_time": "2022-11-28T18:42:22.292Z"
   },
   {
    "duration": 83,
    "start_time": "2022-11-28T18:42:22.734Z"
   },
   {
    "duration": 14,
    "start_time": "2022-11-28T18:43:30.943Z"
   },
   {
    "duration": 3,
    "start_time": "2022-11-28T18:43:44.709Z"
   },
   {
    "duration": 14,
    "start_time": "2022-11-28T18:43:50.929Z"
   },
   {
    "duration": 40,
    "start_time": "2022-11-28T18:54:18.465Z"
   },
   {
    "duration": 46,
    "start_time": "2022-11-28T18:56:11.251Z"
   },
   {
    "duration": 17,
    "start_time": "2022-11-28T18:56:25.892Z"
   },
   {
    "duration": 18,
    "start_time": "2022-11-28T18:56:31.138Z"
   },
   {
    "duration": 4,
    "start_time": "2022-11-28T18:57:08.257Z"
   },
   {
    "duration": 15,
    "start_time": "2022-11-28T18:57:17.273Z"
   },
   {
    "duration": 12,
    "start_time": "2022-11-28T18:57:22.653Z"
   },
   {
    "duration": 4,
    "start_time": "2022-11-28T19:00:55.149Z"
   },
   {
    "duration": 12,
    "start_time": "2022-11-28T19:03:53.068Z"
   },
   {
    "duration": 20,
    "start_time": "2022-11-28T19:04:00.987Z"
   },
   {
    "duration": 12,
    "start_time": "2022-11-28T19:07:04.432Z"
   },
   {
    "duration": 25,
    "start_time": "2022-11-28T19:08:33.379Z"
   },
   {
    "duration": 11,
    "start_time": "2022-11-28T19:08:33.953Z"
   },
   {
    "duration": 7,
    "start_time": "2022-11-28T19:08:42.560Z"
   },
   {
    "duration": 16,
    "start_time": "2022-11-28T19:08:44.385Z"
   },
   {
    "duration": 5,
    "start_time": "2022-11-28T19:44:39.576Z"
   },
   {
    "duration": 6,
    "start_time": "2022-11-28T19:44:47.261Z"
   },
   {
    "duration": 6,
    "start_time": "2022-11-28T19:44:51.675Z"
   },
   {
    "duration": 10,
    "start_time": "2022-11-28T19:45:17.900Z"
   },
   {
    "duration": 79,
    "start_time": "2022-11-28T19:45:48.518Z"
   },
   {
    "duration": 74,
    "start_time": "2022-11-28T19:45:57.355Z"
   },
   {
    "duration": 15,
    "start_time": "2022-11-28T19:46:05.574Z"
   },
   {
    "duration": 15,
    "start_time": "2022-11-28T19:46:10.078Z"
   },
   {
    "duration": 9,
    "start_time": "2022-11-28T19:46:12.714Z"
   },
   {
    "duration": 1174,
    "start_time": "2022-11-28T19:46:18.920Z"
   },
   {
    "duration": 7,
    "start_time": "2022-11-28T19:46:32.789Z"
   },
   {
    "duration": 14,
    "start_time": "2022-11-28T19:48:04.483Z"
   },
   {
    "duration": 7,
    "start_time": "2022-11-28T19:49:53.903Z"
   },
   {
    "duration": 7,
    "start_time": "2022-11-28T19:50:24.057Z"
   },
   {
    "duration": 14,
    "start_time": "2022-11-28T19:50:31.409Z"
   },
   {
    "duration": 5,
    "start_time": "2022-11-28T19:51:21.484Z"
   },
   {
    "duration": 5,
    "start_time": "2022-11-28T19:58:06.750Z"
   },
   {
    "duration": 6,
    "start_time": "2022-11-28T19:59:33.428Z"
   },
   {
    "duration": 9,
    "start_time": "2022-11-28T19:59:51.047Z"
   },
   {
    "duration": 5,
    "start_time": "2022-11-28T20:00:04.437Z"
   },
   {
    "duration": 5,
    "start_time": "2022-11-28T20:03:29.992Z"
   },
   {
    "duration": 13,
    "start_time": "2022-11-28T20:03:36.700Z"
   },
   {
    "duration": 15,
    "start_time": "2022-11-28T20:03:47.413Z"
   },
   {
    "duration": 9,
    "start_time": "2022-11-28T20:18:25.572Z"
   },
   {
    "duration": 10,
    "start_time": "2022-11-28T20:20:59.150Z"
   },
   {
    "duration": 15,
    "start_time": "2022-11-28T20:21:06.824Z"
   },
   {
    "duration": 308,
    "start_time": "2022-11-28T20:22:41.560Z"
   },
   {
    "duration": 306,
    "start_time": "2022-11-28T20:23:05.666Z"
   },
   {
    "duration": 9,
    "start_time": "2022-11-28T20:23:10.120Z"
   },
   {
    "duration": 15,
    "start_time": "2022-11-28T20:23:14.617Z"
   },
   {
    "duration": 180,
    "start_time": "2022-11-28T20:24:05.214Z"
   },
   {
    "duration": 309,
    "start_time": "2022-11-28T20:25:00.425Z"
   },
   {
    "duration": 317,
    "start_time": "2022-11-28T20:25:31.911Z"
   },
   {
    "duration": 371,
    "start_time": "2022-11-28T20:25:57.055Z"
   },
   {
    "duration": 125,
    "start_time": "2022-11-28T20:26:46.177Z"
   },
   {
    "duration": 408,
    "start_time": "2022-11-28T20:27:09.889Z"
   },
   {
    "duration": 331,
    "start_time": "2022-11-28T20:27:44.869Z"
   },
   {
    "duration": 305,
    "start_time": "2022-11-28T20:28:11.218Z"
   },
   {
    "duration": 7,
    "start_time": "2022-11-28T20:55:18.601Z"
   },
   {
    "duration": 5,
    "start_time": "2022-11-28T20:55:47.997Z"
   },
   {
    "duration": 6,
    "start_time": "2022-11-28T20:56:07.920Z"
   },
   {
    "duration": 12,
    "start_time": "2022-11-28T20:56:21.497Z"
   },
   {
    "duration": 11,
    "start_time": "2022-11-28T20:56:41.763Z"
   },
   {
    "duration": 15,
    "start_time": "2022-11-28T20:56:52.876Z"
   },
   {
    "duration": 8,
    "start_time": "2022-11-28T20:57:54.647Z"
   },
   {
    "duration": 8,
    "start_time": "2022-11-28T20:58:05.443Z"
   },
   {
    "duration": 17,
    "start_time": "2022-11-28T21:01:24.225Z"
   },
   {
    "duration": 18,
    "start_time": "2022-11-28T21:01:52.538Z"
   },
   {
    "duration": 290,
    "start_time": "2022-11-28T21:09:21.538Z"
   },
   {
    "duration": 266,
    "start_time": "2022-11-28T21:09:49.014Z"
   },
   {
    "duration": 6,
    "start_time": "2022-11-28T21:12:08.263Z"
   },
   {
    "duration": 1241,
    "start_time": "2022-11-28T21:12:27.012Z"
   },
   {
    "duration": 1120,
    "start_time": "2022-11-28T21:12:49.564Z"
   },
   {
    "duration": 1115,
    "start_time": "2022-11-28T21:12:53.976Z"
   },
   {
    "duration": 7,
    "start_time": "2022-11-28T21:13:13.421Z"
   },
   {
    "duration": 1153,
    "start_time": "2022-11-28T21:13:47.131Z"
   },
   {
    "duration": 9,
    "start_time": "2022-11-28T21:14:00.212Z"
   },
   {
    "duration": 1284,
    "start_time": "2022-11-28T21:14:14.968Z"
   },
   {
    "duration": 11,
    "start_time": "2022-11-28T21:15:35.153Z"
   },
   {
    "duration": 14,
    "start_time": "2022-11-28T21:15:42.647Z"
   },
   {
    "duration": 13,
    "start_time": "2022-11-28T21:15:57.465Z"
   },
   {
    "duration": 6,
    "start_time": "2022-11-28T21:16:20.068Z"
   },
   {
    "duration": 9,
    "start_time": "2022-11-28T21:16:34.673Z"
   },
   {
    "duration": 1128,
    "start_time": "2022-11-28T21:16:45.536Z"
   },
   {
    "duration": 1464,
    "start_time": "2022-11-28T21:17:25.028Z"
   },
   {
    "duration": 15,
    "start_time": "2022-11-28T21:17:51.150Z"
   },
   {
    "duration": 6,
    "start_time": "2022-11-28T21:18:05.412Z"
   },
   {
    "duration": 13,
    "start_time": "2022-11-28T21:18:17.543Z"
   },
   {
    "duration": 6,
    "start_time": "2022-11-28T21:18:18.504Z"
   },
   {
    "duration": 5,
    "start_time": "2022-11-28T21:18:21.158Z"
   },
   {
    "duration": 72,
    "start_time": "2022-11-28T21:18:36.354Z"
   },
   {
    "duration": 16,
    "start_time": "2022-11-28T21:18:41.380Z"
   },
   {
    "duration": 13,
    "start_time": "2022-11-28T21:18:48.087Z"
   },
   {
    "duration": 19,
    "start_time": "2022-11-28T21:18:55.325Z"
   },
   {
    "duration": 12,
    "start_time": "2022-11-28T21:19:09.880Z"
   },
   {
    "duration": 15,
    "start_time": "2022-11-28T21:19:14.698Z"
   },
   {
    "duration": 5,
    "start_time": "2022-11-28T21:19:34.308Z"
   },
   {
    "duration": 5,
    "start_time": "2022-11-28T21:19:36.975Z"
   },
   {
    "duration": 7,
    "start_time": "2022-11-28T21:19:53.139Z"
   },
   {
    "duration": 8,
    "start_time": "2022-11-28T21:19:56.820Z"
   },
   {
    "duration": 1141,
    "start_time": "2022-11-28T21:19:57.405Z"
   },
   {
    "duration": 12,
    "start_time": "2022-11-28T21:20:35.259Z"
   },
   {
    "duration": 15,
    "start_time": "2022-11-28T21:20:43.481Z"
   },
   {
    "duration": 4,
    "start_time": "2022-11-28T21:20:44.228Z"
   },
   {
    "duration": 6,
    "start_time": "2022-11-28T21:20:46.610Z"
   },
   {
    "duration": 357,
    "start_time": "2022-11-28T21:21:29.413Z"
   },
   {
    "duration": 13,
    "start_time": "2022-11-28T21:21:42.055Z"
   },
   {
    "duration": 14,
    "start_time": "2022-11-28T21:21:45.061Z"
   },
   {
    "duration": 5,
    "start_time": "2022-11-28T21:21:45.643Z"
   },
   {
    "duration": 14,
    "start_time": "2022-11-28T21:23:57.512Z"
   },
   {
    "duration": 14,
    "start_time": "2022-11-28T21:24:25.882Z"
   },
   {
    "duration": 16,
    "start_time": "2022-11-28T21:24:44.394Z"
   },
   {
    "duration": 16,
    "start_time": "2022-11-28T21:24:51.713Z"
   },
   {
    "duration": 16,
    "start_time": "2022-11-28T21:25:01.748Z"
   },
   {
    "duration": 1268,
    "start_time": "2022-11-28T21:25:29.658Z"
   },
   {
    "duration": 3,
    "start_time": "2022-11-28T21:29:01.570Z"
   },
   {
    "duration": 83,
    "start_time": "2022-11-28T21:29:02.042Z"
   },
   {
    "duration": 13,
    "start_time": "2022-11-28T21:29:02.188Z"
   },
   {
    "duration": 13,
    "start_time": "2022-11-28T21:29:02.507Z"
   },
   {
    "duration": 14,
    "start_time": "2022-11-28T21:29:02.675Z"
   },
   {
    "duration": 31,
    "start_time": "2022-11-28T21:29:02.943Z"
   },
   {
    "duration": 74,
    "start_time": "2022-11-28T21:29:03.734Z"
   },
   {
    "duration": 24,
    "start_time": "2022-11-28T21:29:03.811Z"
   },
   {
    "duration": 4,
    "start_time": "2022-11-28T21:29:04.133Z"
   },
   {
    "duration": 15,
    "start_time": "2022-11-28T21:29:04.305Z"
   },
   {
    "duration": 14,
    "start_time": "2022-11-28T21:29:12.123Z"
   },
   {
    "duration": 3,
    "start_time": "2022-11-28T21:29:12.688Z"
   },
   {
    "duration": 14,
    "start_time": "2022-11-28T21:29:12.857Z"
   },
   {
    "duration": 5,
    "start_time": "2022-11-28T21:29:13.024Z"
   },
   {
    "duration": 10,
    "start_time": "2022-11-28T21:29:13.182Z"
   },
   {
    "duration": 13,
    "start_time": "2022-11-28T21:29:13.352Z"
   },
   {
    "duration": 8,
    "start_time": "2022-11-28T21:29:13.604Z"
   },
   {
    "duration": 13,
    "start_time": "2022-11-28T21:29:13.773Z"
   },
   {
    "duration": 6,
    "start_time": "2022-11-28T21:29:13.929Z"
   },
   {
    "duration": 8,
    "start_time": "2022-11-28T21:29:14.143Z"
   },
   {
    "duration": 5,
    "start_time": "2022-11-28T21:29:14.307Z"
   },
   {
    "duration": 4,
    "start_time": "2022-11-28T21:29:14.498Z"
   },
   {
    "duration": 13,
    "start_time": "2022-11-28T21:29:14.652Z"
   },
   {
    "duration": 13,
    "start_time": "2022-11-28T21:29:14.980Z"
   },
   {
    "duration": 383,
    "start_time": "2022-11-28T21:29:15.190Z"
   },
   {
    "duration": 6,
    "start_time": "2022-11-28T21:29:16.030Z"
   },
   {
    "duration": 7,
    "start_time": "2022-11-28T21:29:16.450Z"
   },
   {
    "duration": 15,
    "start_time": "2022-11-28T21:29:18.042Z"
   },
   {
    "duration": 5,
    "start_time": "2022-11-28T21:29:22.548Z"
   },
   {
    "duration": 20,
    "start_time": "2022-11-28T21:29:25.662Z"
   },
   {
    "duration": 280,
    "start_time": "2022-11-28T21:29:39.498Z"
   },
   {
    "duration": 13,
    "start_time": "2022-11-28T21:29:51.565Z"
   },
   {
    "duration": 1109,
    "start_time": "2022-11-28T21:29:56.559Z"
   },
   {
    "duration": 23,
    "start_time": "2022-11-28T21:30:15.730Z"
   },
   {
    "duration": 5,
    "start_time": "2022-11-28T21:30:20.646Z"
   },
   {
    "duration": 114,
    "start_time": "2022-11-28T21:32:13.796Z"
   },
   {
    "duration": 16,
    "start_time": "2022-11-28T21:32:35.884Z"
   },
   {
    "duration": 4,
    "start_time": "2022-11-28T21:32:56.311Z"
   },
   {
    "duration": 4,
    "start_time": "2022-11-28T21:33:37.032Z"
   },
   {
    "duration": 5,
    "start_time": "2022-11-28T21:33:58.898Z"
   },
   {
    "duration": 28,
    "start_time": "2022-11-28T21:40:50.041Z"
   },
   {
    "duration": 27,
    "start_time": "2022-11-28T21:41:57.033Z"
   },
   {
    "duration": 93,
    "start_time": "2022-11-28T21:42:06.498Z"
   },
   {
    "duration": 27,
    "start_time": "2022-11-28T21:42:10.001Z"
   },
   {
    "duration": 182,
    "start_time": "2022-11-28T21:45:10.474Z"
   },
   {
    "duration": 189,
    "start_time": "2022-11-28T21:46:32.663Z"
   },
   {
    "duration": 183,
    "start_time": "2022-11-28T21:47:36.371Z"
   },
   {
    "duration": 191,
    "start_time": "2022-11-28T21:47:41.856Z"
   },
   {
    "duration": 236,
    "start_time": "2022-11-28T21:48:00.196Z"
   },
   {
    "duration": 190,
    "start_time": "2022-11-28T21:48:08.352Z"
   },
   {
    "duration": 188,
    "start_time": "2022-11-28T21:48:32.136Z"
   },
   {
    "duration": 9,
    "start_time": "2022-11-28T21:49:11.251Z"
   },
   {
    "duration": 72,
    "start_time": "2022-11-28T21:49:22.544Z"
   },
   {
    "duration": 187,
    "start_time": "2022-11-28T21:50:08.762Z"
   },
   {
    "duration": 65,
    "start_time": "2022-11-28T21:50:22.057Z"
   },
   {
    "duration": 195,
    "start_time": "2022-11-28T21:50:28.708Z"
   },
   {
    "duration": 194,
    "start_time": "2022-11-28T21:51:33.231Z"
   },
   {
    "duration": 269,
    "start_time": "2022-11-28T21:52:37.142Z"
   },
   {
    "duration": 156,
    "start_time": "2022-11-28T21:52:47.987Z"
   },
   {
    "duration": 233,
    "start_time": "2022-11-28T21:53:01.772Z"
   },
   {
    "duration": 226,
    "start_time": "2022-11-28T21:54:47.749Z"
   },
   {
    "duration": 291,
    "start_time": "2022-11-28T21:55:25.710Z"
   },
   {
    "duration": 221,
    "start_time": "2022-11-28T21:56:21.790Z"
   },
   {
    "duration": 234,
    "start_time": "2022-11-28T21:56:34.861Z"
   },
   {
    "duration": 277,
    "start_time": "2022-11-28T21:57:04.842Z"
   },
   {
    "duration": 317,
    "start_time": "2022-11-28T21:57:23.975Z"
   },
   {
    "duration": 3,
    "start_time": "2022-11-28T22:58:24.348Z"
   },
   {
    "duration": 85,
    "start_time": "2022-11-28T22:58:24.788Z"
   },
   {
    "duration": 14,
    "start_time": "2022-11-28T22:58:24.981Z"
   },
   {
    "duration": 14,
    "start_time": "2022-11-28T22:58:25.289Z"
   },
   {
    "duration": 14,
    "start_time": "2022-11-28T22:58:25.449Z"
   },
   {
    "duration": 33,
    "start_time": "2022-11-28T22:58:25.633Z"
   },
   {
    "duration": 16,
    "start_time": "2022-11-28T22:58:25.978Z"
   },
   {
    "duration": 3,
    "start_time": "2022-11-28T22:58:26.362Z"
   },
   {
    "duration": 14,
    "start_time": "2022-11-28T22:58:26.543Z"
   },
   {
    "duration": 4,
    "start_time": "2022-11-28T22:58:26.712Z"
   },
   {
    "duration": 11,
    "start_time": "2022-11-28T22:58:26.900Z"
   },
   {
    "duration": 12,
    "start_time": "2022-11-28T22:58:27.089Z"
   },
   {
    "duration": 8,
    "start_time": "2022-11-28T22:58:27.292Z"
   },
   {
    "duration": 11,
    "start_time": "2022-11-28T22:58:27.446Z"
   },
   {
    "duration": 5,
    "start_time": "2022-11-28T22:58:27.637Z"
   },
   {
    "duration": 6,
    "start_time": "2022-11-28T22:58:27.836Z"
   },
   {
    "duration": 4,
    "start_time": "2022-11-28T22:58:28.043Z"
   },
   {
    "duration": 5,
    "start_time": "2022-11-28T22:58:28.247Z"
   },
   {
    "duration": 15,
    "start_time": "2022-11-28T22:58:28.444Z"
   },
   {
    "duration": 14,
    "start_time": "2022-11-28T22:58:28.820Z"
   },
   {
    "duration": 298,
    "start_time": "2022-11-28T22:58:29.002Z"
   },
   {
    "duration": 6,
    "start_time": "2022-11-28T22:58:29.302Z"
   },
   {
    "duration": 9,
    "start_time": "2022-11-28T22:58:29.359Z"
   },
   {
    "duration": 16,
    "start_time": "2022-11-28T22:58:29.580Z"
   },
   {
    "duration": 6,
    "start_time": "2022-11-28T22:58:29.786Z"
   },
   {
    "duration": 30,
    "start_time": "2022-11-28T22:58:29.952Z"
   },
   {
    "duration": 320,
    "start_time": "2022-11-28T22:58:30.116Z"
   },
   {
    "duration": 255,
    "start_time": "2022-11-28T22:58:30.438Z"
   },
   {
    "duration": 276,
    "start_time": "2022-11-28T22:58:30.696Z"
   },
   {
    "duration": 265,
    "start_time": "2022-11-28T22:58:31.077Z"
   },
   {
    "duration": 264,
    "start_time": "2022-11-28T22:58:31.344Z"
   },
   {
    "duration": 285,
    "start_time": "2022-11-28T22:58:31.610Z"
   },
   {
    "duration": 264,
    "start_time": "2022-11-28T22:58:31.897Z"
   },
   {
    "duration": 73,
    "start_time": "2022-11-28T23:12:46.616Z"
   },
   {
    "duration": 13,
    "start_time": "2022-11-28T23:12:52.670Z"
   },
   {
    "duration": 17,
    "start_time": "2022-11-28T23:13:00.940Z"
   },
   {
    "duration": 14,
    "start_time": "2022-11-28T23:15:36.930Z"
   },
   {
    "duration": 49,
    "start_time": "2022-11-28T23:18:04.593Z"
   },
   {
    "duration": 15,
    "start_time": "2022-11-28T23:18:21.899Z"
   },
   {
    "duration": 13,
    "start_time": "2022-11-28T23:18:41.164Z"
   },
   {
    "duration": 8,
    "start_time": "2022-11-28T23:19:40.060Z"
   },
   {
    "duration": 3,
    "start_time": "2022-11-28T23:19:48.778Z"
   },
   {
    "duration": 4,
    "start_time": "2022-11-28T23:20:06.201Z"
   },
   {
    "duration": 4,
    "start_time": "2022-11-28T23:20:30.591Z"
   },
   {
    "duration": 1204,
    "start_time": "2022-11-28T23:20:56.200Z"
   },
   {
    "duration": 4,
    "start_time": "2022-11-28T23:22:03.488Z"
   },
   {
    "duration": 4,
    "start_time": "2022-11-28T23:22:09.281Z"
   },
   {
    "duration": 6,
    "start_time": "2022-11-28T23:23:37.463Z"
   },
   {
    "duration": 53,
    "start_time": "2022-11-28T23:35:10.039Z"
   },
   {
    "duration": 8,
    "start_time": "2022-11-28T23:37:09.923Z"
   },
   {
    "duration": 5,
    "start_time": "2022-11-28T23:39:10.017Z"
   },
   {
    "duration": 9,
    "start_time": "2022-11-28T23:39:37.084Z"
   },
   {
    "duration": 4,
    "start_time": "2022-11-28T23:40:12.912Z"
   },
   {
    "duration": 11,
    "start_time": "2022-11-28T23:41:34.052Z"
   },
   {
    "duration": 4,
    "start_time": "2022-11-28T23:41:34.629Z"
   },
   {
    "duration": 5,
    "start_time": "2022-11-28T23:41:37.457Z"
   },
   {
    "duration": 10,
    "start_time": "2022-11-28T23:44:41.188Z"
   },
   {
    "duration": 1167,
    "start_time": "2022-11-29T17:24:23.720Z"
   },
   {
    "duration": 114,
    "start_time": "2022-11-29T17:24:24.889Z"
   },
   {
    "duration": 18,
    "start_time": "2022-11-29T17:24:25.005Z"
   },
   {
    "duration": 12,
    "start_time": "2022-11-29T17:24:25.039Z"
   },
   {
    "duration": 13,
    "start_time": "2022-11-29T17:24:25.368Z"
   },
   {
    "duration": 27,
    "start_time": "2022-11-29T17:24:25.524Z"
   },
   {
    "duration": 13,
    "start_time": "2022-11-29T17:24:25.903Z"
   },
   {
    "duration": 3,
    "start_time": "2022-11-29T17:24:26.216Z"
   },
   {
    "duration": 12,
    "start_time": "2022-11-29T17:24:26.506Z"
   },
   {
    "duration": 4,
    "start_time": "2022-11-29T17:24:26.596Z"
   },
   {
    "duration": 10,
    "start_time": "2022-11-29T17:24:26.798Z"
   },
   {
    "duration": 11,
    "start_time": "2022-11-29T17:24:26.976Z"
   },
   {
    "duration": 9,
    "start_time": "2022-11-29T17:24:27.142Z"
   },
   {
    "duration": 12,
    "start_time": "2022-11-29T17:24:27.354Z"
   },
   {
    "duration": 5,
    "start_time": "2022-11-29T17:24:27.613Z"
   },
   {
    "duration": 5,
    "start_time": "2022-11-29T17:24:27.722Z"
   },
   {
    "duration": 4,
    "start_time": "2022-11-29T17:24:27.897Z"
   },
   {
    "duration": 5,
    "start_time": "2022-11-29T17:24:30.289Z"
   },
   {
    "duration": 13,
    "start_time": "2022-11-29T17:24:31.323Z"
   },
   {
    "duration": 44,
    "start_time": "2022-11-29T17:24:31.337Z"
   },
   {
    "duration": 289,
    "start_time": "2022-11-29T17:24:31.383Z"
   },
   {
    "duration": 6,
    "start_time": "2022-11-29T17:24:31.673Z"
   },
   {
    "duration": 10,
    "start_time": "2022-11-29T17:24:40.486Z"
   },
   {
    "duration": 17,
    "start_time": "2022-11-29T17:24:42.261Z"
   },
   {
    "duration": 5,
    "start_time": "2022-11-29T17:24:42.280Z"
   },
   {
    "duration": 28,
    "start_time": "2022-11-29T17:24:42.287Z"
   },
   {
    "duration": 233,
    "start_time": "2022-11-29T17:24:42.317Z"
   },
   {
    "duration": 236,
    "start_time": "2022-11-29T17:24:44.122Z"
   },
   {
    "duration": 288,
    "start_time": "2022-11-29T17:24:44.679Z"
   },
   {
    "duration": 247,
    "start_time": "2022-11-29T17:24:45.511Z"
   },
   {
    "duration": 235,
    "start_time": "2022-11-29T17:24:46.064Z"
   },
   {
    "duration": 246,
    "start_time": "2022-11-29T17:24:46.511Z"
   },
   {
    "duration": 247,
    "start_time": "2022-11-29T17:24:47.026Z"
   },
   {
    "duration": 16,
    "start_time": "2022-11-29T17:24:47.784Z"
   },
   {
    "duration": 17,
    "start_time": "2022-11-29T17:24:48.369Z"
   },
   {
    "duration": 7,
    "start_time": "2022-11-29T17:24:48.924Z"
   },
   {
    "duration": 44,
    "start_time": "2022-11-29T17:25:51.052Z"
   },
   {
    "duration": 482,
    "start_time": "2022-11-29T17:26:03.373Z"
   },
   {
    "duration": 113,
    "start_time": "2022-11-29T17:26:39.901Z"
   },
   {
    "duration": 19,
    "start_time": "2022-11-29T17:26:48.058Z"
   },
   {
    "duration": 12,
    "start_time": "2022-11-29T17:26:50.210Z"
   },
   {
    "duration": 19,
    "start_time": "2022-11-29T17:26:51.683Z"
   },
   {
    "duration": 440,
    "start_time": "2022-11-29T17:27:05.232Z"
   },
   {
    "duration": 503,
    "start_time": "2022-11-29T17:27:24.789Z"
   },
   {
    "duration": 457,
    "start_time": "2022-11-29T17:27:32.869Z"
   },
   {
    "duration": 471,
    "start_time": "2022-11-29T17:27:42.726Z"
   },
   {
    "duration": 557,
    "start_time": "2022-11-29T17:28:09.601Z"
   },
   {
    "duration": 1469,
    "start_time": "2022-11-29T17:29:49.163Z"
   },
   {
    "duration": 472,
    "start_time": "2022-11-29T17:29:58.366Z"
   },
   {
    "duration": 16,
    "start_time": "2022-11-29T17:39:36.931Z"
   },
   {
    "duration": 116,
    "start_time": "2022-11-29T17:46:53.364Z"
   },
   {
    "duration": 164,
    "start_time": "2022-11-29T17:47:49.096Z"
   },
   {
    "duration": 64,
    "start_time": "2022-11-29T17:48:33.180Z"
   },
   {
    "duration": 47,
    "start_time": "2022-11-29T17:48:48.276Z"
   },
   {
    "duration": 166,
    "start_time": "2022-11-29T17:51:52.304Z"
   },
   {
    "duration": 28,
    "start_time": "2022-11-29T17:55:11.808Z"
   },
   {
    "duration": 248,
    "start_time": "2022-11-29T17:55:36.189Z"
   },
   {
    "duration": 254,
    "start_time": "2022-11-29T17:56:35.786Z"
   },
   {
    "duration": 231,
    "start_time": "2022-11-29T17:56:50.649Z"
   },
   {
    "duration": 183,
    "start_time": "2022-11-29T17:56:56.576Z"
   },
   {
    "duration": 163,
    "start_time": "2022-11-29T17:57:02.910Z"
   },
   {
    "duration": 272,
    "start_time": "2022-11-29T17:57:07.447Z"
   },
   {
    "duration": 151,
    "start_time": "2022-11-29T17:57:14.443Z"
   },
   {
    "duration": 168,
    "start_time": "2022-11-29T17:57:21.652Z"
   },
   {
    "duration": 165,
    "start_time": "2022-11-29T17:58:56.169Z"
   },
   {
    "duration": 180,
    "start_time": "2022-11-29T18:02:05.261Z"
   },
   {
    "duration": 193,
    "start_time": "2022-11-29T18:02:10.446Z"
   },
   {
    "duration": 196,
    "start_time": "2022-11-29T18:02:17.570Z"
   },
   {
    "duration": 254,
    "start_time": "2022-11-29T18:02:25.669Z"
   },
   {
    "duration": 207,
    "start_time": "2022-11-29T18:02:33.493Z"
   },
   {
    "duration": 191,
    "start_time": "2022-11-29T18:02:43.341Z"
   },
   {
    "duration": 218,
    "start_time": "2022-11-29T18:02:50.274Z"
   },
   {
    "duration": 283,
    "start_time": "2022-11-29T18:02:59.331Z"
   },
   {
    "duration": 181,
    "start_time": "2022-11-29T18:03:08.227Z"
   },
   {
    "duration": 194,
    "start_time": "2022-11-29T18:03:12.855Z"
   },
   {
    "duration": 207,
    "start_time": "2022-11-29T18:03:30.272Z"
   },
   {
    "duration": 205,
    "start_time": "2022-11-29T18:03:37.989Z"
   },
   {
    "duration": 136,
    "start_time": "2022-11-29T18:05:23.235Z"
   },
   {
    "duration": 193,
    "start_time": "2022-11-29T18:06:57.743Z"
   },
   {
    "duration": 207,
    "start_time": "2022-11-29T18:07:09.168Z"
   },
   {
    "duration": 192,
    "start_time": "2022-11-29T18:07:32.686Z"
   },
   {
    "duration": 188,
    "start_time": "2022-11-29T18:07:46.231Z"
   },
   {
    "duration": 198,
    "start_time": "2022-11-29T18:07:57.143Z"
   },
   {
    "duration": 303,
    "start_time": "2022-11-29T18:08:03.526Z"
   },
   {
    "duration": 190,
    "start_time": "2022-11-29T18:08:10.912Z"
   },
   {
    "duration": 20,
    "start_time": "2022-11-29T18:10:03.814Z"
   },
   {
    "duration": 19,
    "start_time": "2022-11-29T18:11:02.191Z"
   },
   {
    "duration": 29,
    "start_time": "2022-11-29T18:11:07.088Z"
   },
   {
    "duration": 38,
    "start_time": "2022-11-29T18:11:19.913Z"
   },
   {
    "duration": 36,
    "start_time": "2022-11-29T18:11:32.371Z"
   },
   {
    "duration": 190,
    "start_time": "2022-11-29T18:30:29.685Z"
   },
   {
    "duration": 194,
    "start_time": "2022-11-29T18:30:43.665Z"
   },
   {
    "duration": 200,
    "start_time": "2022-11-29T18:31:21.464Z"
   },
   {
    "duration": 191,
    "start_time": "2022-11-29T18:31:48.588Z"
   },
   {
    "duration": 196,
    "start_time": "2022-11-29T18:31:55.981Z"
   },
   {
    "duration": 188,
    "start_time": "2022-11-29T18:32:03.132Z"
   },
   {
    "duration": 196,
    "start_time": "2022-11-29T18:33:55.989Z"
   },
   {
    "duration": 191,
    "start_time": "2022-11-29T18:34:01.664Z"
   },
   {
    "duration": 213,
    "start_time": "2022-11-29T18:34:05.505Z"
   },
   {
    "duration": 288,
    "start_time": "2022-11-29T18:34:09.411Z"
   },
   {
    "duration": 197,
    "start_time": "2022-11-29T18:34:18.543Z"
   },
   {
    "duration": 143,
    "start_time": "2022-11-29T18:35:36.692Z"
   },
   {
    "duration": 129,
    "start_time": "2022-11-29T18:35:48.178Z"
   },
   {
    "duration": 129,
    "start_time": "2022-11-29T18:36:18.459Z"
   },
   {
    "duration": 187,
    "start_time": "2022-11-29T18:36:24.671Z"
   },
   {
    "duration": 134,
    "start_time": "2022-11-29T18:36:30.374Z"
   },
   {
    "duration": 136,
    "start_time": "2022-11-29T18:36:52.583Z"
   },
   {
    "duration": 228,
    "start_time": "2022-11-29T18:39:24.833Z"
   },
   {
    "duration": 184,
    "start_time": "2022-11-29T18:39:39.217Z"
   },
   {
    "duration": 140,
    "start_time": "2022-11-29T18:39:57.931Z"
   },
   {
    "duration": 199,
    "start_time": "2022-11-29T18:44:20.662Z"
   },
   {
    "duration": 11,
    "start_time": "2022-11-29T18:46:50.596Z"
   },
   {
    "duration": 12,
    "start_time": "2022-11-29T18:47:45.282Z"
   },
   {
    "duration": 14,
    "start_time": "2022-11-29T19:24:03.856Z"
   },
   {
    "duration": 18,
    "start_time": "2022-11-29T19:24:14.018Z"
   },
   {
    "duration": 13,
    "start_time": "2022-11-29T19:24:43.387Z"
   },
   {
    "duration": 13,
    "start_time": "2022-11-29T19:24:49.543Z"
   },
   {
    "duration": 13,
    "start_time": "2022-11-29T19:25:01.919Z"
   },
   {
    "duration": 13,
    "start_time": "2022-11-29T19:25:24.271Z"
   },
   {
    "duration": 14,
    "start_time": "2022-11-29T19:25:38.505Z"
   },
   {
    "duration": 14,
    "start_time": "2022-11-29T19:26:23.841Z"
   },
   {
    "duration": 169,
    "start_time": "2022-11-29T19:26:55.696Z"
   },
   {
    "duration": 181,
    "start_time": "2022-11-29T19:27:57.371Z"
   },
   {
    "duration": 169,
    "start_time": "2022-11-29T19:28:08.084Z"
   },
   {
    "duration": 10,
    "start_time": "2022-11-29T19:28:42.268Z"
   },
   {
    "duration": 179,
    "start_time": "2022-11-29T19:29:21.320Z"
   },
   {
    "duration": 186,
    "start_time": "2022-11-29T19:30:09.692Z"
   },
   {
    "duration": 10,
    "start_time": "2022-11-29T19:31:51.321Z"
   },
   {
    "duration": 9,
    "start_time": "2022-11-29T19:33:17.959Z"
   },
   {
    "duration": 10,
    "start_time": "2022-11-29T19:33:23.284Z"
   },
   {
    "duration": 5,
    "start_time": "2022-11-29T19:33:24.848Z"
   },
   {
    "duration": 12,
    "start_time": "2022-11-29T19:34:26.263Z"
   },
   {
    "duration": 5,
    "start_time": "2022-11-29T19:34:26.933Z"
   },
   {
    "duration": 14,
    "start_time": "2022-11-29T21:45:10.061Z"
   },
   {
    "duration": 123,
    "start_time": "2022-11-29T21:45:58.203Z"
   },
   {
    "duration": 336,
    "start_time": "2022-11-29T21:47:19.675Z"
   },
   {
    "duration": 349,
    "start_time": "2022-11-29T21:47:40.782Z"
   },
   {
    "duration": 9,
    "start_time": "2022-11-29T21:52:50.173Z"
   },
   {
    "duration": 10,
    "start_time": "2022-11-29T21:53:25.614Z"
   },
   {
    "duration": 8,
    "start_time": "2022-11-29T21:53:42.475Z"
   },
   {
    "duration": 8,
    "start_time": "2022-11-29T21:54:30.699Z"
   },
   {
    "duration": 8,
    "start_time": "2022-11-29T21:56:10.240Z"
   },
   {
    "duration": 8,
    "start_time": "2022-11-29T21:56:17.577Z"
   },
   {
    "duration": 443,
    "start_time": "2022-11-29T21:56:20.134Z"
   },
   {
    "duration": 8,
    "start_time": "2022-11-29T21:56:27.043Z"
   },
   {
    "duration": 8,
    "start_time": "2022-11-29T21:57:42.811Z"
   },
   {
    "duration": 8,
    "start_time": "2022-11-29T21:58:34.233Z"
   },
   {
    "duration": 1211,
    "start_time": "2022-11-30T17:59:57.663Z"
   },
   {
    "duration": 232,
    "start_time": "2022-11-30T17:59:58.876Z"
   },
   {
    "duration": 20,
    "start_time": "2022-11-30T17:59:59.110Z"
   },
   {
    "duration": 15,
    "start_time": "2022-11-30T17:59:59.538Z"
   },
   {
    "duration": 16,
    "start_time": "2022-11-30T18:00:00.838Z"
   },
   {
    "duration": 30,
    "start_time": "2022-11-30T18:00:01.044Z"
   },
   {
    "duration": 15,
    "start_time": "2022-11-30T18:00:01.798Z"
   },
   {
    "duration": 3,
    "start_time": "2022-11-30T18:00:02.525Z"
   },
   {
    "duration": 13,
    "start_time": "2022-11-30T18:00:02.721Z"
   },
   {
    "duration": 5,
    "start_time": "2022-11-30T18:00:02.903Z"
   },
   {
    "duration": 11,
    "start_time": "2022-11-30T18:00:03.073Z"
   },
   {
    "duration": 14,
    "start_time": "2022-11-30T18:00:03.241Z"
   },
   {
    "duration": 9,
    "start_time": "2022-11-30T18:00:03.438Z"
   },
   {
    "duration": 14,
    "start_time": "2022-11-30T18:00:03.719Z"
   },
   {
    "duration": 5,
    "start_time": "2022-11-30T18:00:03.901Z"
   },
   {
    "duration": 8,
    "start_time": "2022-11-30T18:00:04.073Z"
   },
   {
    "duration": 5,
    "start_time": "2022-11-30T18:00:04.254Z"
   },
   {
    "duration": 5,
    "start_time": "2022-11-30T18:00:04.459Z"
   },
   {
    "duration": 15,
    "start_time": "2022-11-30T18:00:04.670Z"
   },
   {
    "duration": 13,
    "start_time": "2022-11-30T18:00:05.117Z"
   },
   {
    "duration": 325,
    "start_time": "2022-11-30T18:00:05.325Z"
   },
   {
    "duration": 7,
    "start_time": "2022-11-30T18:00:05.652Z"
   },
   {
    "duration": 8,
    "start_time": "2022-11-30T18:00:05.745Z"
   },
   {
    "duration": 16,
    "start_time": "2022-11-30T18:00:05.938Z"
   },
   {
    "duration": 5,
    "start_time": "2022-11-30T18:00:06.143Z"
   },
   {
    "duration": 27,
    "start_time": "2022-11-30T18:00:06.350Z"
   },
   {
    "duration": 227,
    "start_time": "2022-11-30T18:00:06.533Z"
   },
   {
    "duration": 239,
    "start_time": "2022-11-30T18:00:06.957Z"
   },
   {
    "duration": 250,
    "start_time": "2022-11-30T18:00:07.198Z"
   },
   {
    "duration": 251,
    "start_time": "2022-11-30T18:00:07.450Z"
   },
   {
    "duration": 256,
    "start_time": "2022-11-30T18:00:07.703Z"
   },
   {
    "duration": 244,
    "start_time": "2022-11-30T18:00:08.050Z"
   },
   {
    "duration": 256,
    "start_time": "2022-11-30T18:00:08.296Z"
   },
   {
    "duration": 13,
    "start_time": "2022-11-30T18:00:08.554Z"
   },
   {
    "duration": 573,
    "start_time": "2022-11-30T18:00:08.763Z"
   },
   {
    "duration": 16,
    "start_time": "2022-11-30T18:00:09.338Z"
   },
   {
    "duration": 205,
    "start_time": "2022-11-30T18:00:09.381Z"
   },
   {
    "duration": 40,
    "start_time": "2022-11-30T18:00:09.618Z"
   },
   {
    "duration": 152,
    "start_time": "2022-11-30T18:00:09.839Z"
   },
   {
    "duration": 149,
    "start_time": "2022-11-30T18:00:10.050Z"
   },
   {
    "duration": 12,
    "start_time": "2022-11-30T18:00:10.296Z"
   },
   {
    "duration": 14,
    "start_time": "2022-11-30T18:00:10.538Z"
   },
   {
    "duration": 94,
    "start_time": "2022-11-30T18:00:10.754Z"
   },
   {
    "duration": 408,
    "start_time": "2022-11-30T18:00:11.217Z"
   },
   {
    "duration": 413,
    "start_time": "2022-11-30T18:01:28.246Z"
   },
   {
    "duration": 206,
    "start_time": "2022-11-30T18:02:46.523Z"
   },
   {
    "duration": 423,
    "start_time": "2022-11-30T18:02:46.730Z"
   },
   {
    "duration": 79600,
    "start_time": "2022-11-30T18:02:47.155Z"
   },
   {
    "duration": 74,
    "start_time": "2022-11-30T18:04:06.757Z"
   },
   {
    "duration": 0,
    "start_time": "2022-11-30T18:04:06.832Z"
   },
   {
    "duration": 0,
    "start_time": "2022-11-30T18:04:06.833Z"
   },
   {
    "duration": 0,
    "start_time": "2022-11-30T18:04:06.834Z"
   },
   {
    "duration": 9,
    "start_time": "2022-11-30T18:05:26.719Z"
   },
   {
    "duration": 5,
    "start_time": "2022-11-30T18:05:27.100Z"
   },
   {
    "duration": 10,
    "start_time": "2022-11-30T18:05:27.628Z"
   },
   {
    "duration": 5,
    "start_time": "2022-11-30T18:05:28.007Z"
   },
   {
    "duration": 160,
    "start_time": "2022-11-30T18:12:36.337Z"
   },
   {
    "duration": 167,
    "start_time": "2022-11-30T18:13:03.440Z"
   },
   {
    "duration": 393,
    "start_time": "2022-11-30T18:16:01.849Z"
   },
   {
    "duration": 176,
    "start_time": "2022-11-30T18:16:27.185Z"
   },
   {
    "duration": 172,
    "start_time": "2022-11-30T18:16:52.628Z"
   },
   {
    "duration": 468,
    "start_time": "2022-11-30T18:17:05.858Z"
   },
   {
    "duration": 17,
    "start_time": "2022-11-30T18:19:13.397Z"
   },
   {
    "duration": 192,
    "start_time": "2022-11-30T18:19:28.966Z"
   },
   {
    "duration": 193,
    "start_time": "2022-11-30T18:19:39.202Z"
   },
   {
    "duration": 82,
    "start_time": "2022-11-30T18:27:37.574Z"
   },
   {
    "duration": 9,
    "start_time": "2022-11-30T18:59:42.229Z"
   },
   {
    "duration": 2,
    "start_time": "2022-11-30T18:59:51.940Z"
   },
   {
    "duration": 100,
    "start_time": "2022-11-30T18:59:52.270Z"
   },
   {
    "duration": 14,
    "start_time": "2022-11-30T18:59:52.719Z"
   },
   {
    "duration": 15,
    "start_time": "2022-11-30T18:59:54.337Z"
   },
   {
    "duration": 14,
    "start_time": "2022-11-30T18:59:56.985Z"
   },
   {
    "duration": 28,
    "start_time": "2022-11-30T19:00:00.214Z"
   },
   {
    "duration": 14,
    "start_time": "2022-11-30T19:00:01.461Z"
   },
   {
    "duration": 3,
    "start_time": "2022-11-30T19:00:04.326Z"
   },
   {
    "duration": 14,
    "start_time": "2022-11-30T19:00:04.858Z"
   },
   {
    "duration": 4,
    "start_time": "2022-11-30T19:00:07.188Z"
   },
   {
    "duration": 10,
    "start_time": "2022-11-30T19:00:07.693Z"
   },
   {
    "duration": 14,
    "start_time": "2022-11-30T19:00:09.566Z"
   },
   {
    "duration": 9,
    "start_time": "2022-11-30T19:00:10.212Z"
   },
   {
    "duration": 17,
    "start_time": "2022-11-30T20:50:07.256Z"
   },
   {
    "duration": 145,
    "start_time": "2022-11-30T20:50:08.225Z"
   },
   {
    "duration": 3,
    "start_time": "2022-11-30T20:50:17.836Z"
   },
   {
    "duration": 78,
    "start_time": "2022-11-30T20:50:17.993Z"
   },
   {
    "duration": 13,
    "start_time": "2022-11-30T20:50:18.134Z"
   },
   {
    "duration": 12,
    "start_time": "2022-11-30T20:50:18.276Z"
   },
   {
    "duration": 12,
    "start_time": "2022-11-30T20:50:18.415Z"
   },
   {
    "duration": 28,
    "start_time": "2022-11-30T20:50:18.543Z"
   },
   {
    "duration": 15,
    "start_time": "2022-11-30T20:50:18.698Z"
   },
   {
    "duration": 3,
    "start_time": "2022-11-30T20:50:19.286Z"
   },
   {
    "duration": 14,
    "start_time": "2022-11-30T20:50:19.441Z"
   },
   {
    "duration": 5,
    "start_time": "2022-11-30T20:50:19.721Z"
   },
   {
    "duration": 11,
    "start_time": "2022-11-30T20:50:19.907Z"
   },
   {
    "duration": 11,
    "start_time": "2022-11-30T20:50:20.067Z"
   },
   {
    "duration": 8,
    "start_time": "2022-11-30T20:50:20.193Z"
   },
   {
    "duration": 11,
    "start_time": "2022-11-30T20:50:20.511Z"
   },
   {
    "duration": 4,
    "start_time": "2022-11-30T20:50:20.642Z"
   },
   {
    "duration": 6,
    "start_time": "2022-11-30T20:50:20.819Z"
   },
   {
    "duration": 6,
    "start_time": "2022-11-30T20:50:20.972Z"
   },
   {
    "duration": 4,
    "start_time": "2022-11-30T20:50:21.122Z"
   },
   {
    "duration": 15,
    "start_time": "2022-11-30T20:50:21.288Z"
   },
   {
    "duration": 13,
    "start_time": "2022-11-30T20:50:22.004Z"
   },
   {
    "duration": 298,
    "start_time": "2022-11-30T20:50:23.221Z"
   },
   {
    "duration": 6,
    "start_time": "2022-11-30T20:50:23.987Z"
   },
   {
    "duration": 8,
    "start_time": "2022-11-30T20:50:24.648Z"
   },
   {
    "duration": 15,
    "start_time": "2022-11-30T20:50:24.899Z"
   },
   {
    "duration": 6,
    "start_time": "2022-11-30T20:50:25.402Z"
   },
   {
    "duration": 27,
    "start_time": "2022-11-30T20:50:25.758Z"
   },
   {
    "duration": 182,
    "start_time": "2022-11-30T20:50:25.940Z"
   },
   {
    "duration": 243,
    "start_time": "2022-11-30T20:50:26.604Z"
   },
   {
    "duration": 239,
    "start_time": "2022-11-30T20:50:27.115Z"
   },
   {
    "duration": 230,
    "start_time": "2022-11-30T20:50:27.457Z"
   },
   {
    "duration": 224,
    "start_time": "2022-11-30T20:50:27.871Z"
   },
   {
    "duration": 231,
    "start_time": "2022-11-30T20:50:28.210Z"
   },
   {
    "duration": 224,
    "start_time": "2022-11-30T20:50:28.538Z"
   },
   {
    "duration": 416,
    "start_time": "2022-11-30T20:50:29.335Z"
   },
   {
    "duration": 17,
    "start_time": "2022-11-30T20:50:30.800Z"
   },
   {
    "duration": 198,
    "start_time": "2022-11-30T20:50:31.607Z"
   },
   {
    "duration": 194,
    "start_time": "2022-11-30T20:51:20.210Z"
   },
   {
    "duration": 246,
    "start_time": "2022-11-30T20:51:29.682Z"
   },
   {
    "duration": 219,
    "start_time": "2022-11-30T20:51:43.196Z"
   },
   {
    "duration": 204,
    "start_time": "2022-11-30T20:51:53.261Z"
   },
   {
    "duration": 210,
    "start_time": "2022-11-30T20:52:02.859Z"
   },
   {
    "duration": 210,
    "start_time": "2022-11-30T20:53:12.039Z"
   },
   {
    "duration": 35,
    "start_time": "2022-11-30T20:58:14.888Z"
   },
   {
    "duration": 131,
    "start_time": "2022-11-30T20:58:15.596Z"
   },
   {
    "duration": 150,
    "start_time": "2022-11-30T22:36:29.949Z"
   },
   {
    "duration": 12,
    "start_time": "2022-11-30T23:24:16.445Z"
   },
   {
    "duration": 994,
    "start_time": "2022-12-01T05:54:35.272Z"
   },
   {
    "duration": 84,
    "start_time": "2022-12-01T05:54:36.268Z"
   },
   {
    "duration": 18,
    "start_time": "2022-12-01T05:54:36.354Z"
   },
   {
    "duration": 13,
    "start_time": "2022-12-01T05:54:36.374Z"
   },
   {
    "duration": 17,
    "start_time": "2022-12-01T05:54:36.388Z"
   },
   {
    "duration": 34,
    "start_time": "2022-12-01T05:54:36.407Z"
   },
   {
    "duration": 16,
    "start_time": "2022-12-01T05:54:36.442Z"
   },
   {
    "duration": 3,
    "start_time": "2022-12-01T05:54:36.461Z"
   },
   {
    "duration": 19,
    "start_time": "2022-12-01T05:54:36.466Z"
   },
   {
    "duration": 5,
    "start_time": "2022-12-01T05:54:36.488Z"
   },
   {
    "duration": 35,
    "start_time": "2022-12-01T05:54:36.495Z"
   },
   {
    "duration": 13,
    "start_time": "2022-12-01T05:54:36.532Z"
   },
   {
    "duration": 8,
    "start_time": "2022-12-01T05:54:36.547Z"
   },
   {
    "duration": 22,
    "start_time": "2022-12-01T05:54:36.556Z"
   },
   {
    "duration": 5,
    "start_time": "2022-12-01T05:54:36.579Z"
   },
   {
    "duration": 7,
    "start_time": "2022-12-01T05:54:36.586Z"
   },
   {
    "duration": 6,
    "start_time": "2022-12-01T05:54:36.595Z"
   },
   {
    "duration": 5,
    "start_time": "2022-12-01T05:54:36.621Z"
   },
   {
    "duration": 16,
    "start_time": "2022-12-01T05:54:36.628Z"
   },
   {
    "duration": 16,
    "start_time": "2022-12-01T05:54:36.646Z"
   },
   {
    "duration": 353,
    "start_time": "2022-12-01T05:54:36.664Z"
   },
   {
    "duration": 7,
    "start_time": "2022-12-01T05:54:37.021Z"
   },
   {
    "duration": 7,
    "start_time": "2022-12-01T05:54:37.030Z"
   },
   {
    "duration": 16,
    "start_time": "2022-12-01T05:54:37.039Z"
   },
   {
    "duration": 4,
    "start_time": "2022-12-01T05:54:37.057Z"
   },
   {
    "duration": 32,
    "start_time": "2022-12-01T05:54:37.062Z"
   },
   {
    "duration": 295,
    "start_time": "2022-12-01T05:54:37.096Z"
   },
   {
    "duration": 282,
    "start_time": "2022-12-01T05:54:37.395Z"
   },
   {
    "duration": 285,
    "start_time": "2022-12-01T05:54:37.679Z"
   },
   {
    "duration": 253,
    "start_time": "2022-12-01T05:54:37.966Z"
   },
   {
    "duration": 263,
    "start_time": "2022-12-01T05:54:38.222Z"
   },
   {
    "duration": 263,
    "start_time": "2022-12-01T05:54:38.486Z"
   },
   {
    "duration": 288,
    "start_time": "2022-12-01T05:54:38.751Z"
   },
   {
    "duration": 548,
    "start_time": "2022-12-01T05:54:39.041Z"
   },
   {
    "duration": 36,
    "start_time": "2022-12-01T05:54:39.591Z"
   },
   {
    "duration": 248,
    "start_time": "2022-12-01T05:54:39.628Z"
   },
   {
    "duration": 49,
    "start_time": "2022-12-01T05:54:39.878Z"
   },
   {
    "duration": 150,
    "start_time": "2022-12-01T05:54:39.929Z"
   },
   {
    "duration": 150,
    "start_time": "2022-12-01T05:54:40.081Z"
   },
   {
    "duration": 11,
    "start_time": "2022-12-01T05:54:40.232Z"
   },
   {
    "duration": 25,
    "start_time": "2022-12-01T05:54:40.245Z"
   },
   {
    "duration": 189,
    "start_time": "2022-12-01T05:54:40.272Z"
   },
   {
    "duration": 402,
    "start_time": "2022-12-01T05:54:40.462Z"
   },
   {
    "duration": 187,
    "start_time": "2022-12-01T05:54:40.866Z"
   },
   {
    "duration": 434,
    "start_time": "2022-12-01T05:54:41.054Z"
   },
   {
    "duration": 294,
    "start_time": "2022-12-01T05:54:41.490Z"
   },
   {
    "duration": 177,
    "start_time": "2022-12-01T05:54:41.786Z"
   },
   {
    "duration": 9,
    "start_time": "2022-12-01T05:54:41.965Z"
   },
   {
    "duration": 8,
    "start_time": "2022-12-01T05:54:41.976Z"
   },
   {
    "duration": 17,
    "start_time": "2022-12-01T05:54:41.985Z"
   },
   {
    "duration": 5,
    "start_time": "2022-12-01T05:54:42.004Z"
   },
   {
    "duration": 1299,
    "start_time": "2022-12-01T16:37:26.045Z"
   },
   {
    "duration": 267,
    "start_time": "2022-12-01T16:37:27.345Z"
   },
   {
    "duration": 21,
    "start_time": "2022-12-01T16:37:28.365Z"
   },
   {
    "duration": 16,
    "start_time": "2022-12-01T16:37:29.009Z"
   },
   {
    "duration": 16,
    "start_time": "2022-12-01T16:37:30.233Z"
   },
   {
    "duration": 31,
    "start_time": "2022-12-01T16:37:31.093Z"
   },
   {
    "duration": 16,
    "start_time": "2022-12-01T16:37:31.868Z"
   },
   {
    "duration": 3,
    "start_time": "2022-12-01T16:37:33.828Z"
   },
   {
    "duration": 15,
    "start_time": "2022-12-01T16:37:33.995Z"
   },
   {
    "duration": 5,
    "start_time": "2022-12-01T16:37:34.793Z"
   },
   {
    "duration": 11,
    "start_time": "2022-12-01T16:37:35.370Z"
   },
   {
    "duration": 11,
    "start_time": "2022-12-01T16:37:35.843Z"
   },
   {
    "duration": 7,
    "start_time": "2022-12-01T16:37:36.462Z"
   },
   {
    "duration": 63,
    "start_time": "2022-12-01T16:38:20.636Z"
   },
   {
    "duration": 16,
    "start_time": "2022-12-01T16:38:33.550Z"
   },
   {
    "duration": 7,
    "start_time": "2022-12-01T16:38:34.569Z"
   },
   {
    "duration": 7,
    "start_time": "2022-12-01T16:38:35.436Z"
   },
   {
    "duration": 6,
    "start_time": "2022-12-01T16:38:36.054Z"
   },
   {
    "duration": 6,
    "start_time": "2022-12-01T16:38:59.773Z"
   },
   {
    "duration": 6,
    "start_time": "2022-12-01T16:39:00.445Z"
   },
   {
    "duration": 5,
    "start_time": "2022-12-01T16:39:04.187Z"
   },
   {
    "duration": 5,
    "start_time": "2022-12-01T16:39:04.412Z"
   },
   {
    "duration": 6,
    "start_time": "2022-12-01T16:39:05.041Z"
   },
   {
    "duration": 6,
    "start_time": "2022-12-01T16:39:07.751Z"
   },
   {
    "duration": 6,
    "start_time": "2022-12-01T16:39:10.061Z"
   },
   {
    "duration": 6,
    "start_time": "2022-12-01T16:39:16.823Z"
   },
   {
    "duration": 5,
    "start_time": "2022-12-01T16:39:17.025Z"
   },
   {
    "duration": 5,
    "start_time": "2022-12-01T16:39:17.289Z"
   },
   {
    "duration": 3,
    "start_time": "2022-12-01T16:39:30.115Z"
   },
   {
    "duration": 88,
    "start_time": "2022-12-01T16:39:30.678Z"
   },
   {
    "duration": 14,
    "start_time": "2022-12-01T16:39:31.059Z"
   },
   {
    "duration": 12,
    "start_time": "2022-12-01T16:39:31.202Z"
   },
   {
    "duration": 14,
    "start_time": "2022-12-01T16:39:31.364Z"
   },
   {
    "duration": 31,
    "start_time": "2022-12-01T16:39:31.532Z"
   },
   {
    "duration": 21,
    "start_time": "2022-12-01T16:39:31.714Z"
   },
   {
    "duration": 4,
    "start_time": "2022-12-01T16:39:32.761Z"
   },
   {
    "duration": 19,
    "start_time": "2022-12-01T16:39:32.947Z"
   },
   {
    "duration": 5,
    "start_time": "2022-12-01T16:39:33.328Z"
   },
   {
    "duration": 12,
    "start_time": "2022-12-01T16:39:33.507Z"
   },
   {
    "duration": 16,
    "start_time": "2022-12-01T16:39:33.944Z"
   },
   {
    "duration": 9,
    "start_time": "2022-12-01T16:39:34.168Z"
   },
   {
    "duration": 18,
    "start_time": "2022-12-01T16:39:34.901Z"
   },
   {
    "duration": 11,
    "start_time": "2022-12-01T16:39:37.313Z"
   },
   {
    "duration": 6,
    "start_time": "2022-12-01T16:39:38.309Z"
   },
   {
    "duration": 6,
    "start_time": "2022-12-01T16:39:39.130Z"
   },
   {
    "duration": 6,
    "start_time": "2022-12-01T16:39:40.123Z"
   },
   {
    "duration": 5,
    "start_time": "2022-12-01T16:40:22.839Z"
   },
   {
    "duration": 22,
    "start_time": "2022-12-01T16:40:24.545Z"
   },
   {
    "duration": 17,
    "start_time": "2022-12-01T16:40:29.307Z"
   },
   {
    "duration": 442,
    "start_time": "2022-12-01T16:40:30.623Z"
   },
   {
    "duration": 7,
    "start_time": "2022-12-01T16:40:32.516Z"
   },
   {
    "duration": 8,
    "start_time": "2022-12-01T16:40:35.421Z"
   },
   {
    "duration": 16,
    "start_time": "2022-12-01T16:40:36.610Z"
   },
   {
    "duration": 6,
    "start_time": "2022-12-01T16:40:37.725Z"
   },
   {
    "duration": 44,
    "start_time": "2022-12-01T16:40:38.262Z"
   },
   {
    "duration": 259,
    "start_time": "2022-12-01T16:40:38.817Z"
   },
   {
    "duration": 279,
    "start_time": "2022-12-01T16:40:39.974Z"
   },
   {
    "duration": 310,
    "start_time": "2022-12-01T16:40:40.896Z"
   },
   {
    "duration": 266,
    "start_time": "2022-12-01T16:40:41.709Z"
   },
   {
    "duration": 266,
    "start_time": "2022-12-01T16:40:42.750Z"
   },
   {
    "duration": 311,
    "start_time": "2022-12-01T16:40:43.784Z"
   },
   {
    "duration": 291,
    "start_time": "2022-12-01T16:40:44.817Z"
   },
   {
    "duration": 580,
    "start_time": "2022-12-01T16:40:51.166Z"
   },
   {
    "duration": 20,
    "start_time": "2022-12-01T16:52:49.427Z"
   },
   {
    "duration": 220,
    "start_time": "2022-12-01T16:53:02.640Z"
   },
   {
    "duration": 276,
    "start_time": "2022-12-01T16:55:09.968Z"
   },
   {
    "duration": 280,
    "start_time": "2022-12-01T16:56:45.598Z"
   },
   {
    "duration": 269,
    "start_time": "2022-12-01T16:57:04.857Z"
   },
   {
    "duration": 280,
    "start_time": "2022-12-01T16:57:14.783Z"
   },
   {
    "duration": 251,
    "start_time": "2022-12-01T17:01:36.058Z"
   },
   {
    "duration": 47,
    "start_time": "2022-12-01T17:04:39.643Z"
   },
   {
    "duration": 156,
    "start_time": "2022-12-01T17:04:40.966Z"
   },
   {
    "duration": 136,
    "start_time": "2022-12-01T17:04:42.325Z"
   },
   {
    "duration": 11,
    "start_time": "2022-12-01T17:04:43.534Z"
   },
   {
    "duration": 149,
    "start_time": "2022-12-01T17:07:12.971Z"
   },
   {
    "duration": 272,
    "start_time": "2022-12-01T17:07:37.773Z"
   },
   {
    "duration": 132,
    "start_time": "2022-12-01T17:08:45.831Z"
   },
   {
    "duration": 151,
    "start_time": "2022-12-01T17:09:08.232Z"
   },
   {
    "duration": 136,
    "start_time": "2022-12-01T17:10:05.057Z"
   },
   {
    "duration": 11,
    "start_time": "2022-12-01T17:12:00.371Z"
   },
   {
    "duration": 17,
    "start_time": "2022-12-01T17:25:42.041Z"
   },
   {
    "duration": 180,
    "start_time": "2022-12-01T17:25:44.496Z"
   },
   {
    "duration": 15,
    "start_time": "2022-12-01T17:27:10.276Z"
   },
   {
    "duration": 208,
    "start_time": "2022-12-01T17:27:11.536Z"
   },
   {
    "duration": 99,
    "start_time": "2022-12-01T17:45:20.096Z"
   },
   {
    "duration": 166,
    "start_time": "2022-12-01T17:46:41.725Z"
   },
   {
    "duration": 364,
    "start_time": "2022-12-01T17:47:11.564Z"
   },
   {
    "duration": 357,
    "start_time": "2022-12-01T17:47:53.968Z"
   },
   {
    "duration": 427,
    "start_time": "2022-12-01T17:48:33.362Z"
   },
   {
    "duration": 327,
    "start_time": "2022-12-01T17:48:36.367Z"
   },
   {
    "duration": 377,
    "start_time": "2022-12-01T18:02:19.242Z"
   },
   {
    "duration": 178,
    "start_time": "2022-12-01T18:02:20.688Z"
   },
   {
    "duration": 407,
    "start_time": "2022-12-01T18:02:21.782Z"
   },
   {
    "duration": 182,
    "start_time": "2022-12-01T18:02:23.233Z"
   },
   {
    "duration": 158,
    "start_time": "2022-12-01T18:02:26.504Z"
   }
  ],
  "kernelspec": {
   "display_name": "Python 3 (ipykernel)",
   "language": "python",
   "name": "python3"
  },
  "language_info": {
   "codemirror_mode": {
    "name": "ipython",
    "version": 3
   },
   "file_extension": ".py",
   "mimetype": "text/x-python",
   "name": "python",
   "nbconvert_exporter": "python",
   "pygments_lexer": "ipython3",
   "version": "3.9.5"
  },
  "toc": {
   "base_numbering": 1,
   "nav_menu": {},
   "number_sections": true,
   "sideBar": true,
   "skip_h1_title": true,
   "title_cell": "Table of Contents",
   "title_sidebar": "Contents",
   "toc_cell": false,
   "toc_position": {},
   "toc_section_display": true,
   "toc_window_display": false
  }
 },
 "nbformat": 4,
 "nbformat_minor": 2
}
